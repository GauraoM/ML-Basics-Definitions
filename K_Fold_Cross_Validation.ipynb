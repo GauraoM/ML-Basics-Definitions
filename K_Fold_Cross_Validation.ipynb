{
  "nbformat": 4,
  "nbformat_minor": 0,
  "metadata": {
    "colab": {
      "name": "K Fold Cross Validation.ipynb",
      "provenance": [],
      "authorship_tag": "ABX9TyOmdS3cYJKzpF6oqrr3maUW",
      "include_colab_link": true
    },
    "kernelspec": {
      "name": "python3",
      "display_name": "Python 3"
    },
    "language_info": {
      "name": "python"
    }
  },
  "cells": [
    {
      "cell_type": "markdown",
      "metadata": {
        "id": "view-in-github",
        "colab_type": "text"
      },
      "source": [
        "<a href=\"https://colab.research.google.com/github/GauraoM/Machine-Learning-Tutorial-Python/blob/main/K_Fold_Cross_Validation.ipynb\" target=\"_parent\"><img src=\"https://colab.research.google.com/assets/colab-badge.svg\" alt=\"Open In Colab\"/></a>"
      ]
    },
    {
      "cell_type": "code",
      "execution_count": 1,
      "metadata": {
        "id": "1vZQAHNlKqYj"
      },
      "outputs": [],
      "source": [
        "from sklearn.linear_model import LogisticRegression\n",
        "from sklearn.svm import SVC\n",
        "from sklearn.tree import DecisionTreeClassifier\n",
        "from sklearn.ensemble import RandomForestClassifier\n",
        "import numpy as np\n",
        "from sklearn.datasets import load_iris"
      ]
    },
    {
      "cell_type": "code",
      "source": [
        "# Load the datset\n",
        "iris = load_iris()"
      ],
      "metadata": {
        "id": "hKggSFJLIT5h"
      },
      "execution_count": 2,
      "outputs": []
    },
    {
      "cell_type": "code",
      "source": [
        "dir(iris)"
      ],
      "metadata": {
        "colab": {
          "base_uri": "https://localhost:8080/"
        },
        "id": "T0wzDHgQITxu",
        "outputId": "8c3edb25-2ebb-4153-d16f-1b7967b529a5"
      },
      "execution_count": 3,
      "outputs": [
        {
          "output_type": "execute_result",
          "data": {
            "text/plain": [
              "['DESCR',\n",
              " 'data',\n",
              " 'data_module',\n",
              " 'feature_names',\n",
              " 'filename',\n",
              " 'frame',\n",
              " 'target',\n",
              " 'target_names']"
            ]
          },
          "metadata": {},
          "execution_count": 3
        }
      ]
    },
    {
      "cell_type": "code",
      "source": [
        "# Splitting the data into train test split\n",
        "from sklearn.model_selection import train_test_split\n",
        "X_train,X_test,y_train,y_test = train_test_split(iris.data, iris.target, test_size=0.3) "
      ],
      "metadata": {
        "id": "iRUvOJflIeuZ"
      },
      "execution_count": 5,
      "outputs": []
    },
    {
      "cell_type": "markdown",
      "source": [
        "##### Linear Regression"
      ],
      "metadata": {
        "id": "MO7olD-9KKLA"
      }
    },
    {
      "cell_type": "code",
      "source": [
        "# Creating an object,training and testing the model\n",
        "lr = LogisticRegression()\n",
        "lr.fit(X_train,y_train)\n",
        "lr.score(X_test, y_test)"
      ],
      "metadata": {
        "colab": {
          "base_uri": "https://localhost:8080/"
        },
        "id": "eixgFP_TJqBY",
        "outputId": "6568592b-3a9b-40b4-f8f0-88b971a7c956"
      },
      "execution_count": 8,
      "outputs": [
        {
          "output_type": "execute_result",
          "data": {
            "text/plain": [
              "0.9111111111111111"
            ]
          },
          "metadata": {},
          "execution_count": 8
        }
      ]
    },
    {
      "cell_type": "markdown",
      "source": [
        "##### SVM"
      ],
      "metadata": {
        "id": "7m-fSnOvK1ac"
      }
    },
    {
      "cell_type": "code",
      "source": [
        "# Creating an object,training and testing the model\n",
        "svm = SVC(gamma='auto')\n",
        "svm.fit(X_train,y_train)\n",
        "svm.score(X_test, y_test)"
      ],
      "metadata": {
        "colab": {
          "base_uri": "https://localhost:8080/"
        },
        "id": "Gb3YBJAdKzVT",
        "outputId": "6f52b1e3-7420-47d4-dd47-13b131f38f14"
      },
      "execution_count": 9,
      "outputs": [
        {
          "output_type": "execute_result",
          "data": {
            "text/plain": [
              "0.9777777777777777"
            ]
          },
          "metadata": {},
          "execution_count": 9
        }
      ]
    },
    {
      "cell_type": "markdown",
      "source": [
        "##### Decision Tree"
      ],
      "metadata": {
        "id": "1jMdMV__LNwY"
      }
    },
    {
      "cell_type": "code",
      "source": [
        "# Creating an object,training and testing the model\n",
        "dt = DecisionTreeClassifier()\n",
        "dt.fit(X_train, y_train)\n",
        "dt.score(X_test, y_test)"
      ],
      "metadata": {
        "colab": {
          "base_uri": "https://localhost:8080/"
        },
        "id": "lEz9E1qvLMcJ",
        "outputId": "c25b3f5c-4cb9-451c-f834-3923e4c21130"
      },
      "execution_count": 10,
      "outputs": [
        {
          "output_type": "execute_result",
          "data": {
            "text/plain": [
              "0.9111111111111111"
            ]
          },
          "metadata": {},
          "execution_count": 10
        }
      ]
    },
    {
      "cell_type": "markdown",
      "source": [
        "##### Random Forest"
      ],
      "metadata": {
        "id": "6894UUzVLtpl"
      }
    },
    {
      "cell_type": "code",
      "source": [
        "# Creating an object,training and testing the model\n",
        "rf = RandomForestClassifier()\n",
        "rf.fit(X_train, y_train)\n",
        "rf.score(X_test, y_test)"
      ],
      "metadata": {
        "colab": {
          "base_uri": "https://localhost:8080/"
        },
        "id": "tE7XnGgeLsxc",
        "outputId": "659f0f2f-890f-435a-b853-f499c99da71c"
      },
      "execution_count": 11,
      "outputs": [
        {
          "output_type": "execute_result",
          "data": {
            "text/plain": [
              "0.9111111111111111"
            ]
          },
          "metadata": {},
          "execution_count": 11
        }
      ]
    },
    {
      "cell_type": "markdown",
      "source": [
        "#### K-Fold Cross Validation"
      ],
      "metadata": {
        "id": "8R6DTDP4MELn"
      }
    },
    {
      "cell_type": "code",
      "source": [
        "# Function to get score\n",
        "def get_score(model, X_train, X_test, y_train, y_test):\n",
        "  model.fit(X_train, y_train)\n",
        "  return model.score(X_test, y_test)"
      ],
      "metadata": {
        "id": "swbIHAaDL-st"
      },
      "execution_count": 12,
      "outputs": []
    },
    {
      "cell_type": "code",
      "source": [
        "# importing Stratified KFold\n",
        "from sklearn.model_selection import StratifiedKFold\n",
        "folds = StratifiedKFold(n_splits=3)"
      ],
      "metadata": {
        "id": "40lS34HcQHBz"
      },
      "execution_count": 13,
      "outputs": []
    },
    {
      "cell_type": "code",
      "source": [
        "# Perform training  and getting Scores\n",
        "\n",
        "scores_logistic = []\n",
        "scores_svm = []\n",
        "scores_dt = []\n",
        "scores_rf = []\n",
        "\n",
        "for train_index, test_index in folds.split(iris.data, iris.target):\n",
        "  X_train,X_test,y_train,y_test = iris.data[train_index], iris.data[test_index],\\\n",
        "                                  iris.target[train_index], iris.target[test_index]\n",
        "  \n",
        "  scores_logistic.append(get_score(LogisticRegression(solver='lbfgs', max_iter=1000), X_train, X_test, y_train, y_test))\n",
        "  scores_svm.append(get_score(SVC(gamma='auto'), X_train, X_test, y_train, y_test))\n",
        "  scores_dt.append(get_score(DecisionTreeClassifier(), X_train, X_test, y_train, y_test))\n",
        "  scores_rf.append(get_score(RandomForestClassifier(), X_train, X_test, y_train, y_test))\n"
      ],
      "metadata": {
        "id": "Ct_lABFqRb2a"
      },
      "execution_count": 16,
      "outputs": []
    },
    {
      "cell_type": "code",
      "source": [
        "scores_logistic"
      ],
      "metadata": {
        "colab": {
          "base_uri": "https://localhost:8080/"
        },
        "id": "lb588hOxVJLS",
        "outputId": "340706d3-ebaf-4985-b2c8-80cc0d98bade"
      },
      "execution_count": 17,
      "outputs": [
        {
          "output_type": "execute_result",
          "data": {
            "text/plain": [
              "[0.98, 0.96, 0.98]"
            ]
          },
          "metadata": {},
          "execution_count": 17
        }
      ]
    },
    {
      "cell_type": "code",
      "source": [
        "scores_svm"
      ],
      "metadata": {
        "colab": {
          "base_uri": "https://localhost:8080/"
        },
        "id": "TDvIpyw9VL_f",
        "outputId": "bb997d99-c8fb-454b-c3cb-c72a486a800b"
      },
      "execution_count": 18,
      "outputs": [
        {
          "output_type": "execute_result",
          "data": {
            "text/plain": [
              "[0.98, 0.98, 0.96]"
            ]
          },
          "metadata": {},
          "execution_count": 18
        }
      ]
    },
    {
      "cell_type": "code",
      "source": [
        "scores_dt"
      ],
      "metadata": {
        "colab": {
          "base_uri": "https://localhost:8080/"
        },
        "id": "ghfZn48mVNzM",
        "outputId": "4c3d3db1-5621-4325-a432-355da60cea87"
      },
      "execution_count": 20,
      "outputs": [
        {
          "output_type": "execute_result",
          "data": {
            "text/plain": [
              "[0.98, 0.92, 0.96]"
            ]
          },
          "metadata": {},
          "execution_count": 20
        }
      ]
    },
    {
      "cell_type": "code",
      "source": [
        "scores_rf"
      ],
      "metadata": {
        "colab": {
          "base_uri": "https://localhost:8080/"
        },
        "id": "YyKpC8FtVPl8",
        "outputId": "12987e45-3f86-4e75-bdfe-b88d36b49ba3"
      },
      "execution_count": 19,
      "outputs": [
        {
          "output_type": "execute_result",
          "data": {
            "text/plain": [
              "[0.98, 0.94, 0.96]"
            ]
          },
          "metadata": {},
          "execution_count": 19
        }
      ]
    },
    {
      "cell_type": "markdown",
      "source": [
        "#### Cros Val Score"
      ],
      "metadata": {
        "id": "38nPk39HVrBu"
      }
    },
    {
      "cell_type": "code",
      "source": [
        "from sklearn.model_selection import cross_val_score"
      ],
      "metadata": {
        "id": "BzG3DypOWJLb"
      },
      "execution_count": 21,
      "outputs": []
    },
    {
      "cell_type": "markdown",
      "source": [
        "##### Logistic Regression performance using Cross validation score"
      ],
      "metadata": {
        "id": "ruc7B-vFXFtv"
      }
    },
    {
      "cell_type": "code",
      "source": [
        "cross_val_score(LogisticRegression(solver='lbfgs', max_iter=1000), iris.data, iris.target, cv=3)"
      ],
      "metadata": {
        "colab": {
          "base_uri": "https://localhost:8080/"
        },
        "id": "4QSPb36oWS89",
        "outputId": "a1f4526f-0892-4207-baf0-05f7e37f3a1e"
      },
      "execution_count": 24,
      "outputs": [
        {
          "output_type": "execute_result",
          "data": {
            "text/plain": [
              "array([0.98, 0.96, 0.98])"
            ]
          },
          "metadata": {},
          "execution_count": 24
        }
      ]
    },
    {
      "cell_type": "markdown",
      "source": [
        "##### SVM model performance using Cross validation score"
      ],
      "metadata": {
        "id": "nQSnk89XXSRb"
      }
    },
    {
      "cell_type": "code",
      "source": [
        "cross_val_score(SVC(), iris.data, iris.target, cv=3)"
      ],
      "metadata": {
        "colab": {
          "base_uri": "https://localhost:8080/"
        },
        "id": "eOOTjJsfXN6l",
        "outputId": "ea7e9feb-2237-4d78-afd8-d164abde9115"
      },
      "execution_count": 25,
      "outputs": [
        {
          "output_type": "execute_result",
          "data": {
            "text/plain": [
              "array([0.96, 0.98, 0.94])"
            ]
          },
          "metadata": {},
          "execution_count": 25
        }
      ]
    },
    {
      "cell_type": "markdown",
      "source": [
        "##### Dicision Tree model performance using Cross validation score"
      ],
      "metadata": {
        "id": "FAdRTQTgXw89"
      }
    },
    {
      "cell_type": "code",
      "source": [
        "cross_val_score(DecisionTreeClassifier(), iris.data, iris.target, cv=3)"
      ],
      "metadata": {
        "colab": {
          "base_uri": "https://localhost:8080/"
        },
        "id": "CxO4Fs86XPs0",
        "outputId": "3c30f1af-ca49-4916-8e79-e28daebd6289"
      },
      "execution_count": 26,
      "outputs": [
        {
          "output_type": "execute_result",
          "data": {
            "text/plain": [
              "array([0.98, 0.92, 0.98])"
            ]
          },
          "metadata": {},
          "execution_count": 26
        }
      ]
    },
    {
      "cell_type": "markdown",
      "source": [
        "##### Random Forest model performance using Cross validation score"
      ],
      "metadata": {
        "id": "bZgSDjROX7Vg"
      }
    },
    {
      "cell_type": "code",
      "source": [
        "cross_val_score(RandomForestClassifier(), iris.data, iris.target, cv=3)"
      ],
      "metadata": {
        "colab": {
          "base_uri": "https://localhost:8080/"
        },
        "id": "8zmEuv7RXQgT",
        "outputId": "77cf4cd3-7216-4160-fdd5-3db25bf64b5c"
      },
      "execution_count": 27,
      "outputs": [
        {
          "output_type": "execute_result",
          "data": {
            "text/plain": [
              "array([0.98, 0.94, 0.96])"
            ]
          },
          "metadata": {},
          "execution_count": 27
        }
      ]
    }
  ]
}