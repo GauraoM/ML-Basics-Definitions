{
 "cells": [
  {
   "cell_type": "markdown",
   "metadata": {},
   "source": [
    "___\n",
    "\n",
    "<a href='http://www.pieriandata.com'> <img src='../Pierian_Data_Logo.png' /></a>\n",
    "___\n",
    "# Plotly and Cufflinks"
   ]
  },
  {
   "cell_type": "markdown",
   "metadata": {},
   "source": [
    "Plotly is a library that allows you to create interactive plots that you can use in dashboards or websites (you can save them as html files or static images).\n",
    "\n",
    "## Installation\n",
    "\n",
    "In order for this all to work, you'll need to install plotly and cufflinks to call plots directly off of a pandas dataframe. These libraries are not currently available through **conda** but are available through **pip**. Install the libraries at your command line/terminal using:\n",
    "\n",
    "    pip install plotly\n",
    "    pip install cufflinks\n",
    "\n",
    "** NOTE: Make sure you only have one installation of Python on your computer when you do this, otherwise the installation may not work. **\n",
    "\n",
    "## Imports and Set-up"
   ]
  },
  {
   "cell_type": "code",
   "execution_count": 1,
   "metadata": {},
   "outputs": [],
   "source": [
    "import pandas as pd\n",
    "import numpy as np\n",
    "%matplotlib inline"
   ]
  },
  {
   "cell_type": "code",
   "execution_count": 3,
   "metadata": {},
   "outputs": [
    {
     "name": "stdout",
     "output_type": "stream",
     "text": [
      "5.7.0\n"
     ]
    }
   ],
   "source": [
    "from plotly import __version__\n",
    "from plotly.offline import download_plotlyjs, init_notebook_mode, plot, iplot\n",
    "\n",
    "print(__version__) # requires version >= 1.9.0"
   ]
  },
  {
   "cell_type": "code",
   "execution_count": 4,
   "metadata": {},
   "outputs": [],
   "source": [
    "import cufflinks as cf"
   ]
  },
  {
   "cell_type": "code",
   "execution_count": 5,
   "metadata": {},
   "outputs": [
    {
     "data": {
      "text/html": [
       "        <script type=\"text/javascript\">\n",
       "        window.PlotlyConfig = {MathJaxConfig: 'local'};\n",
       "        if (window.MathJax) {MathJax.Hub.Config({SVG: {font: \"STIX-Web\"}});}\n",
       "        if (typeof require !== 'undefined') {\n",
       "        require.undef(\"plotly\");\n",
       "        requirejs.config({\n",
       "            paths: {\n",
       "                'plotly': ['https://cdn.plot.ly/plotly-2.11.1.min']\n",
       "            }\n",
       "        });\n",
       "        require(['plotly'], function(Plotly) {\n",
       "            window._Plotly = Plotly;\n",
       "        });\n",
       "        }\n",
       "        </script>\n",
       "        "
      ]
     },
     "metadata": {},
     "output_type": "display_data"
    }
   ],
   "source": [
    "# For Notebooks\n",
    "init_notebook_mode(connected=True)"
   ]
  },
  {
   "cell_type": "code",
   "execution_count": 6,
   "metadata": {},
   "outputs": [
    {
     "data": {
      "text/html": [
       "        <script type=\"text/javascript\">\n",
       "        window.PlotlyConfig = {MathJaxConfig: 'local'};\n",
       "        if (window.MathJax) {MathJax.Hub.Config({SVG: {font: \"STIX-Web\"}});}\n",
       "        if (typeof require !== 'undefined') {\n",
       "        require.undef(\"plotly\");\n",
       "        requirejs.config({\n",
       "            paths: {\n",
       "                'plotly': ['https://cdn.plot.ly/plotly-2.11.1.min']\n",
       "            }\n",
       "        });\n",
       "        require(['plotly'], function(Plotly) {\n",
       "            window._Plotly = Plotly;\n",
       "        });\n",
       "        }\n",
       "        </script>\n",
       "        "
      ]
     },
     "metadata": {},
     "output_type": "display_data"
    }
   ],
   "source": [
    "# For offline use\n",
    "cf.go_offline()"
   ]
  },
  {
   "cell_type": "markdown",
   "metadata": {},
   "source": [
    "### Fake Data"
   ]
  },
  {
   "cell_type": "code",
   "execution_count": 7,
   "metadata": {},
   "outputs": [],
   "source": [
    "df = pd.DataFrame(np.random.randn(100,4),columns='A B C D'.split())"
   ]
  },
  {
   "cell_type": "code",
   "execution_count": 8,
   "metadata": {},
   "outputs": [
    {
     "data": {
      "text/html": [
       "<div>\n",
       "<style scoped>\n",
       "    .dataframe tbody tr th:only-of-type {\n",
       "        vertical-align: middle;\n",
       "    }\n",
       "\n",
       "    .dataframe tbody tr th {\n",
       "        vertical-align: top;\n",
       "    }\n",
       "\n",
       "    .dataframe thead th {\n",
       "        text-align: right;\n",
       "    }\n",
       "</style>\n",
       "<table border=\"1\" class=\"dataframe\">\n",
       "  <thead>\n",
       "    <tr style=\"text-align: right;\">\n",
       "      <th></th>\n",
       "      <th>A</th>\n",
       "      <th>B</th>\n",
       "      <th>C</th>\n",
       "      <th>D</th>\n",
       "    </tr>\n",
       "  </thead>\n",
       "  <tbody>\n",
       "    <tr>\n",
       "      <th>0</th>\n",
       "      <td>0.765546</td>\n",
       "      <td>0.601747</td>\n",
       "      <td>0.245807</td>\n",
       "      <td>-2.152868</td>\n",
       "    </tr>\n",
       "    <tr>\n",
       "      <th>1</th>\n",
       "      <td>-0.128089</td>\n",
       "      <td>-0.149784</td>\n",
       "      <td>-0.167913</td>\n",
       "      <td>0.221476</td>\n",
       "    </tr>\n",
       "    <tr>\n",
       "      <th>2</th>\n",
       "      <td>1.451399</td>\n",
       "      <td>-1.070710</td>\n",
       "      <td>-0.355148</td>\n",
       "      <td>2.025897</td>\n",
       "    </tr>\n",
       "    <tr>\n",
       "      <th>3</th>\n",
       "      <td>-0.191221</td>\n",
       "      <td>-1.037546</td>\n",
       "      <td>-1.323309</td>\n",
       "      <td>-0.855910</td>\n",
       "    </tr>\n",
       "    <tr>\n",
       "      <th>4</th>\n",
       "      <td>1.103072</td>\n",
       "      <td>0.360792</td>\n",
       "      <td>0.709780</td>\n",
       "      <td>-1.449396</td>\n",
       "    </tr>\n",
       "  </tbody>\n",
       "</table>\n",
       "</div>"
      ],
      "text/plain": [
       "          A         B         C         D\n",
       "0  0.765546  0.601747  0.245807 -2.152868\n",
       "1 -0.128089 -0.149784 -0.167913  0.221476\n",
       "2  1.451399 -1.070710 -0.355148  2.025897\n",
       "3 -0.191221 -1.037546 -1.323309 -0.855910\n",
       "4  1.103072  0.360792  0.709780 -1.449396"
      ]
     },
     "execution_count": 8,
     "metadata": {},
     "output_type": "execute_result"
    }
   ],
   "source": [
    "df.head()"
   ]
  },
  {
   "cell_type": "code",
   "execution_count": 9,
   "metadata": {},
   "outputs": [],
   "source": [
    "df2 = pd.DataFrame({'Category':['A','B','C'],'Values':[32,43,50]})"
   ]
  },
  {
   "cell_type": "code",
   "execution_count": 10,
   "metadata": {},
   "outputs": [
    {
     "data": {
      "text/html": [
       "<div>\n",
       "<style scoped>\n",
       "    .dataframe tbody tr th:only-of-type {\n",
       "        vertical-align: middle;\n",
       "    }\n",
       "\n",
       "    .dataframe tbody tr th {\n",
       "        vertical-align: top;\n",
       "    }\n",
       "\n",
       "    .dataframe thead th {\n",
       "        text-align: right;\n",
       "    }\n",
       "</style>\n",
       "<table border=\"1\" class=\"dataframe\">\n",
       "  <thead>\n",
       "    <tr style=\"text-align: right;\">\n",
       "      <th></th>\n",
       "      <th>Category</th>\n",
       "      <th>Values</th>\n",
       "    </tr>\n",
       "  </thead>\n",
       "  <tbody>\n",
       "    <tr>\n",
       "      <th>0</th>\n",
       "      <td>A</td>\n",
       "      <td>32</td>\n",
       "    </tr>\n",
       "    <tr>\n",
       "      <th>1</th>\n",
       "      <td>B</td>\n",
       "      <td>43</td>\n",
       "    </tr>\n",
       "    <tr>\n",
       "      <th>2</th>\n",
       "      <td>C</td>\n",
       "      <td>50</td>\n",
       "    </tr>\n",
       "  </tbody>\n",
       "</table>\n",
       "</div>"
      ],
      "text/plain": [
       "  Category  Values\n",
       "0        A      32\n",
       "1        B      43\n",
       "2        C      50"
      ]
     },
     "execution_count": 10,
     "metadata": {},
     "output_type": "execute_result"
    }
   ],
   "source": [
    "df2.head()"
   ]
  },
  {
   "cell_type": "markdown",
   "metadata": {},
   "source": [
    "## Using Cufflinks and iplot()\n",
    "\n",
    "* scatter\n",
    "* bar\n",
    "* box\n",
    "* spread\n",
    "* ratio\n",
    "* heatmap\n",
    "* surface\n",
    "* histogram\n",
    "* bubble"
   ]
  },
  {
   "cell_type": "markdown",
   "metadata": {},
   "source": [
    "## Scatter"
   ]
  },
  {
   "cell_type": "code",
   "execution_count": 11,
   "metadata": {},
   "outputs": [
    {
     "data": {
      "application/vnd.plotly.v1+json": {
       "config": {
        "linkText": "Export to plot.ly",
        "plotlyServerURL": "https://plot.ly",
        "showLink": true
       },
       "data": [
        {
         "line": {
          "color": "rgba(255, 153, 51, 1.0)",
          "dash": "solid",
          "shape": "linear",
          "width": 1.3
         },
         "marker": {
          "size": 10,
          "symbol": "circle"
         },
         "mode": "markers",
         "name": "B",
         "text": "",
         "type": "scatter",
         "x": [
          0.7655458203462077,
          -0.12808922353551602,
          1.4513993957179177,
          -0.19122091052993234,
          1.1030723744375364,
          1.033532144394203,
          0.3841969617822889,
          0.6496604352494966,
          0.513285627209426,
          0.11476079502280276,
          -0.2591015559704645,
          -1.776879311107862,
          -1.34794116248284,
          0.7082005182592324,
          -0.07069421173021438,
          0.2969240010622188,
          0.3536557662414352,
          0.47251436715512296,
          1.1563489173302384,
          -1.1577309588480218,
          -0.8911183307244669,
          2.619839722470479,
          2.473037611797308,
          2.7479066271536197,
          -1.3832565327512583,
          0.42590028724574386,
          0.8266523606807861,
          0.4582137090455324,
          0.3669423654181648,
          -0.38559101708212323,
          0.7043030621427251,
          0.7977307659092078,
          0.5923822621043702,
          0.9225429891488932,
          2.0559542054906292,
          1.7485194011322966,
          -1.4178063337005729,
          0.3492884656078567,
          0.8946522460785905,
          1.560287626057767,
          -0.8322926593044682,
          1.2349418728588268,
          1.7875197554567475,
          0.08633619069120248,
          0.5314971207622426,
          -0.9436475384249055,
          -1.615751639616223,
          1.5499038599623058,
          -1.6173743554616682,
          0.006085323851007527,
          0.002795262409405392,
          0.3659633121859034,
          0.801851411757661,
          -0.5374217808986604,
          -0.12139982016197108,
          -0.7028554934220238,
          -0.8765908568443167,
          0.41346433697724727,
          1.4384119079610063,
          0.7600927797482195,
          -1.2787747786152739,
          0.5024311486559706,
          0.9750586541892643,
          0.5268072700021327,
          -0.42468859013658095,
          -1.025420774761301,
          -0.4266336127339284,
          0.48272659442294075,
          2.906398718665853,
          0.6880021525294603,
          -0.21480747949987763,
          -0.5686183980043807,
          -0.9131334243330468,
          1.6573368062052414,
          -1.7930944914691276,
          -0.9843674117413633,
          2.1543809516091437,
          0.4021428551289348,
          -1.2844749093286496,
          0.014934416169660418,
          0.15129520541311742,
          -0.30558213224536673,
          1.3253078666447853,
          -0.10688727093219857,
          1.0461711436912986,
          -1.240988782651725,
          0.7505133678415967,
          1.0924753055237828,
          -0.4217096676086004,
          -1.0886553141159043,
          0.465188624187154,
          0.27046011280690474,
          -1.0788735585175873,
          0.7616297320826227,
          1.83194824101488,
          -0.14619950548323124,
          0.9567672741523233,
          -0.6461097831091536,
          1.1273945026599368,
          1.8805504460884466
         ],
         "y": [
          0.6017466873503788,
          -0.14978400163424924,
          -1.0707104177133535,
          -1.037546034807011,
          0.3607916199572585,
          -0.06471865024747107,
          -0.7580300458300937,
          1.978188770648286,
          -0.571180926800931,
          -0.8350579784972542,
          -0.8760751468654233,
          -0.2416208405534744,
          -0.11940406390607054,
          0.3910497338436867,
          -0.12441061910314734,
          -0.17008880601047333,
          1.2424043471474324,
          0.18306105280621934,
          0.5025398751714042,
          -2.733138018312086,
          -0.4578889804156048,
          -0.8968252858196749,
          1.2192999848172787,
          1.3853636122951218,
          0.06451901011941573,
          -0.8042140226810693,
          -0.4799095259944002,
          -0.7228634578237165,
          0.23392212692192293,
          -0.5253559983110266,
          -0.005551655753853849,
          -1.581190796892674,
          -0.100944996595511,
          -0.36032418400728666,
          0.5683775057321915,
          -0.8875035255092706,
          0.920332767011539,
          -0.8378529508094908,
          2.207100912475008,
          -0.038956452336035875,
          1.7265669308226161,
          -0.21127645786169866,
          -0.03648413775657497,
          0.6477042890699376,
          1.717122130117437,
          0.7670217124737083,
          0.4011841768438215,
          -0.5771860490915778,
          -1.2952904699021186,
          -0.5614861119771376,
          0.3552524746507848,
          0.345368819654225,
          -0.486542716473194,
          -0.46989855997673624,
          0.47018822027319174,
          -0.5556740606086376,
          -0.5508351364377948,
          -0.6689676565419325,
          -0.12457825258275382,
          1.0877758572906697,
          -0.014239704339121232,
          -1.6608604457359628,
          1.4821620161097675,
          1.1008139823858007,
          -0.23902094669399154,
          -0.6659886541239679,
          0.5328878624002946,
          0.339322926441731,
          1.5115792223663922,
          0.8165994139801861,
          0.6276223908531292,
          -0.3173257506316113,
          1.1302860331046023,
          -1.337122276668125,
          -1.7483710170291413,
          0.8883164654916883,
          -0.23718451528176032,
          0.136395655094501,
          -0.16601627031277902,
          0.5004192659250103,
          -0.21116110306728084,
          1.2744353062002893,
          -0.08179344137315678,
          -0.887429149024921,
          0.17680435085489035,
          0.9006247162148816,
          0.3294130449437715,
          -1.4774903881761516,
          0.7656241967464709,
          0.47361979358312306,
          0.5405391526466155,
          0.39341633131077053,
          -2.4023312521643514,
          -0.6074321625556381,
          1.4120134927426395,
          -0.7663209956048409,
          0.3946572185611099,
          1.101027134677378,
          2.2913939671179193,
          -0.3474317575058246
         ]
        }
       ],
       "layout": {
        "legend": {
         "bgcolor": "#F5F6F9",
         "font": {
          "color": "#4D5663"
         }
        },
        "paper_bgcolor": "#F5F6F9",
        "plot_bgcolor": "#F5F6F9",
        "template": {
         "data": {
          "bar": [
           {
            "error_x": {
             "color": "#2a3f5f"
            },
            "error_y": {
             "color": "#2a3f5f"
            },
            "marker": {
             "line": {
              "color": "#E5ECF6",
              "width": 0.5
             },
             "pattern": {
              "fillmode": "overlay",
              "size": 10,
              "solidity": 0.2
             }
            },
            "type": "bar"
           }
          ],
          "barpolar": [
           {
            "marker": {
             "line": {
              "color": "#E5ECF6",
              "width": 0.5
             },
             "pattern": {
              "fillmode": "overlay",
              "size": 10,
              "solidity": 0.2
             }
            },
            "type": "barpolar"
           }
          ],
          "carpet": [
           {
            "aaxis": {
             "endlinecolor": "#2a3f5f",
             "gridcolor": "white",
             "linecolor": "white",
             "minorgridcolor": "white",
             "startlinecolor": "#2a3f5f"
            },
            "baxis": {
             "endlinecolor": "#2a3f5f",
             "gridcolor": "white",
             "linecolor": "white",
             "minorgridcolor": "white",
             "startlinecolor": "#2a3f5f"
            },
            "type": "carpet"
           }
          ],
          "choropleth": [
           {
            "colorbar": {
             "outlinewidth": 0,
             "ticks": ""
            },
            "type": "choropleth"
           }
          ],
          "contour": [
           {
            "colorbar": {
             "outlinewidth": 0,
             "ticks": ""
            },
            "colorscale": [
             [
              0,
              "#0d0887"
             ],
             [
              0.1111111111111111,
              "#46039f"
             ],
             [
              0.2222222222222222,
              "#7201a8"
             ],
             [
              0.3333333333333333,
              "#9c179e"
             ],
             [
              0.4444444444444444,
              "#bd3786"
             ],
             [
              0.5555555555555556,
              "#d8576b"
             ],
             [
              0.6666666666666666,
              "#ed7953"
             ],
             [
              0.7777777777777778,
              "#fb9f3a"
             ],
             [
              0.8888888888888888,
              "#fdca26"
             ],
             [
              1,
              "#f0f921"
             ]
            ],
            "type": "contour"
           }
          ],
          "contourcarpet": [
           {
            "colorbar": {
             "outlinewidth": 0,
             "ticks": ""
            },
            "type": "contourcarpet"
           }
          ],
          "heatmap": [
           {
            "colorbar": {
             "outlinewidth": 0,
             "ticks": ""
            },
            "colorscale": [
             [
              0,
              "#0d0887"
             ],
             [
              0.1111111111111111,
              "#46039f"
             ],
             [
              0.2222222222222222,
              "#7201a8"
             ],
             [
              0.3333333333333333,
              "#9c179e"
             ],
             [
              0.4444444444444444,
              "#bd3786"
             ],
             [
              0.5555555555555556,
              "#d8576b"
             ],
             [
              0.6666666666666666,
              "#ed7953"
             ],
             [
              0.7777777777777778,
              "#fb9f3a"
             ],
             [
              0.8888888888888888,
              "#fdca26"
             ],
             [
              1,
              "#f0f921"
             ]
            ],
            "type": "heatmap"
           }
          ],
          "heatmapgl": [
           {
            "colorbar": {
             "outlinewidth": 0,
             "ticks": ""
            },
            "colorscale": [
             [
              0,
              "#0d0887"
             ],
             [
              0.1111111111111111,
              "#46039f"
             ],
             [
              0.2222222222222222,
              "#7201a8"
             ],
             [
              0.3333333333333333,
              "#9c179e"
             ],
             [
              0.4444444444444444,
              "#bd3786"
             ],
             [
              0.5555555555555556,
              "#d8576b"
             ],
             [
              0.6666666666666666,
              "#ed7953"
             ],
             [
              0.7777777777777778,
              "#fb9f3a"
             ],
             [
              0.8888888888888888,
              "#fdca26"
             ],
             [
              1,
              "#f0f921"
             ]
            ],
            "type": "heatmapgl"
           }
          ],
          "histogram": [
           {
            "marker": {
             "pattern": {
              "fillmode": "overlay",
              "size": 10,
              "solidity": 0.2
             }
            },
            "type": "histogram"
           }
          ],
          "histogram2d": [
           {
            "colorbar": {
             "outlinewidth": 0,
             "ticks": ""
            },
            "colorscale": [
             [
              0,
              "#0d0887"
             ],
             [
              0.1111111111111111,
              "#46039f"
             ],
             [
              0.2222222222222222,
              "#7201a8"
             ],
             [
              0.3333333333333333,
              "#9c179e"
             ],
             [
              0.4444444444444444,
              "#bd3786"
             ],
             [
              0.5555555555555556,
              "#d8576b"
             ],
             [
              0.6666666666666666,
              "#ed7953"
             ],
             [
              0.7777777777777778,
              "#fb9f3a"
             ],
             [
              0.8888888888888888,
              "#fdca26"
             ],
             [
              1,
              "#f0f921"
             ]
            ],
            "type": "histogram2d"
           }
          ],
          "histogram2dcontour": [
           {
            "colorbar": {
             "outlinewidth": 0,
             "ticks": ""
            },
            "colorscale": [
             [
              0,
              "#0d0887"
             ],
             [
              0.1111111111111111,
              "#46039f"
             ],
             [
              0.2222222222222222,
              "#7201a8"
             ],
             [
              0.3333333333333333,
              "#9c179e"
             ],
             [
              0.4444444444444444,
              "#bd3786"
             ],
             [
              0.5555555555555556,
              "#d8576b"
             ],
             [
              0.6666666666666666,
              "#ed7953"
             ],
             [
              0.7777777777777778,
              "#fb9f3a"
             ],
             [
              0.8888888888888888,
              "#fdca26"
             ],
             [
              1,
              "#f0f921"
             ]
            ],
            "type": "histogram2dcontour"
           }
          ],
          "mesh3d": [
           {
            "colorbar": {
             "outlinewidth": 0,
             "ticks": ""
            },
            "type": "mesh3d"
           }
          ],
          "parcoords": [
           {
            "line": {
             "colorbar": {
              "outlinewidth": 0,
              "ticks": ""
             }
            },
            "type": "parcoords"
           }
          ],
          "pie": [
           {
            "automargin": true,
            "type": "pie"
           }
          ],
          "scatter": [
           {
            "fillpattern": {
             "fillmode": "overlay",
             "size": 10,
             "solidity": 0.2
            },
            "type": "scatter"
           }
          ],
          "scatter3d": [
           {
            "line": {
             "colorbar": {
              "outlinewidth": 0,
              "ticks": ""
             }
            },
            "marker": {
             "colorbar": {
              "outlinewidth": 0,
              "ticks": ""
             }
            },
            "type": "scatter3d"
           }
          ],
          "scattercarpet": [
           {
            "marker": {
             "colorbar": {
              "outlinewidth": 0,
              "ticks": ""
             }
            },
            "type": "scattercarpet"
           }
          ],
          "scattergeo": [
           {
            "marker": {
             "colorbar": {
              "outlinewidth": 0,
              "ticks": ""
             }
            },
            "type": "scattergeo"
           }
          ],
          "scattergl": [
           {
            "marker": {
             "colorbar": {
              "outlinewidth": 0,
              "ticks": ""
             }
            },
            "type": "scattergl"
           }
          ],
          "scattermapbox": [
           {
            "marker": {
             "colorbar": {
              "outlinewidth": 0,
              "ticks": ""
             }
            },
            "type": "scattermapbox"
           }
          ],
          "scatterpolar": [
           {
            "marker": {
             "colorbar": {
              "outlinewidth": 0,
              "ticks": ""
             }
            },
            "type": "scatterpolar"
           }
          ],
          "scatterpolargl": [
           {
            "marker": {
             "colorbar": {
              "outlinewidth": 0,
              "ticks": ""
             }
            },
            "type": "scatterpolargl"
           }
          ],
          "scatterternary": [
           {
            "marker": {
             "colorbar": {
              "outlinewidth": 0,
              "ticks": ""
             }
            },
            "type": "scatterternary"
           }
          ],
          "surface": [
           {
            "colorbar": {
             "outlinewidth": 0,
             "ticks": ""
            },
            "colorscale": [
             [
              0,
              "#0d0887"
             ],
             [
              0.1111111111111111,
              "#46039f"
             ],
             [
              0.2222222222222222,
              "#7201a8"
             ],
             [
              0.3333333333333333,
              "#9c179e"
             ],
             [
              0.4444444444444444,
              "#bd3786"
             ],
             [
              0.5555555555555556,
              "#d8576b"
             ],
             [
              0.6666666666666666,
              "#ed7953"
             ],
             [
              0.7777777777777778,
              "#fb9f3a"
             ],
             [
              0.8888888888888888,
              "#fdca26"
             ],
             [
              1,
              "#f0f921"
             ]
            ],
            "type": "surface"
           }
          ],
          "table": [
           {
            "cells": {
             "fill": {
              "color": "#EBF0F8"
             },
             "line": {
              "color": "white"
             }
            },
            "header": {
             "fill": {
              "color": "#C8D4E3"
             },
             "line": {
              "color": "white"
             }
            },
            "type": "table"
           }
          ]
         },
         "layout": {
          "annotationdefaults": {
           "arrowcolor": "#2a3f5f",
           "arrowhead": 0,
           "arrowwidth": 1
          },
          "autotypenumbers": "strict",
          "coloraxis": {
           "colorbar": {
            "outlinewidth": 0,
            "ticks": ""
           }
          },
          "colorscale": {
           "diverging": [
            [
             0,
             "#8e0152"
            ],
            [
             0.1,
             "#c51b7d"
            ],
            [
             0.2,
             "#de77ae"
            ],
            [
             0.3,
             "#f1b6da"
            ],
            [
             0.4,
             "#fde0ef"
            ],
            [
             0.5,
             "#f7f7f7"
            ],
            [
             0.6,
             "#e6f5d0"
            ],
            [
             0.7,
             "#b8e186"
            ],
            [
             0.8,
             "#7fbc41"
            ],
            [
             0.9,
             "#4d9221"
            ],
            [
             1,
             "#276419"
            ]
           ],
           "sequential": [
            [
             0,
             "#0d0887"
            ],
            [
             0.1111111111111111,
             "#46039f"
            ],
            [
             0.2222222222222222,
             "#7201a8"
            ],
            [
             0.3333333333333333,
             "#9c179e"
            ],
            [
             0.4444444444444444,
             "#bd3786"
            ],
            [
             0.5555555555555556,
             "#d8576b"
            ],
            [
             0.6666666666666666,
             "#ed7953"
            ],
            [
             0.7777777777777778,
             "#fb9f3a"
            ],
            [
             0.8888888888888888,
             "#fdca26"
            ],
            [
             1,
             "#f0f921"
            ]
           ],
           "sequentialminus": [
            [
             0,
             "#0d0887"
            ],
            [
             0.1111111111111111,
             "#46039f"
            ],
            [
             0.2222222222222222,
             "#7201a8"
            ],
            [
             0.3333333333333333,
             "#9c179e"
            ],
            [
             0.4444444444444444,
             "#bd3786"
            ],
            [
             0.5555555555555556,
             "#d8576b"
            ],
            [
             0.6666666666666666,
             "#ed7953"
            ],
            [
             0.7777777777777778,
             "#fb9f3a"
            ],
            [
             0.8888888888888888,
             "#fdca26"
            ],
            [
             1,
             "#f0f921"
            ]
           ]
          },
          "colorway": [
           "#636efa",
           "#EF553B",
           "#00cc96",
           "#ab63fa",
           "#FFA15A",
           "#19d3f3",
           "#FF6692",
           "#B6E880",
           "#FF97FF",
           "#FECB52"
          ],
          "font": {
           "color": "#2a3f5f"
          },
          "geo": {
           "bgcolor": "white",
           "lakecolor": "white",
           "landcolor": "#E5ECF6",
           "showlakes": true,
           "showland": true,
           "subunitcolor": "white"
          },
          "hoverlabel": {
           "align": "left"
          },
          "hovermode": "closest",
          "mapbox": {
           "style": "light"
          },
          "paper_bgcolor": "white",
          "plot_bgcolor": "#E5ECF6",
          "polar": {
           "angularaxis": {
            "gridcolor": "white",
            "linecolor": "white",
            "ticks": ""
           },
           "bgcolor": "#E5ECF6",
           "radialaxis": {
            "gridcolor": "white",
            "linecolor": "white",
            "ticks": ""
           }
          },
          "scene": {
           "xaxis": {
            "backgroundcolor": "#E5ECF6",
            "gridcolor": "white",
            "gridwidth": 2,
            "linecolor": "white",
            "showbackground": true,
            "ticks": "",
            "zerolinecolor": "white"
           },
           "yaxis": {
            "backgroundcolor": "#E5ECF6",
            "gridcolor": "white",
            "gridwidth": 2,
            "linecolor": "white",
            "showbackground": true,
            "ticks": "",
            "zerolinecolor": "white"
           },
           "zaxis": {
            "backgroundcolor": "#E5ECF6",
            "gridcolor": "white",
            "gridwidth": 2,
            "linecolor": "white",
            "showbackground": true,
            "ticks": "",
            "zerolinecolor": "white"
           }
          },
          "shapedefaults": {
           "line": {
            "color": "#2a3f5f"
           }
          },
          "ternary": {
           "aaxis": {
            "gridcolor": "white",
            "linecolor": "white",
            "ticks": ""
           },
           "baxis": {
            "gridcolor": "white",
            "linecolor": "white",
            "ticks": ""
           },
           "bgcolor": "#E5ECF6",
           "caxis": {
            "gridcolor": "white",
            "linecolor": "white",
            "ticks": ""
           }
          },
          "title": {
           "x": 0.05
          },
          "xaxis": {
           "automargin": true,
           "gridcolor": "white",
           "linecolor": "white",
           "ticks": "",
           "title": {
            "standoff": 15
           },
           "zerolinecolor": "white",
           "zerolinewidth": 2
          },
          "yaxis": {
           "automargin": true,
           "gridcolor": "white",
           "linecolor": "white",
           "ticks": "",
           "title": {
            "standoff": 15
           },
           "zerolinecolor": "white",
           "zerolinewidth": 2
          }
         }
        },
        "title": {
         "font": {
          "color": "#4D5663"
         }
        },
        "xaxis": {
         "gridcolor": "#E1E5ED",
         "showgrid": true,
         "tickfont": {
          "color": "#4D5663"
         },
         "title": {
          "font": {
           "color": "#4D5663"
          },
          "text": ""
         },
         "zerolinecolor": "#E1E5ED"
        },
        "yaxis": {
         "gridcolor": "#E1E5ED",
         "showgrid": true,
         "tickfont": {
          "color": "#4D5663"
         },
         "title": {
          "font": {
           "color": "#4D5663"
          },
          "text": ""
         },
         "zerolinecolor": "#E1E5ED"
        }
       }
      },
      "text/html": [
       "<div>                            <div id=\"e8c57f53-96b4-4519-a3bb-26754b686e79\" class=\"plotly-graph-div\" style=\"height:525px; width:100%;\"></div>            <script type=\"text/javascript\">                require([\"plotly\"], function(Plotly) {                    window.PLOTLYENV=window.PLOTLYENV || {};\n",
       "                    window.PLOTLYENV.BASE_URL='https://plot.ly';                                    if (document.getElementById(\"e8c57f53-96b4-4519-a3bb-26754b686e79\")) {                    Plotly.newPlot(                        \"e8c57f53-96b4-4519-a3bb-26754b686e79\",                        [{\"line\":{\"color\":\"rgba(255, 153, 51, 1.0)\",\"dash\":\"solid\",\"shape\":\"linear\",\"width\":1.3},\"marker\":{\"size\":10,\"symbol\":\"circle\"},\"mode\":\"markers\",\"name\":\"B\",\"text\":\"\",\"x\":[0.7655458203462077,-0.12808922353551602,1.4513993957179177,-0.19122091052993234,1.1030723744375364,1.033532144394203,0.3841969617822889,0.6496604352494966,0.513285627209426,0.11476079502280276,-0.2591015559704645,-1.776879311107862,-1.34794116248284,0.7082005182592324,-0.07069421173021438,0.2969240010622188,0.3536557662414352,0.47251436715512296,1.1563489173302384,-1.1577309588480218,-0.8911183307244669,2.619839722470479,2.473037611797308,2.7479066271536197,-1.3832565327512583,0.42590028724574386,0.8266523606807861,0.4582137090455324,0.3669423654181648,-0.38559101708212323,0.7043030621427251,0.7977307659092078,0.5923822621043702,0.9225429891488932,2.0559542054906292,1.7485194011322966,-1.4178063337005729,0.3492884656078567,0.8946522460785905,1.560287626057767,-0.8322926593044682,1.2349418728588268,1.7875197554567475,0.08633619069120248,0.5314971207622426,-0.9436475384249055,-1.615751639616223,1.5499038599623058,-1.6173743554616682,0.006085323851007527,0.002795262409405392,0.3659633121859034,0.801851411757661,-0.5374217808986604,-0.12139982016197108,-0.7028554934220238,-0.8765908568443167,0.41346433697724727,1.4384119079610063,0.7600927797482195,-1.2787747786152739,0.5024311486559706,0.9750586541892643,0.5268072700021327,-0.42468859013658095,-1.025420774761301,-0.4266336127339284,0.48272659442294075,2.906398718665853,0.6880021525294603,-0.21480747949987763,-0.5686183980043807,-0.9131334243330468,1.6573368062052414,-1.7930944914691276,-0.9843674117413633,2.1543809516091437,0.4021428551289348,-1.2844749093286496,0.014934416169660418,0.15129520541311742,-0.30558213224536673,1.3253078666447853,-0.10688727093219857,1.0461711436912986,-1.240988782651725,0.7505133678415967,1.0924753055237828,-0.4217096676086004,-1.0886553141159043,0.465188624187154,0.27046011280690474,-1.0788735585175873,0.7616297320826227,1.83194824101488,-0.14619950548323124,0.9567672741523233,-0.6461097831091536,1.1273945026599368,1.8805504460884466],\"y\":[0.6017466873503788,-0.14978400163424924,-1.0707104177133535,-1.037546034807011,0.3607916199572585,-0.06471865024747107,-0.7580300458300937,1.978188770648286,-0.571180926800931,-0.8350579784972542,-0.8760751468654233,-0.2416208405534744,-0.11940406390607054,0.3910497338436867,-0.12441061910314734,-0.17008880601047333,1.2424043471474324,0.18306105280621934,0.5025398751714042,-2.733138018312086,-0.4578889804156048,-0.8968252858196749,1.2192999848172787,1.3853636122951218,0.06451901011941573,-0.8042140226810693,-0.4799095259944002,-0.7228634578237165,0.23392212692192293,-0.5253559983110266,-0.005551655753853849,-1.581190796892674,-0.100944996595511,-0.36032418400728666,0.5683775057321915,-0.8875035255092706,0.920332767011539,-0.8378529508094908,2.207100912475008,-0.038956452336035875,1.7265669308226161,-0.21127645786169866,-0.03648413775657497,0.6477042890699376,1.717122130117437,0.7670217124737083,0.4011841768438215,-0.5771860490915778,-1.2952904699021186,-0.5614861119771376,0.3552524746507848,0.345368819654225,-0.486542716473194,-0.46989855997673624,0.47018822027319174,-0.5556740606086376,-0.5508351364377948,-0.6689676565419325,-0.12457825258275382,1.0877758572906697,-0.014239704339121232,-1.6608604457359628,1.4821620161097675,1.1008139823858007,-0.23902094669399154,-0.6659886541239679,0.5328878624002946,0.339322926441731,1.5115792223663922,0.8165994139801861,0.6276223908531292,-0.3173257506316113,1.1302860331046023,-1.337122276668125,-1.7483710170291413,0.8883164654916883,-0.23718451528176032,0.136395655094501,-0.16601627031277902,0.5004192659250103,-0.21116110306728084,1.2744353062002893,-0.08179344137315678,-0.887429149024921,0.17680435085489035,0.9006247162148816,0.3294130449437715,-1.4774903881761516,0.7656241967464709,0.47361979358312306,0.5405391526466155,0.39341633131077053,-2.4023312521643514,-0.6074321625556381,1.4120134927426395,-0.7663209956048409,0.3946572185611099,1.101027134677378,2.2913939671179193,-0.3474317575058246],\"type\":\"scatter\"}],                        {\"legend\":{\"bgcolor\":\"#F5F6F9\",\"font\":{\"color\":\"#4D5663\"}},\"paper_bgcolor\":\"#F5F6F9\",\"plot_bgcolor\":\"#F5F6F9\",\"template\":{\"data\":{\"barpolar\":[{\"marker\":{\"line\":{\"color\":\"#E5ECF6\",\"width\":0.5},\"pattern\":{\"fillmode\":\"overlay\",\"size\":10,\"solidity\":0.2}},\"type\":\"barpolar\"}],\"bar\":[{\"error_x\":{\"color\":\"#2a3f5f\"},\"error_y\":{\"color\":\"#2a3f5f\"},\"marker\":{\"line\":{\"color\":\"#E5ECF6\",\"width\":0.5},\"pattern\":{\"fillmode\":\"overlay\",\"size\":10,\"solidity\":0.2}},\"type\":\"bar\"}],\"carpet\":[{\"aaxis\":{\"endlinecolor\":\"#2a3f5f\",\"gridcolor\":\"white\",\"linecolor\":\"white\",\"minorgridcolor\":\"white\",\"startlinecolor\":\"#2a3f5f\"},\"baxis\":{\"endlinecolor\":\"#2a3f5f\",\"gridcolor\":\"white\",\"linecolor\":\"white\",\"minorgridcolor\":\"white\",\"startlinecolor\":\"#2a3f5f\"},\"type\":\"carpet\"}],\"choropleth\":[{\"colorbar\":{\"outlinewidth\":0,\"ticks\":\"\"},\"type\":\"choropleth\"}],\"contourcarpet\":[{\"colorbar\":{\"outlinewidth\":0,\"ticks\":\"\"},\"type\":\"contourcarpet\"}],\"contour\":[{\"colorbar\":{\"outlinewidth\":0,\"ticks\":\"\"},\"colorscale\":[[0.0,\"#0d0887\"],[0.1111111111111111,\"#46039f\"],[0.2222222222222222,\"#7201a8\"],[0.3333333333333333,\"#9c179e\"],[0.4444444444444444,\"#bd3786\"],[0.5555555555555556,\"#d8576b\"],[0.6666666666666666,\"#ed7953\"],[0.7777777777777778,\"#fb9f3a\"],[0.8888888888888888,\"#fdca26\"],[1.0,\"#f0f921\"]],\"type\":\"contour\"}],\"heatmapgl\":[{\"colorbar\":{\"outlinewidth\":0,\"ticks\":\"\"},\"colorscale\":[[0.0,\"#0d0887\"],[0.1111111111111111,\"#46039f\"],[0.2222222222222222,\"#7201a8\"],[0.3333333333333333,\"#9c179e\"],[0.4444444444444444,\"#bd3786\"],[0.5555555555555556,\"#d8576b\"],[0.6666666666666666,\"#ed7953\"],[0.7777777777777778,\"#fb9f3a\"],[0.8888888888888888,\"#fdca26\"],[1.0,\"#f0f921\"]],\"type\":\"heatmapgl\"}],\"heatmap\":[{\"colorbar\":{\"outlinewidth\":0,\"ticks\":\"\"},\"colorscale\":[[0.0,\"#0d0887\"],[0.1111111111111111,\"#46039f\"],[0.2222222222222222,\"#7201a8\"],[0.3333333333333333,\"#9c179e\"],[0.4444444444444444,\"#bd3786\"],[0.5555555555555556,\"#d8576b\"],[0.6666666666666666,\"#ed7953\"],[0.7777777777777778,\"#fb9f3a\"],[0.8888888888888888,\"#fdca26\"],[1.0,\"#f0f921\"]],\"type\":\"heatmap\"}],\"histogram2dcontour\":[{\"colorbar\":{\"outlinewidth\":0,\"ticks\":\"\"},\"colorscale\":[[0.0,\"#0d0887\"],[0.1111111111111111,\"#46039f\"],[0.2222222222222222,\"#7201a8\"],[0.3333333333333333,\"#9c179e\"],[0.4444444444444444,\"#bd3786\"],[0.5555555555555556,\"#d8576b\"],[0.6666666666666666,\"#ed7953\"],[0.7777777777777778,\"#fb9f3a\"],[0.8888888888888888,\"#fdca26\"],[1.0,\"#f0f921\"]],\"type\":\"histogram2dcontour\"}],\"histogram2d\":[{\"colorbar\":{\"outlinewidth\":0,\"ticks\":\"\"},\"colorscale\":[[0.0,\"#0d0887\"],[0.1111111111111111,\"#46039f\"],[0.2222222222222222,\"#7201a8\"],[0.3333333333333333,\"#9c179e\"],[0.4444444444444444,\"#bd3786\"],[0.5555555555555556,\"#d8576b\"],[0.6666666666666666,\"#ed7953\"],[0.7777777777777778,\"#fb9f3a\"],[0.8888888888888888,\"#fdca26\"],[1.0,\"#f0f921\"]],\"type\":\"histogram2d\"}],\"histogram\":[{\"marker\":{\"pattern\":{\"fillmode\":\"overlay\",\"size\":10,\"solidity\":0.2}},\"type\":\"histogram\"}],\"mesh3d\":[{\"colorbar\":{\"outlinewidth\":0,\"ticks\":\"\"},\"type\":\"mesh3d\"}],\"parcoords\":[{\"line\":{\"colorbar\":{\"outlinewidth\":0,\"ticks\":\"\"}},\"type\":\"parcoords\"}],\"pie\":[{\"automargin\":true,\"type\":\"pie\"}],\"scatter3d\":[{\"line\":{\"colorbar\":{\"outlinewidth\":0,\"ticks\":\"\"}},\"marker\":{\"colorbar\":{\"outlinewidth\":0,\"ticks\":\"\"}},\"type\":\"scatter3d\"}],\"scattercarpet\":[{\"marker\":{\"colorbar\":{\"outlinewidth\":0,\"ticks\":\"\"}},\"type\":\"scattercarpet\"}],\"scattergeo\":[{\"marker\":{\"colorbar\":{\"outlinewidth\":0,\"ticks\":\"\"}},\"type\":\"scattergeo\"}],\"scattergl\":[{\"marker\":{\"colorbar\":{\"outlinewidth\":0,\"ticks\":\"\"}},\"type\":\"scattergl\"}],\"scattermapbox\":[{\"marker\":{\"colorbar\":{\"outlinewidth\":0,\"ticks\":\"\"}},\"type\":\"scattermapbox\"}],\"scatterpolargl\":[{\"marker\":{\"colorbar\":{\"outlinewidth\":0,\"ticks\":\"\"}},\"type\":\"scatterpolargl\"}],\"scatterpolar\":[{\"marker\":{\"colorbar\":{\"outlinewidth\":0,\"ticks\":\"\"}},\"type\":\"scatterpolar\"}],\"scatter\":[{\"fillpattern\":{\"fillmode\":\"overlay\",\"size\":10,\"solidity\":0.2},\"type\":\"scatter\"}],\"scatterternary\":[{\"marker\":{\"colorbar\":{\"outlinewidth\":0,\"ticks\":\"\"}},\"type\":\"scatterternary\"}],\"surface\":[{\"colorbar\":{\"outlinewidth\":0,\"ticks\":\"\"},\"colorscale\":[[0.0,\"#0d0887\"],[0.1111111111111111,\"#46039f\"],[0.2222222222222222,\"#7201a8\"],[0.3333333333333333,\"#9c179e\"],[0.4444444444444444,\"#bd3786\"],[0.5555555555555556,\"#d8576b\"],[0.6666666666666666,\"#ed7953\"],[0.7777777777777778,\"#fb9f3a\"],[0.8888888888888888,\"#fdca26\"],[1.0,\"#f0f921\"]],\"type\":\"surface\"}],\"table\":[{\"cells\":{\"fill\":{\"color\":\"#EBF0F8\"},\"line\":{\"color\":\"white\"}},\"header\":{\"fill\":{\"color\":\"#C8D4E3\"},\"line\":{\"color\":\"white\"}},\"type\":\"table\"}]},\"layout\":{\"annotationdefaults\":{\"arrowcolor\":\"#2a3f5f\",\"arrowhead\":0,\"arrowwidth\":1},\"autotypenumbers\":\"strict\",\"coloraxis\":{\"colorbar\":{\"outlinewidth\":0,\"ticks\":\"\"}},\"colorscale\":{\"diverging\":[[0,\"#8e0152\"],[0.1,\"#c51b7d\"],[0.2,\"#de77ae\"],[0.3,\"#f1b6da\"],[0.4,\"#fde0ef\"],[0.5,\"#f7f7f7\"],[0.6,\"#e6f5d0\"],[0.7,\"#b8e186\"],[0.8,\"#7fbc41\"],[0.9,\"#4d9221\"],[1,\"#276419\"]],\"sequential\":[[0.0,\"#0d0887\"],[0.1111111111111111,\"#46039f\"],[0.2222222222222222,\"#7201a8\"],[0.3333333333333333,\"#9c179e\"],[0.4444444444444444,\"#bd3786\"],[0.5555555555555556,\"#d8576b\"],[0.6666666666666666,\"#ed7953\"],[0.7777777777777778,\"#fb9f3a\"],[0.8888888888888888,\"#fdca26\"],[1.0,\"#f0f921\"]],\"sequentialminus\":[[0.0,\"#0d0887\"],[0.1111111111111111,\"#46039f\"],[0.2222222222222222,\"#7201a8\"],[0.3333333333333333,\"#9c179e\"],[0.4444444444444444,\"#bd3786\"],[0.5555555555555556,\"#d8576b\"],[0.6666666666666666,\"#ed7953\"],[0.7777777777777778,\"#fb9f3a\"],[0.8888888888888888,\"#fdca26\"],[1.0,\"#f0f921\"]]},\"colorway\":[\"#636efa\",\"#EF553B\",\"#00cc96\",\"#ab63fa\",\"#FFA15A\",\"#19d3f3\",\"#FF6692\",\"#B6E880\",\"#FF97FF\",\"#FECB52\"],\"font\":{\"color\":\"#2a3f5f\"},\"geo\":{\"bgcolor\":\"white\",\"lakecolor\":\"white\",\"landcolor\":\"#E5ECF6\",\"showlakes\":true,\"showland\":true,\"subunitcolor\":\"white\"},\"hoverlabel\":{\"align\":\"left\"},\"hovermode\":\"closest\",\"mapbox\":{\"style\":\"light\"},\"paper_bgcolor\":\"white\",\"plot_bgcolor\":\"#E5ECF6\",\"polar\":{\"angularaxis\":{\"gridcolor\":\"white\",\"linecolor\":\"white\",\"ticks\":\"\"},\"bgcolor\":\"#E5ECF6\",\"radialaxis\":{\"gridcolor\":\"white\",\"linecolor\":\"white\",\"ticks\":\"\"}},\"scene\":{\"xaxis\":{\"backgroundcolor\":\"#E5ECF6\",\"gridcolor\":\"white\",\"gridwidth\":2,\"linecolor\":\"white\",\"showbackground\":true,\"ticks\":\"\",\"zerolinecolor\":\"white\"},\"yaxis\":{\"backgroundcolor\":\"#E5ECF6\",\"gridcolor\":\"white\",\"gridwidth\":2,\"linecolor\":\"white\",\"showbackground\":true,\"ticks\":\"\",\"zerolinecolor\":\"white\"},\"zaxis\":{\"backgroundcolor\":\"#E5ECF6\",\"gridcolor\":\"white\",\"gridwidth\":2,\"linecolor\":\"white\",\"showbackground\":true,\"ticks\":\"\",\"zerolinecolor\":\"white\"}},\"shapedefaults\":{\"line\":{\"color\":\"#2a3f5f\"}},\"ternary\":{\"aaxis\":{\"gridcolor\":\"white\",\"linecolor\":\"white\",\"ticks\":\"\"},\"baxis\":{\"gridcolor\":\"white\",\"linecolor\":\"white\",\"ticks\":\"\"},\"bgcolor\":\"#E5ECF6\",\"caxis\":{\"gridcolor\":\"white\",\"linecolor\":\"white\",\"ticks\":\"\"}},\"title\":{\"x\":0.05},\"xaxis\":{\"automargin\":true,\"gridcolor\":\"white\",\"linecolor\":\"white\",\"ticks\":\"\",\"title\":{\"standoff\":15},\"zerolinecolor\":\"white\",\"zerolinewidth\":2},\"yaxis\":{\"automargin\":true,\"gridcolor\":\"white\",\"linecolor\":\"white\",\"ticks\":\"\",\"title\":{\"standoff\":15},\"zerolinecolor\":\"white\",\"zerolinewidth\":2}}},\"title\":{\"font\":{\"color\":\"#4D5663\"}},\"xaxis\":{\"gridcolor\":\"#E1E5ED\",\"showgrid\":true,\"tickfont\":{\"color\":\"#4D5663\"},\"title\":{\"font\":{\"color\":\"#4D5663\"},\"text\":\"\"},\"zerolinecolor\":\"#E1E5ED\"},\"yaxis\":{\"gridcolor\":\"#E1E5ED\",\"showgrid\":true,\"tickfont\":{\"color\":\"#4D5663\"},\"title\":{\"font\":{\"color\":\"#4D5663\"},\"text\":\"\"},\"zerolinecolor\":\"#E1E5ED\"}},                        {\"showLink\": true, \"linkText\": \"Export to plot.ly\", \"plotlyServerURL\": \"https://plot.ly\", \"responsive\": true}                    ).then(function(){\n",
       "                            \n",
       "var gd = document.getElementById('e8c57f53-96b4-4519-a3bb-26754b686e79');\n",
       "var x = new MutationObserver(function (mutations, observer) {{\n",
       "        var display = window.getComputedStyle(gd).display;\n",
       "        if (!display || display === 'none') {{\n",
       "            console.log([gd, 'removed!']);\n",
       "            Plotly.purge(gd);\n",
       "            observer.disconnect();\n",
       "        }}\n",
       "}});\n",
       "\n",
       "// Listen for the removal of the full notebook cells\n",
       "var notebookContainer = gd.closest('#notebook-container');\n",
       "if (notebookContainer) {{\n",
       "    x.observe(notebookContainer, {childList: true});\n",
       "}}\n",
       "\n",
       "// Listen for the clearing of the current output cell\n",
       "var outputEl = gd.closest('.output');\n",
       "if (outputEl) {{\n",
       "    x.observe(outputEl, {childList: true});\n",
       "}}\n",
       "\n",
       "                        })                };                });            </script>        </div>"
      ]
     },
     "metadata": {},
     "output_type": "display_data"
    }
   ],
   "source": [
    "df.iplot(kind='scatter',x='A',y='B',mode='markers',size=10)"
   ]
  },
  {
   "cell_type": "markdown",
   "metadata": {},
   "source": [
    "## Bar Plots"
   ]
  },
  {
   "cell_type": "code",
   "execution_count": 12,
   "metadata": {},
   "outputs": [
    {
     "data": {
      "application/vnd.plotly.v1+json": {
       "config": {
        "linkText": "Export to plot.ly",
        "plotlyServerURL": "https://plot.ly",
        "showLink": true
       },
       "data": [
        {
         "marker": {
          "color": "rgba(255, 153, 51, 0.6)",
          "line": {
           "color": "rgba(255, 153, 51, 1.0)",
           "width": 1
          }
         },
         "name": "Values",
         "orientation": "v",
         "text": "",
         "type": "bar",
         "x": [
          "A",
          "B",
          "C"
         ],
         "y": [
          32,
          43,
          50
         ]
        }
       ],
       "layout": {
        "legend": {
         "bgcolor": "#F5F6F9",
         "font": {
          "color": "#4D5663"
         }
        },
        "paper_bgcolor": "#F5F6F9",
        "plot_bgcolor": "#F5F6F9",
        "template": {
         "data": {
          "bar": [
           {
            "error_x": {
             "color": "#2a3f5f"
            },
            "error_y": {
             "color": "#2a3f5f"
            },
            "marker": {
             "line": {
              "color": "#E5ECF6",
              "width": 0.5
             },
             "pattern": {
              "fillmode": "overlay",
              "size": 10,
              "solidity": 0.2
             }
            },
            "type": "bar"
           }
          ],
          "barpolar": [
           {
            "marker": {
             "line": {
              "color": "#E5ECF6",
              "width": 0.5
             },
             "pattern": {
              "fillmode": "overlay",
              "size": 10,
              "solidity": 0.2
             }
            },
            "type": "barpolar"
           }
          ],
          "carpet": [
           {
            "aaxis": {
             "endlinecolor": "#2a3f5f",
             "gridcolor": "white",
             "linecolor": "white",
             "minorgridcolor": "white",
             "startlinecolor": "#2a3f5f"
            },
            "baxis": {
             "endlinecolor": "#2a3f5f",
             "gridcolor": "white",
             "linecolor": "white",
             "minorgridcolor": "white",
             "startlinecolor": "#2a3f5f"
            },
            "type": "carpet"
           }
          ],
          "choropleth": [
           {
            "colorbar": {
             "outlinewidth": 0,
             "ticks": ""
            },
            "type": "choropleth"
           }
          ],
          "contour": [
           {
            "colorbar": {
             "outlinewidth": 0,
             "ticks": ""
            },
            "colorscale": [
             [
              0,
              "#0d0887"
             ],
             [
              0.1111111111111111,
              "#46039f"
             ],
             [
              0.2222222222222222,
              "#7201a8"
             ],
             [
              0.3333333333333333,
              "#9c179e"
             ],
             [
              0.4444444444444444,
              "#bd3786"
             ],
             [
              0.5555555555555556,
              "#d8576b"
             ],
             [
              0.6666666666666666,
              "#ed7953"
             ],
             [
              0.7777777777777778,
              "#fb9f3a"
             ],
             [
              0.8888888888888888,
              "#fdca26"
             ],
             [
              1,
              "#f0f921"
             ]
            ],
            "type": "contour"
           }
          ],
          "contourcarpet": [
           {
            "colorbar": {
             "outlinewidth": 0,
             "ticks": ""
            },
            "type": "contourcarpet"
           }
          ],
          "heatmap": [
           {
            "colorbar": {
             "outlinewidth": 0,
             "ticks": ""
            },
            "colorscale": [
             [
              0,
              "#0d0887"
             ],
             [
              0.1111111111111111,
              "#46039f"
             ],
             [
              0.2222222222222222,
              "#7201a8"
             ],
             [
              0.3333333333333333,
              "#9c179e"
             ],
             [
              0.4444444444444444,
              "#bd3786"
             ],
             [
              0.5555555555555556,
              "#d8576b"
             ],
             [
              0.6666666666666666,
              "#ed7953"
             ],
             [
              0.7777777777777778,
              "#fb9f3a"
             ],
             [
              0.8888888888888888,
              "#fdca26"
             ],
             [
              1,
              "#f0f921"
             ]
            ],
            "type": "heatmap"
           }
          ],
          "heatmapgl": [
           {
            "colorbar": {
             "outlinewidth": 0,
             "ticks": ""
            },
            "colorscale": [
             [
              0,
              "#0d0887"
             ],
             [
              0.1111111111111111,
              "#46039f"
             ],
             [
              0.2222222222222222,
              "#7201a8"
             ],
             [
              0.3333333333333333,
              "#9c179e"
             ],
             [
              0.4444444444444444,
              "#bd3786"
             ],
             [
              0.5555555555555556,
              "#d8576b"
             ],
             [
              0.6666666666666666,
              "#ed7953"
             ],
             [
              0.7777777777777778,
              "#fb9f3a"
             ],
             [
              0.8888888888888888,
              "#fdca26"
             ],
             [
              1,
              "#f0f921"
             ]
            ],
            "type": "heatmapgl"
           }
          ],
          "histogram": [
           {
            "marker": {
             "pattern": {
              "fillmode": "overlay",
              "size": 10,
              "solidity": 0.2
             }
            },
            "type": "histogram"
           }
          ],
          "histogram2d": [
           {
            "colorbar": {
             "outlinewidth": 0,
             "ticks": ""
            },
            "colorscale": [
             [
              0,
              "#0d0887"
             ],
             [
              0.1111111111111111,
              "#46039f"
             ],
             [
              0.2222222222222222,
              "#7201a8"
             ],
             [
              0.3333333333333333,
              "#9c179e"
             ],
             [
              0.4444444444444444,
              "#bd3786"
             ],
             [
              0.5555555555555556,
              "#d8576b"
             ],
             [
              0.6666666666666666,
              "#ed7953"
             ],
             [
              0.7777777777777778,
              "#fb9f3a"
             ],
             [
              0.8888888888888888,
              "#fdca26"
             ],
             [
              1,
              "#f0f921"
             ]
            ],
            "type": "histogram2d"
           }
          ],
          "histogram2dcontour": [
           {
            "colorbar": {
             "outlinewidth": 0,
             "ticks": ""
            },
            "colorscale": [
             [
              0,
              "#0d0887"
             ],
             [
              0.1111111111111111,
              "#46039f"
             ],
             [
              0.2222222222222222,
              "#7201a8"
             ],
             [
              0.3333333333333333,
              "#9c179e"
             ],
             [
              0.4444444444444444,
              "#bd3786"
             ],
             [
              0.5555555555555556,
              "#d8576b"
             ],
             [
              0.6666666666666666,
              "#ed7953"
             ],
             [
              0.7777777777777778,
              "#fb9f3a"
             ],
             [
              0.8888888888888888,
              "#fdca26"
             ],
             [
              1,
              "#f0f921"
             ]
            ],
            "type": "histogram2dcontour"
           }
          ],
          "mesh3d": [
           {
            "colorbar": {
             "outlinewidth": 0,
             "ticks": ""
            },
            "type": "mesh3d"
           }
          ],
          "parcoords": [
           {
            "line": {
             "colorbar": {
              "outlinewidth": 0,
              "ticks": ""
             }
            },
            "type": "parcoords"
           }
          ],
          "pie": [
           {
            "automargin": true,
            "type": "pie"
           }
          ],
          "scatter": [
           {
            "fillpattern": {
             "fillmode": "overlay",
             "size": 10,
             "solidity": 0.2
            },
            "type": "scatter"
           }
          ],
          "scatter3d": [
           {
            "line": {
             "colorbar": {
              "outlinewidth": 0,
              "ticks": ""
             }
            },
            "marker": {
             "colorbar": {
              "outlinewidth": 0,
              "ticks": ""
             }
            },
            "type": "scatter3d"
           }
          ],
          "scattercarpet": [
           {
            "marker": {
             "colorbar": {
              "outlinewidth": 0,
              "ticks": ""
             }
            },
            "type": "scattercarpet"
           }
          ],
          "scattergeo": [
           {
            "marker": {
             "colorbar": {
              "outlinewidth": 0,
              "ticks": ""
             }
            },
            "type": "scattergeo"
           }
          ],
          "scattergl": [
           {
            "marker": {
             "colorbar": {
              "outlinewidth": 0,
              "ticks": ""
             }
            },
            "type": "scattergl"
           }
          ],
          "scattermapbox": [
           {
            "marker": {
             "colorbar": {
              "outlinewidth": 0,
              "ticks": ""
             }
            },
            "type": "scattermapbox"
           }
          ],
          "scatterpolar": [
           {
            "marker": {
             "colorbar": {
              "outlinewidth": 0,
              "ticks": ""
             }
            },
            "type": "scatterpolar"
           }
          ],
          "scatterpolargl": [
           {
            "marker": {
             "colorbar": {
              "outlinewidth": 0,
              "ticks": ""
             }
            },
            "type": "scatterpolargl"
           }
          ],
          "scatterternary": [
           {
            "marker": {
             "colorbar": {
              "outlinewidth": 0,
              "ticks": ""
             }
            },
            "type": "scatterternary"
           }
          ],
          "surface": [
           {
            "colorbar": {
             "outlinewidth": 0,
             "ticks": ""
            },
            "colorscale": [
             [
              0,
              "#0d0887"
             ],
             [
              0.1111111111111111,
              "#46039f"
             ],
             [
              0.2222222222222222,
              "#7201a8"
             ],
             [
              0.3333333333333333,
              "#9c179e"
             ],
             [
              0.4444444444444444,
              "#bd3786"
             ],
             [
              0.5555555555555556,
              "#d8576b"
             ],
             [
              0.6666666666666666,
              "#ed7953"
             ],
             [
              0.7777777777777778,
              "#fb9f3a"
             ],
             [
              0.8888888888888888,
              "#fdca26"
             ],
             [
              1,
              "#f0f921"
             ]
            ],
            "type": "surface"
           }
          ],
          "table": [
           {
            "cells": {
             "fill": {
              "color": "#EBF0F8"
             },
             "line": {
              "color": "white"
             }
            },
            "header": {
             "fill": {
              "color": "#C8D4E3"
             },
             "line": {
              "color": "white"
             }
            },
            "type": "table"
           }
          ]
         },
         "layout": {
          "annotationdefaults": {
           "arrowcolor": "#2a3f5f",
           "arrowhead": 0,
           "arrowwidth": 1
          },
          "autotypenumbers": "strict",
          "coloraxis": {
           "colorbar": {
            "outlinewidth": 0,
            "ticks": ""
           }
          },
          "colorscale": {
           "diverging": [
            [
             0,
             "#8e0152"
            ],
            [
             0.1,
             "#c51b7d"
            ],
            [
             0.2,
             "#de77ae"
            ],
            [
             0.3,
             "#f1b6da"
            ],
            [
             0.4,
             "#fde0ef"
            ],
            [
             0.5,
             "#f7f7f7"
            ],
            [
             0.6,
             "#e6f5d0"
            ],
            [
             0.7,
             "#b8e186"
            ],
            [
             0.8,
             "#7fbc41"
            ],
            [
             0.9,
             "#4d9221"
            ],
            [
             1,
             "#276419"
            ]
           ],
           "sequential": [
            [
             0,
             "#0d0887"
            ],
            [
             0.1111111111111111,
             "#46039f"
            ],
            [
             0.2222222222222222,
             "#7201a8"
            ],
            [
             0.3333333333333333,
             "#9c179e"
            ],
            [
             0.4444444444444444,
             "#bd3786"
            ],
            [
             0.5555555555555556,
             "#d8576b"
            ],
            [
             0.6666666666666666,
             "#ed7953"
            ],
            [
             0.7777777777777778,
             "#fb9f3a"
            ],
            [
             0.8888888888888888,
             "#fdca26"
            ],
            [
             1,
             "#f0f921"
            ]
           ],
           "sequentialminus": [
            [
             0,
             "#0d0887"
            ],
            [
             0.1111111111111111,
             "#46039f"
            ],
            [
             0.2222222222222222,
             "#7201a8"
            ],
            [
             0.3333333333333333,
             "#9c179e"
            ],
            [
             0.4444444444444444,
             "#bd3786"
            ],
            [
             0.5555555555555556,
             "#d8576b"
            ],
            [
             0.6666666666666666,
             "#ed7953"
            ],
            [
             0.7777777777777778,
             "#fb9f3a"
            ],
            [
             0.8888888888888888,
             "#fdca26"
            ],
            [
             1,
             "#f0f921"
            ]
           ]
          },
          "colorway": [
           "#636efa",
           "#EF553B",
           "#00cc96",
           "#ab63fa",
           "#FFA15A",
           "#19d3f3",
           "#FF6692",
           "#B6E880",
           "#FF97FF",
           "#FECB52"
          ],
          "font": {
           "color": "#2a3f5f"
          },
          "geo": {
           "bgcolor": "white",
           "lakecolor": "white",
           "landcolor": "#E5ECF6",
           "showlakes": true,
           "showland": true,
           "subunitcolor": "white"
          },
          "hoverlabel": {
           "align": "left"
          },
          "hovermode": "closest",
          "mapbox": {
           "style": "light"
          },
          "paper_bgcolor": "white",
          "plot_bgcolor": "#E5ECF6",
          "polar": {
           "angularaxis": {
            "gridcolor": "white",
            "linecolor": "white",
            "ticks": ""
           },
           "bgcolor": "#E5ECF6",
           "radialaxis": {
            "gridcolor": "white",
            "linecolor": "white",
            "ticks": ""
           }
          },
          "scene": {
           "xaxis": {
            "backgroundcolor": "#E5ECF6",
            "gridcolor": "white",
            "gridwidth": 2,
            "linecolor": "white",
            "showbackground": true,
            "ticks": "",
            "zerolinecolor": "white"
           },
           "yaxis": {
            "backgroundcolor": "#E5ECF6",
            "gridcolor": "white",
            "gridwidth": 2,
            "linecolor": "white",
            "showbackground": true,
            "ticks": "",
            "zerolinecolor": "white"
           },
           "zaxis": {
            "backgroundcolor": "#E5ECF6",
            "gridcolor": "white",
            "gridwidth": 2,
            "linecolor": "white",
            "showbackground": true,
            "ticks": "",
            "zerolinecolor": "white"
           }
          },
          "shapedefaults": {
           "line": {
            "color": "#2a3f5f"
           }
          },
          "ternary": {
           "aaxis": {
            "gridcolor": "white",
            "linecolor": "white",
            "ticks": ""
           },
           "baxis": {
            "gridcolor": "white",
            "linecolor": "white",
            "ticks": ""
           },
           "bgcolor": "#E5ECF6",
           "caxis": {
            "gridcolor": "white",
            "linecolor": "white",
            "ticks": ""
           }
          },
          "title": {
           "x": 0.05
          },
          "xaxis": {
           "automargin": true,
           "gridcolor": "white",
           "linecolor": "white",
           "ticks": "",
           "title": {
            "standoff": 15
           },
           "zerolinecolor": "white",
           "zerolinewidth": 2
          },
          "yaxis": {
           "automargin": true,
           "gridcolor": "white",
           "linecolor": "white",
           "ticks": "",
           "title": {
            "standoff": 15
           },
           "zerolinecolor": "white",
           "zerolinewidth": 2
          }
         }
        },
        "title": {
         "font": {
          "color": "#4D5663"
         }
        },
        "xaxis": {
         "gridcolor": "#E1E5ED",
         "showgrid": true,
         "tickfont": {
          "color": "#4D5663"
         },
         "title": {
          "font": {
           "color": "#4D5663"
          },
          "text": ""
         },
         "zerolinecolor": "#E1E5ED"
        },
        "yaxis": {
         "gridcolor": "#E1E5ED",
         "showgrid": true,
         "tickfont": {
          "color": "#4D5663"
         },
         "title": {
          "font": {
           "color": "#4D5663"
          },
          "text": ""
         },
         "zerolinecolor": "#E1E5ED"
        }
       }
      },
      "text/html": [
       "<div>                            <div id=\"76a47112-3a3d-4595-83ec-da2e7ef9c9b3\" class=\"plotly-graph-div\" style=\"height:525px; width:100%;\"></div>            <script type=\"text/javascript\">                require([\"plotly\"], function(Plotly) {                    window.PLOTLYENV=window.PLOTLYENV || {};\n",
       "                    window.PLOTLYENV.BASE_URL='https://plot.ly';                                    if (document.getElementById(\"76a47112-3a3d-4595-83ec-da2e7ef9c9b3\")) {                    Plotly.newPlot(                        \"76a47112-3a3d-4595-83ec-da2e7ef9c9b3\",                        [{\"marker\":{\"color\":\"rgba(255, 153, 51, 0.6)\",\"line\":{\"color\":\"rgba(255, 153, 51, 1.0)\",\"width\":1}},\"name\":\"Values\",\"orientation\":\"v\",\"text\":\"\",\"x\":[\"A\",\"B\",\"C\"],\"y\":[32,43,50],\"type\":\"bar\"}],                        {\"legend\":{\"bgcolor\":\"#F5F6F9\",\"font\":{\"color\":\"#4D5663\"}},\"paper_bgcolor\":\"#F5F6F9\",\"plot_bgcolor\":\"#F5F6F9\",\"template\":{\"data\":{\"barpolar\":[{\"marker\":{\"line\":{\"color\":\"#E5ECF6\",\"width\":0.5},\"pattern\":{\"fillmode\":\"overlay\",\"size\":10,\"solidity\":0.2}},\"type\":\"barpolar\"}],\"bar\":[{\"error_x\":{\"color\":\"#2a3f5f\"},\"error_y\":{\"color\":\"#2a3f5f\"},\"marker\":{\"line\":{\"color\":\"#E5ECF6\",\"width\":0.5},\"pattern\":{\"fillmode\":\"overlay\",\"size\":10,\"solidity\":0.2}},\"type\":\"bar\"}],\"carpet\":[{\"aaxis\":{\"endlinecolor\":\"#2a3f5f\",\"gridcolor\":\"white\",\"linecolor\":\"white\",\"minorgridcolor\":\"white\",\"startlinecolor\":\"#2a3f5f\"},\"baxis\":{\"endlinecolor\":\"#2a3f5f\",\"gridcolor\":\"white\",\"linecolor\":\"white\",\"minorgridcolor\":\"white\",\"startlinecolor\":\"#2a3f5f\"},\"type\":\"carpet\"}],\"choropleth\":[{\"colorbar\":{\"outlinewidth\":0,\"ticks\":\"\"},\"type\":\"choropleth\"}],\"contourcarpet\":[{\"colorbar\":{\"outlinewidth\":0,\"ticks\":\"\"},\"type\":\"contourcarpet\"}],\"contour\":[{\"colorbar\":{\"outlinewidth\":0,\"ticks\":\"\"},\"colorscale\":[[0.0,\"#0d0887\"],[0.1111111111111111,\"#46039f\"],[0.2222222222222222,\"#7201a8\"],[0.3333333333333333,\"#9c179e\"],[0.4444444444444444,\"#bd3786\"],[0.5555555555555556,\"#d8576b\"],[0.6666666666666666,\"#ed7953\"],[0.7777777777777778,\"#fb9f3a\"],[0.8888888888888888,\"#fdca26\"],[1.0,\"#f0f921\"]],\"type\":\"contour\"}],\"heatmapgl\":[{\"colorbar\":{\"outlinewidth\":0,\"ticks\":\"\"},\"colorscale\":[[0.0,\"#0d0887\"],[0.1111111111111111,\"#46039f\"],[0.2222222222222222,\"#7201a8\"],[0.3333333333333333,\"#9c179e\"],[0.4444444444444444,\"#bd3786\"],[0.5555555555555556,\"#d8576b\"],[0.6666666666666666,\"#ed7953\"],[0.7777777777777778,\"#fb9f3a\"],[0.8888888888888888,\"#fdca26\"],[1.0,\"#f0f921\"]],\"type\":\"heatmapgl\"}],\"heatmap\":[{\"colorbar\":{\"outlinewidth\":0,\"ticks\":\"\"},\"colorscale\":[[0.0,\"#0d0887\"],[0.1111111111111111,\"#46039f\"],[0.2222222222222222,\"#7201a8\"],[0.3333333333333333,\"#9c179e\"],[0.4444444444444444,\"#bd3786\"],[0.5555555555555556,\"#d8576b\"],[0.6666666666666666,\"#ed7953\"],[0.7777777777777778,\"#fb9f3a\"],[0.8888888888888888,\"#fdca26\"],[1.0,\"#f0f921\"]],\"type\":\"heatmap\"}],\"histogram2dcontour\":[{\"colorbar\":{\"outlinewidth\":0,\"ticks\":\"\"},\"colorscale\":[[0.0,\"#0d0887\"],[0.1111111111111111,\"#46039f\"],[0.2222222222222222,\"#7201a8\"],[0.3333333333333333,\"#9c179e\"],[0.4444444444444444,\"#bd3786\"],[0.5555555555555556,\"#d8576b\"],[0.6666666666666666,\"#ed7953\"],[0.7777777777777778,\"#fb9f3a\"],[0.8888888888888888,\"#fdca26\"],[1.0,\"#f0f921\"]],\"type\":\"histogram2dcontour\"}],\"histogram2d\":[{\"colorbar\":{\"outlinewidth\":0,\"ticks\":\"\"},\"colorscale\":[[0.0,\"#0d0887\"],[0.1111111111111111,\"#46039f\"],[0.2222222222222222,\"#7201a8\"],[0.3333333333333333,\"#9c179e\"],[0.4444444444444444,\"#bd3786\"],[0.5555555555555556,\"#d8576b\"],[0.6666666666666666,\"#ed7953\"],[0.7777777777777778,\"#fb9f3a\"],[0.8888888888888888,\"#fdca26\"],[1.0,\"#f0f921\"]],\"type\":\"histogram2d\"}],\"histogram\":[{\"marker\":{\"pattern\":{\"fillmode\":\"overlay\",\"size\":10,\"solidity\":0.2}},\"type\":\"histogram\"}],\"mesh3d\":[{\"colorbar\":{\"outlinewidth\":0,\"ticks\":\"\"},\"type\":\"mesh3d\"}],\"parcoords\":[{\"line\":{\"colorbar\":{\"outlinewidth\":0,\"ticks\":\"\"}},\"type\":\"parcoords\"}],\"pie\":[{\"automargin\":true,\"type\":\"pie\"}],\"scatter3d\":[{\"line\":{\"colorbar\":{\"outlinewidth\":0,\"ticks\":\"\"}},\"marker\":{\"colorbar\":{\"outlinewidth\":0,\"ticks\":\"\"}},\"type\":\"scatter3d\"}],\"scattercarpet\":[{\"marker\":{\"colorbar\":{\"outlinewidth\":0,\"ticks\":\"\"}},\"type\":\"scattercarpet\"}],\"scattergeo\":[{\"marker\":{\"colorbar\":{\"outlinewidth\":0,\"ticks\":\"\"}},\"type\":\"scattergeo\"}],\"scattergl\":[{\"marker\":{\"colorbar\":{\"outlinewidth\":0,\"ticks\":\"\"}},\"type\":\"scattergl\"}],\"scattermapbox\":[{\"marker\":{\"colorbar\":{\"outlinewidth\":0,\"ticks\":\"\"}},\"type\":\"scattermapbox\"}],\"scatterpolargl\":[{\"marker\":{\"colorbar\":{\"outlinewidth\":0,\"ticks\":\"\"}},\"type\":\"scatterpolargl\"}],\"scatterpolar\":[{\"marker\":{\"colorbar\":{\"outlinewidth\":0,\"ticks\":\"\"}},\"type\":\"scatterpolar\"}],\"scatter\":[{\"fillpattern\":{\"fillmode\":\"overlay\",\"size\":10,\"solidity\":0.2},\"type\":\"scatter\"}],\"scatterternary\":[{\"marker\":{\"colorbar\":{\"outlinewidth\":0,\"ticks\":\"\"}},\"type\":\"scatterternary\"}],\"surface\":[{\"colorbar\":{\"outlinewidth\":0,\"ticks\":\"\"},\"colorscale\":[[0.0,\"#0d0887\"],[0.1111111111111111,\"#46039f\"],[0.2222222222222222,\"#7201a8\"],[0.3333333333333333,\"#9c179e\"],[0.4444444444444444,\"#bd3786\"],[0.5555555555555556,\"#d8576b\"],[0.6666666666666666,\"#ed7953\"],[0.7777777777777778,\"#fb9f3a\"],[0.8888888888888888,\"#fdca26\"],[1.0,\"#f0f921\"]],\"type\":\"surface\"}],\"table\":[{\"cells\":{\"fill\":{\"color\":\"#EBF0F8\"},\"line\":{\"color\":\"white\"}},\"header\":{\"fill\":{\"color\":\"#C8D4E3\"},\"line\":{\"color\":\"white\"}},\"type\":\"table\"}]},\"layout\":{\"annotationdefaults\":{\"arrowcolor\":\"#2a3f5f\",\"arrowhead\":0,\"arrowwidth\":1},\"autotypenumbers\":\"strict\",\"coloraxis\":{\"colorbar\":{\"outlinewidth\":0,\"ticks\":\"\"}},\"colorscale\":{\"diverging\":[[0,\"#8e0152\"],[0.1,\"#c51b7d\"],[0.2,\"#de77ae\"],[0.3,\"#f1b6da\"],[0.4,\"#fde0ef\"],[0.5,\"#f7f7f7\"],[0.6,\"#e6f5d0\"],[0.7,\"#b8e186\"],[0.8,\"#7fbc41\"],[0.9,\"#4d9221\"],[1,\"#276419\"]],\"sequential\":[[0.0,\"#0d0887\"],[0.1111111111111111,\"#46039f\"],[0.2222222222222222,\"#7201a8\"],[0.3333333333333333,\"#9c179e\"],[0.4444444444444444,\"#bd3786\"],[0.5555555555555556,\"#d8576b\"],[0.6666666666666666,\"#ed7953\"],[0.7777777777777778,\"#fb9f3a\"],[0.8888888888888888,\"#fdca26\"],[1.0,\"#f0f921\"]],\"sequentialminus\":[[0.0,\"#0d0887\"],[0.1111111111111111,\"#46039f\"],[0.2222222222222222,\"#7201a8\"],[0.3333333333333333,\"#9c179e\"],[0.4444444444444444,\"#bd3786\"],[0.5555555555555556,\"#d8576b\"],[0.6666666666666666,\"#ed7953\"],[0.7777777777777778,\"#fb9f3a\"],[0.8888888888888888,\"#fdca26\"],[1.0,\"#f0f921\"]]},\"colorway\":[\"#636efa\",\"#EF553B\",\"#00cc96\",\"#ab63fa\",\"#FFA15A\",\"#19d3f3\",\"#FF6692\",\"#B6E880\",\"#FF97FF\",\"#FECB52\"],\"font\":{\"color\":\"#2a3f5f\"},\"geo\":{\"bgcolor\":\"white\",\"lakecolor\":\"white\",\"landcolor\":\"#E5ECF6\",\"showlakes\":true,\"showland\":true,\"subunitcolor\":\"white\"},\"hoverlabel\":{\"align\":\"left\"},\"hovermode\":\"closest\",\"mapbox\":{\"style\":\"light\"},\"paper_bgcolor\":\"white\",\"plot_bgcolor\":\"#E5ECF6\",\"polar\":{\"angularaxis\":{\"gridcolor\":\"white\",\"linecolor\":\"white\",\"ticks\":\"\"},\"bgcolor\":\"#E5ECF6\",\"radialaxis\":{\"gridcolor\":\"white\",\"linecolor\":\"white\",\"ticks\":\"\"}},\"scene\":{\"xaxis\":{\"backgroundcolor\":\"#E5ECF6\",\"gridcolor\":\"white\",\"gridwidth\":2,\"linecolor\":\"white\",\"showbackground\":true,\"ticks\":\"\",\"zerolinecolor\":\"white\"},\"yaxis\":{\"backgroundcolor\":\"#E5ECF6\",\"gridcolor\":\"white\",\"gridwidth\":2,\"linecolor\":\"white\",\"showbackground\":true,\"ticks\":\"\",\"zerolinecolor\":\"white\"},\"zaxis\":{\"backgroundcolor\":\"#E5ECF6\",\"gridcolor\":\"white\",\"gridwidth\":2,\"linecolor\":\"white\",\"showbackground\":true,\"ticks\":\"\",\"zerolinecolor\":\"white\"}},\"shapedefaults\":{\"line\":{\"color\":\"#2a3f5f\"}},\"ternary\":{\"aaxis\":{\"gridcolor\":\"white\",\"linecolor\":\"white\",\"ticks\":\"\"},\"baxis\":{\"gridcolor\":\"white\",\"linecolor\":\"white\",\"ticks\":\"\"},\"bgcolor\":\"#E5ECF6\",\"caxis\":{\"gridcolor\":\"white\",\"linecolor\":\"white\",\"ticks\":\"\"}},\"title\":{\"x\":0.05},\"xaxis\":{\"automargin\":true,\"gridcolor\":\"white\",\"linecolor\":\"white\",\"ticks\":\"\",\"title\":{\"standoff\":15},\"zerolinecolor\":\"white\",\"zerolinewidth\":2},\"yaxis\":{\"automargin\":true,\"gridcolor\":\"white\",\"linecolor\":\"white\",\"ticks\":\"\",\"title\":{\"standoff\":15},\"zerolinecolor\":\"white\",\"zerolinewidth\":2}}},\"title\":{\"font\":{\"color\":\"#4D5663\"}},\"xaxis\":{\"gridcolor\":\"#E1E5ED\",\"showgrid\":true,\"tickfont\":{\"color\":\"#4D5663\"},\"title\":{\"font\":{\"color\":\"#4D5663\"},\"text\":\"\"},\"zerolinecolor\":\"#E1E5ED\"},\"yaxis\":{\"gridcolor\":\"#E1E5ED\",\"showgrid\":true,\"tickfont\":{\"color\":\"#4D5663\"},\"title\":{\"font\":{\"color\":\"#4D5663\"},\"text\":\"\"},\"zerolinecolor\":\"#E1E5ED\"}},                        {\"showLink\": true, \"linkText\": \"Export to plot.ly\", \"plotlyServerURL\": \"https://plot.ly\", \"responsive\": true}                    ).then(function(){\n",
       "                            \n",
       "var gd = document.getElementById('76a47112-3a3d-4595-83ec-da2e7ef9c9b3');\n",
       "var x = new MutationObserver(function (mutations, observer) {{\n",
       "        var display = window.getComputedStyle(gd).display;\n",
       "        if (!display || display === 'none') {{\n",
       "            console.log([gd, 'removed!']);\n",
       "            Plotly.purge(gd);\n",
       "            observer.disconnect();\n",
       "        }}\n",
       "}});\n",
       "\n",
       "// Listen for the removal of the full notebook cells\n",
       "var notebookContainer = gd.closest('#notebook-container');\n",
       "if (notebookContainer) {{\n",
       "    x.observe(notebookContainer, {childList: true});\n",
       "}}\n",
       "\n",
       "// Listen for the clearing of the current output cell\n",
       "var outputEl = gd.closest('.output');\n",
       "if (outputEl) {{\n",
       "    x.observe(outputEl, {childList: true});\n",
       "}}\n",
       "\n",
       "                        })                };                });            </script>        </div>"
      ]
     },
     "metadata": {},
     "output_type": "display_data"
    }
   ],
   "source": [
    "df2.iplot(kind='bar',x='Category',y='Values')"
   ]
  },
  {
   "cell_type": "code",
   "execution_count": 13,
   "metadata": {},
   "outputs": [
    {
     "data": {
      "application/vnd.plotly.v1+json": {
       "config": {
        "linkText": "Export to plot.ly",
        "plotlyServerURL": "https://plot.ly",
        "showLink": true
       },
       "data": [
        {
         "marker": {
          "color": "rgba(255, 153, 51, 0.6)",
          "line": {
           "color": "rgba(255, 153, 51, 1.0)",
           "width": 1
          }
         },
         "name": "None",
         "orientation": "v",
         "text": "",
         "type": "bar",
         "x": [
          "A",
          "B",
          "C",
          "D"
         ],
         "y": [
          100,
          100,
          100,
          100
         ]
        }
       ],
       "layout": {
        "legend": {
         "bgcolor": "#F5F6F9",
         "font": {
          "color": "#4D5663"
         }
        },
        "paper_bgcolor": "#F5F6F9",
        "plot_bgcolor": "#F5F6F9",
        "template": {
         "data": {
          "bar": [
           {
            "error_x": {
             "color": "#2a3f5f"
            },
            "error_y": {
             "color": "#2a3f5f"
            },
            "marker": {
             "line": {
              "color": "#E5ECF6",
              "width": 0.5
             },
             "pattern": {
              "fillmode": "overlay",
              "size": 10,
              "solidity": 0.2
             }
            },
            "type": "bar"
           }
          ],
          "barpolar": [
           {
            "marker": {
             "line": {
              "color": "#E5ECF6",
              "width": 0.5
             },
             "pattern": {
              "fillmode": "overlay",
              "size": 10,
              "solidity": 0.2
             }
            },
            "type": "barpolar"
           }
          ],
          "carpet": [
           {
            "aaxis": {
             "endlinecolor": "#2a3f5f",
             "gridcolor": "white",
             "linecolor": "white",
             "minorgridcolor": "white",
             "startlinecolor": "#2a3f5f"
            },
            "baxis": {
             "endlinecolor": "#2a3f5f",
             "gridcolor": "white",
             "linecolor": "white",
             "minorgridcolor": "white",
             "startlinecolor": "#2a3f5f"
            },
            "type": "carpet"
           }
          ],
          "choropleth": [
           {
            "colorbar": {
             "outlinewidth": 0,
             "ticks": ""
            },
            "type": "choropleth"
           }
          ],
          "contour": [
           {
            "colorbar": {
             "outlinewidth": 0,
             "ticks": ""
            },
            "colorscale": [
             [
              0,
              "#0d0887"
             ],
             [
              0.1111111111111111,
              "#46039f"
             ],
             [
              0.2222222222222222,
              "#7201a8"
             ],
             [
              0.3333333333333333,
              "#9c179e"
             ],
             [
              0.4444444444444444,
              "#bd3786"
             ],
             [
              0.5555555555555556,
              "#d8576b"
             ],
             [
              0.6666666666666666,
              "#ed7953"
             ],
             [
              0.7777777777777778,
              "#fb9f3a"
             ],
             [
              0.8888888888888888,
              "#fdca26"
             ],
             [
              1,
              "#f0f921"
             ]
            ],
            "type": "contour"
           }
          ],
          "contourcarpet": [
           {
            "colorbar": {
             "outlinewidth": 0,
             "ticks": ""
            },
            "type": "contourcarpet"
           }
          ],
          "heatmap": [
           {
            "colorbar": {
             "outlinewidth": 0,
             "ticks": ""
            },
            "colorscale": [
             [
              0,
              "#0d0887"
             ],
             [
              0.1111111111111111,
              "#46039f"
             ],
             [
              0.2222222222222222,
              "#7201a8"
             ],
             [
              0.3333333333333333,
              "#9c179e"
             ],
             [
              0.4444444444444444,
              "#bd3786"
             ],
             [
              0.5555555555555556,
              "#d8576b"
             ],
             [
              0.6666666666666666,
              "#ed7953"
             ],
             [
              0.7777777777777778,
              "#fb9f3a"
             ],
             [
              0.8888888888888888,
              "#fdca26"
             ],
             [
              1,
              "#f0f921"
             ]
            ],
            "type": "heatmap"
           }
          ],
          "heatmapgl": [
           {
            "colorbar": {
             "outlinewidth": 0,
             "ticks": ""
            },
            "colorscale": [
             [
              0,
              "#0d0887"
             ],
             [
              0.1111111111111111,
              "#46039f"
             ],
             [
              0.2222222222222222,
              "#7201a8"
             ],
             [
              0.3333333333333333,
              "#9c179e"
             ],
             [
              0.4444444444444444,
              "#bd3786"
             ],
             [
              0.5555555555555556,
              "#d8576b"
             ],
             [
              0.6666666666666666,
              "#ed7953"
             ],
             [
              0.7777777777777778,
              "#fb9f3a"
             ],
             [
              0.8888888888888888,
              "#fdca26"
             ],
             [
              1,
              "#f0f921"
             ]
            ],
            "type": "heatmapgl"
           }
          ],
          "histogram": [
           {
            "marker": {
             "pattern": {
              "fillmode": "overlay",
              "size": 10,
              "solidity": 0.2
             }
            },
            "type": "histogram"
           }
          ],
          "histogram2d": [
           {
            "colorbar": {
             "outlinewidth": 0,
             "ticks": ""
            },
            "colorscale": [
             [
              0,
              "#0d0887"
             ],
             [
              0.1111111111111111,
              "#46039f"
             ],
             [
              0.2222222222222222,
              "#7201a8"
             ],
             [
              0.3333333333333333,
              "#9c179e"
             ],
             [
              0.4444444444444444,
              "#bd3786"
             ],
             [
              0.5555555555555556,
              "#d8576b"
             ],
             [
              0.6666666666666666,
              "#ed7953"
             ],
             [
              0.7777777777777778,
              "#fb9f3a"
             ],
             [
              0.8888888888888888,
              "#fdca26"
             ],
             [
              1,
              "#f0f921"
             ]
            ],
            "type": "histogram2d"
           }
          ],
          "histogram2dcontour": [
           {
            "colorbar": {
             "outlinewidth": 0,
             "ticks": ""
            },
            "colorscale": [
             [
              0,
              "#0d0887"
             ],
             [
              0.1111111111111111,
              "#46039f"
             ],
             [
              0.2222222222222222,
              "#7201a8"
             ],
             [
              0.3333333333333333,
              "#9c179e"
             ],
             [
              0.4444444444444444,
              "#bd3786"
             ],
             [
              0.5555555555555556,
              "#d8576b"
             ],
             [
              0.6666666666666666,
              "#ed7953"
             ],
             [
              0.7777777777777778,
              "#fb9f3a"
             ],
             [
              0.8888888888888888,
              "#fdca26"
             ],
             [
              1,
              "#f0f921"
             ]
            ],
            "type": "histogram2dcontour"
           }
          ],
          "mesh3d": [
           {
            "colorbar": {
             "outlinewidth": 0,
             "ticks": ""
            },
            "type": "mesh3d"
           }
          ],
          "parcoords": [
           {
            "line": {
             "colorbar": {
              "outlinewidth": 0,
              "ticks": ""
             }
            },
            "type": "parcoords"
           }
          ],
          "pie": [
           {
            "automargin": true,
            "type": "pie"
           }
          ],
          "scatter": [
           {
            "fillpattern": {
             "fillmode": "overlay",
             "size": 10,
             "solidity": 0.2
            },
            "type": "scatter"
           }
          ],
          "scatter3d": [
           {
            "line": {
             "colorbar": {
              "outlinewidth": 0,
              "ticks": ""
             }
            },
            "marker": {
             "colorbar": {
              "outlinewidth": 0,
              "ticks": ""
             }
            },
            "type": "scatter3d"
           }
          ],
          "scattercarpet": [
           {
            "marker": {
             "colorbar": {
              "outlinewidth": 0,
              "ticks": ""
             }
            },
            "type": "scattercarpet"
           }
          ],
          "scattergeo": [
           {
            "marker": {
             "colorbar": {
              "outlinewidth": 0,
              "ticks": ""
             }
            },
            "type": "scattergeo"
           }
          ],
          "scattergl": [
           {
            "marker": {
             "colorbar": {
              "outlinewidth": 0,
              "ticks": ""
             }
            },
            "type": "scattergl"
           }
          ],
          "scattermapbox": [
           {
            "marker": {
             "colorbar": {
              "outlinewidth": 0,
              "ticks": ""
             }
            },
            "type": "scattermapbox"
           }
          ],
          "scatterpolar": [
           {
            "marker": {
             "colorbar": {
              "outlinewidth": 0,
              "ticks": ""
             }
            },
            "type": "scatterpolar"
           }
          ],
          "scatterpolargl": [
           {
            "marker": {
             "colorbar": {
              "outlinewidth": 0,
              "ticks": ""
             }
            },
            "type": "scatterpolargl"
           }
          ],
          "scatterternary": [
           {
            "marker": {
             "colorbar": {
              "outlinewidth": 0,
              "ticks": ""
             }
            },
            "type": "scatterternary"
           }
          ],
          "surface": [
           {
            "colorbar": {
             "outlinewidth": 0,
             "ticks": ""
            },
            "colorscale": [
             [
              0,
              "#0d0887"
             ],
             [
              0.1111111111111111,
              "#46039f"
             ],
             [
              0.2222222222222222,
              "#7201a8"
             ],
             [
              0.3333333333333333,
              "#9c179e"
             ],
             [
              0.4444444444444444,
              "#bd3786"
             ],
             [
              0.5555555555555556,
              "#d8576b"
             ],
             [
              0.6666666666666666,
              "#ed7953"
             ],
             [
              0.7777777777777778,
              "#fb9f3a"
             ],
             [
              0.8888888888888888,
              "#fdca26"
             ],
             [
              1,
              "#f0f921"
             ]
            ],
            "type": "surface"
           }
          ],
          "table": [
           {
            "cells": {
             "fill": {
              "color": "#EBF0F8"
             },
             "line": {
              "color": "white"
             }
            },
            "header": {
             "fill": {
              "color": "#C8D4E3"
             },
             "line": {
              "color": "white"
             }
            },
            "type": "table"
           }
          ]
         },
         "layout": {
          "annotationdefaults": {
           "arrowcolor": "#2a3f5f",
           "arrowhead": 0,
           "arrowwidth": 1
          },
          "autotypenumbers": "strict",
          "coloraxis": {
           "colorbar": {
            "outlinewidth": 0,
            "ticks": ""
           }
          },
          "colorscale": {
           "diverging": [
            [
             0,
             "#8e0152"
            ],
            [
             0.1,
             "#c51b7d"
            ],
            [
             0.2,
             "#de77ae"
            ],
            [
             0.3,
             "#f1b6da"
            ],
            [
             0.4,
             "#fde0ef"
            ],
            [
             0.5,
             "#f7f7f7"
            ],
            [
             0.6,
             "#e6f5d0"
            ],
            [
             0.7,
             "#b8e186"
            ],
            [
             0.8,
             "#7fbc41"
            ],
            [
             0.9,
             "#4d9221"
            ],
            [
             1,
             "#276419"
            ]
           ],
           "sequential": [
            [
             0,
             "#0d0887"
            ],
            [
             0.1111111111111111,
             "#46039f"
            ],
            [
             0.2222222222222222,
             "#7201a8"
            ],
            [
             0.3333333333333333,
             "#9c179e"
            ],
            [
             0.4444444444444444,
             "#bd3786"
            ],
            [
             0.5555555555555556,
             "#d8576b"
            ],
            [
             0.6666666666666666,
             "#ed7953"
            ],
            [
             0.7777777777777778,
             "#fb9f3a"
            ],
            [
             0.8888888888888888,
             "#fdca26"
            ],
            [
             1,
             "#f0f921"
            ]
           ],
           "sequentialminus": [
            [
             0,
             "#0d0887"
            ],
            [
             0.1111111111111111,
             "#46039f"
            ],
            [
             0.2222222222222222,
             "#7201a8"
            ],
            [
             0.3333333333333333,
             "#9c179e"
            ],
            [
             0.4444444444444444,
             "#bd3786"
            ],
            [
             0.5555555555555556,
             "#d8576b"
            ],
            [
             0.6666666666666666,
             "#ed7953"
            ],
            [
             0.7777777777777778,
             "#fb9f3a"
            ],
            [
             0.8888888888888888,
             "#fdca26"
            ],
            [
             1,
             "#f0f921"
            ]
           ]
          },
          "colorway": [
           "#636efa",
           "#EF553B",
           "#00cc96",
           "#ab63fa",
           "#FFA15A",
           "#19d3f3",
           "#FF6692",
           "#B6E880",
           "#FF97FF",
           "#FECB52"
          ],
          "font": {
           "color": "#2a3f5f"
          },
          "geo": {
           "bgcolor": "white",
           "lakecolor": "white",
           "landcolor": "#E5ECF6",
           "showlakes": true,
           "showland": true,
           "subunitcolor": "white"
          },
          "hoverlabel": {
           "align": "left"
          },
          "hovermode": "closest",
          "mapbox": {
           "style": "light"
          },
          "paper_bgcolor": "white",
          "plot_bgcolor": "#E5ECF6",
          "polar": {
           "angularaxis": {
            "gridcolor": "white",
            "linecolor": "white",
            "ticks": ""
           },
           "bgcolor": "#E5ECF6",
           "radialaxis": {
            "gridcolor": "white",
            "linecolor": "white",
            "ticks": ""
           }
          },
          "scene": {
           "xaxis": {
            "backgroundcolor": "#E5ECF6",
            "gridcolor": "white",
            "gridwidth": 2,
            "linecolor": "white",
            "showbackground": true,
            "ticks": "",
            "zerolinecolor": "white"
           },
           "yaxis": {
            "backgroundcolor": "#E5ECF6",
            "gridcolor": "white",
            "gridwidth": 2,
            "linecolor": "white",
            "showbackground": true,
            "ticks": "",
            "zerolinecolor": "white"
           },
           "zaxis": {
            "backgroundcolor": "#E5ECF6",
            "gridcolor": "white",
            "gridwidth": 2,
            "linecolor": "white",
            "showbackground": true,
            "ticks": "",
            "zerolinecolor": "white"
           }
          },
          "shapedefaults": {
           "line": {
            "color": "#2a3f5f"
           }
          },
          "ternary": {
           "aaxis": {
            "gridcolor": "white",
            "linecolor": "white",
            "ticks": ""
           },
           "baxis": {
            "gridcolor": "white",
            "linecolor": "white",
            "ticks": ""
           },
           "bgcolor": "#E5ECF6",
           "caxis": {
            "gridcolor": "white",
            "linecolor": "white",
            "ticks": ""
           }
          },
          "title": {
           "x": 0.05
          },
          "xaxis": {
           "automargin": true,
           "gridcolor": "white",
           "linecolor": "white",
           "ticks": "",
           "title": {
            "standoff": 15
           },
           "zerolinecolor": "white",
           "zerolinewidth": 2
          },
          "yaxis": {
           "automargin": true,
           "gridcolor": "white",
           "linecolor": "white",
           "ticks": "",
           "title": {
            "standoff": 15
           },
           "zerolinecolor": "white",
           "zerolinewidth": 2
          }
         }
        },
        "title": {
         "font": {
          "color": "#4D5663"
         }
        },
        "xaxis": {
         "gridcolor": "#E1E5ED",
         "showgrid": true,
         "tickfont": {
          "color": "#4D5663"
         },
         "title": {
          "font": {
           "color": "#4D5663"
          },
          "text": ""
         },
         "zerolinecolor": "#E1E5ED"
        },
        "yaxis": {
         "gridcolor": "#E1E5ED",
         "showgrid": true,
         "tickfont": {
          "color": "#4D5663"
         },
         "title": {
          "font": {
           "color": "#4D5663"
          },
          "text": ""
         },
         "zerolinecolor": "#E1E5ED"
        }
       }
      },
      "text/html": [
       "<div>                            <div id=\"78efdb1e-4b8a-4b2e-85b2-8c4fe542a263\" class=\"plotly-graph-div\" style=\"height:525px; width:100%;\"></div>            <script type=\"text/javascript\">                require([\"plotly\"], function(Plotly) {                    window.PLOTLYENV=window.PLOTLYENV || {};\n",
       "                    window.PLOTLYENV.BASE_URL='https://plot.ly';                                    if (document.getElementById(\"78efdb1e-4b8a-4b2e-85b2-8c4fe542a263\")) {                    Plotly.newPlot(                        \"78efdb1e-4b8a-4b2e-85b2-8c4fe542a263\",                        [{\"marker\":{\"color\":\"rgba(255, 153, 51, 0.6)\",\"line\":{\"color\":\"rgba(255, 153, 51, 1.0)\",\"width\":1}},\"name\":\"None\",\"orientation\":\"v\",\"text\":\"\",\"x\":[\"A\",\"B\",\"C\",\"D\"],\"y\":[100,100,100,100],\"type\":\"bar\"}],                        {\"legend\":{\"bgcolor\":\"#F5F6F9\",\"font\":{\"color\":\"#4D5663\"}},\"paper_bgcolor\":\"#F5F6F9\",\"plot_bgcolor\":\"#F5F6F9\",\"template\":{\"data\":{\"barpolar\":[{\"marker\":{\"line\":{\"color\":\"#E5ECF6\",\"width\":0.5},\"pattern\":{\"fillmode\":\"overlay\",\"size\":10,\"solidity\":0.2}},\"type\":\"barpolar\"}],\"bar\":[{\"error_x\":{\"color\":\"#2a3f5f\"},\"error_y\":{\"color\":\"#2a3f5f\"},\"marker\":{\"line\":{\"color\":\"#E5ECF6\",\"width\":0.5},\"pattern\":{\"fillmode\":\"overlay\",\"size\":10,\"solidity\":0.2}},\"type\":\"bar\"}],\"carpet\":[{\"aaxis\":{\"endlinecolor\":\"#2a3f5f\",\"gridcolor\":\"white\",\"linecolor\":\"white\",\"minorgridcolor\":\"white\",\"startlinecolor\":\"#2a3f5f\"},\"baxis\":{\"endlinecolor\":\"#2a3f5f\",\"gridcolor\":\"white\",\"linecolor\":\"white\",\"minorgridcolor\":\"white\",\"startlinecolor\":\"#2a3f5f\"},\"type\":\"carpet\"}],\"choropleth\":[{\"colorbar\":{\"outlinewidth\":0,\"ticks\":\"\"},\"type\":\"choropleth\"}],\"contourcarpet\":[{\"colorbar\":{\"outlinewidth\":0,\"ticks\":\"\"},\"type\":\"contourcarpet\"}],\"contour\":[{\"colorbar\":{\"outlinewidth\":0,\"ticks\":\"\"},\"colorscale\":[[0.0,\"#0d0887\"],[0.1111111111111111,\"#46039f\"],[0.2222222222222222,\"#7201a8\"],[0.3333333333333333,\"#9c179e\"],[0.4444444444444444,\"#bd3786\"],[0.5555555555555556,\"#d8576b\"],[0.6666666666666666,\"#ed7953\"],[0.7777777777777778,\"#fb9f3a\"],[0.8888888888888888,\"#fdca26\"],[1.0,\"#f0f921\"]],\"type\":\"contour\"}],\"heatmapgl\":[{\"colorbar\":{\"outlinewidth\":0,\"ticks\":\"\"},\"colorscale\":[[0.0,\"#0d0887\"],[0.1111111111111111,\"#46039f\"],[0.2222222222222222,\"#7201a8\"],[0.3333333333333333,\"#9c179e\"],[0.4444444444444444,\"#bd3786\"],[0.5555555555555556,\"#d8576b\"],[0.6666666666666666,\"#ed7953\"],[0.7777777777777778,\"#fb9f3a\"],[0.8888888888888888,\"#fdca26\"],[1.0,\"#f0f921\"]],\"type\":\"heatmapgl\"}],\"heatmap\":[{\"colorbar\":{\"outlinewidth\":0,\"ticks\":\"\"},\"colorscale\":[[0.0,\"#0d0887\"],[0.1111111111111111,\"#46039f\"],[0.2222222222222222,\"#7201a8\"],[0.3333333333333333,\"#9c179e\"],[0.4444444444444444,\"#bd3786\"],[0.5555555555555556,\"#d8576b\"],[0.6666666666666666,\"#ed7953\"],[0.7777777777777778,\"#fb9f3a\"],[0.8888888888888888,\"#fdca26\"],[1.0,\"#f0f921\"]],\"type\":\"heatmap\"}],\"histogram2dcontour\":[{\"colorbar\":{\"outlinewidth\":0,\"ticks\":\"\"},\"colorscale\":[[0.0,\"#0d0887\"],[0.1111111111111111,\"#46039f\"],[0.2222222222222222,\"#7201a8\"],[0.3333333333333333,\"#9c179e\"],[0.4444444444444444,\"#bd3786\"],[0.5555555555555556,\"#d8576b\"],[0.6666666666666666,\"#ed7953\"],[0.7777777777777778,\"#fb9f3a\"],[0.8888888888888888,\"#fdca26\"],[1.0,\"#f0f921\"]],\"type\":\"histogram2dcontour\"}],\"histogram2d\":[{\"colorbar\":{\"outlinewidth\":0,\"ticks\":\"\"},\"colorscale\":[[0.0,\"#0d0887\"],[0.1111111111111111,\"#46039f\"],[0.2222222222222222,\"#7201a8\"],[0.3333333333333333,\"#9c179e\"],[0.4444444444444444,\"#bd3786\"],[0.5555555555555556,\"#d8576b\"],[0.6666666666666666,\"#ed7953\"],[0.7777777777777778,\"#fb9f3a\"],[0.8888888888888888,\"#fdca26\"],[1.0,\"#f0f921\"]],\"type\":\"histogram2d\"}],\"histogram\":[{\"marker\":{\"pattern\":{\"fillmode\":\"overlay\",\"size\":10,\"solidity\":0.2}},\"type\":\"histogram\"}],\"mesh3d\":[{\"colorbar\":{\"outlinewidth\":0,\"ticks\":\"\"},\"type\":\"mesh3d\"}],\"parcoords\":[{\"line\":{\"colorbar\":{\"outlinewidth\":0,\"ticks\":\"\"}},\"type\":\"parcoords\"}],\"pie\":[{\"automargin\":true,\"type\":\"pie\"}],\"scatter3d\":[{\"line\":{\"colorbar\":{\"outlinewidth\":0,\"ticks\":\"\"}},\"marker\":{\"colorbar\":{\"outlinewidth\":0,\"ticks\":\"\"}},\"type\":\"scatter3d\"}],\"scattercarpet\":[{\"marker\":{\"colorbar\":{\"outlinewidth\":0,\"ticks\":\"\"}},\"type\":\"scattercarpet\"}],\"scattergeo\":[{\"marker\":{\"colorbar\":{\"outlinewidth\":0,\"ticks\":\"\"}},\"type\":\"scattergeo\"}],\"scattergl\":[{\"marker\":{\"colorbar\":{\"outlinewidth\":0,\"ticks\":\"\"}},\"type\":\"scattergl\"}],\"scattermapbox\":[{\"marker\":{\"colorbar\":{\"outlinewidth\":0,\"ticks\":\"\"}},\"type\":\"scattermapbox\"}],\"scatterpolargl\":[{\"marker\":{\"colorbar\":{\"outlinewidth\":0,\"ticks\":\"\"}},\"type\":\"scatterpolargl\"}],\"scatterpolar\":[{\"marker\":{\"colorbar\":{\"outlinewidth\":0,\"ticks\":\"\"}},\"type\":\"scatterpolar\"}],\"scatter\":[{\"fillpattern\":{\"fillmode\":\"overlay\",\"size\":10,\"solidity\":0.2},\"type\":\"scatter\"}],\"scatterternary\":[{\"marker\":{\"colorbar\":{\"outlinewidth\":0,\"ticks\":\"\"}},\"type\":\"scatterternary\"}],\"surface\":[{\"colorbar\":{\"outlinewidth\":0,\"ticks\":\"\"},\"colorscale\":[[0.0,\"#0d0887\"],[0.1111111111111111,\"#46039f\"],[0.2222222222222222,\"#7201a8\"],[0.3333333333333333,\"#9c179e\"],[0.4444444444444444,\"#bd3786\"],[0.5555555555555556,\"#d8576b\"],[0.6666666666666666,\"#ed7953\"],[0.7777777777777778,\"#fb9f3a\"],[0.8888888888888888,\"#fdca26\"],[1.0,\"#f0f921\"]],\"type\":\"surface\"}],\"table\":[{\"cells\":{\"fill\":{\"color\":\"#EBF0F8\"},\"line\":{\"color\":\"white\"}},\"header\":{\"fill\":{\"color\":\"#C8D4E3\"},\"line\":{\"color\":\"white\"}},\"type\":\"table\"}]},\"layout\":{\"annotationdefaults\":{\"arrowcolor\":\"#2a3f5f\",\"arrowhead\":0,\"arrowwidth\":1},\"autotypenumbers\":\"strict\",\"coloraxis\":{\"colorbar\":{\"outlinewidth\":0,\"ticks\":\"\"}},\"colorscale\":{\"diverging\":[[0,\"#8e0152\"],[0.1,\"#c51b7d\"],[0.2,\"#de77ae\"],[0.3,\"#f1b6da\"],[0.4,\"#fde0ef\"],[0.5,\"#f7f7f7\"],[0.6,\"#e6f5d0\"],[0.7,\"#b8e186\"],[0.8,\"#7fbc41\"],[0.9,\"#4d9221\"],[1,\"#276419\"]],\"sequential\":[[0.0,\"#0d0887\"],[0.1111111111111111,\"#46039f\"],[0.2222222222222222,\"#7201a8\"],[0.3333333333333333,\"#9c179e\"],[0.4444444444444444,\"#bd3786\"],[0.5555555555555556,\"#d8576b\"],[0.6666666666666666,\"#ed7953\"],[0.7777777777777778,\"#fb9f3a\"],[0.8888888888888888,\"#fdca26\"],[1.0,\"#f0f921\"]],\"sequentialminus\":[[0.0,\"#0d0887\"],[0.1111111111111111,\"#46039f\"],[0.2222222222222222,\"#7201a8\"],[0.3333333333333333,\"#9c179e\"],[0.4444444444444444,\"#bd3786\"],[0.5555555555555556,\"#d8576b\"],[0.6666666666666666,\"#ed7953\"],[0.7777777777777778,\"#fb9f3a\"],[0.8888888888888888,\"#fdca26\"],[1.0,\"#f0f921\"]]},\"colorway\":[\"#636efa\",\"#EF553B\",\"#00cc96\",\"#ab63fa\",\"#FFA15A\",\"#19d3f3\",\"#FF6692\",\"#B6E880\",\"#FF97FF\",\"#FECB52\"],\"font\":{\"color\":\"#2a3f5f\"},\"geo\":{\"bgcolor\":\"white\",\"lakecolor\":\"white\",\"landcolor\":\"#E5ECF6\",\"showlakes\":true,\"showland\":true,\"subunitcolor\":\"white\"},\"hoverlabel\":{\"align\":\"left\"},\"hovermode\":\"closest\",\"mapbox\":{\"style\":\"light\"},\"paper_bgcolor\":\"white\",\"plot_bgcolor\":\"#E5ECF6\",\"polar\":{\"angularaxis\":{\"gridcolor\":\"white\",\"linecolor\":\"white\",\"ticks\":\"\"},\"bgcolor\":\"#E5ECF6\",\"radialaxis\":{\"gridcolor\":\"white\",\"linecolor\":\"white\",\"ticks\":\"\"}},\"scene\":{\"xaxis\":{\"backgroundcolor\":\"#E5ECF6\",\"gridcolor\":\"white\",\"gridwidth\":2,\"linecolor\":\"white\",\"showbackground\":true,\"ticks\":\"\",\"zerolinecolor\":\"white\"},\"yaxis\":{\"backgroundcolor\":\"#E5ECF6\",\"gridcolor\":\"white\",\"gridwidth\":2,\"linecolor\":\"white\",\"showbackground\":true,\"ticks\":\"\",\"zerolinecolor\":\"white\"},\"zaxis\":{\"backgroundcolor\":\"#E5ECF6\",\"gridcolor\":\"white\",\"gridwidth\":2,\"linecolor\":\"white\",\"showbackground\":true,\"ticks\":\"\",\"zerolinecolor\":\"white\"}},\"shapedefaults\":{\"line\":{\"color\":\"#2a3f5f\"}},\"ternary\":{\"aaxis\":{\"gridcolor\":\"white\",\"linecolor\":\"white\",\"ticks\":\"\"},\"baxis\":{\"gridcolor\":\"white\",\"linecolor\":\"white\",\"ticks\":\"\"},\"bgcolor\":\"#E5ECF6\",\"caxis\":{\"gridcolor\":\"white\",\"linecolor\":\"white\",\"ticks\":\"\"}},\"title\":{\"x\":0.05},\"xaxis\":{\"automargin\":true,\"gridcolor\":\"white\",\"linecolor\":\"white\",\"ticks\":\"\",\"title\":{\"standoff\":15},\"zerolinecolor\":\"white\",\"zerolinewidth\":2},\"yaxis\":{\"automargin\":true,\"gridcolor\":\"white\",\"linecolor\":\"white\",\"ticks\":\"\",\"title\":{\"standoff\":15},\"zerolinecolor\":\"white\",\"zerolinewidth\":2}}},\"title\":{\"font\":{\"color\":\"#4D5663\"}},\"xaxis\":{\"gridcolor\":\"#E1E5ED\",\"showgrid\":true,\"tickfont\":{\"color\":\"#4D5663\"},\"title\":{\"font\":{\"color\":\"#4D5663\"},\"text\":\"\"},\"zerolinecolor\":\"#E1E5ED\"},\"yaxis\":{\"gridcolor\":\"#E1E5ED\",\"showgrid\":true,\"tickfont\":{\"color\":\"#4D5663\"},\"title\":{\"font\":{\"color\":\"#4D5663\"},\"text\":\"\"},\"zerolinecolor\":\"#E1E5ED\"}},                        {\"showLink\": true, \"linkText\": \"Export to plot.ly\", \"plotlyServerURL\": \"https://plot.ly\", \"responsive\": true}                    ).then(function(){\n",
       "                            \n",
       "var gd = document.getElementById('78efdb1e-4b8a-4b2e-85b2-8c4fe542a263');\n",
       "var x = new MutationObserver(function (mutations, observer) {{\n",
       "        var display = window.getComputedStyle(gd).display;\n",
       "        if (!display || display === 'none') {{\n",
       "            console.log([gd, 'removed!']);\n",
       "            Plotly.purge(gd);\n",
       "            observer.disconnect();\n",
       "        }}\n",
       "}});\n",
       "\n",
       "// Listen for the removal of the full notebook cells\n",
       "var notebookContainer = gd.closest('#notebook-container');\n",
       "if (notebookContainer) {{\n",
       "    x.observe(notebookContainer, {childList: true});\n",
       "}}\n",
       "\n",
       "// Listen for the clearing of the current output cell\n",
       "var outputEl = gd.closest('.output');\n",
       "if (outputEl) {{\n",
       "    x.observe(outputEl, {childList: true});\n",
       "}}\n",
       "\n",
       "                        })                };                });            </script>        </div>"
      ]
     },
     "metadata": {},
     "output_type": "display_data"
    }
   ],
   "source": [
    "df.count().iplot(kind='bar')"
   ]
  },
  {
   "cell_type": "markdown",
   "metadata": {},
   "source": [
    "## Boxplots"
   ]
  },
  {
   "cell_type": "code",
   "execution_count": 14,
   "metadata": {},
   "outputs": [
    {
     "data": {
      "application/vnd.plotly.v1+json": {
       "config": {
        "linkText": "Export to plot.ly",
        "plotlyServerURL": "https://plot.ly",
        "showLink": true
       },
       "data": [
        {
         "boxpoints": false,
         "line": {
          "width": 1.3
         },
         "marker": {
          "color": "rgba(255, 153, 51, 1.0)"
         },
         "name": "A",
         "orientation": "v",
         "type": "box",
         "y": [
          0.7655458203462077,
          -0.12808922353551602,
          1.4513993957179177,
          -0.19122091052993234,
          1.1030723744375364,
          1.033532144394203,
          0.3841969617822889,
          0.6496604352494966,
          0.513285627209426,
          0.11476079502280276,
          -0.2591015559704645,
          -1.776879311107862,
          -1.34794116248284,
          0.7082005182592324,
          -0.07069421173021438,
          0.2969240010622188,
          0.3536557662414352,
          0.47251436715512296,
          1.1563489173302384,
          -1.1577309588480218,
          -0.8911183307244669,
          2.619839722470479,
          2.473037611797308,
          2.7479066271536197,
          -1.3832565327512583,
          0.42590028724574386,
          0.8266523606807861,
          0.4582137090455324,
          0.3669423654181648,
          -0.38559101708212323,
          0.7043030621427251,
          0.7977307659092078,
          0.5923822621043702,
          0.9225429891488932,
          2.0559542054906292,
          1.7485194011322966,
          -1.4178063337005729,
          0.3492884656078567,
          0.8946522460785905,
          1.560287626057767,
          -0.8322926593044682,
          1.2349418728588268,
          1.7875197554567475,
          0.08633619069120248,
          0.5314971207622426,
          -0.9436475384249055,
          -1.615751639616223,
          1.5499038599623058,
          -1.6173743554616682,
          0.006085323851007527,
          0.002795262409405392,
          0.3659633121859034,
          0.801851411757661,
          -0.5374217808986604,
          -0.12139982016197108,
          -0.7028554934220238,
          -0.8765908568443167,
          0.41346433697724727,
          1.4384119079610063,
          0.7600927797482195,
          -1.2787747786152739,
          0.5024311486559706,
          0.9750586541892643,
          0.5268072700021327,
          -0.42468859013658095,
          -1.025420774761301,
          -0.4266336127339284,
          0.48272659442294075,
          2.906398718665853,
          0.6880021525294603,
          -0.21480747949987763,
          -0.5686183980043807,
          -0.9131334243330468,
          1.6573368062052414,
          -1.7930944914691276,
          -0.9843674117413633,
          2.1543809516091437,
          0.4021428551289348,
          -1.2844749093286496,
          0.014934416169660418,
          0.15129520541311742,
          -0.30558213224536673,
          1.3253078666447853,
          -0.10688727093219857,
          1.0461711436912986,
          -1.240988782651725,
          0.7505133678415967,
          1.0924753055237828,
          -0.4217096676086004,
          -1.0886553141159043,
          0.465188624187154,
          0.27046011280690474,
          -1.0788735585175873,
          0.7616297320826227,
          1.83194824101488,
          -0.14619950548323124,
          0.9567672741523233,
          -0.6461097831091536,
          1.1273945026599368,
          1.8805504460884466
         ]
        },
        {
         "boxpoints": false,
         "line": {
          "width": 1.3
         },
         "marker": {
          "color": "rgba(55, 128, 191, 1.0)"
         },
         "name": "B",
         "orientation": "v",
         "type": "box",
         "y": [
          0.6017466873503788,
          -0.14978400163424924,
          -1.0707104177133535,
          -1.037546034807011,
          0.3607916199572585,
          -0.06471865024747107,
          -0.7580300458300937,
          1.978188770648286,
          -0.571180926800931,
          -0.8350579784972542,
          -0.8760751468654233,
          -0.2416208405534744,
          -0.11940406390607054,
          0.3910497338436867,
          -0.12441061910314734,
          -0.17008880601047333,
          1.2424043471474324,
          0.18306105280621934,
          0.5025398751714042,
          -2.733138018312086,
          -0.4578889804156048,
          -0.8968252858196749,
          1.2192999848172787,
          1.3853636122951218,
          0.06451901011941573,
          -0.8042140226810693,
          -0.4799095259944002,
          -0.7228634578237165,
          0.23392212692192293,
          -0.5253559983110266,
          -0.005551655753853849,
          -1.581190796892674,
          -0.100944996595511,
          -0.36032418400728666,
          0.5683775057321915,
          -0.8875035255092706,
          0.920332767011539,
          -0.8378529508094908,
          2.207100912475008,
          -0.038956452336035875,
          1.7265669308226161,
          -0.21127645786169866,
          -0.03648413775657497,
          0.6477042890699376,
          1.717122130117437,
          0.7670217124737083,
          0.4011841768438215,
          -0.5771860490915778,
          -1.2952904699021186,
          -0.5614861119771376,
          0.3552524746507848,
          0.345368819654225,
          -0.486542716473194,
          -0.46989855997673624,
          0.47018822027319174,
          -0.5556740606086376,
          -0.5508351364377948,
          -0.6689676565419325,
          -0.12457825258275382,
          1.0877758572906697,
          -0.014239704339121232,
          -1.6608604457359628,
          1.4821620161097675,
          1.1008139823858007,
          -0.23902094669399154,
          -0.6659886541239679,
          0.5328878624002946,
          0.339322926441731,
          1.5115792223663922,
          0.8165994139801861,
          0.6276223908531292,
          -0.3173257506316113,
          1.1302860331046023,
          -1.337122276668125,
          -1.7483710170291413,
          0.8883164654916883,
          -0.23718451528176032,
          0.136395655094501,
          -0.16601627031277902,
          0.5004192659250103,
          -0.21116110306728084,
          1.2744353062002893,
          -0.08179344137315678,
          -0.887429149024921,
          0.17680435085489035,
          0.9006247162148816,
          0.3294130449437715,
          -1.4774903881761516,
          0.7656241967464709,
          0.47361979358312306,
          0.5405391526466155,
          0.39341633131077053,
          -2.4023312521643514,
          -0.6074321625556381,
          1.4120134927426395,
          -0.7663209956048409,
          0.3946572185611099,
          1.101027134677378,
          2.2913939671179193,
          -0.3474317575058246
         ]
        },
        {
         "boxpoints": false,
         "line": {
          "width": 1.3
         },
         "marker": {
          "color": "rgba(50, 171, 96, 1.0)"
         },
         "name": "C",
         "orientation": "v",
         "type": "box",
         "y": [
          0.24580720293270789,
          -0.16791258338056927,
          -0.3551479634347549,
          -1.3233085331930585,
          0.7097797908246052,
          0.31040033879971257,
          -1.6718985315521668,
          0.4558342746292871,
          0.6514803065472838,
          0.08110556967608246,
          1.0260850390526737,
          1.1020529487741573,
          -0.07079645264341279,
          0.6993218505747866,
          0.8257781490301271,
          0.3912486892400691,
          -0.42834637536562875,
          1.3110906708710228,
          -0.013808944615887742,
          0.8673460817320041,
          -0.0676721955089728,
          1.1595969389127676,
          -2.659098634214604,
          1.1872328751495338,
          0.6325408476490932,
          -1.1258226640300024,
          -0.20268519369486213,
          1.1236106734617177,
          -0.6080856244352839,
          -1.2177214608605689,
          1.0276095480784375,
          0.0927468330768223,
          0.1602110795401743,
          -0.5042954689831142,
          -0.47728877956374566,
          0.26523305088620625,
          0.03614873092792522,
          0.8437171837795762,
          -1.8962433054646162,
          0.6561221119045462,
          -0.3263394816877104,
          -0.13154920221109132,
          -0.3139253977492223,
          0.3369570346411211,
          1.3355867881817336,
          -0.38525189743613936,
          0.6488424993995671,
          0.42343375066531047,
          1.0584993329798738,
          -0.6868277034680705,
          0.9059310468128209,
          -0.3461808821898123,
          -0.9161137066046858,
          -1.5032945636101964,
          -1.0043357428623314,
          0.4056862397127461,
          0.5268023994911366,
          -1.7256377069714444,
          -0.4783352503905883,
          -0.6556621746351436,
          -1.8844086686528698,
          1.1798865505687492,
          -1.3421246750205809,
          -0.23560665404353476,
          0.21369864561464302,
          -0.24759708685697168,
          -1.3016092767861585,
          0.2414783341289692,
          0.723525851278836,
          0.26409779961735136,
          0.6823036091120643,
          0.16593570160663768,
          -0.06173788566606027,
          1.7928139857018244,
          -0.6882336938667062,
          -1.7929803680573533,
          1.877860173947971,
          -0.6234395949275936,
          -0.9671511628687711,
          -0.4495149890052343,
          -1.7239661938374629,
          0.11603006916036149,
          -0.19123405951466851,
          -0.3084811571021436,
          -0.9445287301697122,
          -0.6760778171840082,
          -0.3220953942413495,
          0.31451053248896116,
          0.5169515130689945,
          -0.041813606015498904,
          1.2800522964060397,
          -0.2643507897701546,
          0.851981930005477,
          1.2268302192809262,
          -0.9013530736648057,
          -0.6253983724844503,
          -0.5291521293215709,
          0.10300817655146013,
          1.106842872035679,
          -0.14627641238432817
         ]
        },
        {
         "boxpoints": false,
         "line": {
          "width": 1.3
         },
         "marker": {
          "color": "rgba(128, 0, 128, 1.0)"
         },
         "name": "D",
         "orientation": "v",
         "type": "box",
         "y": [
          -2.152868158232687,
          0.22147600083290267,
          2.0258967250186357,
          -0.8559096402277154,
          -1.4493963564928796,
          -0.7237887927557322,
          0.04994827515307033,
          0.23762938713516832,
          0.20917147145454562,
          0.5000432132657668,
          2.111735139961974,
          -0.18341074673914798,
          0.6268962272953703,
          2.3964200652668124,
          1.7259510244487086,
          -2.063163575013612,
          0.1379776183602663,
          -1.354467172609517,
          -0.241329364537885,
          -2.595775805420712,
          -0.5772752585875544,
          1.3069010034627697,
          -0.8909400121837199,
          -0.8434653651679853,
          1.7825504414506432,
          0.40306466107041566,
          -0.2002688213178314,
          -1.3538177425957982,
          -1.049201725002004,
          1.5211526564385496,
          -1.0806741783898786,
          2.1647496672772775,
          -1.402318347071575,
          0.47468852593249256,
          -1.5015980645274436,
          -0.41275995971813023,
          1.3883375285529573,
          -0.41045570940836346,
          1.5148074330667176,
          0.7813872002039445,
          -1.207026042101101,
          -0.6355157242831765,
          -1.7797644460245459,
          0.5870587013270901,
          -0.6911624265195444,
          1.0213851060342434,
          -0.9957843325465735,
          0.2378174771494934,
          0.39209669237121597,
          0.33877140830953195,
          -0.2742291462613146,
          -0.17081298756578328,
          0.18279547264917811,
          1.2895860229045453,
          0.7445830023862078,
          0.7067083876243946,
          -0.29961938111665587,
          0.1101668027363602,
          -1.4656918987730918,
          0.34232983864472594,
          -0.40070219794675555,
          0.4363246196936259,
          -0.6495722058337039,
          0.33217657663609085,
          -1.113834833270538,
          -0.2956601719820081,
          -0.12207866184611177,
          -0.5655743720402427,
          0.9122001626732609,
          -0.6171760567819509,
          -0.41140049703854514,
          0.18637925528471375,
          0.8359844659765966,
          0.9680438704685685,
          -0.701446077454482,
          1.0625053169816423,
          0.3454732043018869,
          -0.5569914470776471,
          -0.44582630975238624,
          2.8319313931223347,
          2.2801627286450485,
          1.209993253282053,
          0.09504486434510401,
          1.0275099629228186,
          -1.3478968678350511,
          1.263349306325821,
          0.6446994450351753,
          0.3372422081383686,
          -0.37663911470308814,
          -0.41128906290655165,
          0.2740661757383904,
          0.8307809509608569,
          0.09974064493153914,
          -0.4432047085326059,
          -0.03856477255306065,
          -0.12560136077367148,
          -0.5913960415329688,
          -0.19313389525112634,
          -0.42674109057431664,
          -0.12805618860776607
         ]
        }
       ],
       "layout": {
        "legend": {
         "bgcolor": "#F5F6F9",
         "font": {
          "color": "#4D5663"
         }
        },
        "paper_bgcolor": "#F5F6F9",
        "plot_bgcolor": "#F5F6F9",
        "template": {
         "data": {
          "bar": [
           {
            "error_x": {
             "color": "#2a3f5f"
            },
            "error_y": {
             "color": "#2a3f5f"
            },
            "marker": {
             "line": {
              "color": "#E5ECF6",
              "width": 0.5
             },
             "pattern": {
              "fillmode": "overlay",
              "size": 10,
              "solidity": 0.2
             }
            },
            "type": "bar"
           }
          ],
          "barpolar": [
           {
            "marker": {
             "line": {
              "color": "#E5ECF6",
              "width": 0.5
             },
             "pattern": {
              "fillmode": "overlay",
              "size": 10,
              "solidity": 0.2
             }
            },
            "type": "barpolar"
           }
          ],
          "carpet": [
           {
            "aaxis": {
             "endlinecolor": "#2a3f5f",
             "gridcolor": "white",
             "linecolor": "white",
             "minorgridcolor": "white",
             "startlinecolor": "#2a3f5f"
            },
            "baxis": {
             "endlinecolor": "#2a3f5f",
             "gridcolor": "white",
             "linecolor": "white",
             "minorgridcolor": "white",
             "startlinecolor": "#2a3f5f"
            },
            "type": "carpet"
           }
          ],
          "choropleth": [
           {
            "colorbar": {
             "outlinewidth": 0,
             "ticks": ""
            },
            "type": "choropleth"
           }
          ],
          "contour": [
           {
            "colorbar": {
             "outlinewidth": 0,
             "ticks": ""
            },
            "colorscale": [
             [
              0,
              "#0d0887"
             ],
             [
              0.1111111111111111,
              "#46039f"
             ],
             [
              0.2222222222222222,
              "#7201a8"
             ],
             [
              0.3333333333333333,
              "#9c179e"
             ],
             [
              0.4444444444444444,
              "#bd3786"
             ],
             [
              0.5555555555555556,
              "#d8576b"
             ],
             [
              0.6666666666666666,
              "#ed7953"
             ],
             [
              0.7777777777777778,
              "#fb9f3a"
             ],
             [
              0.8888888888888888,
              "#fdca26"
             ],
             [
              1,
              "#f0f921"
             ]
            ],
            "type": "contour"
           }
          ],
          "contourcarpet": [
           {
            "colorbar": {
             "outlinewidth": 0,
             "ticks": ""
            },
            "type": "contourcarpet"
           }
          ],
          "heatmap": [
           {
            "colorbar": {
             "outlinewidth": 0,
             "ticks": ""
            },
            "colorscale": [
             [
              0,
              "#0d0887"
             ],
             [
              0.1111111111111111,
              "#46039f"
             ],
             [
              0.2222222222222222,
              "#7201a8"
             ],
             [
              0.3333333333333333,
              "#9c179e"
             ],
             [
              0.4444444444444444,
              "#bd3786"
             ],
             [
              0.5555555555555556,
              "#d8576b"
             ],
             [
              0.6666666666666666,
              "#ed7953"
             ],
             [
              0.7777777777777778,
              "#fb9f3a"
             ],
             [
              0.8888888888888888,
              "#fdca26"
             ],
             [
              1,
              "#f0f921"
             ]
            ],
            "type": "heatmap"
           }
          ],
          "heatmapgl": [
           {
            "colorbar": {
             "outlinewidth": 0,
             "ticks": ""
            },
            "colorscale": [
             [
              0,
              "#0d0887"
             ],
             [
              0.1111111111111111,
              "#46039f"
             ],
             [
              0.2222222222222222,
              "#7201a8"
             ],
             [
              0.3333333333333333,
              "#9c179e"
             ],
             [
              0.4444444444444444,
              "#bd3786"
             ],
             [
              0.5555555555555556,
              "#d8576b"
             ],
             [
              0.6666666666666666,
              "#ed7953"
             ],
             [
              0.7777777777777778,
              "#fb9f3a"
             ],
             [
              0.8888888888888888,
              "#fdca26"
             ],
             [
              1,
              "#f0f921"
             ]
            ],
            "type": "heatmapgl"
           }
          ],
          "histogram": [
           {
            "marker": {
             "pattern": {
              "fillmode": "overlay",
              "size": 10,
              "solidity": 0.2
             }
            },
            "type": "histogram"
           }
          ],
          "histogram2d": [
           {
            "colorbar": {
             "outlinewidth": 0,
             "ticks": ""
            },
            "colorscale": [
             [
              0,
              "#0d0887"
             ],
             [
              0.1111111111111111,
              "#46039f"
             ],
             [
              0.2222222222222222,
              "#7201a8"
             ],
             [
              0.3333333333333333,
              "#9c179e"
             ],
             [
              0.4444444444444444,
              "#bd3786"
             ],
             [
              0.5555555555555556,
              "#d8576b"
             ],
             [
              0.6666666666666666,
              "#ed7953"
             ],
             [
              0.7777777777777778,
              "#fb9f3a"
             ],
             [
              0.8888888888888888,
              "#fdca26"
             ],
             [
              1,
              "#f0f921"
             ]
            ],
            "type": "histogram2d"
           }
          ],
          "histogram2dcontour": [
           {
            "colorbar": {
             "outlinewidth": 0,
             "ticks": ""
            },
            "colorscale": [
             [
              0,
              "#0d0887"
             ],
             [
              0.1111111111111111,
              "#46039f"
             ],
             [
              0.2222222222222222,
              "#7201a8"
             ],
             [
              0.3333333333333333,
              "#9c179e"
             ],
             [
              0.4444444444444444,
              "#bd3786"
             ],
             [
              0.5555555555555556,
              "#d8576b"
             ],
             [
              0.6666666666666666,
              "#ed7953"
             ],
             [
              0.7777777777777778,
              "#fb9f3a"
             ],
             [
              0.8888888888888888,
              "#fdca26"
             ],
             [
              1,
              "#f0f921"
             ]
            ],
            "type": "histogram2dcontour"
           }
          ],
          "mesh3d": [
           {
            "colorbar": {
             "outlinewidth": 0,
             "ticks": ""
            },
            "type": "mesh3d"
           }
          ],
          "parcoords": [
           {
            "line": {
             "colorbar": {
              "outlinewidth": 0,
              "ticks": ""
             }
            },
            "type": "parcoords"
           }
          ],
          "pie": [
           {
            "automargin": true,
            "type": "pie"
           }
          ],
          "scatter": [
           {
            "fillpattern": {
             "fillmode": "overlay",
             "size": 10,
             "solidity": 0.2
            },
            "type": "scatter"
           }
          ],
          "scatter3d": [
           {
            "line": {
             "colorbar": {
              "outlinewidth": 0,
              "ticks": ""
             }
            },
            "marker": {
             "colorbar": {
              "outlinewidth": 0,
              "ticks": ""
             }
            },
            "type": "scatter3d"
           }
          ],
          "scattercarpet": [
           {
            "marker": {
             "colorbar": {
              "outlinewidth": 0,
              "ticks": ""
             }
            },
            "type": "scattercarpet"
           }
          ],
          "scattergeo": [
           {
            "marker": {
             "colorbar": {
              "outlinewidth": 0,
              "ticks": ""
             }
            },
            "type": "scattergeo"
           }
          ],
          "scattergl": [
           {
            "marker": {
             "colorbar": {
              "outlinewidth": 0,
              "ticks": ""
             }
            },
            "type": "scattergl"
           }
          ],
          "scattermapbox": [
           {
            "marker": {
             "colorbar": {
              "outlinewidth": 0,
              "ticks": ""
             }
            },
            "type": "scattermapbox"
           }
          ],
          "scatterpolar": [
           {
            "marker": {
             "colorbar": {
              "outlinewidth": 0,
              "ticks": ""
             }
            },
            "type": "scatterpolar"
           }
          ],
          "scatterpolargl": [
           {
            "marker": {
             "colorbar": {
              "outlinewidth": 0,
              "ticks": ""
             }
            },
            "type": "scatterpolargl"
           }
          ],
          "scatterternary": [
           {
            "marker": {
             "colorbar": {
              "outlinewidth": 0,
              "ticks": ""
             }
            },
            "type": "scatterternary"
           }
          ],
          "surface": [
           {
            "colorbar": {
             "outlinewidth": 0,
             "ticks": ""
            },
            "colorscale": [
             [
              0,
              "#0d0887"
             ],
             [
              0.1111111111111111,
              "#46039f"
             ],
             [
              0.2222222222222222,
              "#7201a8"
             ],
             [
              0.3333333333333333,
              "#9c179e"
             ],
             [
              0.4444444444444444,
              "#bd3786"
             ],
             [
              0.5555555555555556,
              "#d8576b"
             ],
             [
              0.6666666666666666,
              "#ed7953"
             ],
             [
              0.7777777777777778,
              "#fb9f3a"
             ],
             [
              0.8888888888888888,
              "#fdca26"
             ],
             [
              1,
              "#f0f921"
             ]
            ],
            "type": "surface"
           }
          ],
          "table": [
           {
            "cells": {
             "fill": {
              "color": "#EBF0F8"
             },
             "line": {
              "color": "white"
             }
            },
            "header": {
             "fill": {
              "color": "#C8D4E3"
             },
             "line": {
              "color": "white"
             }
            },
            "type": "table"
           }
          ]
         },
         "layout": {
          "annotationdefaults": {
           "arrowcolor": "#2a3f5f",
           "arrowhead": 0,
           "arrowwidth": 1
          },
          "autotypenumbers": "strict",
          "coloraxis": {
           "colorbar": {
            "outlinewidth": 0,
            "ticks": ""
           }
          },
          "colorscale": {
           "diverging": [
            [
             0,
             "#8e0152"
            ],
            [
             0.1,
             "#c51b7d"
            ],
            [
             0.2,
             "#de77ae"
            ],
            [
             0.3,
             "#f1b6da"
            ],
            [
             0.4,
             "#fde0ef"
            ],
            [
             0.5,
             "#f7f7f7"
            ],
            [
             0.6,
             "#e6f5d0"
            ],
            [
             0.7,
             "#b8e186"
            ],
            [
             0.8,
             "#7fbc41"
            ],
            [
             0.9,
             "#4d9221"
            ],
            [
             1,
             "#276419"
            ]
           ],
           "sequential": [
            [
             0,
             "#0d0887"
            ],
            [
             0.1111111111111111,
             "#46039f"
            ],
            [
             0.2222222222222222,
             "#7201a8"
            ],
            [
             0.3333333333333333,
             "#9c179e"
            ],
            [
             0.4444444444444444,
             "#bd3786"
            ],
            [
             0.5555555555555556,
             "#d8576b"
            ],
            [
             0.6666666666666666,
             "#ed7953"
            ],
            [
             0.7777777777777778,
             "#fb9f3a"
            ],
            [
             0.8888888888888888,
             "#fdca26"
            ],
            [
             1,
             "#f0f921"
            ]
           ],
           "sequentialminus": [
            [
             0,
             "#0d0887"
            ],
            [
             0.1111111111111111,
             "#46039f"
            ],
            [
             0.2222222222222222,
             "#7201a8"
            ],
            [
             0.3333333333333333,
             "#9c179e"
            ],
            [
             0.4444444444444444,
             "#bd3786"
            ],
            [
             0.5555555555555556,
             "#d8576b"
            ],
            [
             0.6666666666666666,
             "#ed7953"
            ],
            [
             0.7777777777777778,
             "#fb9f3a"
            ],
            [
             0.8888888888888888,
             "#fdca26"
            ],
            [
             1,
             "#f0f921"
            ]
           ]
          },
          "colorway": [
           "#636efa",
           "#EF553B",
           "#00cc96",
           "#ab63fa",
           "#FFA15A",
           "#19d3f3",
           "#FF6692",
           "#B6E880",
           "#FF97FF",
           "#FECB52"
          ],
          "font": {
           "color": "#2a3f5f"
          },
          "geo": {
           "bgcolor": "white",
           "lakecolor": "white",
           "landcolor": "#E5ECF6",
           "showlakes": true,
           "showland": true,
           "subunitcolor": "white"
          },
          "hoverlabel": {
           "align": "left"
          },
          "hovermode": "closest",
          "mapbox": {
           "style": "light"
          },
          "paper_bgcolor": "white",
          "plot_bgcolor": "#E5ECF6",
          "polar": {
           "angularaxis": {
            "gridcolor": "white",
            "linecolor": "white",
            "ticks": ""
           },
           "bgcolor": "#E5ECF6",
           "radialaxis": {
            "gridcolor": "white",
            "linecolor": "white",
            "ticks": ""
           }
          },
          "scene": {
           "xaxis": {
            "backgroundcolor": "#E5ECF6",
            "gridcolor": "white",
            "gridwidth": 2,
            "linecolor": "white",
            "showbackground": true,
            "ticks": "",
            "zerolinecolor": "white"
           },
           "yaxis": {
            "backgroundcolor": "#E5ECF6",
            "gridcolor": "white",
            "gridwidth": 2,
            "linecolor": "white",
            "showbackground": true,
            "ticks": "",
            "zerolinecolor": "white"
           },
           "zaxis": {
            "backgroundcolor": "#E5ECF6",
            "gridcolor": "white",
            "gridwidth": 2,
            "linecolor": "white",
            "showbackground": true,
            "ticks": "",
            "zerolinecolor": "white"
           }
          },
          "shapedefaults": {
           "line": {
            "color": "#2a3f5f"
           }
          },
          "ternary": {
           "aaxis": {
            "gridcolor": "white",
            "linecolor": "white",
            "ticks": ""
           },
           "baxis": {
            "gridcolor": "white",
            "linecolor": "white",
            "ticks": ""
           },
           "bgcolor": "#E5ECF6",
           "caxis": {
            "gridcolor": "white",
            "linecolor": "white",
            "ticks": ""
           }
          },
          "title": {
           "x": 0.05
          },
          "xaxis": {
           "automargin": true,
           "gridcolor": "white",
           "linecolor": "white",
           "ticks": "",
           "title": {
            "standoff": 15
           },
           "zerolinecolor": "white",
           "zerolinewidth": 2
          },
          "yaxis": {
           "automargin": true,
           "gridcolor": "white",
           "linecolor": "white",
           "ticks": "",
           "title": {
            "standoff": 15
           },
           "zerolinecolor": "white",
           "zerolinewidth": 2
          }
         }
        },
        "title": {
         "font": {
          "color": "#4D5663"
         }
        },
        "xaxis": {
         "gridcolor": "#E1E5ED",
         "showgrid": true,
         "tickfont": {
          "color": "#4D5663"
         },
         "title": {
          "font": {
           "color": "#4D5663"
          },
          "text": ""
         },
         "zerolinecolor": "#E1E5ED"
        },
        "yaxis": {
         "gridcolor": "#E1E5ED",
         "showgrid": true,
         "tickfont": {
          "color": "#4D5663"
         },
         "title": {
          "font": {
           "color": "#4D5663"
          },
          "text": ""
         },
         "zerolinecolor": "#E1E5ED"
        }
       }
      },
      "text/html": [
       "<div>                            <div id=\"dadeab35-9ccd-4b7e-8491-7403774eb59d\" class=\"plotly-graph-div\" style=\"height:525px; width:100%;\"></div>            <script type=\"text/javascript\">                require([\"plotly\"], function(Plotly) {                    window.PLOTLYENV=window.PLOTLYENV || {};\n",
       "                    window.PLOTLYENV.BASE_URL='https://plot.ly';                                    if (document.getElementById(\"dadeab35-9ccd-4b7e-8491-7403774eb59d\")) {                    Plotly.newPlot(                        \"dadeab35-9ccd-4b7e-8491-7403774eb59d\",                        [{\"boxpoints\":false,\"line\":{\"width\":1.3},\"marker\":{\"color\":\"rgba(255, 153, 51, 1.0)\"},\"name\":\"A\",\"orientation\":\"v\",\"y\":[0.7655458203462077,-0.12808922353551602,1.4513993957179177,-0.19122091052993234,1.1030723744375364,1.033532144394203,0.3841969617822889,0.6496604352494966,0.513285627209426,0.11476079502280276,-0.2591015559704645,-1.776879311107862,-1.34794116248284,0.7082005182592324,-0.07069421173021438,0.2969240010622188,0.3536557662414352,0.47251436715512296,1.1563489173302384,-1.1577309588480218,-0.8911183307244669,2.619839722470479,2.473037611797308,2.7479066271536197,-1.3832565327512583,0.42590028724574386,0.8266523606807861,0.4582137090455324,0.3669423654181648,-0.38559101708212323,0.7043030621427251,0.7977307659092078,0.5923822621043702,0.9225429891488932,2.0559542054906292,1.7485194011322966,-1.4178063337005729,0.3492884656078567,0.8946522460785905,1.560287626057767,-0.8322926593044682,1.2349418728588268,1.7875197554567475,0.08633619069120248,0.5314971207622426,-0.9436475384249055,-1.615751639616223,1.5499038599623058,-1.6173743554616682,0.006085323851007527,0.002795262409405392,0.3659633121859034,0.801851411757661,-0.5374217808986604,-0.12139982016197108,-0.7028554934220238,-0.8765908568443167,0.41346433697724727,1.4384119079610063,0.7600927797482195,-1.2787747786152739,0.5024311486559706,0.9750586541892643,0.5268072700021327,-0.42468859013658095,-1.025420774761301,-0.4266336127339284,0.48272659442294075,2.906398718665853,0.6880021525294603,-0.21480747949987763,-0.5686183980043807,-0.9131334243330468,1.6573368062052414,-1.7930944914691276,-0.9843674117413633,2.1543809516091437,0.4021428551289348,-1.2844749093286496,0.014934416169660418,0.15129520541311742,-0.30558213224536673,1.3253078666447853,-0.10688727093219857,1.0461711436912986,-1.240988782651725,0.7505133678415967,1.0924753055237828,-0.4217096676086004,-1.0886553141159043,0.465188624187154,0.27046011280690474,-1.0788735585175873,0.7616297320826227,1.83194824101488,-0.14619950548323124,0.9567672741523233,-0.6461097831091536,1.1273945026599368,1.8805504460884466],\"type\":\"box\"},{\"boxpoints\":false,\"line\":{\"width\":1.3},\"marker\":{\"color\":\"rgba(55, 128, 191, 1.0)\"},\"name\":\"B\",\"orientation\":\"v\",\"y\":[0.6017466873503788,-0.14978400163424924,-1.0707104177133535,-1.037546034807011,0.3607916199572585,-0.06471865024747107,-0.7580300458300937,1.978188770648286,-0.571180926800931,-0.8350579784972542,-0.8760751468654233,-0.2416208405534744,-0.11940406390607054,0.3910497338436867,-0.12441061910314734,-0.17008880601047333,1.2424043471474324,0.18306105280621934,0.5025398751714042,-2.733138018312086,-0.4578889804156048,-0.8968252858196749,1.2192999848172787,1.3853636122951218,0.06451901011941573,-0.8042140226810693,-0.4799095259944002,-0.7228634578237165,0.23392212692192293,-0.5253559983110266,-0.005551655753853849,-1.581190796892674,-0.100944996595511,-0.36032418400728666,0.5683775057321915,-0.8875035255092706,0.920332767011539,-0.8378529508094908,2.207100912475008,-0.038956452336035875,1.7265669308226161,-0.21127645786169866,-0.03648413775657497,0.6477042890699376,1.717122130117437,0.7670217124737083,0.4011841768438215,-0.5771860490915778,-1.2952904699021186,-0.5614861119771376,0.3552524746507848,0.345368819654225,-0.486542716473194,-0.46989855997673624,0.47018822027319174,-0.5556740606086376,-0.5508351364377948,-0.6689676565419325,-0.12457825258275382,1.0877758572906697,-0.014239704339121232,-1.6608604457359628,1.4821620161097675,1.1008139823858007,-0.23902094669399154,-0.6659886541239679,0.5328878624002946,0.339322926441731,1.5115792223663922,0.8165994139801861,0.6276223908531292,-0.3173257506316113,1.1302860331046023,-1.337122276668125,-1.7483710170291413,0.8883164654916883,-0.23718451528176032,0.136395655094501,-0.16601627031277902,0.5004192659250103,-0.21116110306728084,1.2744353062002893,-0.08179344137315678,-0.887429149024921,0.17680435085489035,0.9006247162148816,0.3294130449437715,-1.4774903881761516,0.7656241967464709,0.47361979358312306,0.5405391526466155,0.39341633131077053,-2.4023312521643514,-0.6074321625556381,1.4120134927426395,-0.7663209956048409,0.3946572185611099,1.101027134677378,2.2913939671179193,-0.3474317575058246],\"type\":\"box\"},{\"boxpoints\":false,\"line\":{\"width\":1.3},\"marker\":{\"color\":\"rgba(50, 171, 96, 1.0)\"},\"name\":\"C\",\"orientation\":\"v\",\"y\":[0.24580720293270789,-0.16791258338056927,-0.3551479634347549,-1.3233085331930585,0.7097797908246052,0.31040033879971257,-1.6718985315521668,0.4558342746292871,0.6514803065472838,0.08110556967608246,1.0260850390526737,1.1020529487741573,-0.07079645264341279,0.6993218505747866,0.8257781490301271,0.3912486892400691,-0.42834637536562875,1.3110906708710228,-0.013808944615887742,0.8673460817320041,-0.0676721955089728,1.1595969389127676,-2.659098634214604,1.1872328751495338,0.6325408476490932,-1.1258226640300024,-0.20268519369486213,1.1236106734617177,-0.6080856244352839,-1.2177214608605689,1.0276095480784375,0.0927468330768223,0.1602110795401743,-0.5042954689831142,-0.47728877956374566,0.26523305088620625,0.03614873092792522,0.8437171837795762,-1.8962433054646162,0.6561221119045462,-0.3263394816877104,-0.13154920221109132,-0.3139253977492223,0.3369570346411211,1.3355867881817336,-0.38525189743613936,0.6488424993995671,0.42343375066531047,1.0584993329798738,-0.6868277034680705,0.9059310468128209,-0.3461808821898123,-0.9161137066046858,-1.5032945636101964,-1.0043357428623314,0.4056862397127461,0.5268023994911366,-1.7256377069714444,-0.4783352503905883,-0.6556621746351436,-1.8844086686528698,1.1798865505687492,-1.3421246750205809,-0.23560665404353476,0.21369864561464302,-0.24759708685697168,-1.3016092767861585,0.2414783341289692,0.723525851278836,0.26409779961735136,0.6823036091120643,0.16593570160663768,-0.06173788566606027,1.7928139857018244,-0.6882336938667062,-1.7929803680573533,1.877860173947971,-0.6234395949275936,-0.9671511628687711,-0.4495149890052343,-1.7239661938374629,0.11603006916036149,-0.19123405951466851,-0.3084811571021436,-0.9445287301697122,-0.6760778171840082,-0.3220953942413495,0.31451053248896116,0.5169515130689945,-0.041813606015498904,1.2800522964060397,-0.2643507897701546,0.851981930005477,1.2268302192809262,-0.9013530736648057,-0.6253983724844503,-0.5291521293215709,0.10300817655146013,1.106842872035679,-0.14627641238432817],\"type\":\"box\"},{\"boxpoints\":false,\"line\":{\"width\":1.3},\"marker\":{\"color\":\"rgba(128, 0, 128, 1.0)\"},\"name\":\"D\",\"orientation\":\"v\",\"y\":[-2.152868158232687,0.22147600083290267,2.0258967250186357,-0.8559096402277154,-1.4493963564928796,-0.7237887927557322,0.04994827515307033,0.23762938713516832,0.20917147145454562,0.5000432132657668,2.111735139961974,-0.18341074673914798,0.6268962272953703,2.3964200652668124,1.7259510244487086,-2.063163575013612,0.1379776183602663,-1.354467172609517,-0.241329364537885,-2.595775805420712,-0.5772752585875544,1.3069010034627697,-0.8909400121837199,-0.8434653651679853,1.7825504414506432,0.40306466107041566,-0.2002688213178314,-1.3538177425957982,-1.049201725002004,1.5211526564385496,-1.0806741783898786,2.1647496672772775,-1.402318347071575,0.47468852593249256,-1.5015980645274436,-0.41275995971813023,1.3883375285529573,-0.41045570940836346,1.5148074330667176,0.7813872002039445,-1.207026042101101,-0.6355157242831765,-1.7797644460245459,0.5870587013270901,-0.6911624265195444,1.0213851060342434,-0.9957843325465735,0.2378174771494934,0.39209669237121597,0.33877140830953195,-0.2742291462613146,-0.17081298756578328,0.18279547264917811,1.2895860229045453,0.7445830023862078,0.7067083876243946,-0.29961938111665587,0.1101668027363602,-1.4656918987730918,0.34232983864472594,-0.40070219794675555,0.4363246196936259,-0.6495722058337039,0.33217657663609085,-1.113834833270538,-0.2956601719820081,-0.12207866184611177,-0.5655743720402427,0.9122001626732609,-0.6171760567819509,-0.41140049703854514,0.18637925528471375,0.8359844659765966,0.9680438704685685,-0.701446077454482,1.0625053169816423,0.3454732043018869,-0.5569914470776471,-0.44582630975238624,2.8319313931223347,2.2801627286450485,1.209993253282053,0.09504486434510401,1.0275099629228186,-1.3478968678350511,1.263349306325821,0.6446994450351753,0.3372422081383686,-0.37663911470308814,-0.41128906290655165,0.2740661757383904,0.8307809509608569,0.09974064493153914,-0.4432047085326059,-0.03856477255306065,-0.12560136077367148,-0.5913960415329688,-0.19313389525112634,-0.42674109057431664,-0.12805618860776607],\"type\":\"box\"}],                        {\"legend\":{\"bgcolor\":\"#F5F6F9\",\"font\":{\"color\":\"#4D5663\"}},\"paper_bgcolor\":\"#F5F6F9\",\"plot_bgcolor\":\"#F5F6F9\",\"template\":{\"data\":{\"barpolar\":[{\"marker\":{\"line\":{\"color\":\"#E5ECF6\",\"width\":0.5},\"pattern\":{\"fillmode\":\"overlay\",\"size\":10,\"solidity\":0.2}},\"type\":\"barpolar\"}],\"bar\":[{\"error_x\":{\"color\":\"#2a3f5f\"},\"error_y\":{\"color\":\"#2a3f5f\"},\"marker\":{\"line\":{\"color\":\"#E5ECF6\",\"width\":0.5},\"pattern\":{\"fillmode\":\"overlay\",\"size\":10,\"solidity\":0.2}},\"type\":\"bar\"}],\"carpet\":[{\"aaxis\":{\"endlinecolor\":\"#2a3f5f\",\"gridcolor\":\"white\",\"linecolor\":\"white\",\"minorgridcolor\":\"white\",\"startlinecolor\":\"#2a3f5f\"},\"baxis\":{\"endlinecolor\":\"#2a3f5f\",\"gridcolor\":\"white\",\"linecolor\":\"white\",\"minorgridcolor\":\"white\",\"startlinecolor\":\"#2a3f5f\"},\"type\":\"carpet\"}],\"choropleth\":[{\"colorbar\":{\"outlinewidth\":0,\"ticks\":\"\"},\"type\":\"choropleth\"}],\"contourcarpet\":[{\"colorbar\":{\"outlinewidth\":0,\"ticks\":\"\"},\"type\":\"contourcarpet\"}],\"contour\":[{\"colorbar\":{\"outlinewidth\":0,\"ticks\":\"\"},\"colorscale\":[[0.0,\"#0d0887\"],[0.1111111111111111,\"#46039f\"],[0.2222222222222222,\"#7201a8\"],[0.3333333333333333,\"#9c179e\"],[0.4444444444444444,\"#bd3786\"],[0.5555555555555556,\"#d8576b\"],[0.6666666666666666,\"#ed7953\"],[0.7777777777777778,\"#fb9f3a\"],[0.8888888888888888,\"#fdca26\"],[1.0,\"#f0f921\"]],\"type\":\"contour\"}],\"heatmapgl\":[{\"colorbar\":{\"outlinewidth\":0,\"ticks\":\"\"},\"colorscale\":[[0.0,\"#0d0887\"],[0.1111111111111111,\"#46039f\"],[0.2222222222222222,\"#7201a8\"],[0.3333333333333333,\"#9c179e\"],[0.4444444444444444,\"#bd3786\"],[0.5555555555555556,\"#d8576b\"],[0.6666666666666666,\"#ed7953\"],[0.7777777777777778,\"#fb9f3a\"],[0.8888888888888888,\"#fdca26\"],[1.0,\"#f0f921\"]],\"type\":\"heatmapgl\"}],\"heatmap\":[{\"colorbar\":{\"outlinewidth\":0,\"ticks\":\"\"},\"colorscale\":[[0.0,\"#0d0887\"],[0.1111111111111111,\"#46039f\"],[0.2222222222222222,\"#7201a8\"],[0.3333333333333333,\"#9c179e\"],[0.4444444444444444,\"#bd3786\"],[0.5555555555555556,\"#d8576b\"],[0.6666666666666666,\"#ed7953\"],[0.7777777777777778,\"#fb9f3a\"],[0.8888888888888888,\"#fdca26\"],[1.0,\"#f0f921\"]],\"type\":\"heatmap\"}],\"histogram2dcontour\":[{\"colorbar\":{\"outlinewidth\":0,\"ticks\":\"\"},\"colorscale\":[[0.0,\"#0d0887\"],[0.1111111111111111,\"#46039f\"],[0.2222222222222222,\"#7201a8\"],[0.3333333333333333,\"#9c179e\"],[0.4444444444444444,\"#bd3786\"],[0.5555555555555556,\"#d8576b\"],[0.6666666666666666,\"#ed7953\"],[0.7777777777777778,\"#fb9f3a\"],[0.8888888888888888,\"#fdca26\"],[1.0,\"#f0f921\"]],\"type\":\"histogram2dcontour\"}],\"histogram2d\":[{\"colorbar\":{\"outlinewidth\":0,\"ticks\":\"\"},\"colorscale\":[[0.0,\"#0d0887\"],[0.1111111111111111,\"#46039f\"],[0.2222222222222222,\"#7201a8\"],[0.3333333333333333,\"#9c179e\"],[0.4444444444444444,\"#bd3786\"],[0.5555555555555556,\"#d8576b\"],[0.6666666666666666,\"#ed7953\"],[0.7777777777777778,\"#fb9f3a\"],[0.8888888888888888,\"#fdca26\"],[1.0,\"#f0f921\"]],\"type\":\"histogram2d\"}],\"histogram\":[{\"marker\":{\"pattern\":{\"fillmode\":\"overlay\",\"size\":10,\"solidity\":0.2}},\"type\":\"histogram\"}],\"mesh3d\":[{\"colorbar\":{\"outlinewidth\":0,\"ticks\":\"\"},\"type\":\"mesh3d\"}],\"parcoords\":[{\"line\":{\"colorbar\":{\"outlinewidth\":0,\"ticks\":\"\"}},\"type\":\"parcoords\"}],\"pie\":[{\"automargin\":true,\"type\":\"pie\"}],\"scatter3d\":[{\"line\":{\"colorbar\":{\"outlinewidth\":0,\"ticks\":\"\"}},\"marker\":{\"colorbar\":{\"outlinewidth\":0,\"ticks\":\"\"}},\"type\":\"scatter3d\"}],\"scattercarpet\":[{\"marker\":{\"colorbar\":{\"outlinewidth\":0,\"ticks\":\"\"}},\"type\":\"scattercarpet\"}],\"scattergeo\":[{\"marker\":{\"colorbar\":{\"outlinewidth\":0,\"ticks\":\"\"}},\"type\":\"scattergeo\"}],\"scattergl\":[{\"marker\":{\"colorbar\":{\"outlinewidth\":0,\"ticks\":\"\"}},\"type\":\"scattergl\"}],\"scattermapbox\":[{\"marker\":{\"colorbar\":{\"outlinewidth\":0,\"ticks\":\"\"}},\"type\":\"scattermapbox\"}],\"scatterpolargl\":[{\"marker\":{\"colorbar\":{\"outlinewidth\":0,\"ticks\":\"\"}},\"type\":\"scatterpolargl\"}],\"scatterpolar\":[{\"marker\":{\"colorbar\":{\"outlinewidth\":0,\"ticks\":\"\"}},\"type\":\"scatterpolar\"}],\"scatter\":[{\"fillpattern\":{\"fillmode\":\"overlay\",\"size\":10,\"solidity\":0.2},\"type\":\"scatter\"}],\"scatterternary\":[{\"marker\":{\"colorbar\":{\"outlinewidth\":0,\"ticks\":\"\"}},\"type\":\"scatterternary\"}],\"surface\":[{\"colorbar\":{\"outlinewidth\":0,\"ticks\":\"\"},\"colorscale\":[[0.0,\"#0d0887\"],[0.1111111111111111,\"#46039f\"],[0.2222222222222222,\"#7201a8\"],[0.3333333333333333,\"#9c179e\"],[0.4444444444444444,\"#bd3786\"],[0.5555555555555556,\"#d8576b\"],[0.6666666666666666,\"#ed7953\"],[0.7777777777777778,\"#fb9f3a\"],[0.8888888888888888,\"#fdca26\"],[1.0,\"#f0f921\"]],\"type\":\"surface\"}],\"table\":[{\"cells\":{\"fill\":{\"color\":\"#EBF0F8\"},\"line\":{\"color\":\"white\"}},\"header\":{\"fill\":{\"color\":\"#C8D4E3\"},\"line\":{\"color\":\"white\"}},\"type\":\"table\"}]},\"layout\":{\"annotationdefaults\":{\"arrowcolor\":\"#2a3f5f\",\"arrowhead\":0,\"arrowwidth\":1},\"autotypenumbers\":\"strict\",\"coloraxis\":{\"colorbar\":{\"outlinewidth\":0,\"ticks\":\"\"}},\"colorscale\":{\"diverging\":[[0,\"#8e0152\"],[0.1,\"#c51b7d\"],[0.2,\"#de77ae\"],[0.3,\"#f1b6da\"],[0.4,\"#fde0ef\"],[0.5,\"#f7f7f7\"],[0.6,\"#e6f5d0\"],[0.7,\"#b8e186\"],[0.8,\"#7fbc41\"],[0.9,\"#4d9221\"],[1,\"#276419\"]],\"sequential\":[[0.0,\"#0d0887\"],[0.1111111111111111,\"#46039f\"],[0.2222222222222222,\"#7201a8\"],[0.3333333333333333,\"#9c179e\"],[0.4444444444444444,\"#bd3786\"],[0.5555555555555556,\"#d8576b\"],[0.6666666666666666,\"#ed7953\"],[0.7777777777777778,\"#fb9f3a\"],[0.8888888888888888,\"#fdca26\"],[1.0,\"#f0f921\"]],\"sequentialminus\":[[0.0,\"#0d0887\"],[0.1111111111111111,\"#46039f\"],[0.2222222222222222,\"#7201a8\"],[0.3333333333333333,\"#9c179e\"],[0.4444444444444444,\"#bd3786\"],[0.5555555555555556,\"#d8576b\"],[0.6666666666666666,\"#ed7953\"],[0.7777777777777778,\"#fb9f3a\"],[0.8888888888888888,\"#fdca26\"],[1.0,\"#f0f921\"]]},\"colorway\":[\"#636efa\",\"#EF553B\",\"#00cc96\",\"#ab63fa\",\"#FFA15A\",\"#19d3f3\",\"#FF6692\",\"#B6E880\",\"#FF97FF\",\"#FECB52\"],\"font\":{\"color\":\"#2a3f5f\"},\"geo\":{\"bgcolor\":\"white\",\"lakecolor\":\"white\",\"landcolor\":\"#E5ECF6\",\"showlakes\":true,\"showland\":true,\"subunitcolor\":\"white\"},\"hoverlabel\":{\"align\":\"left\"},\"hovermode\":\"closest\",\"mapbox\":{\"style\":\"light\"},\"paper_bgcolor\":\"white\",\"plot_bgcolor\":\"#E5ECF6\",\"polar\":{\"angularaxis\":{\"gridcolor\":\"white\",\"linecolor\":\"white\",\"ticks\":\"\"},\"bgcolor\":\"#E5ECF6\",\"radialaxis\":{\"gridcolor\":\"white\",\"linecolor\":\"white\",\"ticks\":\"\"}},\"scene\":{\"xaxis\":{\"backgroundcolor\":\"#E5ECF6\",\"gridcolor\":\"white\",\"gridwidth\":2,\"linecolor\":\"white\",\"showbackground\":true,\"ticks\":\"\",\"zerolinecolor\":\"white\"},\"yaxis\":{\"backgroundcolor\":\"#E5ECF6\",\"gridcolor\":\"white\",\"gridwidth\":2,\"linecolor\":\"white\",\"showbackground\":true,\"ticks\":\"\",\"zerolinecolor\":\"white\"},\"zaxis\":{\"backgroundcolor\":\"#E5ECF6\",\"gridcolor\":\"white\",\"gridwidth\":2,\"linecolor\":\"white\",\"showbackground\":true,\"ticks\":\"\",\"zerolinecolor\":\"white\"}},\"shapedefaults\":{\"line\":{\"color\":\"#2a3f5f\"}},\"ternary\":{\"aaxis\":{\"gridcolor\":\"white\",\"linecolor\":\"white\",\"ticks\":\"\"},\"baxis\":{\"gridcolor\":\"white\",\"linecolor\":\"white\",\"ticks\":\"\"},\"bgcolor\":\"#E5ECF6\",\"caxis\":{\"gridcolor\":\"white\",\"linecolor\":\"white\",\"ticks\":\"\"}},\"title\":{\"x\":0.05},\"xaxis\":{\"automargin\":true,\"gridcolor\":\"white\",\"linecolor\":\"white\",\"ticks\":\"\",\"title\":{\"standoff\":15},\"zerolinecolor\":\"white\",\"zerolinewidth\":2},\"yaxis\":{\"automargin\":true,\"gridcolor\":\"white\",\"linecolor\":\"white\",\"ticks\":\"\",\"title\":{\"standoff\":15},\"zerolinecolor\":\"white\",\"zerolinewidth\":2}}},\"title\":{\"font\":{\"color\":\"#4D5663\"}},\"xaxis\":{\"gridcolor\":\"#E1E5ED\",\"showgrid\":true,\"tickfont\":{\"color\":\"#4D5663\"},\"title\":{\"font\":{\"color\":\"#4D5663\"},\"text\":\"\"},\"zerolinecolor\":\"#E1E5ED\"},\"yaxis\":{\"gridcolor\":\"#E1E5ED\",\"showgrid\":true,\"tickfont\":{\"color\":\"#4D5663\"},\"title\":{\"font\":{\"color\":\"#4D5663\"},\"text\":\"\"},\"zerolinecolor\":\"#E1E5ED\"}},                        {\"showLink\": true, \"linkText\": \"Export to plot.ly\", \"plotlyServerURL\": \"https://plot.ly\", \"responsive\": true}                    ).then(function(){\n",
       "                            \n",
       "var gd = document.getElementById('dadeab35-9ccd-4b7e-8491-7403774eb59d');\n",
       "var x = new MutationObserver(function (mutations, observer) {{\n",
       "        var display = window.getComputedStyle(gd).display;\n",
       "        if (!display || display === 'none') {{\n",
       "            console.log([gd, 'removed!']);\n",
       "            Plotly.purge(gd);\n",
       "            observer.disconnect();\n",
       "        }}\n",
       "}});\n",
       "\n",
       "// Listen for the removal of the full notebook cells\n",
       "var notebookContainer = gd.closest('#notebook-container');\n",
       "if (notebookContainer) {{\n",
       "    x.observe(notebookContainer, {childList: true});\n",
       "}}\n",
       "\n",
       "// Listen for the clearing of the current output cell\n",
       "var outputEl = gd.closest('.output');\n",
       "if (outputEl) {{\n",
       "    x.observe(outputEl, {childList: true});\n",
       "}}\n",
       "\n",
       "                        })                };                });            </script>        </div>"
      ]
     },
     "metadata": {},
     "output_type": "display_data"
    }
   ],
   "source": [
    "df.iplot(kind='box')"
   ]
  },
  {
   "cell_type": "markdown",
   "metadata": {},
   "source": [
    "## 3d Surface"
   ]
  },
  {
   "cell_type": "code",
   "execution_count": 15,
   "metadata": {},
   "outputs": [
    {
     "data": {
      "application/vnd.plotly.v1+json": {
       "config": {
        "linkText": "Export to plot.ly",
        "plotlyServerURL": "https://plot.ly",
        "showLink": true
       },
       "data": [
        {
         "colorscale": [
          [
           0,
           "rgb(165,0,38)"
          ],
          [
           0.1,
           "rgb(215,48,39)"
          ],
          [
           0.2,
           "rgb(244,109,67)"
          ],
          [
           0.3,
           "rgb(253,174,97)"
          ],
          [
           0.4,
           "rgb(254,224,144)"
          ],
          [
           0.5,
           "rgb(255,255,191)"
          ],
          [
           0.6,
           "rgb(224,243,248)"
          ],
          [
           0.7,
           "rgb(171,217,233)"
          ],
          [
           0.8,
           "rgb(116,173,209)"
          ],
          [
           0.9,
           "rgb(69,117,180)"
          ],
          [
           1,
           "rgb(49,54,149)"
          ]
         ],
         "type": "surface",
         "x": [
          0,
          1,
          2,
          3,
          4
         ],
         "y": [
          "x",
          "y",
          "z"
         ],
         "z": [
          [
           1,
           2,
           3,
           4,
           5
          ],
          [
           10,
           20,
           30,
           20,
           10
          ],
          [
           5,
           4,
           3,
           2,
           1
          ]
         ]
        }
       ],
       "layout": {
        "legend": {
         "bgcolor": "#F5F6F9",
         "font": {
          "color": "#4D5663"
         }
        },
        "paper_bgcolor": "#F5F6F9",
        "plot_bgcolor": "#F5F6F9",
        "template": {
         "data": {
          "bar": [
           {
            "error_x": {
             "color": "#2a3f5f"
            },
            "error_y": {
             "color": "#2a3f5f"
            },
            "marker": {
             "line": {
              "color": "#E5ECF6",
              "width": 0.5
             },
             "pattern": {
              "fillmode": "overlay",
              "size": 10,
              "solidity": 0.2
             }
            },
            "type": "bar"
           }
          ],
          "barpolar": [
           {
            "marker": {
             "line": {
              "color": "#E5ECF6",
              "width": 0.5
             },
             "pattern": {
              "fillmode": "overlay",
              "size": 10,
              "solidity": 0.2
             }
            },
            "type": "barpolar"
           }
          ],
          "carpet": [
           {
            "aaxis": {
             "endlinecolor": "#2a3f5f",
             "gridcolor": "white",
             "linecolor": "white",
             "minorgridcolor": "white",
             "startlinecolor": "#2a3f5f"
            },
            "baxis": {
             "endlinecolor": "#2a3f5f",
             "gridcolor": "white",
             "linecolor": "white",
             "minorgridcolor": "white",
             "startlinecolor": "#2a3f5f"
            },
            "type": "carpet"
           }
          ],
          "choropleth": [
           {
            "colorbar": {
             "outlinewidth": 0,
             "ticks": ""
            },
            "type": "choropleth"
           }
          ],
          "contour": [
           {
            "colorbar": {
             "outlinewidth": 0,
             "ticks": ""
            },
            "colorscale": [
             [
              0,
              "#0d0887"
             ],
             [
              0.1111111111111111,
              "#46039f"
             ],
             [
              0.2222222222222222,
              "#7201a8"
             ],
             [
              0.3333333333333333,
              "#9c179e"
             ],
             [
              0.4444444444444444,
              "#bd3786"
             ],
             [
              0.5555555555555556,
              "#d8576b"
             ],
             [
              0.6666666666666666,
              "#ed7953"
             ],
             [
              0.7777777777777778,
              "#fb9f3a"
             ],
             [
              0.8888888888888888,
              "#fdca26"
             ],
             [
              1,
              "#f0f921"
             ]
            ],
            "type": "contour"
           }
          ],
          "contourcarpet": [
           {
            "colorbar": {
             "outlinewidth": 0,
             "ticks": ""
            },
            "type": "contourcarpet"
           }
          ],
          "heatmap": [
           {
            "colorbar": {
             "outlinewidth": 0,
             "ticks": ""
            },
            "colorscale": [
             [
              0,
              "#0d0887"
             ],
             [
              0.1111111111111111,
              "#46039f"
             ],
             [
              0.2222222222222222,
              "#7201a8"
             ],
             [
              0.3333333333333333,
              "#9c179e"
             ],
             [
              0.4444444444444444,
              "#bd3786"
             ],
             [
              0.5555555555555556,
              "#d8576b"
             ],
             [
              0.6666666666666666,
              "#ed7953"
             ],
             [
              0.7777777777777778,
              "#fb9f3a"
             ],
             [
              0.8888888888888888,
              "#fdca26"
             ],
             [
              1,
              "#f0f921"
             ]
            ],
            "type": "heatmap"
           }
          ],
          "heatmapgl": [
           {
            "colorbar": {
             "outlinewidth": 0,
             "ticks": ""
            },
            "colorscale": [
             [
              0,
              "#0d0887"
             ],
             [
              0.1111111111111111,
              "#46039f"
             ],
             [
              0.2222222222222222,
              "#7201a8"
             ],
             [
              0.3333333333333333,
              "#9c179e"
             ],
             [
              0.4444444444444444,
              "#bd3786"
             ],
             [
              0.5555555555555556,
              "#d8576b"
             ],
             [
              0.6666666666666666,
              "#ed7953"
             ],
             [
              0.7777777777777778,
              "#fb9f3a"
             ],
             [
              0.8888888888888888,
              "#fdca26"
             ],
             [
              1,
              "#f0f921"
             ]
            ],
            "type": "heatmapgl"
           }
          ],
          "histogram": [
           {
            "marker": {
             "pattern": {
              "fillmode": "overlay",
              "size": 10,
              "solidity": 0.2
             }
            },
            "type": "histogram"
           }
          ],
          "histogram2d": [
           {
            "colorbar": {
             "outlinewidth": 0,
             "ticks": ""
            },
            "colorscale": [
             [
              0,
              "#0d0887"
             ],
             [
              0.1111111111111111,
              "#46039f"
             ],
             [
              0.2222222222222222,
              "#7201a8"
             ],
             [
              0.3333333333333333,
              "#9c179e"
             ],
             [
              0.4444444444444444,
              "#bd3786"
             ],
             [
              0.5555555555555556,
              "#d8576b"
             ],
             [
              0.6666666666666666,
              "#ed7953"
             ],
             [
              0.7777777777777778,
              "#fb9f3a"
             ],
             [
              0.8888888888888888,
              "#fdca26"
             ],
             [
              1,
              "#f0f921"
             ]
            ],
            "type": "histogram2d"
           }
          ],
          "histogram2dcontour": [
           {
            "colorbar": {
             "outlinewidth": 0,
             "ticks": ""
            },
            "colorscale": [
             [
              0,
              "#0d0887"
             ],
             [
              0.1111111111111111,
              "#46039f"
             ],
             [
              0.2222222222222222,
              "#7201a8"
             ],
             [
              0.3333333333333333,
              "#9c179e"
             ],
             [
              0.4444444444444444,
              "#bd3786"
             ],
             [
              0.5555555555555556,
              "#d8576b"
             ],
             [
              0.6666666666666666,
              "#ed7953"
             ],
             [
              0.7777777777777778,
              "#fb9f3a"
             ],
             [
              0.8888888888888888,
              "#fdca26"
             ],
             [
              1,
              "#f0f921"
             ]
            ],
            "type": "histogram2dcontour"
           }
          ],
          "mesh3d": [
           {
            "colorbar": {
             "outlinewidth": 0,
             "ticks": ""
            },
            "type": "mesh3d"
           }
          ],
          "parcoords": [
           {
            "line": {
             "colorbar": {
              "outlinewidth": 0,
              "ticks": ""
             }
            },
            "type": "parcoords"
           }
          ],
          "pie": [
           {
            "automargin": true,
            "type": "pie"
           }
          ],
          "scatter": [
           {
            "fillpattern": {
             "fillmode": "overlay",
             "size": 10,
             "solidity": 0.2
            },
            "type": "scatter"
           }
          ],
          "scatter3d": [
           {
            "line": {
             "colorbar": {
              "outlinewidth": 0,
              "ticks": ""
             }
            },
            "marker": {
             "colorbar": {
              "outlinewidth": 0,
              "ticks": ""
             }
            },
            "type": "scatter3d"
           }
          ],
          "scattercarpet": [
           {
            "marker": {
             "colorbar": {
              "outlinewidth": 0,
              "ticks": ""
             }
            },
            "type": "scattercarpet"
           }
          ],
          "scattergeo": [
           {
            "marker": {
             "colorbar": {
              "outlinewidth": 0,
              "ticks": ""
             }
            },
            "type": "scattergeo"
           }
          ],
          "scattergl": [
           {
            "marker": {
             "colorbar": {
              "outlinewidth": 0,
              "ticks": ""
             }
            },
            "type": "scattergl"
           }
          ],
          "scattermapbox": [
           {
            "marker": {
             "colorbar": {
              "outlinewidth": 0,
              "ticks": ""
             }
            },
            "type": "scattermapbox"
           }
          ],
          "scatterpolar": [
           {
            "marker": {
             "colorbar": {
              "outlinewidth": 0,
              "ticks": ""
             }
            },
            "type": "scatterpolar"
           }
          ],
          "scatterpolargl": [
           {
            "marker": {
             "colorbar": {
              "outlinewidth": 0,
              "ticks": ""
             }
            },
            "type": "scatterpolargl"
           }
          ],
          "scatterternary": [
           {
            "marker": {
             "colorbar": {
              "outlinewidth": 0,
              "ticks": ""
             }
            },
            "type": "scatterternary"
           }
          ],
          "surface": [
           {
            "colorbar": {
             "outlinewidth": 0,
             "ticks": ""
            },
            "colorscale": [
             [
              0,
              "#0d0887"
             ],
             [
              0.1111111111111111,
              "#46039f"
             ],
             [
              0.2222222222222222,
              "#7201a8"
             ],
             [
              0.3333333333333333,
              "#9c179e"
             ],
             [
              0.4444444444444444,
              "#bd3786"
             ],
             [
              0.5555555555555556,
              "#d8576b"
             ],
             [
              0.6666666666666666,
              "#ed7953"
             ],
             [
              0.7777777777777778,
              "#fb9f3a"
             ],
             [
              0.8888888888888888,
              "#fdca26"
             ],
             [
              1,
              "#f0f921"
             ]
            ],
            "type": "surface"
           }
          ],
          "table": [
           {
            "cells": {
             "fill": {
              "color": "#EBF0F8"
             },
             "line": {
              "color": "white"
             }
            },
            "header": {
             "fill": {
              "color": "#C8D4E3"
             },
             "line": {
              "color": "white"
             }
            },
            "type": "table"
           }
          ]
         },
         "layout": {
          "annotationdefaults": {
           "arrowcolor": "#2a3f5f",
           "arrowhead": 0,
           "arrowwidth": 1
          },
          "autotypenumbers": "strict",
          "coloraxis": {
           "colorbar": {
            "outlinewidth": 0,
            "ticks": ""
           }
          },
          "colorscale": {
           "diverging": [
            [
             0,
             "#8e0152"
            ],
            [
             0.1,
             "#c51b7d"
            ],
            [
             0.2,
             "#de77ae"
            ],
            [
             0.3,
             "#f1b6da"
            ],
            [
             0.4,
             "#fde0ef"
            ],
            [
             0.5,
             "#f7f7f7"
            ],
            [
             0.6,
             "#e6f5d0"
            ],
            [
             0.7,
             "#b8e186"
            ],
            [
             0.8,
             "#7fbc41"
            ],
            [
             0.9,
             "#4d9221"
            ],
            [
             1,
             "#276419"
            ]
           ],
           "sequential": [
            [
             0,
             "#0d0887"
            ],
            [
             0.1111111111111111,
             "#46039f"
            ],
            [
             0.2222222222222222,
             "#7201a8"
            ],
            [
             0.3333333333333333,
             "#9c179e"
            ],
            [
             0.4444444444444444,
             "#bd3786"
            ],
            [
             0.5555555555555556,
             "#d8576b"
            ],
            [
             0.6666666666666666,
             "#ed7953"
            ],
            [
             0.7777777777777778,
             "#fb9f3a"
            ],
            [
             0.8888888888888888,
             "#fdca26"
            ],
            [
             1,
             "#f0f921"
            ]
           ],
           "sequentialminus": [
            [
             0,
             "#0d0887"
            ],
            [
             0.1111111111111111,
             "#46039f"
            ],
            [
             0.2222222222222222,
             "#7201a8"
            ],
            [
             0.3333333333333333,
             "#9c179e"
            ],
            [
             0.4444444444444444,
             "#bd3786"
            ],
            [
             0.5555555555555556,
             "#d8576b"
            ],
            [
             0.6666666666666666,
             "#ed7953"
            ],
            [
             0.7777777777777778,
             "#fb9f3a"
            ],
            [
             0.8888888888888888,
             "#fdca26"
            ],
            [
             1,
             "#f0f921"
            ]
           ]
          },
          "colorway": [
           "#636efa",
           "#EF553B",
           "#00cc96",
           "#ab63fa",
           "#FFA15A",
           "#19d3f3",
           "#FF6692",
           "#B6E880",
           "#FF97FF",
           "#FECB52"
          ],
          "font": {
           "color": "#2a3f5f"
          },
          "geo": {
           "bgcolor": "white",
           "lakecolor": "white",
           "landcolor": "#E5ECF6",
           "showlakes": true,
           "showland": true,
           "subunitcolor": "white"
          },
          "hoverlabel": {
           "align": "left"
          },
          "hovermode": "closest",
          "mapbox": {
           "style": "light"
          },
          "paper_bgcolor": "white",
          "plot_bgcolor": "#E5ECF6",
          "polar": {
           "angularaxis": {
            "gridcolor": "white",
            "linecolor": "white",
            "ticks": ""
           },
           "bgcolor": "#E5ECF6",
           "radialaxis": {
            "gridcolor": "white",
            "linecolor": "white",
            "ticks": ""
           }
          },
          "scene": {
           "xaxis": {
            "backgroundcolor": "#E5ECF6",
            "gridcolor": "white",
            "gridwidth": 2,
            "linecolor": "white",
            "showbackground": true,
            "ticks": "",
            "zerolinecolor": "white"
           },
           "yaxis": {
            "backgroundcolor": "#E5ECF6",
            "gridcolor": "white",
            "gridwidth": 2,
            "linecolor": "white",
            "showbackground": true,
            "ticks": "",
            "zerolinecolor": "white"
           },
           "zaxis": {
            "backgroundcolor": "#E5ECF6",
            "gridcolor": "white",
            "gridwidth": 2,
            "linecolor": "white",
            "showbackground": true,
            "ticks": "",
            "zerolinecolor": "white"
           }
          },
          "shapedefaults": {
           "line": {
            "color": "#2a3f5f"
           }
          },
          "ternary": {
           "aaxis": {
            "gridcolor": "white",
            "linecolor": "white",
            "ticks": ""
           },
           "baxis": {
            "gridcolor": "white",
            "linecolor": "white",
            "ticks": ""
           },
           "bgcolor": "#E5ECF6",
           "caxis": {
            "gridcolor": "white",
            "linecolor": "white",
            "ticks": ""
           }
          },
          "title": {
           "x": 0.05
          },
          "xaxis": {
           "automargin": true,
           "gridcolor": "white",
           "linecolor": "white",
           "ticks": "",
           "title": {
            "standoff": 15
           },
           "zerolinecolor": "white",
           "zerolinewidth": 2
          },
          "yaxis": {
           "automargin": true,
           "gridcolor": "white",
           "linecolor": "white",
           "ticks": "",
           "title": {
            "standoff": 15
           },
           "zerolinecolor": "white",
           "zerolinewidth": 2
          }
         }
        },
        "title": {
         "font": {
          "color": "#4D5663"
         }
        },
        "xaxis": {
         "gridcolor": "#E1E5ED",
         "showgrid": true,
         "tickfont": {
          "color": "#4D5663"
         },
         "title": {
          "font": {
           "color": "#4D5663"
          },
          "text": ""
         },
         "zerolinecolor": "#E1E5ED"
        },
        "yaxis": {
         "gridcolor": "#E1E5ED",
         "showgrid": true,
         "tickfont": {
          "color": "#4D5663"
         },
         "title": {
          "font": {
           "color": "#4D5663"
          },
          "text": ""
         },
         "zerolinecolor": "#E1E5ED"
        }
       }
      },
      "text/html": [
       "<div>                            <div id=\"1265bda8-0166-4924-b3ae-2e05470a2e6a\" class=\"plotly-graph-div\" style=\"height:525px; width:100%;\"></div>            <script type=\"text/javascript\">                require([\"plotly\"], function(Plotly) {                    window.PLOTLYENV=window.PLOTLYENV || {};\n",
       "                    window.PLOTLYENV.BASE_URL='https://plot.ly';                                    if (document.getElementById(\"1265bda8-0166-4924-b3ae-2e05470a2e6a\")) {                    Plotly.newPlot(                        \"1265bda8-0166-4924-b3ae-2e05470a2e6a\",                        [{\"colorscale\":[[0.0,\"rgb(165,0,38)\"],[0.1,\"rgb(215,48,39)\"],[0.2,\"rgb(244,109,67)\"],[0.3,\"rgb(253,174,97)\"],[0.4,\"rgb(254,224,144)\"],[0.5,\"rgb(255,255,191)\"],[0.6,\"rgb(224,243,248)\"],[0.7,\"rgb(171,217,233)\"],[0.8,\"rgb(116,173,209)\"],[0.9,\"rgb(69,117,180)\"],[1.0,\"rgb(49,54,149)\"]],\"x\":[0,1,2,3,4],\"y\":[\"x\",\"y\",\"z\"],\"z\":[[1,2,3,4,5],[10,20,30,20,10],[5,4,3,2,1]],\"type\":\"surface\"}],                        {\"legend\":{\"bgcolor\":\"#F5F6F9\",\"font\":{\"color\":\"#4D5663\"}},\"paper_bgcolor\":\"#F5F6F9\",\"plot_bgcolor\":\"#F5F6F9\",\"template\":{\"data\":{\"barpolar\":[{\"marker\":{\"line\":{\"color\":\"#E5ECF6\",\"width\":0.5},\"pattern\":{\"fillmode\":\"overlay\",\"size\":10,\"solidity\":0.2}},\"type\":\"barpolar\"}],\"bar\":[{\"error_x\":{\"color\":\"#2a3f5f\"},\"error_y\":{\"color\":\"#2a3f5f\"},\"marker\":{\"line\":{\"color\":\"#E5ECF6\",\"width\":0.5},\"pattern\":{\"fillmode\":\"overlay\",\"size\":10,\"solidity\":0.2}},\"type\":\"bar\"}],\"carpet\":[{\"aaxis\":{\"endlinecolor\":\"#2a3f5f\",\"gridcolor\":\"white\",\"linecolor\":\"white\",\"minorgridcolor\":\"white\",\"startlinecolor\":\"#2a3f5f\"},\"baxis\":{\"endlinecolor\":\"#2a3f5f\",\"gridcolor\":\"white\",\"linecolor\":\"white\",\"minorgridcolor\":\"white\",\"startlinecolor\":\"#2a3f5f\"},\"type\":\"carpet\"}],\"choropleth\":[{\"colorbar\":{\"outlinewidth\":0,\"ticks\":\"\"},\"type\":\"choropleth\"}],\"contourcarpet\":[{\"colorbar\":{\"outlinewidth\":0,\"ticks\":\"\"},\"type\":\"contourcarpet\"}],\"contour\":[{\"colorbar\":{\"outlinewidth\":0,\"ticks\":\"\"},\"colorscale\":[[0.0,\"#0d0887\"],[0.1111111111111111,\"#46039f\"],[0.2222222222222222,\"#7201a8\"],[0.3333333333333333,\"#9c179e\"],[0.4444444444444444,\"#bd3786\"],[0.5555555555555556,\"#d8576b\"],[0.6666666666666666,\"#ed7953\"],[0.7777777777777778,\"#fb9f3a\"],[0.8888888888888888,\"#fdca26\"],[1.0,\"#f0f921\"]],\"type\":\"contour\"}],\"heatmapgl\":[{\"colorbar\":{\"outlinewidth\":0,\"ticks\":\"\"},\"colorscale\":[[0.0,\"#0d0887\"],[0.1111111111111111,\"#46039f\"],[0.2222222222222222,\"#7201a8\"],[0.3333333333333333,\"#9c179e\"],[0.4444444444444444,\"#bd3786\"],[0.5555555555555556,\"#d8576b\"],[0.6666666666666666,\"#ed7953\"],[0.7777777777777778,\"#fb9f3a\"],[0.8888888888888888,\"#fdca26\"],[1.0,\"#f0f921\"]],\"type\":\"heatmapgl\"}],\"heatmap\":[{\"colorbar\":{\"outlinewidth\":0,\"ticks\":\"\"},\"colorscale\":[[0.0,\"#0d0887\"],[0.1111111111111111,\"#46039f\"],[0.2222222222222222,\"#7201a8\"],[0.3333333333333333,\"#9c179e\"],[0.4444444444444444,\"#bd3786\"],[0.5555555555555556,\"#d8576b\"],[0.6666666666666666,\"#ed7953\"],[0.7777777777777778,\"#fb9f3a\"],[0.8888888888888888,\"#fdca26\"],[1.0,\"#f0f921\"]],\"type\":\"heatmap\"}],\"histogram2dcontour\":[{\"colorbar\":{\"outlinewidth\":0,\"ticks\":\"\"},\"colorscale\":[[0.0,\"#0d0887\"],[0.1111111111111111,\"#46039f\"],[0.2222222222222222,\"#7201a8\"],[0.3333333333333333,\"#9c179e\"],[0.4444444444444444,\"#bd3786\"],[0.5555555555555556,\"#d8576b\"],[0.6666666666666666,\"#ed7953\"],[0.7777777777777778,\"#fb9f3a\"],[0.8888888888888888,\"#fdca26\"],[1.0,\"#f0f921\"]],\"type\":\"histogram2dcontour\"}],\"histogram2d\":[{\"colorbar\":{\"outlinewidth\":0,\"ticks\":\"\"},\"colorscale\":[[0.0,\"#0d0887\"],[0.1111111111111111,\"#46039f\"],[0.2222222222222222,\"#7201a8\"],[0.3333333333333333,\"#9c179e\"],[0.4444444444444444,\"#bd3786\"],[0.5555555555555556,\"#d8576b\"],[0.6666666666666666,\"#ed7953\"],[0.7777777777777778,\"#fb9f3a\"],[0.8888888888888888,\"#fdca26\"],[1.0,\"#f0f921\"]],\"type\":\"histogram2d\"}],\"histogram\":[{\"marker\":{\"pattern\":{\"fillmode\":\"overlay\",\"size\":10,\"solidity\":0.2}},\"type\":\"histogram\"}],\"mesh3d\":[{\"colorbar\":{\"outlinewidth\":0,\"ticks\":\"\"},\"type\":\"mesh3d\"}],\"parcoords\":[{\"line\":{\"colorbar\":{\"outlinewidth\":0,\"ticks\":\"\"}},\"type\":\"parcoords\"}],\"pie\":[{\"automargin\":true,\"type\":\"pie\"}],\"scatter3d\":[{\"line\":{\"colorbar\":{\"outlinewidth\":0,\"ticks\":\"\"}},\"marker\":{\"colorbar\":{\"outlinewidth\":0,\"ticks\":\"\"}},\"type\":\"scatter3d\"}],\"scattercarpet\":[{\"marker\":{\"colorbar\":{\"outlinewidth\":0,\"ticks\":\"\"}},\"type\":\"scattercarpet\"}],\"scattergeo\":[{\"marker\":{\"colorbar\":{\"outlinewidth\":0,\"ticks\":\"\"}},\"type\":\"scattergeo\"}],\"scattergl\":[{\"marker\":{\"colorbar\":{\"outlinewidth\":0,\"ticks\":\"\"}},\"type\":\"scattergl\"}],\"scattermapbox\":[{\"marker\":{\"colorbar\":{\"outlinewidth\":0,\"ticks\":\"\"}},\"type\":\"scattermapbox\"}],\"scatterpolargl\":[{\"marker\":{\"colorbar\":{\"outlinewidth\":0,\"ticks\":\"\"}},\"type\":\"scatterpolargl\"}],\"scatterpolar\":[{\"marker\":{\"colorbar\":{\"outlinewidth\":0,\"ticks\":\"\"}},\"type\":\"scatterpolar\"}],\"scatter\":[{\"fillpattern\":{\"fillmode\":\"overlay\",\"size\":10,\"solidity\":0.2},\"type\":\"scatter\"}],\"scatterternary\":[{\"marker\":{\"colorbar\":{\"outlinewidth\":0,\"ticks\":\"\"}},\"type\":\"scatterternary\"}],\"surface\":[{\"colorbar\":{\"outlinewidth\":0,\"ticks\":\"\"},\"colorscale\":[[0.0,\"#0d0887\"],[0.1111111111111111,\"#46039f\"],[0.2222222222222222,\"#7201a8\"],[0.3333333333333333,\"#9c179e\"],[0.4444444444444444,\"#bd3786\"],[0.5555555555555556,\"#d8576b\"],[0.6666666666666666,\"#ed7953\"],[0.7777777777777778,\"#fb9f3a\"],[0.8888888888888888,\"#fdca26\"],[1.0,\"#f0f921\"]],\"type\":\"surface\"}],\"table\":[{\"cells\":{\"fill\":{\"color\":\"#EBF0F8\"},\"line\":{\"color\":\"white\"}},\"header\":{\"fill\":{\"color\":\"#C8D4E3\"},\"line\":{\"color\":\"white\"}},\"type\":\"table\"}]},\"layout\":{\"annotationdefaults\":{\"arrowcolor\":\"#2a3f5f\",\"arrowhead\":0,\"arrowwidth\":1},\"autotypenumbers\":\"strict\",\"coloraxis\":{\"colorbar\":{\"outlinewidth\":0,\"ticks\":\"\"}},\"colorscale\":{\"diverging\":[[0,\"#8e0152\"],[0.1,\"#c51b7d\"],[0.2,\"#de77ae\"],[0.3,\"#f1b6da\"],[0.4,\"#fde0ef\"],[0.5,\"#f7f7f7\"],[0.6,\"#e6f5d0\"],[0.7,\"#b8e186\"],[0.8,\"#7fbc41\"],[0.9,\"#4d9221\"],[1,\"#276419\"]],\"sequential\":[[0.0,\"#0d0887\"],[0.1111111111111111,\"#46039f\"],[0.2222222222222222,\"#7201a8\"],[0.3333333333333333,\"#9c179e\"],[0.4444444444444444,\"#bd3786\"],[0.5555555555555556,\"#d8576b\"],[0.6666666666666666,\"#ed7953\"],[0.7777777777777778,\"#fb9f3a\"],[0.8888888888888888,\"#fdca26\"],[1.0,\"#f0f921\"]],\"sequentialminus\":[[0.0,\"#0d0887\"],[0.1111111111111111,\"#46039f\"],[0.2222222222222222,\"#7201a8\"],[0.3333333333333333,\"#9c179e\"],[0.4444444444444444,\"#bd3786\"],[0.5555555555555556,\"#d8576b\"],[0.6666666666666666,\"#ed7953\"],[0.7777777777777778,\"#fb9f3a\"],[0.8888888888888888,\"#fdca26\"],[1.0,\"#f0f921\"]]},\"colorway\":[\"#636efa\",\"#EF553B\",\"#00cc96\",\"#ab63fa\",\"#FFA15A\",\"#19d3f3\",\"#FF6692\",\"#B6E880\",\"#FF97FF\",\"#FECB52\"],\"font\":{\"color\":\"#2a3f5f\"},\"geo\":{\"bgcolor\":\"white\",\"lakecolor\":\"white\",\"landcolor\":\"#E5ECF6\",\"showlakes\":true,\"showland\":true,\"subunitcolor\":\"white\"},\"hoverlabel\":{\"align\":\"left\"},\"hovermode\":\"closest\",\"mapbox\":{\"style\":\"light\"},\"paper_bgcolor\":\"white\",\"plot_bgcolor\":\"#E5ECF6\",\"polar\":{\"angularaxis\":{\"gridcolor\":\"white\",\"linecolor\":\"white\",\"ticks\":\"\"},\"bgcolor\":\"#E5ECF6\",\"radialaxis\":{\"gridcolor\":\"white\",\"linecolor\":\"white\",\"ticks\":\"\"}},\"scene\":{\"xaxis\":{\"backgroundcolor\":\"#E5ECF6\",\"gridcolor\":\"white\",\"gridwidth\":2,\"linecolor\":\"white\",\"showbackground\":true,\"ticks\":\"\",\"zerolinecolor\":\"white\"},\"yaxis\":{\"backgroundcolor\":\"#E5ECF6\",\"gridcolor\":\"white\",\"gridwidth\":2,\"linecolor\":\"white\",\"showbackground\":true,\"ticks\":\"\",\"zerolinecolor\":\"white\"},\"zaxis\":{\"backgroundcolor\":\"#E5ECF6\",\"gridcolor\":\"white\",\"gridwidth\":2,\"linecolor\":\"white\",\"showbackground\":true,\"ticks\":\"\",\"zerolinecolor\":\"white\"}},\"shapedefaults\":{\"line\":{\"color\":\"#2a3f5f\"}},\"ternary\":{\"aaxis\":{\"gridcolor\":\"white\",\"linecolor\":\"white\",\"ticks\":\"\"},\"baxis\":{\"gridcolor\":\"white\",\"linecolor\":\"white\",\"ticks\":\"\"},\"bgcolor\":\"#E5ECF6\",\"caxis\":{\"gridcolor\":\"white\",\"linecolor\":\"white\",\"ticks\":\"\"}},\"title\":{\"x\":0.05},\"xaxis\":{\"automargin\":true,\"gridcolor\":\"white\",\"linecolor\":\"white\",\"ticks\":\"\",\"title\":{\"standoff\":15},\"zerolinecolor\":\"white\",\"zerolinewidth\":2},\"yaxis\":{\"automargin\":true,\"gridcolor\":\"white\",\"linecolor\":\"white\",\"ticks\":\"\",\"title\":{\"standoff\":15},\"zerolinecolor\":\"white\",\"zerolinewidth\":2}}},\"title\":{\"font\":{\"color\":\"#4D5663\"}},\"xaxis\":{\"gridcolor\":\"#E1E5ED\",\"showgrid\":true,\"tickfont\":{\"color\":\"#4D5663\"},\"title\":{\"font\":{\"color\":\"#4D5663\"},\"text\":\"\"},\"zerolinecolor\":\"#E1E5ED\"},\"yaxis\":{\"gridcolor\":\"#E1E5ED\",\"showgrid\":true,\"tickfont\":{\"color\":\"#4D5663\"},\"title\":{\"font\":{\"color\":\"#4D5663\"},\"text\":\"\"},\"zerolinecolor\":\"#E1E5ED\"}},                        {\"showLink\": true, \"linkText\": \"Export to plot.ly\", \"plotlyServerURL\": \"https://plot.ly\", \"responsive\": true}                    ).then(function(){\n",
       "                            \n",
       "var gd = document.getElementById('1265bda8-0166-4924-b3ae-2e05470a2e6a');\n",
       "var x = new MutationObserver(function (mutations, observer) {{\n",
       "        var display = window.getComputedStyle(gd).display;\n",
       "        if (!display || display === 'none') {{\n",
       "            console.log([gd, 'removed!']);\n",
       "            Plotly.purge(gd);\n",
       "            observer.disconnect();\n",
       "        }}\n",
       "}});\n",
       "\n",
       "// Listen for the removal of the full notebook cells\n",
       "var notebookContainer = gd.closest('#notebook-container');\n",
       "if (notebookContainer) {{\n",
       "    x.observe(notebookContainer, {childList: true});\n",
       "}}\n",
       "\n",
       "// Listen for the clearing of the current output cell\n",
       "var outputEl = gd.closest('.output');\n",
       "if (outputEl) {{\n",
       "    x.observe(outputEl, {childList: true});\n",
       "}}\n",
       "\n",
       "                        })                };                });            </script>        </div>"
      ]
     },
     "metadata": {},
     "output_type": "display_data"
    }
   ],
   "source": [
    "df3 = pd.DataFrame({'x':[1,2,3,4,5],'y':[10,20,30,20,10],'z':[5,4,3,2,1]})\n",
    "df3.iplot(kind='surface',colorscale='rdylbu')"
   ]
  },
  {
   "cell_type": "markdown",
   "metadata": {},
   "source": [
    "## Spread"
   ]
  },
  {
   "cell_type": "code",
   "execution_count": 16,
   "metadata": {},
   "outputs": [
    {
     "name": "stderr",
     "output_type": "stream",
     "text": [
      "C:\\Users\\gaura\\anaconda3\\lib\\site-packages\\cufflinks\\plotlytools.py:849: FutureWarning:\n",
      "\n",
      "The pandas.np module is deprecated and will be removed from pandas in a future version. Import numpy directly instead\n",
      "\n",
      "C:\\Users\\gaura\\anaconda3\\lib\\site-packages\\cufflinks\\plotlytools.py:850: FutureWarning:\n",
      "\n",
      "The pandas.np module is deprecated and will be removed from pandas in a future version. Import numpy directly instead\n",
      "\n"
     ]
    },
    {
     "data": {
      "application/vnd.plotly.v1+json": {
       "config": {
        "linkText": "Export to plot.ly",
        "plotlyServerURL": "https://plot.ly",
        "showLink": true
       },
       "data": [
        {
         "line": {
          "color": "rgba(255, 153, 51, 1.0)",
          "dash": "solid",
          "shape": "linear",
          "width": 1.3
         },
         "mode": "lines",
         "name": "A",
         "text": "",
         "type": "scatter",
         "x": [
          0,
          1,
          2,
          3,
          4,
          5,
          6,
          7,
          8,
          9,
          10,
          11,
          12,
          13,
          14,
          15,
          16,
          17,
          18,
          19,
          20,
          21,
          22,
          23,
          24,
          25,
          26,
          27,
          28,
          29,
          30,
          31,
          32,
          33,
          34,
          35,
          36,
          37,
          38,
          39,
          40,
          41,
          42,
          43,
          44,
          45,
          46,
          47,
          48,
          49,
          50,
          51,
          52,
          53,
          54,
          55,
          56,
          57,
          58,
          59,
          60,
          61,
          62,
          63,
          64,
          65,
          66,
          67,
          68,
          69,
          70,
          71,
          72,
          73,
          74,
          75,
          76,
          77,
          78,
          79,
          80,
          81,
          82,
          83,
          84,
          85,
          86,
          87,
          88,
          89,
          90,
          91,
          92,
          93,
          94,
          95,
          96,
          97,
          98,
          99
         ],
         "y": [
          0.7655458203462077,
          -0.12808922353551602,
          1.4513993957179177,
          -0.19122091052993234,
          1.1030723744375364,
          1.033532144394203,
          0.3841969617822889,
          0.6496604352494966,
          0.513285627209426,
          0.11476079502280276,
          -0.2591015559704645,
          -1.776879311107862,
          -1.34794116248284,
          0.7082005182592324,
          -0.07069421173021438,
          0.2969240010622188,
          0.3536557662414352,
          0.47251436715512296,
          1.1563489173302384,
          -1.1577309588480218,
          -0.8911183307244669,
          2.619839722470479,
          2.473037611797308,
          2.7479066271536197,
          -1.3832565327512583,
          0.42590028724574386,
          0.8266523606807861,
          0.4582137090455324,
          0.3669423654181648,
          -0.38559101708212323,
          0.7043030621427251,
          0.7977307659092078,
          0.5923822621043702,
          0.9225429891488932,
          2.0559542054906292,
          1.7485194011322966,
          -1.4178063337005729,
          0.3492884656078567,
          0.8946522460785905,
          1.560287626057767,
          -0.8322926593044682,
          1.2349418728588268,
          1.7875197554567475,
          0.08633619069120248,
          0.5314971207622426,
          -0.9436475384249055,
          -1.615751639616223,
          1.5499038599623058,
          -1.6173743554616682,
          0.006085323851007527,
          0.002795262409405392,
          0.3659633121859034,
          0.801851411757661,
          -0.5374217808986604,
          -0.12139982016197108,
          -0.7028554934220238,
          -0.8765908568443167,
          0.41346433697724727,
          1.4384119079610063,
          0.7600927797482195,
          -1.2787747786152739,
          0.5024311486559706,
          0.9750586541892643,
          0.5268072700021327,
          -0.42468859013658095,
          -1.025420774761301,
          -0.4266336127339284,
          0.48272659442294075,
          2.906398718665853,
          0.6880021525294603,
          -0.21480747949987763,
          -0.5686183980043807,
          -0.9131334243330468,
          1.6573368062052414,
          -1.7930944914691276,
          -0.9843674117413633,
          2.1543809516091437,
          0.4021428551289348,
          -1.2844749093286496,
          0.014934416169660418,
          0.15129520541311742,
          -0.30558213224536673,
          1.3253078666447853,
          -0.10688727093219857,
          1.0461711436912986,
          -1.240988782651725,
          0.7505133678415967,
          1.0924753055237828,
          -0.4217096676086004,
          -1.0886553141159043,
          0.465188624187154,
          0.27046011280690474,
          -1.0788735585175873,
          0.7616297320826227,
          1.83194824101488,
          -0.14619950548323124,
          0.9567672741523233,
          -0.6461097831091536,
          1.1273945026599368,
          1.8805504460884466
         ]
        },
        {
         "line": {
          "color": "rgba(55, 128, 191, 1.0)",
          "dash": "solid",
          "shape": "linear",
          "width": 1.3
         },
         "mode": "lines",
         "name": "B",
         "text": "",
         "type": "scatter",
         "x": [
          0,
          1,
          2,
          3,
          4,
          5,
          6,
          7,
          8,
          9,
          10,
          11,
          12,
          13,
          14,
          15,
          16,
          17,
          18,
          19,
          20,
          21,
          22,
          23,
          24,
          25,
          26,
          27,
          28,
          29,
          30,
          31,
          32,
          33,
          34,
          35,
          36,
          37,
          38,
          39,
          40,
          41,
          42,
          43,
          44,
          45,
          46,
          47,
          48,
          49,
          50,
          51,
          52,
          53,
          54,
          55,
          56,
          57,
          58,
          59,
          60,
          61,
          62,
          63,
          64,
          65,
          66,
          67,
          68,
          69,
          70,
          71,
          72,
          73,
          74,
          75,
          76,
          77,
          78,
          79,
          80,
          81,
          82,
          83,
          84,
          85,
          86,
          87,
          88,
          89,
          90,
          91,
          92,
          93,
          94,
          95,
          96,
          97,
          98,
          99
         ],
         "y": [
          0.6017466873503788,
          -0.14978400163424924,
          -1.0707104177133535,
          -1.037546034807011,
          0.3607916199572585,
          -0.06471865024747107,
          -0.7580300458300937,
          1.978188770648286,
          -0.571180926800931,
          -0.8350579784972542,
          -0.8760751468654233,
          -0.2416208405534744,
          -0.11940406390607054,
          0.3910497338436867,
          -0.12441061910314734,
          -0.17008880601047333,
          1.2424043471474324,
          0.18306105280621934,
          0.5025398751714042,
          -2.733138018312086,
          -0.4578889804156048,
          -0.8968252858196749,
          1.2192999848172787,
          1.3853636122951218,
          0.06451901011941573,
          -0.8042140226810693,
          -0.4799095259944002,
          -0.7228634578237165,
          0.23392212692192293,
          -0.5253559983110266,
          -0.005551655753853849,
          -1.581190796892674,
          -0.100944996595511,
          -0.36032418400728666,
          0.5683775057321915,
          -0.8875035255092706,
          0.920332767011539,
          -0.8378529508094908,
          2.207100912475008,
          -0.038956452336035875,
          1.7265669308226161,
          -0.21127645786169866,
          -0.03648413775657497,
          0.6477042890699376,
          1.717122130117437,
          0.7670217124737083,
          0.4011841768438215,
          -0.5771860490915778,
          -1.2952904699021186,
          -0.5614861119771376,
          0.3552524746507848,
          0.345368819654225,
          -0.486542716473194,
          -0.46989855997673624,
          0.47018822027319174,
          -0.5556740606086376,
          -0.5508351364377948,
          -0.6689676565419325,
          -0.12457825258275382,
          1.0877758572906697,
          -0.014239704339121232,
          -1.6608604457359628,
          1.4821620161097675,
          1.1008139823858007,
          -0.23902094669399154,
          -0.6659886541239679,
          0.5328878624002946,
          0.339322926441731,
          1.5115792223663922,
          0.8165994139801861,
          0.6276223908531292,
          -0.3173257506316113,
          1.1302860331046023,
          -1.337122276668125,
          -1.7483710170291413,
          0.8883164654916883,
          -0.23718451528176032,
          0.136395655094501,
          -0.16601627031277902,
          0.5004192659250103,
          -0.21116110306728084,
          1.2744353062002893,
          -0.08179344137315678,
          -0.887429149024921,
          0.17680435085489035,
          0.9006247162148816,
          0.3294130449437715,
          -1.4774903881761516,
          0.7656241967464709,
          0.47361979358312306,
          0.5405391526466155,
          0.39341633131077053,
          -2.4023312521643514,
          -0.6074321625556381,
          1.4120134927426395,
          -0.7663209956048409,
          0.3946572185611099,
          1.101027134677378,
          2.2913939671179193,
          -0.3474317575058246
         ]
        },
        {
         "connectgaps": false,
         "fill": "tozeroy",
         "line": {
          "color": "green",
          "dash": "solid",
          "shape": "linear",
          "width": 0.5
         },
         "mode": "lines",
         "name": "Spread",
         "showlegend": false,
         "type": "scatter",
         "x": [
          0,
          1,
          2,
          3,
          4,
          5,
          6,
          7,
          8,
          9,
          10,
          11,
          12,
          13,
          14,
          15,
          16,
          17,
          18,
          19,
          20,
          21,
          22,
          23,
          24,
          25,
          26,
          27,
          28,
          29,
          30,
          31,
          32,
          33,
          34,
          35,
          36,
          37,
          38,
          39,
          40,
          41,
          42,
          43,
          44,
          45,
          46,
          47,
          48,
          49,
          50,
          51,
          52,
          53,
          54,
          55,
          56,
          57,
          58,
          59,
          60,
          61,
          62,
          63,
          64,
          65,
          66,
          67,
          68,
          69,
          70,
          71,
          72,
          73,
          74,
          75,
          76,
          77,
          78,
          79,
          80,
          81,
          82,
          83,
          84,
          85,
          86,
          87,
          88,
          89,
          90,
          91,
          92,
          93,
          94,
          95,
          96,
          97,
          98,
          99
         ],
         "xaxis": "x2",
         "y": [
          0.16379913299582882,
          0.021694778098733214,
          2.522109813431271,
          0.8463251242770786,
          0.7422807544802779,
          1.098250794641674,
          1.1422270076123826,
          "",
          1.084466554010357,
          0.949818773520057,
          0.6169735908949587,
          "",
          "",
          0.3171507844155457,
          0.053716407372932956,
          0.4670128070726921,
          "",
          0.28945331434890365,
          0.6538090421588342,
          1.5754070594640641,
          "",
          3.5166650082901536,
          1.2537376269800293,
          1.3625430148584978,
          "",
          1.2301143099268133,
          1.3065618866751862,
          1.1810771668692488,
          0.13302023849624184,
          0.1397649812289034,
          0.709854717896579,
          2.3789215628018816,
          0.6933272586998812,
          1.2828671731561798,
          1.4875766997584376,
          2.636022926641567,
          "",
          1.1871414164173475,
          "",
          1.599244078393803,
          "",
          1.4462183307205254,
          1.8240038932133225,
          "",
          "",
          "",
          "",
          2.1270899090538835,
          "",
          0.5675714358281452,
          "",
          0.020594492531678388,
          1.288394128230855,
          "",
          "",
          "",
          "",
          1.0824319935191797,
          1.5629901605437602,
          "",
          "",
          2.1632915943919335,
          "",
          "",
          "",
          "",
          "",
          0.14340366798120974,
          1.3948194962994607,
          "",
          "",
          "",
          "",
          2.9944590828733664,
          "",
          "",
          2.391565466890904,
          0.26574720003443375,
          "",
          "",
          0.3624563084803982,
          "",
          1.407101308017942,
          0.7805418780927225,
          0.8693667928364083,
          "",
          0.42110032289782523,
          2.5699656936999347,
          "",
          "",
          "",
          "",
          1.3234576936467641,
          1.369061894638261,
          0.4199347482722404,
          0.6201214901216097,
          0.5621100555912134,
          "",
          "",
          2.227982203594271
         ],
         "yaxis": "y2"
        },
        {
         "connectgaps": false,
         "fill": "tozeroy",
         "line": {
          "color": "red",
          "dash": "solid",
          "shape": "linear",
          "width": 0.5
         },
         "mode": "lines",
         "name": "Spread",
         "showlegend": false,
         "type": "scatter",
         "x": [
          0,
          1,
          2,
          3,
          4,
          5,
          6,
          7,
          8,
          9,
          10,
          11,
          12,
          13,
          14,
          15,
          16,
          17,
          18,
          19,
          20,
          21,
          22,
          23,
          24,
          25,
          26,
          27,
          28,
          29,
          30,
          31,
          32,
          33,
          34,
          35,
          36,
          37,
          38,
          39,
          40,
          41,
          42,
          43,
          44,
          45,
          46,
          47,
          48,
          49,
          50,
          51,
          52,
          53,
          54,
          55,
          56,
          57,
          58,
          59,
          60,
          61,
          62,
          63,
          64,
          65,
          66,
          67,
          68,
          69,
          70,
          71,
          72,
          73,
          74,
          75,
          76,
          77,
          78,
          79,
          80,
          81,
          82,
          83,
          84,
          85,
          86,
          87,
          88,
          89,
          90,
          91,
          92,
          93,
          94,
          95,
          96,
          97,
          98,
          99
         ],
         "xaxis": "x2",
         "y": [
          "",
          "",
          "",
          "",
          "",
          "",
          "",
          -1.3285283353987893,
          "",
          "",
          "",
          -1.5352584705543877,
          -1.2285370985767694,
          "",
          "",
          "",
          -0.8887485809059972,
          "",
          "",
          "",
          -0.4332293503088621,
          "",
          "",
          "",
          -1.447775542870674,
          "",
          "",
          "",
          "",
          "",
          "",
          "",
          "",
          "",
          "",
          "",
          -2.338139100712112,
          "",
          -1.3124486663964174,
          "",
          -2.558859590127084,
          "",
          "",
          -0.5613680983787351,
          -1.1856250093551943,
          -1.7106692508986137,
          -2.0169358164600446,
          "",
          -0.3220838855595496,
          "",
          -0.3524572122413794,
          "",
          "",
          -0.0675232209219242,
          -0.5915880404351628,
          -0.14718143281338625,
          -0.3257557204065219,
          "",
          "",
          -0.3276830775424502,
          -1.2645350742761527,
          "",
          -0.5071033619205032,
          -0.5740067123836681,
          -0.1856676434425894,
          -0.359432120637333,
          -0.959521475134223,
          "",
          "",
          -0.1285972614507258,
          -0.8424298703530069,
          -0.25129264737276946,
          -2.043419457437649,
          "",
          -0.044723474439986255,
          -1.8726838772330516,
          "",
          "",
          -1.1184586390158706,
          -0.4854848497553499,
          "",
          -1.580017438445656,
          "",
          "",
          "",
          -2.1416134988666067,
          "",
          "",
          -1.1873338643550713,
          -1.5622751076990273,
          -0.07535052845946144,
          -0.12295621850386579,
          "",
          "",
          "",
          "",
          "",
          -1.7471369177865315,
          -1.1639994644579825,
          ""
         ],
         "yaxis": "y2"
        }
       ],
       "layout": {
        "hovermode": "x",
        "legend": {
         "bgcolor": "#F5F6F9",
         "font": {
          "color": "#4D5663"
         }
        },
        "paper_bgcolor": "#F5F6F9",
        "plot_bgcolor": "#F5F6F9",
        "template": {
         "data": {
          "bar": [
           {
            "error_x": {
             "color": "#2a3f5f"
            },
            "error_y": {
             "color": "#2a3f5f"
            },
            "marker": {
             "line": {
              "color": "#E5ECF6",
              "width": 0.5
             },
             "pattern": {
              "fillmode": "overlay",
              "size": 10,
              "solidity": 0.2
             }
            },
            "type": "bar"
           }
          ],
          "barpolar": [
           {
            "marker": {
             "line": {
              "color": "#E5ECF6",
              "width": 0.5
             },
             "pattern": {
              "fillmode": "overlay",
              "size": 10,
              "solidity": 0.2
             }
            },
            "type": "barpolar"
           }
          ],
          "carpet": [
           {
            "aaxis": {
             "endlinecolor": "#2a3f5f",
             "gridcolor": "white",
             "linecolor": "white",
             "minorgridcolor": "white",
             "startlinecolor": "#2a3f5f"
            },
            "baxis": {
             "endlinecolor": "#2a3f5f",
             "gridcolor": "white",
             "linecolor": "white",
             "minorgridcolor": "white",
             "startlinecolor": "#2a3f5f"
            },
            "type": "carpet"
           }
          ],
          "choropleth": [
           {
            "colorbar": {
             "outlinewidth": 0,
             "ticks": ""
            },
            "type": "choropleth"
           }
          ],
          "contour": [
           {
            "colorbar": {
             "outlinewidth": 0,
             "ticks": ""
            },
            "colorscale": [
             [
              0,
              "#0d0887"
             ],
             [
              0.1111111111111111,
              "#46039f"
             ],
             [
              0.2222222222222222,
              "#7201a8"
             ],
             [
              0.3333333333333333,
              "#9c179e"
             ],
             [
              0.4444444444444444,
              "#bd3786"
             ],
             [
              0.5555555555555556,
              "#d8576b"
             ],
             [
              0.6666666666666666,
              "#ed7953"
             ],
             [
              0.7777777777777778,
              "#fb9f3a"
             ],
             [
              0.8888888888888888,
              "#fdca26"
             ],
             [
              1,
              "#f0f921"
             ]
            ],
            "type": "contour"
           }
          ],
          "contourcarpet": [
           {
            "colorbar": {
             "outlinewidth": 0,
             "ticks": ""
            },
            "type": "contourcarpet"
           }
          ],
          "heatmap": [
           {
            "colorbar": {
             "outlinewidth": 0,
             "ticks": ""
            },
            "colorscale": [
             [
              0,
              "#0d0887"
             ],
             [
              0.1111111111111111,
              "#46039f"
             ],
             [
              0.2222222222222222,
              "#7201a8"
             ],
             [
              0.3333333333333333,
              "#9c179e"
             ],
             [
              0.4444444444444444,
              "#bd3786"
             ],
             [
              0.5555555555555556,
              "#d8576b"
             ],
             [
              0.6666666666666666,
              "#ed7953"
             ],
             [
              0.7777777777777778,
              "#fb9f3a"
             ],
             [
              0.8888888888888888,
              "#fdca26"
             ],
             [
              1,
              "#f0f921"
             ]
            ],
            "type": "heatmap"
           }
          ],
          "heatmapgl": [
           {
            "colorbar": {
             "outlinewidth": 0,
             "ticks": ""
            },
            "colorscale": [
             [
              0,
              "#0d0887"
             ],
             [
              0.1111111111111111,
              "#46039f"
             ],
             [
              0.2222222222222222,
              "#7201a8"
             ],
             [
              0.3333333333333333,
              "#9c179e"
             ],
             [
              0.4444444444444444,
              "#bd3786"
             ],
             [
              0.5555555555555556,
              "#d8576b"
             ],
             [
              0.6666666666666666,
              "#ed7953"
             ],
             [
              0.7777777777777778,
              "#fb9f3a"
             ],
             [
              0.8888888888888888,
              "#fdca26"
             ],
             [
              1,
              "#f0f921"
             ]
            ],
            "type": "heatmapgl"
           }
          ],
          "histogram": [
           {
            "marker": {
             "pattern": {
              "fillmode": "overlay",
              "size": 10,
              "solidity": 0.2
             }
            },
            "type": "histogram"
           }
          ],
          "histogram2d": [
           {
            "colorbar": {
             "outlinewidth": 0,
             "ticks": ""
            },
            "colorscale": [
             [
              0,
              "#0d0887"
             ],
             [
              0.1111111111111111,
              "#46039f"
             ],
             [
              0.2222222222222222,
              "#7201a8"
             ],
             [
              0.3333333333333333,
              "#9c179e"
             ],
             [
              0.4444444444444444,
              "#bd3786"
             ],
             [
              0.5555555555555556,
              "#d8576b"
             ],
             [
              0.6666666666666666,
              "#ed7953"
             ],
             [
              0.7777777777777778,
              "#fb9f3a"
             ],
             [
              0.8888888888888888,
              "#fdca26"
             ],
             [
              1,
              "#f0f921"
             ]
            ],
            "type": "histogram2d"
           }
          ],
          "histogram2dcontour": [
           {
            "colorbar": {
             "outlinewidth": 0,
             "ticks": ""
            },
            "colorscale": [
             [
              0,
              "#0d0887"
             ],
             [
              0.1111111111111111,
              "#46039f"
             ],
             [
              0.2222222222222222,
              "#7201a8"
             ],
             [
              0.3333333333333333,
              "#9c179e"
             ],
             [
              0.4444444444444444,
              "#bd3786"
             ],
             [
              0.5555555555555556,
              "#d8576b"
             ],
             [
              0.6666666666666666,
              "#ed7953"
             ],
             [
              0.7777777777777778,
              "#fb9f3a"
             ],
             [
              0.8888888888888888,
              "#fdca26"
             ],
             [
              1,
              "#f0f921"
             ]
            ],
            "type": "histogram2dcontour"
           }
          ],
          "mesh3d": [
           {
            "colorbar": {
             "outlinewidth": 0,
             "ticks": ""
            },
            "type": "mesh3d"
           }
          ],
          "parcoords": [
           {
            "line": {
             "colorbar": {
              "outlinewidth": 0,
              "ticks": ""
             }
            },
            "type": "parcoords"
           }
          ],
          "pie": [
           {
            "automargin": true,
            "type": "pie"
           }
          ],
          "scatter": [
           {
            "fillpattern": {
             "fillmode": "overlay",
             "size": 10,
             "solidity": 0.2
            },
            "type": "scatter"
           }
          ],
          "scatter3d": [
           {
            "line": {
             "colorbar": {
              "outlinewidth": 0,
              "ticks": ""
             }
            },
            "marker": {
             "colorbar": {
              "outlinewidth": 0,
              "ticks": ""
             }
            },
            "type": "scatter3d"
           }
          ],
          "scattercarpet": [
           {
            "marker": {
             "colorbar": {
              "outlinewidth": 0,
              "ticks": ""
             }
            },
            "type": "scattercarpet"
           }
          ],
          "scattergeo": [
           {
            "marker": {
             "colorbar": {
              "outlinewidth": 0,
              "ticks": ""
             }
            },
            "type": "scattergeo"
           }
          ],
          "scattergl": [
           {
            "marker": {
             "colorbar": {
              "outlinewidth": 0,
              "ticks": ""
             }
            },
            "type": "scattergl"
           }
          ],
          "scattermapbox": [
           {
            "marker": {
             "colorbar": {
              "outlinewidth": 0,
              "ticks": ""
             }
            },
            "type": "scattermapbox"
           }
          ],
          "scatterpolar": [
           {
            "marker": {
             "colorbar": {
              "outlinewidth": 0,
              "ticks": ""
             }
            },
            "type": "scatterpolar"
           }
          ],
          "scatterpolargl": [
           {
            "marker": {
             "colorbar": {
              "outlinewidth": 0,
              "ticks": ""
             }
            },
            "type": "scatterpolargl"
           }
          ],
          "scatterternary": [
           {
            "marker": {
             "colorbar": {
              "outlinewidth": 0,
              "ticks": ""
             }
            },
            "type": "scatterternary"
           }
          ],
          "surface": [
           {
            "colorbar": {
             "outlinewidth": 0,
             "ticks": ""
            },
            "colorscale": [
             [
              0,
              "#0d0887"
             ],
             [
              0.1111111111111111,
              "#46039f"
             ],
             [
              0.2222222222222222,
              "#7201a8"
             ],
             [
              0.3333333333333333,
              "#9c179e"
             ],
             [
              0.4444444444444444,
              "#bd3786"
             ],
             [
              0.5555555555555556,
              "#d8576b"
             ],
             [
              0.6666666666666666,
              "#ed7953"
             ],
             [
              0.7777777777777778,
              "#fb9f3a"
             ],
             [
              0.8888888888888888,
              "#fdca26"
             ],
             [
              1,
              "#f0f921"
             ]
            ],
            "type": "surface"
           }
          ],
          "table": [
           {
            "cells": {
             "fill": {
              "color": "#EBF0F8"
             },
             "line": {
              "color": "white"
             }
            },
            "header": {
             "fill": {
              "color": "#C8D4E3"
             },
             "line": {
              "color": "white"
             }
            },
            "type": "table"
           }
          ]
         },
         "layout": {
          "annotationdefaults": {
           "arrowcolor": "#2a3f5f",
           "arrowhead": 0,
           "arrowwidth": 1
          },
          "autotypenumbers": "strict",
          "coloraxis": {
           "colorbar": {
            "outlinewidth": 0,
            "ticks": ""
           }
          },
          "colorscale": {
           "diverging": [
            [
             0,
             "#8e0152"
            ],
            [
             0.1,
             "#c51b7d"
            ],
            [
             0.2,
             "#de77ae"
            ],
            [
             0.3,
             "#f1b6da"
            ],
            [
             0.4,
             "#fde0ef"
            ],
            [
             0.5,
             "#f7f7f7"
            ],
            [
             0.6,
             "#e6f5d0"
            ],
            [
             0.7,
             "#b8e186"
            ],
            [
             0.8,
             "#7fbc41"
            ],
            [
             0.9,
             "#4d9221"
            ],
            [
             1,
             "#276419"
            ]
           ],
           "sequential": [
            [
             0,
             "#0d0887"
            ],
            [
             0.1111111111111111,
             "#46039f"
            ],
            [
             0.2222222222222222,
             "#7201a8"
            ],
            [
             0.3333333333333333,
             "#9c179e"
            ],
            [
             0.4444444444444444,
             "#bd3786"
            ],
            [
             0.5555555555555556,
             "#d8576b"
            ],
            [
             0.6666666666666666,
             "#ed7953"
            ],
            [
             0.7777777777777778,
             "#fb9f3a"
            ],
            [
             0.8888888888888888,
             "#fdca26"
            ],
            [
             1,
             "#f0f921"
            ]
           ],
           "sequentialminus": [
            [
             0,
             "#0d0887"
            ],
            [
             0.1111111111111111,
             "#46039f"
            ],
            [
             0.2222222222222222,
             "#7201a8"
            ],
            [
             0.3333333333333333,
             "#9c179e"
            ],
            [
             0.4444444444444444,
             "#bd3786"
            ],
            [
             0.5555555555555556,
             "#d8576b"
            ],
            [
             0.6666666666666666,
             "#ed7953"
            ],
            [
             0.7777777777777778,
             "#fb9f3a"
            ],
            [
             0.8888888888888888,
             "#fdca26"
            ],
            [
             1,
             "#f0f921"
            ]
           ]
          },
          "colorway": [
           "#636efa",
           "#EF553B",
           "#00cc96",
           "#ab63fa",
           "#FFA15A",
           "#19d3f3",
           "#FF6692",
           "#B6E880",
           "#FF97FF",
           "#FECB52"
          ],
          "font": {
           "color": "#2a3f5f"
          },
          "geo": {
           "bgcolor": "white",
           "lakecolor": "white",
           "landcolor": "#E5ECF6",
           "showlakes": true,
           "showland": true,
           "subunitcolor": "white"
          },
          "hoverlabel": {
           "align": "left"
          },
          "hovermode": "closest",
          "mapbox": {
           "style": "light"
          },
          "paper_bgcolor": "white",
          "plot_bgcolor": "#E5ECF6",
          "polar": {
           "angularaxis": {
            "gridcolor": "white",
            "linecolor": "white",
            "ticks": ""
           },
           "bgcolor": "#E5ECF6",
           "radialaxis": {
            "gridcolor": "white",
            "linecolor": "white",
            "ticks": ""
           }
          },
          "scene": {
           "xaxis": {
            "backgroundcolor": "#E5ECF6",
            "gridcolor": "white",
            "gridwidth": 2,
            "linecolor": "white",
            "showbackground": true,
            "ticks": "",
            "zerolinecolor": "white"
           },
           "yaxis": {
            "backgroundcolor": "#E5ECF6",
            "gridcolor": "white",
            "gridwidth": 2,
            "linecolor": "white",
            "showbackground": true,
            "ticks": "",
            "zerolinecolor": "white"
           },
           "zaxis": {
            "backgroundcolor": "#E5ECF6",
            "gridcolor": "white",
            "gridwidth": 2,
            "linecolor": "white",
            "showbackground": true,
            "ticks": "",
            "zerolinecolor": "white"
           }
          },
          "shapedefaults": {
           "line": {
            "color": "#2a3f5f"
           }
          },
          "ternary": {
           "aaxis": {
            "gridcolor": "white",
            "linecolor": "white",
            "ticks": ""
           },
           "baxis": {
            "gridcolor": "white",
            "linecolor": "white",
            "ticks": ""
           },
           "bgcolor": "#E5ECF6",
           "caxis": {
            "gridcolor": "white",
            "linecolor": "white",
            "ticks": ""
           }
          },
          "title": {
           "x": 0.05
          },
          "xaxis": {
           "automargin": true,
           "gridcolor": "white",
           "linecolor": "white",
           "ticks": "",
           "title": {
            "standoff": 15
           },
           "zerolinecolor": "white",
           "zerolinewidth": 2
          },
          "yaxis": {
           "automargin": true,
           "gridcolor": "white",
           "linecolor": "white",
           "ticks": "",
           "title": {
            "standoff": 15
           },
           "zerolinecolor": "white",
           "zerolinewidth": 2
          }
         }
        },
        "title": {
         "font": {
          "color": "#4D5663"
         }
        },
        "xaxis": {
         "gridcolor": "#E1E5ED",
         "showgrid": true,
         "tickfont": {
          "color": "#4D5663"
         },
         "title": {
          "font": {
           "color": "#4D5663"
          },
          "text": ""
         },
         "zerolinecolor": "#E1E5ED"
        },
        "xaxis2": {
         "anchor": "y2",
         "gridcolor": "#E1E5ED",
         "showgrid": true,
         "showticklabels": false,
         "tickfont": {
          "color": "#4D5663"
         },
         "title": {
          "font": {
           "color": "#4D5663"
          },
          "text": ""
         },
         "zerolinecolor": "#E1E5ED"
        },
        "yaxis": {
         "domain": [
          0.3,
          1
         ],
         "gridcolor": "#E1E5ED",
         "showgrid": true,
         "tickfont": {
          "color": "#4D5663"
         },
         "title": {
          "font": {
           "color": "#4D5663"
          },
          "text": ""
         },
         "zerolinecolor": "#E1E5ED"
        },
        "yaxis2": {
         "domain": [
          0,
          0.25
         ],
         "gridcolor": "#E1E5ED",
         "showgrid": true,
         "tickfont": {
          "color": "#4D5663"
         },
         "title": {
          "font": {
           "color": "#4D5663"
          },
          "text": "Spread"
         },
         "zerolinecolor": "#E1E5ED"
        }
       }
      },
      "text/html": [
       "<div>                            <div id=\"dfe85112-4e0b-49bc-b085-d781feb53f9d\" class=\"plotly-graph-div\" style=\"height:525px; width:100%;\"></div>            <script type=\"text/javascript\">                require([\"plotly\"], function(Plotly) {                    window.PLOTLYENV=window.PLOTLYENV || {};\n",
       "                    window.PLOTLYENV.BASE_URL='https://plot.ly';                                    if (document.getElementById(\"dfe85112-4e0b-49bc-b085-d781feb53f9d\")) {                    Plotly.newPlot(                        \"dfe85112-4e0b-49bc-b085-d781feb53f9d\",                        [{\"line\":{\"color\":\"rgba(255, 153, 51, 1.0)\",\"dash\":\"solid\",\"shape\":\"linear\",\"width\":1.3},\"mode\":\"lines\",\"name\":\"A\",\"text\":\"\",\"x\":[0,1,2,3,4,5,6,7,8,9,10,11,12,13,14,15,16,17,18,19,20,21,22,23,24,25,26,27,28,29,30,31,32,33,34,35,36,37,38,39,40,41,42,43,44,45,46,47,48,49,50,51,52,53,54,55,56,57,58,59,60,61,62,63,64,65,66,67,68,69,70,71,72,73,74,75,76,77,78,79,80,81,82,83,84,85,86,87,88,89,90,91,92,93,94,95,96,97,98,99],\"y\":[0.7655458203462077,-0.12808922353551602,1.4513993957179177,-0.19122091052993234,1.1030723744375364,1.033532144394203,0.3841969617822889,0.6496604352494966,0.513285627209426,0.11476079502280276,-0.2591015559704645,-1.776879311107862,-1.34794116248284,0.7082005182592324,-0.07069421173021438,0.2969240010622188,0.3536557662414352,0.47251436715512296,1.1563489173302384,-1.1577309588480218,-0.8911183307244669,2.619839722470479,2.473037611797308,2.7479066271536197,-1.3832565327512583,0.42590028724574386,0.8266523606807861,0.4582137090455324,0.3669423654181648,-0.38559101708212323,0.7043030621427251,0.7977307659092078,0.5923822621043702,0.9225429891488932,2.0559542054906292,1.7485194011322966,-1.4178063337005729,0.3492884656078567,0.8946522460785905,1.560287626057767,-0.8322926593044682,1.2349418728588268,1.7875197554567475,0.08633619069120248,0.5314971207622426,-0.9436475384249055,-1.615751639616223,1.5499038599623058,-1.6173743554616682,0.006085323851007527,0.002795262409405392,0.3659633121859034,0.801851411757661,-0.5374217808986604,-0.12139982016197108,-0.7028554934220238,-0.8765908568443167,0.41346433697724727,1.4384119079610063,0.7600927797482195,-1.2787747786152739,0.5024311486559706,0.9750586541892643,0.5268072700021327,-0.42468859013658095,-1.025420774761301,-0.4266336127339284,0.48272659442294075,2.906398718665853,0.6880021525294603,-0.21480747949987763,-0.5686183980043807,-0.9131334243330468,1.6573368062052414,-1.7930944914691276,-0.9843674117413633,2.1543809516091437,0.4021428551289348,-1.2844749093286496,0.014934416169660418,0.15129520541311742,-0.30558213224536673,1.3253078666447853,-0.10688727093219857,1.0461711436912986,-1.240988782651725,0.7505133678415967,1.0924753055237828,-0.4217096676086004,-1.0886553141159043,0.465188624187154,0.27046011280690474,-1.0788735585175873,0.7616297320826227,1.83194824101488,-0.14619950548323124,0.9567672741523233,-0.6461097831091536,1.1273945026599368,1.8805504460884466],\"type\":\"scatter\"},{\"line\":{\"color\":\"rgba(55, 128, 191, 1.0)\",\"dash\":\"solid\",\"shape\":\"linear\",\"width\":1.3},\"mode\":\"lines\",\"name\":\"B\",\"text\":\"\",\"x\":[0,1,2,3,4,5,6,7,8,9,10,11,12,13,14,15,16,17,18,19,20,21,22,23,24,25,26,27,28,29,30,31,32,33,34,35,36,37,38,39,40,41,42,43,44,45,46,47,48,49,50,51,52,53,54,55,56,57,58,59,60,61,62,63,64,65,66,67,68,69,70,71,72,73,74,75,76,77,78,79,80,81,82,83,84,85,86,87,88,89,90,91,92,93,94,95,96,97,98,99],\"y\":[0.6017466873503788,-0.14978400163424924,-1.0707104177133535,-1.037546034807011,0.3607916199572585,-0.06471865024747107,-0.7580300458300937,1.978188770648286,-0.571180926800931,-0.8350579784972542,-0.8760751468654233,-0.2416208405534744,-0.11940406390607054,0.3910497338436867,-0.12441061910314734,-0.17008880601047333,1.2424043471474324,0.18306105280621934,0.5025398751714042,-2.733138018312086,-0.4578889804156048,-0.8968252858196749,1.2192999848172787,1.3853636122951218,0.06451901011941573,-0.8042140226810693,-0.4799095259944002,-0.7228634578237165,0.23392212692192293,-0.5253559983110266,-0.005551655753853849,-1.581190796892674,-0.100944996595511,-0.36032418400728666,0.5683775057321915,-0.8875035255092706,0.920332767011539,-0.8378529508094908,2.207100912475008,-0.038956452336035875,1.7265669308226161,-0.21127645786169866,-0.03648413775657497,0.6477042890699376,1.717122130117437,0.7670217124737083,0.4011841768438215,-0.5771860490915778,-1.2952904699021186,-0.5614861119771376,0.3552524746507848,0.345368819654225,-0.486542716473194,-0.46989855997673624,0.47018822027319174,-0.5556740606086376,-0.5508351364377948,-0.6689676565419325,-0.12457825258275382,1.0877758572906697,-0.014239704339121232,-1.6608604457359628,1.4821620161097675,1.1008139823858007,-0.23902094669399154,-0.6659886541239679,0.5328878624002946,0.339322926441731,1.5115792223663922,0.8165994139801861,0.6276223908531292,-0.3173257506316113,1.1302860331046023,-1.337122276668125,-1.7483710170291413,0.8883164654916883,-0.23718451528176032,0.136395655094501,-0.16601627031277902,0.5004192659250103,-0.21116110306728084,1.2744353062002893,-0.08179344137315678,-0.887429149024921,0.17680435085489035,0.9006247162148816,0.3294130449437715,-1.4774903881761516,0.7656241967464709,0.47361979358312306,0.5405391526466155,0.39341633131077053,-2.4023312521643514,-0.6074321625556381,1.4120134927426395,-0.7663209956048409,0.3946572185611099,1.101027134677378,2.2913939671179193,-0.3474317575058246],\"type\":\"scatter\"},{\"connectgaps\":false,\"fill\":\"tozeroy\",\"line\":{\"color\":\"green\",\"dash\":\"solid\",\"shape\":\"linear\",\"width\":0.5},\"mode\":\"lines\",\"name\":\"Spread\",\"showlegend\":false,\"x\":[0,1,2,3,4,5,6,7,8,9,10,11,12,13,14,15,16,17,18,19,20,21,22,23,24,25,26,27,28,29,30,31,32,33,34,35,36,37,38,39,40,41,42,43,44,45,46,47,48,49,50,51,52,53,54,55,56,57,58,59,60,61,62,63,64,65,66,67,68,69,70,71,72,73,74,75,76,77,78,79,80,81,82,83,84,85,86,87,88,89,90,91,92,93,94,95,96,97,98,99],\"xaxis\":\"x2\",\"y\":[0.16379913299582882,0.021694778098733214,2.522109813431271,0.8463251242770786,0.7422807544802779,1.098250794641674,1.1422270076123826,\"\",1.084466554010357,0.949818773520057,0.6169735908949587,\"\",\"\",0.3171507844155457,0.053716407372932956,0.4670128070726921,\"\",0.28945331434890365,0.6538090421588342,1.5754070594640641,\"\",3.5166650082901536,1.2537376269800293,1.3625430148584978,\"\",1.2301143099268133,1.3065618866751862,1.1810771668692488,0.13302023849624184,0.1397649812289034,0.709854717896579,2.3789215628018816,0.6933272586998812,1.2828671731561798,1.4875766997584376,2.636022926641567,\"\",1.1871414164173475,\"\",1.599244078393803,\"\",1.4462183307205254,1.8240038932133225,\"\",\"\",\"\",\"\",2.1270899090538835,\"\",0.5675714358281452,\"\",0.020594492531678388,1.288394128230855,\"\",\"\",\"\",\"\",1.0824319935191797,1.5629901605437602,\"\",\"\",2.1632915943919335,\"\",\"\",\"\",\"\",\"\",0.14340366798120974,1.3948194962994607,\"\",\"\",\"\",\"\",2.9944590828733664,\"\",\"\",2.391565466890904,0.26574720003443375,\"\",\"\",0.3624563084803982,\"\",1.407101308017942,0.7805418780927225,0.8693667928364083,\"\",0.42110032289782523,2.5699656936999347,\"\",\"\",\"\",\"\",1.3234576936467641,1.369061894638261,0.4199347482722404,0.6201214901216097,0.5621100555912134,\"\",\"\",2.227982203594271],\"yaxis\":\"y2\",\"type\":\"scatter\"},{\"connectgaps\":false,\"fill\":\"tozeroy\",\"line\":{\"color\":\"red\",\"dash\":\"solid\",\"shape\":\"linear\",\"width\":0.5},\"mode\":\"lines\",\"name\":\"Spread\",\"showlegend\":false,\"x\":[0,1,2,3,4,5,6,7,8,9,10,11,12,13,14,15,16,17,18,19,20,21,22,23,24,25,26,27,28,29,30,31,32,33,34,35,36,37,38,39,40,41,42,43,44,45,46,47,48,49,50,51,52,53,54,55,56,57,58,59,60,61,62,63,64,65,66,67,68,69,70,71,72,73,74,75,76,77,78,79,80,81,82,83,84,85,86,87,88,89,90,91,92,93,94,95,96,97,98,99],\"xaxis\":\"x2\",\"y\":[\"\",\"\",\"\",\"\",\"\",\"\",\"\",-1.3285283353987893,\"\",\"\",\"\",-1.5352584705543877,-1.2285370985767694,\"\",\"\",\"\",-0.8887485809059972,\"\",\"\",\"\",-0.4332293503088621,\"\",\"\",\"\",-1.447775542870674,\"\",\"\",\"\",\"\",\"\",\"\",\"\",\"\",\"\",\"\",\"\",-2.338139100712112,\"\",-1.3124486663964174,\"\",-2.558859590127084,\"\",\"\",-0.5613680983787351,-1.1856250093551943,-1.7106692508986137,-2.0169358164600446,\"\",-0.3220838855595496,\"\",-0.3524572122413794,\"\",\"\",-0.0675232209219242,-0.5915880404351628,-0.14718143281338625,-0.3257557204065219,\"\",\"\",-0.3276830775424502,-1.2645350742761527,\"\",-0.5071033619205032,-0.5740067123836681,-0.1856676434425894,-0.359432120637333,-0.959521475134223,\"\",\"\",-0.1285972614507258,-0.8424298703530069,-0.25129264737276946,-2.043419457437649,\"\",-0.044723474439986255,-1.8726838772330516,\"\",\"\",-1.1184586390158706,-0.4854848497553499,\"\",-1.580017438445656,\"\",\"\",\"\",-2.1416134988666067,\"\",\"\",-1.1873338643550713,-1.5622751076990273,-0.07535052845946144,-0.12295621850386579,\"\",\"\",\"\",\"\",\"\",-1.7471369177865315,-1.1639994644579825,\"\"],\"yaxis\":\"y2\",\"type\":\"scatter\"}],                        {\"hovermode\":\"x\",\"legend\":{\"bgcolor\":\"#F5F6F9\",\"font\":{\"color\":\"#4D5663\"}},\"paper_bgcolor\":\"#F5F6F9\",\"plot_bgcolor\":\"#F5F6F9\",\"template\":{\"data\":{\"barpolar\":[{\"marker\":{\"line\":{\"color\":\"#E5ECF6\",\"width\":0.5},\"pattern\":{\"fillmode\":\"overlay\",\"size\":10,\"solidity\":0.2}},\"type\":\"barpolar\"}],\"bar\":[{\"error_x\":{\"color\":\"#2a3f5f\"},\"error_y\":{\"color\":\"#2a3f5f\"},\"marker\":{\"line\":{\"color\":\"#E5ECF6\",\"width\":0.5},\"pattern\":{\"fillmode\":\"overlay\",\"size\":10,\"solidity\":0.2}},\"type\":\"bar\"}],\"carpet\":[{\"aaxis\":{\"endlinecolor\":\"#2a3f5f\",\"gridcolor\":\"white\",\"linecolor\":\"white\",\"minorgridcolor\":\"white\",\"startlinecolor\":\"#2a3f5f\"},\"baxis\":{\"endlinecolor\":\"#2a3f5f\",\"gridcolor\":\"white\",\"linecolor\":\"white\",\"minorgridcolor\":\"white\",\"startlinecolor\":\"#2a3f5f\"},\"type\":\"carpet\"}],\"choropleth\":[{\"colorbar\":{\"outlinewidth\":0,\"ticks\":\"\"},\"type\":\"choropleth\"}],\"contourcarpet\":[{\"colorbar\":{\"outlinewidth\":0,\"ticks\":\"\"},\"type\":\"contourcarpet\"}],\"contour\":[{\"colorbar\":{\"outlinewidth\":0,\"ticks\":\"\"},\"colorscale\":[[0.0,\"#0d0887\"],[0.1111111111111111,\"#46039f\"],[0.2222222222222222,\"#7201a8\"],[0.3333333333333333,\"#9c179e\"],[0.4444444444444444,\"#bd3786\"],[0.5555555555555556,\"#d8576b\"],[0.6666666666666666,\"#ed7953\"],[0.7777777777777778,\"#fb9f3a\"],[0.8888888888888888,\"#fdca26\"],[1.0,\"#f0f921\"]],\"type\":\"contour\"}],\"heatmapgl\":[{\"colorbar\":{\"outlinewidth\":0,\"ticks\":\"\"},\"colorscale\":[[0.0,\"#0d0887\"],[0.1111111111111111,\"#46039f\"],[0.2222222222222222,\"#7201a8\"],[0.3333333333333333,\"#9c179e\"],[0.4444444444444444,\"#bd3786\"],[0.5555555555555556,\"#d8576b\"],[0.6666666666666666,\"#ed7953\"],[0.7777777777777778,\"#fb9f3a\"],[0.8888888888888888,\"#fdca26\"],[1.0,\"#f0f921\"]],\"type\":\"heatmapgl\"}],\"heatmap\":[{\"colorbar\":{\"outlinewidth\":0,\"ticks\":\"\"},\"colorscale\":[[0.0,\"#0d0887\"],[0.1111111111111111,\"#46039f\"],[0.2222222222222222,\"#7201a8\"],[0.3333333333333333,\"#9c179e\"],[0.4444444444444444,\"#bd3786\"],[0.5555555555555556,\"#d8576b\"],[0.6666666666666666,\"#ed7953\"],[0.7777777777777778,\"#fb9f3a\"],[0.8888888888888888,\"#fdca26\"],[1.0,\"#f0f921\"]],\"type\":\"heatmap\"}],\"histogram2dcontour\":[{\"colorbar\":{\"outlinewidth\":0,\"ticks\":\"\"},\"colorscale\":[[0.0,\"#0d0887\"],[0.1111111111111111,\"#46039f\"],[0.2222222222222222,\"#7201a8\"],[0.3333333333333333,\"#9c179e\"],[0.4444444444444444,\"#bd3786\"],[0.5555555555555556,\"#d8576b\"],[0.6666666666666666,\"#ed7953\"],[0.7777777777777778,\"#fb9f3a\"],[0.8888888888888888,\"#fdca26\"],[1.0,\"#f0f921\"]],\"type\":\"histogram2dcontour\"}],\"histogram2d\":[{\"colorbar\":{\"outlinewidth\":0,\"ticks\":\"\"},\"colorscale\":[[0.0,\"#0d0887\"],[0.1111111111111111,\"#46039f\"],[0.2222222222222222,\"#7201a8\"],[0.3333333333333333,\"#9c179e\"],[0.4444444444444444,\"#bd3786\"],[0.5555555555555556,\"#d8576b\"],[0.6666666666666666,\"#ed7953\"],[0.7777777777777778,\"#fb9f3a\"],[0.8888888888888888,\"#fdca26\"],[1.0,\"#f0f921\"]],\"type\":\"histogram2d\"}],\"histogram\":[{\"marker\":{\"pattern\":{\"fillmode\":\"overlay\",\"size\":10,\"solidity\":0.2}},\"type\":\"histogram\"}],\"mesh3d\":[{\"colorbar\":{\"outlinewidth\":0,\"ticks\":\"\"},\"type\":\"mesh3d\"}],\"parcoords\":[{\"line\":{\"colorbar\":{\"outlinewidth\":0,\"ticks\":\"\"}},\"type\":\"parcoords\"}],\"pie\":[{\"automargin\":true,\"type\":\"pie\"}],\"scatter3d\":[{\"line\":{\"colorbar\":{\"outlinewidth\":0,\"ticks\":\"\"}},\"marker\":{\"colorbar\":{\"outlinewidth\":0,\"ticks\":\"\"}},\"type\":\"scatter3d\"}],\"scattercarpet\":[{\"marker\":{\"colorbar\":{\"outlinewidth\":0,\"ticks\":\"\"}},\"type\":\"scattercarpet\"}],\"scattergeo\":[{\"marker\":{\"colorbar\":{\"outlinewidth\":0,\"ticks\":\"\"}},\"type\":\"scattergeo\"}],\"scattergl\":[{\"marker\":{\"colorbar\":{\"outlinewidth\":0,\"ticks\":\"\"}},\"type\":\"scattergl\"}],\"scattermapbox\":[{\"marker\":{\"colorbar\":{\"outlinewidth\":0,\"ticks\":\"\"}},\"type\":\"scattermapbox\"}],\"scatterpolargl\":[{\"marker\":{\"colorbar\":{\"outlinewidth\":0,\"ticks\":\"\"}},\"type\":\"scatterpolargl\"}],\"scatterpolar\":[{\"marker\":{\"colorbar\":{\"outlinewidth\":0,\"ticks\":\"\"}},\"type\":\"scatterpolar\"}],\"scatter\":[{\"fillpattern\":{\"fillmode\":\"overlay\",\"size\":10,\"solidity\":0.2},\"type\":\"scatter\"}],\"scatterternary\":[{\"marker\":{\"colorbar\":{\"outlinewidth\":0,\"ticks\":\"\"}},\"type\":\"scatterternary\"}],\"surface\":[{\"colorbar\":{\"outlinewidth\":0,\"ticks\":\"\"},\"colorscale\":[[0.0,\"#0d0887\"],[0.1111111111111111,\"#46039f\"],[0.2222222222222222,\"#7201a8\"],[0.3333333333333333,\"#9c179e\"],[0.4444444444444444,\"#bd3786\"],[0.5555555555555556,\"#d8576b\"],[0.6666666666666666,\"#ed7953\"],[0.7777777777777778,\"#fb9f3a\"],[0.8888888888888888,\"#fdca26\"],[1.0,\"#f0f921\"]],\"type\":\"surface\"}],\"table\":[{\"cells\":{\"fill\":{\"color\":\"#EBF0F8\"},\"line\":{\"color\":\"white\"}},\"header\":{\"fill\":{\"color\":\"#C8D4E3\"},\"line\":{\"color\":\"white\"}},\"type\":\"table\"}]},\"layout\":{\"annotationdefaults\":{\"arrowcolor\":\"#2a3f5f\",\"arrowhead\":0,\"arrowwidth\":1},\"autotypenumbers\":\"strict\",\"coloraxis\":{\"colorbar\":{\"outlinewidth\":0,\"ticks\":\"\"}},\"colorscale\":{\"diverging\":[[0,\"#8e0152\"],[0.1,\"#c51b7d\"],[0.2,\"#de77ae\"],[0.3,\"#f1b6da\"],[0.4,\"#fde0ef\"],[0.5,\"#f7f7f7\"],[0.6,\"#e6f5d0\"],[0.7,\"#b8e186\"],[0.8,\"#7fbc41\"],[0.9,\"#4d9221\"],[1,\"#276419\"]],\"sequential\":[[0.0,\"#0d0887\"],[0.1111111111111111,\"#46039f\"],[0.2222222222222222,\"#7201a8\"],[0.3333333333333333,\"#9c179e\"],[0.4444444444444444,\"#bd3786\"],[0.5555555555555556,\"#d8576b\"],[0.6666666666666666,\"#ed7953\"],[0.7777777777777778,\"#fb9f3a\"],[0.8888888888888888,\"#fdca26\"],[1.0,\"#f0f921\"]],\"sequentialminus\":[[0.0,\"#0d0887\"],[0.1111111111111111,\"#46039f\"],[0.2222222222222222,\"#7201a8\"],[0.3333333333333333,\"#9c179e\"],[0.4444444444444444,\"#bd3786\"],[0.5555555555555556,\"#d8576b\"],[0.6666666666666666,\"#ed7953\"],[0.7777777777777778,\"#fb9f3a\"],[0.8888888888888888,\"#fdca26\"],[1.0,\"#f0f921\"]]},\"colorway\":[\"#636efa\",\"#EF553B\",\"#00cc96\",\"#ab63fa\",\"#FFA15A\",\"#19d3f3\",\"#FF6692\",\"#B6E880\",\"#FF97FF\",\"#FECB52\"],\"font\":{\"color\":\"#2a3f5f\"},\"geo\":{\"bgcolor\":\"white\",\"lakecolor\":\"white\",\"landcolor\":\"#E5ECF6\",\"showlakes\":true,\"showland\":true,\"subunitcolor\":\"white\"},\"hoverlabel\":{\"align\":\"left\"},\"hovermode\":\"closest\",\"mapbox\":{\"style\":\"light\"},\"paper_bgcolor\":\"white\",\"plot_bgcolor\":\"#E5ECF6\",\"polar\":{\"angularaxis\":{\"gridcolor\":\"white\",\"linecolor\":\"white\",\"ticks\":\"\"},\"bgcolor\":\"#E5ECF6\",\"radialaxis\":{\"gridcolor\":\"white\",\"linecolor\":\"white\",\"ticks\":\"\"}},\"scene\":{\"xaxis\":{\"backgroundcolor\":\"#E5ECF6\",\"gridcolor\":\"white\",\"gridwidth\":2,\"linecolor\":\"white\",\"showbackground\":true,\"ticks\":\"\",\"zerolinecolor\":\"white\"},\"yaxis\":{\"backgroundcolor\":\"#E5ECF6\",\"gridcolor\":\"white\",\"gridwidth\":2,\"linecolor\":\"white\",\"showbackground\":true,\"ticks\":\"\",\"zerolinecolor\":\"white\"},\"zaxis\":{\"backgroundcolor\":\"#E5ECF6\",\"gridcolor\":\"white\",\"gridwidth\":2,\"linecolor\":\"white\",\"showbackground\":true,\"ticks\":\"\",\"zerolinecolor\":\"white\"}},\"shapedefaults\":{\"line\":{\"color\":\"#2a3f5f\"}},\"ternary\":{\"aaxis\":{\"gridcolor\":\"white\",\"linecolor\":\"white\",\"ticks\":\"\"},\"baxis\":{\"gridcolor\":\"white\",\"linecolor\":\"white\",\"ticks\":\"\"},\"bgcolor\":\"#E5ECF6\",\"caxis\":{\"gridcolor\":\"white\",\"linecolor\":\"white\",\"ticks\":\"\"}},\"title\":{\"x\":0.05},\"xaxis\":{\"automargin\":true,\"gridcolor\":\"white\",\"linecolor\":\"white\",\"ticks\":\"\",\"title\":{\"standoff\":15},\"zerolinecolor\":\"white\",\"zerolinewidth\":2},\"yaxis\":{\"automargin\":true,\"gridcolor\":\"white\",\"linecolor\":\"white\",\"ticks\":\"\",\"title\":{\"standoff\":15},\"zerolinecolor\":\"white\",\"zerolinewidth\":2}}},\"title\":{\"font\":{\"color\":\"#4D5663\"}},\"xaxis\":{\"gridcolor\":\"#E1E5ED\",\"showgrid\":true,\"tickfont\":{\"color\":\"#4D5663\"},\"title\":{\"font\":{\"color\":\"#4D5663\"},\"text\":\"\"},\"zerolinecolor\":\"#E1E5ED\"},\"yaxis\":{\"domain\":[0.3,1],\"gridcolor\":\"#E1E5ED\",\"showgrid\":true,\"tickfont\":{\"color\":\"#4D5663\"},\"title\":{\"font\":{\"color\":\"#4D5663\"},\"text\":\"\"},\"zerolinecolor\":\"#E1E5ED\"},\"yaxis2\":{\"domain\":[0,0.25],\"gridcolor\":\"#E1E5ED\",\"showgrid\":true,\"tickfont\":{\"color\":\"#4D5663\"},\"title\":{\"font\":{\"color\":\"#4D5663\"},\"text\":\"Spread\"},\"zerolinecolor\":\"#E1E5ED\"},\"xaxis2\":{\"anchor\":\"y2\",\"gridcolor\":\"#E1E5ED\",\"showgrid\":true,\"showticklabels\":false,\"tickfont\":{\"color\":\"#4D5663\"},\"title\":{\"font\":{\"color\":\"#4D5663\"},\"text\":\"\"},\"zerolinecolor\":\"#E1E5ED\"}},                        {\"showLink\": true, \"linkText\": \"Export to plot.ly\", \"plotlyServerURL\": \"https://plot.ly\", \"responsive\": true}                    ).then(function(){\n",
       "                            \n",
       "var gd = document.getElementById('dfe85112-4e0b-49bc-b085-d781feb53f9d');\n",
       "var x = new MutationObserver(function (mutations, observer) {{\n",
       "        var display = window.getComputedStyle(gd).display;\n",
       "        if (!display || display === 'none') {{\n",
       "            console.log([gd, 'removed!']);\n",
       "            Plotly.purge(gd);\n",
       "            observer.disconnect();\n",
       "        }}\n",
       "}});\n",
       "\n",
       "// Listen for the removal of the full notebook cells\n",
       "var notebookContainer = gd.closest('#notebook-container');\n",
       "if (notebookContainer) {{\n",
       "    x.observe(notebookContainer, {childList: true});\n",
       "}}\n",
       "\n",
       "// Listen for the clearing of the current output cell\n",
       "var outputEl = gd.closest('.output');\n",
       "if (outputEl) {{\n",
       "    x.observe(outputEl, {childList: true});\n",
       "}}\n",
       "\n",
       "                        })                };                });            </script>        </div>"
      ]
     },
     "metadata": {},
     "output_type": "display_data"
    }
   ],
   "source": [
    "df[['A','B']].iplot(kind='spread')"
   ]
  },
  {
   "cell_type": "markdown",
   "metadata": {},
   "source": [
    "## histogram"
   ]
  },
  {
   "cell_type": "code",
   "execution_count": 17,
   "metadata": {},
   "outputs": [
    {
     "data": {
      "application/vnd.plotly.v1+json": {
       "config": {
        "linkText": "Export to plot.ly",
        "plotlyServerURL": "https://plot.ly",
        "showLink": true
       },
       "data": [
        {
         "histfunc": "count",
         "histnorm": "",
         "marker": {
          "color": "rgba(255, 153, 51, 1.0)",
          "line": {
           "color": "#4D5663",
           "width": 1.3
          }
         },
         "name": "A",
         "nbinsx": 25,
         "opacity": 0.8,
         "orientation": "v",
         "type": "histogram",
         "x": [
          0.7655458203462077,
          -0.12808922353551602,
          1.4513993957179177,
          -0.19122091052993234,
          1.1030723744375364,
          1.033532144394203,
          0.3841969617822889,
          0.6496604352494966,
          0.513285627209426,
          0.11476079502280276,
          -0.2591015559704645,
          -1.776879311107862,
          -1.34794116248284,
          0.7082005182592324,
          -0.07069421173021438,
          0.2969240010622188,
          0.3536557662414352,
          0.47251436715512296,
          1.1563489173302384,
          -1.1577309588480218,
          -0.8911183307244669,
          2.619839722470479,
          2.473037611797308,
          2.7479066271536197,
          -1.3832565327512583,
          0.42590028724574386,
          0.8266523606807861,
          0.4582137090455324,
          0.3669423654181648,
          -0.38559101708212323,
          0.7043030621427251,
          0.7977307659092078,
          0.5923822621043702,
          0.9225429891488932,
          2.0559542054906292,
          1.7485194011322966,
          -1.4178063337005729,
          0.3492884656078567,
          0.8946522460785905,
          1.560287626057767,
          -0.8322926593044682,
          1.2349418728588268,
          1.7875197554567475,
          0.08633619069120248,
          0.5314971207622426,
          -0.9436475384249055,
          -1.615751639616223,
          1.5499038599623058,
          -1.6173743554616682,
          0.006085323851007527,
          0.002795262409405392,
          0.3659633121859034,
          0.801851411757661,
          -0.5374217808986604,
          -0.12139982016197108,
          -0.7028554934220238,
          -0.8765908568443167,
          0.41346433697724727,
          1.4384119079610063,
          0.7600927797482195,
          -1.2787747786152739,
          0.5024311486559706,
          0.9750586541892643,
          0.5268072700021327,
          -0.42468859013658095,
          -1.025420774761301,
          -0.4266336127339284,
          0.48272659442294075,
          2.906398718665853,
          0.6880021525294603,
          -0.21480747949987763,
          -0.5686183980043807,
          -0.9131334243330468,
          1.6573368062052414,
          -1.7930944914691276,
          -0.9843674117413633,
          2.1543809516091437,
          0.4021428551289348,
          -1.2844749093286496,
          0.014934416169660418,
          0.15129520541311742,
          -0.30558213224536673,
          1.3253078666447853,
          -0.10688727093219857,
          1.0461711436912986,
          -1.240988782651725,
          0.7505133678415967,
          1.0924753055237828,
          -0.4217096676086004,
          -1.0886553141159043,
          0.465188624187154,
          0.27046011280690474,
          -1.0788735585175873,
          0.7616297320826227,
          1.83194824101488,
          -0.14619950548323124,
          0.9567672741523233,
          -0.6461097831091536,
          1.1273945026599368,
          1.8805504460884466
         ]
        }
       ],
       "layout": {
        "barmode": "overlay",
        "legend": {
         "bgcolor": "#F5F6F9",
         "font": {
          "color": "#4D5663"
         }
        },
        "paper_bgcolor": "#F5F6F9",
        "plot_bgcolor": "#F5F6F9",
        "template": {
         "data": {
          "bar": [
           {
            "error_x": {
             "color": "#2a3f5f"
            },
            "error_y": {
             "color": "#2a3f5f"
            },
            "marker": {
             "line": {
              "color": "#E5ECF6",
              "width": 0.5
             },
             "pattern": {
              "fillmode": "overlay",
              "size": 10,
              "solidity": 0.2
             }
            },
            "type": "bar"
           }
          ],
          "barpolar": [
           {
            "marker": {
             "line": {
              "color": "#E5ECF6",
              "width": 0.5
             },
             "pattern": {
              "fillmode": "overlay",
              "size": 10,
              "solidity": 0.2
             }
            },
            "type": "barpolar"
           }
          ],
          "carpet": [
           {
            "aaxis": {
             "endlinecolor": "#2a3f5f",
             "gridcolor": "white",
             "linecolor": "white",
             "minorgridcolor": "white",
             "startlinecolor": "#2a3f5f"
            },
            "baxis": {
             "endlinecolor": "#2a3f5f",
             "gridcolor": "white",
             "linecolor": "white",
             "minorgridcolor": "white",
             "startlinecolor": "#2a3f5f"
            },
            "type": "carpet"
           }
          ],
          "choropleth": [
           {
            "colorbar": {
             "outlinewidth": 0,
             "ticks": ""
            },
            "type": "choropleth"
           }
          ],
          "contour": [
           {
            "colorbar": {
             "outlinewidth": 0,
             "ticks": ""
            },
            "colorscale": [
             [
              0,
              "#0d0887"
             ],
             [
              0.1111111111111111,
              "#46039f"
             ],
             [
              0.2222222222222222,
              "#7201a8"
             ],
             [
              0.3333333333333333,
              "#9c179e"
             ],
             [
              0.4444444444444444,
              "#bd3786"
             ],
             [
              0.5555555555555556,
              "#d8576b"
             ],
             [
              0.6666666666666666,
              "#ed7953"
             ],
             [
              0.7777777777777778,
              "#fb9f3a"
             ],
             [
              0.8888888888888888,
              "#fdca26"
             ],
             [
              1,
              "#f0f921"
             ]
            ],
            "type": "contour"
           }
          ],
          "contourcarpet": [
           {
            "colorbar": {
             "outlinewidth": 0,
             "ticks": ""
            },
            "type": "contourcarpet"
           }
          ],
          "heatmap": [
           {
            "colorbar": {
             "outlinewidth": 0,
             "ticks": ""
            },
            "colorscale": [
             [
              0,
              "#0d0887"
             ],
             [
              0.1111111111111111,
              "#46039f"
             ],
             [
              0.2222222222222222,
              "#7201a8"
             ],
             [
              0.3333333333333333,
              "#9c179e"
             ],
             [
              0.4444444444444444,
              "#bd3786"
             ],
             [
              0.5555555555555556,
              "#d8576b"
             ],
             [
              0.6666666666666666,
              "#ed7953"
             ],
             [
              0.7777777777777778,
              "#fb9f3a"
             ],
             [
              0.8888888888888888,
              "#fdca26"
             ],
             [
              1,
              "#f0f921"
             ]
            ],
            "type": "heatmap"
           }
          ],
          "heatmapgl": [
           {
            "colorbar": {
             "outlinewidth": 0,
             "ticks": ""
            },
            "colorscale": [
             [
              0,
              "#0d0887"
             ],
             [
              0.1111111111111111,
              "#46039f"
             ],
             [
              0.2222222222222222,
              "#7201a8"
             ],
             [
              0.3333333333333333,
              "#9c179e"
             ],
             [
              0.4444444444444444,
              "#bd3786"
             ],
             [
              0.5555555555555556,
              "#d8576b"
             ],
             [
              0.6666666666666666,
              "#ed7953"
             ],
             [
              0.7777777777777778,
              "#fb9f3a"
             ],
             [
              0.8888888888888888,
              "#fdca26"
             ],
             [
              1,
              "#f0f921"
             ]
            ],
            "type": "heatmapgl"
           }
          ],
          "histogram": [
           {
            "marker": {
             "pattern": {
              "fillmode": "overlay",
              "size": 10,
              "solidity": 0.2
             }
            },
            "type": "histogram"
           }
          ],
          "histogram2d": [
           {
            "colorbar": {
             "outlinewidth": 0,
             "ticks": ""
            },
            "colorscale": [
             [
              0,
              "#0d0887"
             ],
             [
              0.1111111111111111,
              "#46039f"
             ],
             [
              0.2222222222222222,
              "#7201a8"
             ],
             [
              0.3333333333333333,
              "#9c179e"
             ],
             [
              0.4444444444444444,
              "#bd3786"
             ],
             [
              0.5555555555555556,
              "#d8576b"
             ],
             [
              0.6666666666666666,
              "#ed7953"
             ],
             [
              0.7777777777777778,
              "#fb9f3a"
             ],
             [
              0.8888888888888888,
              "#fdca26"
             ],
             [
              1,
              "#f0f921"
             ]
            ],
            "type": "histogram2d"
           }
          ],
          "histogram2dcontour": [
           {
            "colorbar": {
             "outlinewidth": 0,
             "ticks": ""
            },
            "colorscale": [
             [
              0,
              "#0d0887"
             ],
             [
              0.1111111111111111,
              "#46039f"
             ],
             [
              0.2222222222222222,
              "#7201a8"
             ],
             [
              0.3333333333333333,
              "#9c179e"
             ],
             [
              0.4444444444444444,
              "#bd3786"
             ],
             [
              0.5555555555555556,
              "#d8576b"
             ],
             [
              0.6666666666666666,
              "#ed7953"
             ],
             [
              0.7777777777777778,
              "#fb9f3a"
             ],
             [
              0.8888888888888888,
              "#fdca26"
             ],
             [
              1,
              "#f0f921"
             ]
            ],
            "type": "histogram2dcontour"
           }
          ],
          "mesh3d": [
           {
            "colorbar": {
             "outlinewidth": 0,
             "ticks": ""
            },
            "type": "mesh3d"
           }
          ],
          "parcoords": [
           {
            "line": {
             "colorbar": {
              "outlinewidth": 0,
              "ticks": ""
             }
            },
            "type": "parcoords"
           }
          ],
          "pie": [
           {
            "automargin": true,
            "type": "pie"
           }
          ],
          "scatter": [
           {
            "fillpattern": {
             "fillmode": "overlay",
             "size": 10,
             "solidity": 0.2
            },
            "type": "scatter"
           }
          ],
          "scatter3d": [
           {
            "line": {
             "colorbar": {
              "outlinewidth": 0,
              "ticks": ""
             }
            },
            "marker": {
             "colorbar": {
              "outlinewidth": 0,
              "ticks": ""
             }
            },
            "type": "scatter3d"
           }
          ],
          "scattercarpet": [
           {
            "marker": {
             "colorbar": {
              "outlinewidth": 0,
              "ticks": ""
             }
            },
            "type": "scattercarpet"
           }
          ],
          "scattergeo": [
           {
            "marker": {
             "colorbar": {
              "outlinewidth": 0,
              "ticks": ""
             }
            },
            "type": "scattergeo"
           }
          ],
          "scattergl": [
           {
            "marker": {
             "colorbar": {
              "outlinewidth": 0,
              "ticks": ""
             }
            },
            "type": "scattergl"
           }
          ],
          "scattermapbox": [
           {
            "marker": {
             "colorbar": {
              "outlinewidth": 0,
              "ticks": ""
             }
            },
            "type": "scattermapbox"
           }
          ],
          "scatterpolar": [
           {
            "marker": {
             "colorbar": {
              "outlinewidth": 0,
              "ticks": ""
             }
            },
            "type": "scatterpolar"
           }
          ],
          "scatterpolargl": [
           {
            "marker": {
             "colorbar": {
              "outlinewidth": 0,
              "ticks": ""
             }
            },
            "type": "scatterpolargl"
           }
          ],
          "scatterternary": [
           {
            "marker": {
             "colorbar": {
              "outlinewidth": 0,
              "ticks": ""
             }
            },
            "type": "scatterternary"
           }
          ],
          "surface": [
           {
            "colorbar": {
             "outlinewidth": 0,
             "ticks": ""
            },
            "colorscale": [
             [
              0,
              "#0d0887"
             ],
             [
              0.1111111111111111,
              "#46039f"
             ],
             [
              0.2222222222222222,
              "#7201a8"
             ],
             [
              0.3333333333333333,
              "#9c179e"
             ],
             [
              0.4444444444444444,
              "#bd3786"
             ],
             [
              0.5555555555555556,
              "#d8576b"
             ],
             [
              0.6666666666666666,
              "#ed7953"
             ],
             [
              0.7777777777777778,
              "#fb9f3a"
             ],
             [
              0.8888888888888888,
              "#fdca26"
             ],
             [
              1,
              "#f0f921"
             ]
            ],
            "type": "surface"
           }
          ],
          "table": [
           {
            "cells": {
             "fill": {
              "color": "#EBF0F8"
             },
             "line": {
              "color": "white"
             }
            },
            "header": {
             "fill": {
              "color": "#C8D4E3"
             },
             "line": {
              "color": "white"
             }
            },
            "type": "table"
           }
          ]
         },
         "layout": {
          "annotationdefaults": {
           "arrowcolor": "#2a3f5f",
           "arrowhead": 0,
           "arrowwidth": 1
          },
          "autotypenumbers": "strict",
          "coloraxis": {
           "colorbar": {
            "outlinewidth": 0,
            "ticks": ""
           }
          },
          "colorscale": {
           "diverging": [
            [
             0,
             "#8e0152"
            ],
            [
             0.1,
             "#c51b7d"
            ],
            [
             0.2,
             "#de77ae"
            ],
            [
             0.3,
             "#f1b6da"
            ],
            [
             0.4,
             "#fde0ef"
            ],
            [
             0.5,
             "#f7f7f7"
            ],
            [
             0.6,
             "#e6f5d0"
            ],
            [
             0.7,
             "#b8e186"
            ],
            [
             0.8,
             "#7fbc41"
            ],
            [
             0.9,
             "#4d9221"
            ],
            [
             1,
             "#276419"
            ]
           ],
           "sequential": [
            [
             0,
             "#0d0887"
            ],
            [
             0.1111111111111111,
             "#46039f"
            ],
            [
             0.2222222222222222,
             "#7201a8"
            ],
            [
             0.3333333333333333,
             "#9c179e"
            ],
            [
             0.4444444444444444,
             "#bd3786"
            ],
            [
             0.5555555555555556,
             "#d8576b"
            ],
            [
             0.6666666666666666,
             "#ed7953"
            ],
            [
             0.7777777777777778,
             "#fb9f3a"
            ],
            [
             0.8888888888888888,
             "#fdca26"
            ],
            [
             1,
             "#f0f921"
            ]
           ],
           "sequentialminus": [
            [
             0,
             "#0d0887"
            ],
            [
             0.1111111111111111,
             "#46039f"
            ],
            [
             0.2222222222222222,
             "#7201a8"
            ],
            [
             0.3333333333333333,
             "#9c179e"
            ],
            [
             0.4444444444444444,
             "#bd3786"
            ],
            [
             0.5555555555555556,
             "#d8576b"
            ],
            [
             0.6666666666666666,
             "#ed7953"
            ],
            [
             0.7777777777777778,
             "#fb9f3a"
            ],
            [
             0.8888888888888888,
             "#fdca26"
            ],
            [
             1,
             "#f0f921"
            ]
           ]
          },
          "colorway": [
           "#636efa",
           "#EF553B",
           "#00cc96",
           "#ab63fa",
           "#FFA15A",
           "#19d3f3",
           "#FF6692",
           "#B6E880",
           "#FF97FF",
           "#FECB52"
          ],
          "font": {
           "color": "#2a3f5f"
          },
          "geo": {
           "bgcolor": "white",
           "lakecolor": "white",
           "landcolor": "#E5ECF6",
           "showlakes": true,
           "showland": true,
           "subunitcolor": "white"
          },
          "hoverlabel": {
           "align": "left"
          },
          "hovermode": "closest",
          "mapbox": {
           "style": "light"
          },
          "paper_bgcolor": "white",
          "plot_bgcolor": "#E5ECF6",
          "polar": {
           "angularaxis": {
            "gridcolor": "white",
            "linecolor": "white",
            "ticks": ""
           },
           "bgcolor": "#E5ECF6",
           "radialaxis": {
            "gridcolor": "white",
            "linecolor": "white",
            "ticks": ""
           }
          },
          "scene": {
           "xaxis": {
            "backgroundcolor": "#E5ECF6",
            "gridcolor": "white",
            "gridwidth": 2,
            "linecolor": "white",
            "showbackground": true,
            "ticks": "",
            "zerolinecolor": "white"
           },
           "yaxis": {
            "backgroundcolor": "#E5ECF6",
            "gridcolor": "white",
            "gridwidth": 2,
            "linecolor": "white",
            "showbackground": true,
            "ticks": "",
            "zerolinecolor": "white"
           },
           "zaxis": {
            "backgroundcolor": "#E5ECF6",
            "gridcolor": "white",
            "gridwidth": 2,
            "linecolor": "white",
            "showbackground": true,
            "ticks": "",
            "zerolinecolor": "white"
           }
          },
          "shapedefaults": {
           "line": {
            "color": "#2a3f5f"
           }
          },
          "ternary": {
           "aaxis": {
            "gridcolor": "white",
            "linecolor": "white",
            "ticks": ""
           },
           "baxis": {
            "gridcolor": "white",
            "linecolor": "white",
            "ticks": ""
           },
           "bgcolor": "#E5ECF6",
           "caxis": {
            "gridcolor": "white",
            "linecolor": "white",
            "ticks": ""
           }
          },
          "title": {
           "x": 0.05
          },
          "xaxis": {
           "automargin": true,
           "gridcolor": "white",
           "linecolor": "white",
           "ticks": "",
           "title": {
            "standoff": 15
           },
           "zerolinecolor": "white",
           "zerolinewidth": 2
          },
          "yaxis": {
           "automargin": true,
           "gridcolor": "white",
           "linecolor": "white",
           "ticks": "",
           "title": {
            "standoff": 15
           },
           "zerolinecolor": "white",
           "zerolinewidth": 2
          }
         }
        },
        "title": {
         "font": {
          "color": "#4D5663"
         }
        },
        "xaxis": {
         "gridcolor": "#E1E5ED",
         "showgrid": true,
         "tickfont": {
          "color": "#4D5663"
         },
         "title": {
          "font": {
           "color": "#4D5663"
          },
          "text": ""
         },
         "zerolinecolor": "#E1E5ED"
        },
        "yaxis": {
         "gridcolor": "#E1E5ED",
         "showgrid": true,
         "tickfont": {
          "color": "#4D5663"
         },
         "title": {
          "font": {
           "color": "#4D5663"
          },
          "text": ""
         },
         "zerolinecolor": "#E1E5ED"
        }
       }
      },
      "text/html": [
       "<div>                            <div id=\"0323cee0-277d-48c2-b9df-51e7ea24dd5a\" class=\"plotly-graph-div\" style=\"height:525px; width:100%;\"></div>            <script type=\"text/javascript\">                require([\"plotly\"], function(Plotly) {                    window.PLOTLYENV=window.PLOTLYENV || {};\n",
       "                    window.PLOTLYENV.BASE_URL='https://plot.ly';                                    if (document.getElementById(\"0323cee0-277d-48c2-b9df-51e7ea24dd5a\")) {                    Plotly.newPlot(                        \"0323cee0-277d-48c2-b9df-51e7ea24dd5a\",                        [{\"histfunc\":\"count\",\"histnorm\":\"\",\"marker\":{\"color\":\"rgba(255, 153, 51, 1.0)\",\"line\":{\"color\":\"#4D5663\",\"width\":1.3}},\"name\":\"A\",\"nbinsx\":25,\"opacity\":0.8,\"orientation\":\"v\",\"x\":[0.7655458203462077,-0.12808922353551602,1.4513993957179177,-0.19122091052993234,1.1030723744375364,1.033532144394203,0.3841969617822889,0.6496604352494966,0.513285627209426,0.11476079502280276,-0.2591015559704645,-1.776879311107862,-1.34794116248284,0.7082005182592324,-0.07069421173021438,0.2969240010622188,0.3536557662414352,0.47251436715512296,1.1563489173302384,-1.1577309588480218,-0.8911183307244669,2.619839722470479,2.473037611797308,2.7479066271536197,-1.3832565327512583,0.42590028724574386,0.8266523606807861,0.4582137090455324,0.3669423654181648,-0.38559101708212323,0.7043030621427251,0.7977307659092078,0.5923822621043702,0.9225429891488932,2.0559542054906292,1.7485194011322966,-1.4178063337005729,0.3492884656078567,0.8946522460785905,1.560287626057767,-0.8322926593044682,1.2349418728588268,1.7875197554567475,0.08633619069120248,0.5314971207622426,-0.9436475384249055,-1.615751639616223,1.5499038599623058,-1.6173743554616682,0.006085323851007527,0.002795262409405392,0.3659633121859034,0.801851411757661,-0.5374217808986604,-0.12139982016197108,-0.7028554934220238,-0.8765908568443167,0.41346433697724727,1.4384119079610063,0.7600927797482195,-1.2787747786152739,0.5024311486559706,0.9750586541892643,0.5268072700021327,-0.42468859013658095,-1.025420774761301,-0.4266336127339284,0.48272659442294075,2.906398718665853,0.6880021525294603,-0.21480747949987763,-0.5686183980043807,-0.9131334243330468,1.6573368062052414,-1.7930944914691276,-0.9843674117413633,2.1543809516091437,0.4021428551289348,-1.2844749093286496,0.014934416169660418,0.15129520541311742,-0.30558213224536673,1.3253078666447853,-0.10688727093219857,1.0461711436912986,-1.240988782651725,0.7505133678415967,1.0924753055237828,-0.4217096676086004,-1.0886553141159043,0.465188624187154,0.27046011280690474,-1.0788735585175873,0.7616297320826227,1.83194824101488,-0.14619950548323124,0.9567672741523233,-0.6461097831091536,1.1273945026599368,1.8805504460884466],\"type\":\"histogram\"}],                        {\"barmode\":\"overlay\",\"legend\":{\"bgcolor\":\"#F5F6F9\",\"font\":{\"color\":\"#4D5663\"}},\"paper_bgcolor\":\"#F5F6F9\",\"plot_bgcolor\":\"#F5F6F9\",\"template\":{\"data\":{\"barpolar\":[{\"marker\":{\"line\":{\"color\":\"#E5ECF6\",\"width\":0.5},\"pattern\":{\"fillmode\":\"overlay\",\"size\":10,\"solidity\":0.2}},\"type\":\"barpolar\"}],\"bar\":[{\"error_x\":{\"color\":\"#2a3f5f\"},\"error_y\":{\"color\":\"#2a3f5f\"},\"marker\":{\"line\":{\"color\":\"#E5ECF6\",\"width\":0.5},\"pattern\":{\"fillmode\":\"overlay\",\"size\":10,\"solidity\":0.2}},\"type\":\"bar\"}],\"carpet\":[{\"aaxis\":{\"endlinecolor\":\"#2a3f5f\",\"gridcolor\":\"white\",\"linecolor\":\"white\",\"minorgridcolor\":\"white\",\"startlinecolor\":\"#2a3f5f\"},\"baxis\":{\"endlinecolor\":\"#2a3f5f\",\"gridcolor\":\"white\",\"linecolor\":\"white\",\"minorgridcolor\":\"white\",\"startlinecolor\":\"#2a3f5f\"},\"type\":\"carpet\"}],\"choropleth\":[{\"colorbar\":{\"outlinewidth\":0,\"ticks\":\"\"},\"type\":\"choropleth\"}],\"contourcarpet\":[{\"colorbar\":{\"outlinewidth\":0,\"ticks\":\"\"},\"type\":\"contourcarpet\"}],\"contour\":[{\"colorbar\":{\"outlinewidth\":0,\"ticks\":\"\"},\"colorscale\":[[0.0,\"#0d0887\"],[0.1111111111111111,\"#46039f\"],[0.2222222222222222,\"#7201a8\"],[0.3333333333333333,\"#9c179e\"],[0.4444444444444444,\"#bd3786\"],[0.5555555555555556,\"#d8576b\"],[0.6666666666666666,\"#ed7953\"],[0.7777777777777778,\"#fb9f3a\"],[0.8888888888888888,\"#fdca26\"],[1.0,\"#f0f921\"]],\"type\":\"contour\"}],\"heatmapgl\":[{\"colorbar\":{\"outlinewidth\":0,\"ticks\":\"\"},\"colorscale\":[[0.0,\"#0d0887\"],[0.1111111111111111,\"#46039f\"],[0.2222222222222222,\"#7201a8\"],[0.3333333333333333,\"#9c179e\"],[0.4444444444444444,\"#bd3786\"],[0.5555555555555556,\"#d8576b\"],[0.6666666666666666,\"#ed7953\"],[0.7777777777777778,\"#fb9f3a\"],[0.8888888888888888,\"#fdca26\"],[1.0,\"#f0f921\"]],\"type\":\"heatmapgl\"}],\"heatmap\":[{\"colorbar\":{\"outlinewidth\":0,\"ticks\":\"\"},\"colorscale\":[[0.0,\"#0d0887\"],[0.1111111111111111,\"#46039f\"],[0.2222222222222222,\"#7201a8\"],[0.3333333333333333,\"#9c179e\"],[0.4444444444444444,\"#bd3786\"],[0.5555555555555556,\"#d8576b\"],[0.6666666666666666,\"#ed7953\"],[0.7777777777777778,\"#fb9f3a\"],[0.8888888888888888,\"#fdca26\"],[1.0,\"#f0f921\"]],\"type\":\"heatmap\"}],\"histogram2dcontour\":[{\"colorbar\":{\"outlinewidth\":0,\"ticks\":\"\"},\"colorscale\":[[0.0,\"#0d0887\"],[0.1111111111111111,\"#46039f\"],[0.2222222222222222,\"#7201a8\"],[0.3333333333333333,\"#9c179e\"],[0.4444444444444444,\"#bd3786\"],[0.5555555555555556,\"#d8576b\"],[0.6666666666666666,\"#ed7953\"],[0.7777777777777778,\"#fb9f3a\"],[0.8888888888888888,\"#fdca26\"],[1.0,\"#f0f921\"]],\"type\":\"histogram2dcontour\"}],\"histogram2d\":[{\"colorbar\":{\"outlinewidth\":0,\"ticks\":\"\"},\"colorscale\":[[0.0,\"#0d0887\"],[0.1111111111111111,\"#46039f\"],[0.2222222222222222,\"#7201a8\"],[0.3333333333333333,\"#9c179e\"],[0.4444444444444444,\"#bd3786\"],[0.5555555555555556,\"#d8576b\"],[0.6666666666666666,\"#ed7953\"],[0.7777777777777778,\"#fb9f3a\"],[0.8888888888888888,\"#fdca26\"],[1.0,\"#f0f921\"]],\"type\":\"histogram2d\"}],\"histogram\":[{\"marker\":{\"pattern\":{\"fillmode\":\"overlay\",\"size\":10,\"solidity\":0.2}},\"type\":\"histogram\"}],\"mesh3d\":[{\"colorbar\":{\"outlinewidth\":0,\"ticks\":\"\"},\"type\":\"mesh3d\"}],\"parcoords\":[{\"line\":{\"colorbar\":{\"outlinewidth\":0,\"ticks\":\"\"}},\"type\":\"parcoords\"}],\"pie\":[{\"automargin\":true,\"type\":\"pie\"}],\"scatter3d\":[{\"line\":{\"colorbar\":{\"outlinewidth\":0,\"ticks\":\"\"}},\"marker\":{\"colorbar\":{\"outlinewidth\":0,\"ticks\":\"\"}},\"type\":\"scatter3d\"}],\"scattercarpet\":[{\"marker\":{\"colorbar\":{\"outlinewidth\":0,\"ticks\":\"\"}},\"type\":\"scattercarpet\"}],\"scattergeo\":[{\"marker\":{\"colorbar\":{\"outlinewidth\":0,\"ticks\":\"\"}},\"type\":\"scattergeo\"}],\"scattergl\":[{\"marker\":{\"colorbar\":{\"outlinewidth\":0,\"ticks\":\"\"}},\"type\":\"scattergl\"}],\"scattermapbox\":[{\"marker\":{\"colorbar\":{\"outlinewidth\":0,\"ticks\":\"\"}},\"type\":\"scattermapbox\"}],\"scatterpolargl\":[{\"marker\":{\"colorbar\":{\"outlinewidth\":0,\"ticks\":\"\"}},\"type\":\"scatterpolargl\"}],\"scatterpolar\":[{\"marker\":{\"colorbar\":{\"outlinewidth\":0,\"ticks\":\"\"}},\"type\":\"scatterpolar\"}],\"scatter\":[{\"fillpattern\":{\"fillmode\":\"overlay\",\"size\":10,\"solidity\":0.2},\"type\":\"scatter\"}],\"scatterternary\":[{\"marker\":{\"colorbar\":{\"outlinewidth\":0,\"ticks\":\"\"}},\"type\":\"scatterternary\"}],\"surface\":[{\"colorbar\":{\"outlinewidth\":0,\"ticks\":\"\"},\"colorscale\":[[0.0,\"#0d0887\"],[0.1111111111111111,\"#46039f\"],[0.2222222222222222,\"#7201a8\"],[0.3333333333333333,\"#9c179e\"],[0.4444444444444444,\"#bd3786\"],[0.5555555555555556,\"#d8576b\"],[0.6666666666666666,\"#ed7953\"],[0.7777777777777778,\"#fb9f3a\"],[0.8888888888888888,\"#fdca26\"],[1.0,\"#f0f921\"]],\"type\":\"surface\"}],\"table\":[{\"cells\":{\"fill\":{\"color\":\"#EBF0F8\"},\"line\":{\"color\":\"white\"}},\"header\":{\"fill\":{\"color\":\"#C8D4E3\"},\"line\":{\"color\":\"white\"}},\"type\":\"table\"}]},\"layout\":{\"annotationdefaults\":{\"arrowcolor\":\"#2a3f5f\",\"arrowhead\":0,\"arrowwidth\":1},\"autotypenumbers\":\"strict\",\"coloraxis\":{\"colorbar\":{\"outlinewidth\":0,\"ticks\":\"\"}},\"colorscale\":{\"diverging\":[[0,\"#8e0152\"],[0.1,\"#c51b7d\"],[0.2,\"#de77ae\"],[0.3,\"#f1b6da\"],[0.4,\"#fde0ef\"],[0.5,\"#f7f7f7\"],[0.6,\"#e6f5d0\"],[0.7,\"#b8e186\"],[0.8,\"#7fbc41\"],[0.9,\"#4d9221\"],[1,\"#276419\"]],\"sequential\":[[0.0,\"#0d0887\"],[0.1111111111111111,\"#46039f\"],[0.2222222222222222,\"#7201a8\"],[0.3333333333333333,\"#9c179e\"],[0.4444444444444444,\"#bd3786\"],[0.5555555555555556,\"#d8576b\"],[0.6666666666666666,\"#ed7953\"],[0.7777777777777778,\"#fb9f3a\"],[0.8888888888888888,\"#fdca26\"],[1.0,\"#f0f921\"]],\"sequentialminus\":[[0.0,\"#0d0887\"],[0.1111111111111111,\"#46039f\"],[0.2222222222222222,\"#7201a8\"],[0.3333333333333333,\"#9c179e\"],[0.4444444444444444,\"#bd3786\"],[0.5555555555555556,\"#d8576b\"],[0.6666666666666666,\"#ed7953\"],[0.7777777777777778,\"#fb9f3a\"],[0.8888888888888888,\"#fdca26\"],[1.0,\"#f0f921\"]]},\"colorway\":[\"#636efa\",\"#EF553B\",\"#00cc96\",\"#ab63fa\",\"#FFA15A\",\"#19d3f3\",\"#FF6692\",\"#B6E880\",\"#FF97FF\",\"#FECB52\"],\"font\":{\"color\":\"#2a3f5f\"},\"geo\":{\"bgcolor\":\"white\",\"lakecolor\":\"white\",\"landcolor\":\"#E5ECF6\",\"showlakes\":true,\"showland\":true,\"subunitcolor\":\"white\"},\"hoverlabel\":{\"align\":\"left\"},\"hovermode\":\"closest\",\"mapbox\":{\"style\":\"light\"},\"paper_bgcolor\":\"white\",\"plot_bgcolor\":\"#E5ECF6\",\"polar\":{\"angularaxis\":{\"gridcolor\":\"white\",\"linecolor\":\"white\",\"ticks\":\"\"},\"bgcolor\":\"#E5ECF6\",\"radialaxis\":{\"gridcolor\":\"white\",\"linecolor\":\"white\",\"ticks\":\"\"}},\"scene\":{\"xaxis\":{\"backgroundcolor\":\"#E5ECF6\",\"gridcolor\":\"white\",\"gridwidth\":2,\"linecolor\":\"white\",\"showbackground\":true,\"ticks\":\"\",\"zerolinecolor\":\"white\"},\"yaxis\":{\"backgroundcolor\":\"#E5ECF6\",\"gridcolor\":\"white\",\"gridwidth\":2,\"linecolor\":\"white\",\"showbackground\":true,\"ticks\":\"\",\"zerolinecolor\":\"white\"},\"zaxis\":{\"backgroundcolor\":\"#E5ECF6\",\"gridcolor\":\"white\",\"gridwidth\":2,\"linecolor\":\"white\",\"showbackground\":true,\"ticks\":\"\",\"zerolinecolor\":\"white\"}},\"shapedefaults\":{\"line\":{\"color\":\"#2a3f5f\"}},\"ternary\":{\"aaxis\":{\"gridcolor\":\"white\",\"linecolor\":\"white\",\"ticks\":\"\"},\"baxis\":{\"gridcolor\":\"white\",\"linecolor\":\"white\",\"ticks\":\"\"},\"bgcolor\":\"#E5ECF6\",\"caxis\":{\"gridcolor\":\"white\",\"linecolor\":\"white\",\"ticks\":\"\"}},\"title\":{\"x\":0.05},\"xaxis\":{\"automargin\":true,\"gridcolor\":\"white\",\"linecolor\":\"white\",\"ticks\":\"\",\"title\":{\"standoff\":15},\"zerolinecolor\":\"white\",\"zerolinewidth\":2},\"yaxis\":{\"automargin\":true,\"gridcolor\":\"white\",\"linecolor\":\"white\",\"ticks\":\"\",\"title\":{\"standoff\":15},\"zerolinecolor\":\"white\",\"zerolinewidth\":2}}},\"title\":{\"font\":{\"color\":\"#4D5663\"}},\"xaxis\":{\"gridcolor\":\"#E1E5ED\",\"showgrid\":true,\"tickfont\":{\"color\":\"#4D5663\"},\"title\":{\"font\":{\"color\":\"#4D5663\"},\"text\":\"\"},\"zerolinecolor\":\"#E1E5ED\"},\"yaxis\":{\"gridcolor\":\"#E1E5ED\",\"showgrid\":true,\"tickfont\":{\"color\":\"#4D5663\"},\"title\":{\"font\":{\"color\":\"#4D5663\"},\"text\":\"\"},\"zerolinecolor\":\"#E1E5ED\"}},                        {\"showLink\": true, \"linkText\": \"Export to plot.ly\", \"plotlyServerURL\": \"https://plot.ly\", \"responsive\": true}                    ).then(function(){\n",
       "                            \n",
       "var gd = document.getElementById('0323cee0-277d-48c2-b9df-51e7ea24dd5a');\n",
       "var x = new MutationObserver(function (mutations, observer) {{\n",
       "        var display = window.getComputedStyle(gd).display;\n",
       "        if (!display || display === 'none') {{\n",
       "            console.log([gd, 'removed!']);\n",
       "            Plotly.purge(gd);\n",
       "            observer.disconnect();\n",
       "        }}\n",
       "}});\n",
       "\n",
       "// Listen for the removal of the full notebook cells\n",
       "var notebookContainer = gd.closest('#notebook-container');\n",
       "if (notebookContainer) {{\n",
       "    x.observe(notebookContainer, {childList: true});\n",
       "}}\n",
       "\n",
       "// Listen for the clearing of the current output cell\n",
       "var outputEl = gd.closest('.output');\n",
       "if (outputEl) {{\n",
       "    x.observe(outputEl, {childList: true});\n",
       "}}\n",
       "\n",
       "                        })                };                });            </script>        </div>"
      ]
     },
     "metadata": {},
     "output_type": "display_data"
    }
   ],
   "source": [
    "df['A'].iplot(kind='hist',bins=25)"
   ]
  },
  {
   "cell_type": "code",
   "execution_count": 18,
   "metadata": {},
   "outputs": [
    {
     "data": {
      "application/vnd.plotly.v1+json": {
       "config": {
        "linkText": "Export to plot.ly",
        "plotlyServerURL": "https://plot.ly",
        "showLink": true
       },
       "data": [
        {
         "marker": {
          "color": [
           "rgb(255, 153, 51)",
           "rgb(55, 128, 191)",
           "rgb(50, 171, 96)",
           "rgb(128, 0, 128)",
           "rgb(219, 64, 82)",
           "rgb(0, 128, 128)",
           "rgb(255, 255, 51)",
           "rgb(128, 128, 0)",
           "rgb(251, 128, 114)",
           "rgb(128, 177, 211)"
          ],
          "line": {
           "width": 1.3
          },
          "size": [
           76,
           66,
           62,
           41,
           86,
           77,
           33,
           80,
           84,
           72,
           93,
           94,
           69,
           86,
           88,
           79,
           61,
           99,
           70,
           89,
           69,
           96,
           12,
           96,
           84,
           45,
           66,
           95,
           57,
           43,
           93,
           72,
           74,
           59,
           60,
           76,
           71,
           89,
           28,
           85,
           63,
           67,
           63,
           78,
           100,
           62,
           84,
           79,
           93,
           55,
           90,
           62,
           50,
           37,
           48,
           79,
           82,
           32,
           60,
           56,
           29,
           96,
           41,
           65,
           75,
           65,
           41,
           75,
           86,
           76,
           85,
           74,
           69,
           110,
           55,
           31,
           112,
           56,
           49,
           60,
           32,
           73,
           66,
           63,
           49,
           55,
           63,
           77,
           82,
           69,
           98,
           64,
           89,
           97,
           50,
           56,
           58,
           72,
           95,
           67
          ],
          "symbol": "circle"
         },
         "mode": "markers",
         "text": "",
         "type": "scatter",
         "x": [
          0.7655458203462077,
          -0.12808922353551602,
          1.4513993957179177,
          -0.19122091052993234,
          1.1030723744375364,
          1.033532144394203,
          0.3841969617822889,
          0.6496604352494966,
          0.513285627209426,
          0.11476079502280276,
          -0.2591015559704645,
          -1.776879311107862,
          -1.34794116248284,
          0.7082005182592324,
          -0.07069421173021438,
          0.2969240010622188,
          0.3536557662414352,
          0.47251436715512296,
          1.1563489173302384,
          -1.1577309588480218,
          -0.8911183307244669,
          2.619839722470479,
          2.473037611797308,
          2.7479066271536197,
          -1.3832565327512583,
          0.42590028724574386,
          0.8266523606807861,
          0.4582137090455324,
          0.3669423654181648,
          -0.38559101708212323,
          0.7043030621427251,
          0.7977307659092078,
          0.5923822621043702,
          0.9225429891488932,
          2.0559542054906292,
          1.7485194011322966,
          -1.4178063337005729,
          0.3492884656078567,
          0.8946522460785905,
          1.560287626057767,
          -0.8322926593044682,
          1.2349418728588268,
          1.7875197554567475,
          0.08633619069120248,
          0.5314971207622426,
          -0.9436475384249055,
          -1.615751639616223,
          1.5499038599623058,
          -1.6173743554616682,
          0.006085323851007527,
          0.002795262409405392,
          0.3659633121859034,
          0.801851411757661,
          -0.5374217808986604,
          -0.12139982016197108,
          -0.7028554934220238,
          -0.8765908568443167,
          0.41346433697724727,
          1.4384119079610063,
          0.7600927797482195,
          -1.2787747786152739,
          0.5024311486559706,
          0.9750586541892643,
          0.5268072700021327,
          -0.42468859013658095,
          -1.025420774761301,
          -0.4266336127339284,
          0.48272659442294075,
          2.906398718665853,
          0.6880021525294603,
          -0.21480747949987763,
          -0.5686183980043807,
          -0.9131334243330468,
          1.6573368062052414,
          -1.7930944914691276,
          -0.9843674117413633,
          2.1543809516091437,
          0.4021428551289348,
          -1.2844749093286496,
          0.014934416169660418,
          0.15129520541311742,
          -0.30558213224536673,
          1.3253078666447853,
          -0.10688727093219857,
          1.0461711436912986,
          -1.240988782651725,
          0.7505133678415967,
          1.0924753055237828,
          -0.4217096676086004,
          -1.0886553141159043,
          0.465188624187154,
          0.27046011280690474,
          -1.0788735585175873,
          0.7616297320826227,
          1.83194824101488,
          -0.14619950548323124,
          0.9567672741523233,
          -0.6461097831091536,
          1.1273945026599368,
          1.8805504460884466
         ],
         "y": [
          0.6017466873503788,
          -0.14978400163424924,
          -1.0707104177133535,
          -1.037546034807011,
          0.3607916199572585,
          -0.06471865024747107,
          -0.7580300458300937,
          1.978188770648286,
          -0.571180926800931,
          -0.8350579784972542,
          -0.8760751468654233,
          -0.2416208405534744,
          -0.11940406390607054,
          0.3910497338436867,
          -0.12441061910314734,
          -0.17008880601047333,
          1.2424043471474324,
          0.18306105280621934,
          0.5025398751714042,
          -2.733138018312086,
          -0.4578889804156048,
          -0.8968252858196749,
          1.2192999848172787,
          1.3853636122951218,
          0.06451901011941573,
          -0.8042140226810693,
          -0.4799095259944002,
          -0.7228634578237165,
          0.23392212692192293,
          -0.5253559983110266,
          -0.005551655753853849,
          -1.581190796892674,
          -0.100944996595511,
          -0.36032418400728666,
          0.5683775057321915,
          -0.8875035255092706,
          0.920332767011539,
          -0.8378529508094908,
          2.207100912475008,
          -0.038956452336035875,
          1.7265669308226161,
          -0.21127645786169866,
          -0.03648413775657497,
          0.6477042890699376,
          1.717122130117437,
          0.7670217124737083,
          0.4011841768438215,
          -0.5771860490915778,
          -1.2952904699021186,
          -0.5614861119771376,
          0.3552524746507848,
          0.345368819654225,
          -0.486542716473194,
          -0.46989855997673624,
          0.47018822027319174,
          -0.5556740606086376,
          -0.5508351364377948,
          -0.6689676565419325,
          -0.12457825258275382,
          1.0877758572906697,
          -0.014239704339121232,
          -1.6608604457359628,
          1.4821620161097675,
          1.1008139823858007,
          -0.23902094669399154,
          -0.6659886541239679,
          0.5328878624002946,
          0.339322926441731,
          1.5115792223663922,
          0.8165994139801861,
          0.6276223908531292,
          -0.3173257506316113,
          1.1302860331046023,
          -1.337122276668125,
          -1.7483710170291413,
          0.8883164654916883,
          -0.23718451528176032,
          0.136395655094501,
          -0.16601627031277902,
          0.5004192659250103,
          -0.21116110306728084,
          1.2744353062002893,
          -0.08179344137315678,
          -0.887429149024921,
          0.17680435085489035,
          0.9006247162148816,
          0.3294130449437715,
          -1.4774903881761516,
          0.7656241967464709,
          0.47361979358312306,
          0.5405391526466155,
          0.39341633131077053,
          -2.4023312521643514,
          -0.6074321625556381,
          1.4120134927426395,
          -0.7663209956048409,
          0.3946572185611099,
          1.101027134677378,
          2.2913939671179193,
          -0.3474317575058246
         ]
        }
       ],
       "layout": {
        "legend": {
         "bgcolor": "#F5F6F9",
         "font": {
          "color": "#4D5663"
         }
        },
        "paper_bgcolor": "#F5F6F9",
        "plot_bgcolor": "#F5F6F9",
        "template": {
         "data": {
          "bar": [
           {
            "error_x": {
             "color": "#2a3f5f"
            },
            "error_y": {
             "color": "#2a3f5f"
            },
            "marker": {
             "line": {
              "color": "#E5ECF6",
              "width": 0.5
             },
             "pattern": {
              "fillmode": "overlay",
              "size": 10,
              "solidity": 0.2
             }
            },
            "type": "bar"
           }
          ],
          "barpolar": [
           {
            "marker": {
             "line": {
              "color": "#E5ECF6",
              "width": 0.5
             },
             "pattern": {
              "fillmode": "overlay",
              "size": 10,
              "solidity": 0.2
             }
            },
            "type": "barpolar"
           }
          ],
          "carpet": [
           {
            "aaxis": {
             "endlinecolor": "#2a3f5f",
             "gridcolor": "white",
             "linecolor": "white",
             "minorgridcolor": "white",
             "startlinecolor": "#2a3f5f"
            },
            "baxis": {
             "endlinecolor": "#2a3f5f",
             "gridcolor": "white",
             "linecolor": "white",
             "minorgridcolor": "white",
             "startlinecolor": "#2a3f5f"
            },
            "type": "carpet"
           }
          ],
          "choropleth": [
           {
            "colorbar": {
             "outlinewidth": 0,
             "ticks": ""
            },
            "type": "choropleth"
           }
          ],
          "contour": [
           {
            "colorbar": {
             "outlinewidth": 0,
             "ticks": ""
            },
            "colorscale": [
             [
              0,
              "#0d0887"
             ],
             [
              0.1111111111111111,
              "#46039f"
             ],
             [
              0.2222222222222222,
              "#7201a8"
             ],
             [
              0.3333333333333333,
              "#9c179e"
             ],
             [
              0.4444444444444444,
              "#bd3786"
             ],
             [
              0.5555555555555556,
              "#d8576b"
             ],
             [
              0.6666666666666666,
              "#ed7953"
             ],
             [
              0.7777777777777778,
              "#fb9f3a"
             ],
             [
              0.8888888888888888,
              "#fdca26"
             ],
             [
              1,
              "#f0f921"
             ]
            ],
            "type": "contour"
           }
          ],
          "contourcarpet": [
           {
            "colorbar": {
             "outlinewidth": 0,
             "ticks": ""
            },
            "type": "contourcarpet"
           }
          ],
          "heatmap": [
           {
            "colorbar": {
             "outlinewidth": 0,
             "ticks": ""
            },
            "colorscale": [
             [
              0,
              "#0d0887"
             ],
             [
              0.1111111111111111,
              "#46039f"
             ],
             [
              0.2222222222222222,
              "#7201a8"
             ],
             [
              0.3333333333333333,
              "#9c179e"
             ],
             [
              0.4444444444444444,
              "#bd3786"
             ],
             [
              0.5555555555555556,
              "#d8576b"
             ],
             [
              0.6666666666666666,
              "#ed7953"
             ],
             [
              0.7777777777777778,
              "#fb9f3a"
             ],
             [
              0.8888888888888888,
              "#fdca26"
             ],
             [
              1,
              "#f0f921"
             ]
            ],
            "type": "heatmap"
           }
          ],
          "heatmapgl": [
           {
            "colorbar": {
             "outlinewidth": 0,
             "ticks": ""
            },
            "colorscale": [
             [
              0,
              "#0d0887"
             ],
             [
              0.1111111111111111,
              "#46039f"
             ],
             [
              0.2222222222222222,
              "#7201a8"
             ],
             [
              0.3333333333333333,
              "#9c179e"
             ],
             [
              0.4444444444444444,
              "#bd3786"
             ],
             [
              0.5555555555555556,
              "#d8576b"
             ],
             [
              0.6666666666666666,
              "#ed7953"
             ],
             [
              0.7777777777777778,
              "#fb9f3a"
             ],
             [
              0.8888888888888888,
              "#fdca26"
             ],
             [
              1,
              "#f0f921"
             ]
            ],
            "type": "heatmapgl"
           }
          ],
          "histogram": [
           {
            "marker": {
             "pattern": {
              "fillmode": "overlay",
              "size": 10,
              "solidity": 0.2
             }
            },
            "type": "histogram"
           }
          ],
          "histogram2d": [
           {
            "colorbar": {
             "outlinewidth": 0,
             "ticks": ""
            },
            "colorscale": [
             [
              0,
              "#0d0887"
             ],
             [
              0.1111111111111111,
              "#46039f"
             ],
             [
              0.2222222222222222,
              "#7201a8"
             ],
             [
              0.3333333333333333,
              "#9c179e"
             ],
             [
              0.4444444444444444,
              "#bd3786"
             ],
             [
              0.5555555555555556,
              "#d8576b"
             ],
             [
              0.6666666666666666,
              "#ed7953"
             ],
             [
              0.7777777777777778,
              "#fb9f3a"
             ],
             [
              0.8888888888888888,
              "#fdca26"
             ],
             [
              1,
              "#f0f921"
             ]
            ],
            "type": "histogram2d"
           }
          ],
          "histogram2dcontour": [
           {
            "colorbar": {
             "outlinewidth": 0,
             "ticks": ""
            },
            "colorscale": [
             [
              0,
              "#0d0887"
             ],
             [
              0.1111111111111111,
              "#46039f"
             ],
             [
              0.2222222222222222,
              "#7201a8"
             ],
             [
              0.3333333333333333,
              "#9c179e"
             ],
             [
              0.4444444444444444,
              "#bd3786"
             ],
             [
              0.5555555555555556,
              "#d8576b"
             ],
             [
              0.6666666666666666,
              "#ed7953"
             ],
             [
              0.7777777777777778,
              "#fb9f3a"
             ],
             [
              0.8888888888888888,
              "#fdca26"
             ],
             [
              1,
              "#f0f921"
             ]
            ],
            "type": "histogram2dcontour"
           }
          ],
          "mesh3d": [
           {
            "colorbar": {
             "outlinewidth": 0,
             "ticks": ""
            },
            "type": "mesh3d"
           }
          ],
          "parcoords": [
           {
            "line": {
             "colorbar": {
              "outlinewidth": 0,
              "ticks": ""
             }
            },
            "type": "parcoords"
           }
          ],
          "pie": [
           {
            "automargin": true,
            "type": "pie"
           }
          ],
          "scatter": [
           {
            "fillpattern": {
             "fillmode": "overlay",
             "size": 10,
             "solidity": 0.2
            },
            "type": "scatter"
           }
          ],
          "scatter3d": [
           {
            "line": {
             "colorbar": {
              "outlinewidth": 0,
              "ticks": ""
             }
            },
            "marker": {
             "colorbar": {
              "outlinewidth": 0,
              "ticks": ""
             }
            },
            "type": "scatter3d"
           }
          ],
          "scattercarpet": [
           {
            "marker": {
             "colorbar": {
              "outlinewidth": 0,
              "ticks": ""
             }
            },
            "type": "scattercarpet"
           }
          ],
          "scattergeo": [
           {
            "marker": {
             "colorbar": {
              "outlinewidth": 0,
              "ticks": ""
             }
            },
            "type": "scattergeo"
           }
          ],
          "scattergl": [
           {
            "marker": {
             "colorbar": {
              "outlinewidth": 0,
              "ticks": ""
             }
            },
            "type": "scattergl"
           }
          ],
          "scattermapbox": [
           {
            "marker": {
             "colorbar": {
              "outlinewidth": 0,
              "ticks": ""
             }
            },
            "type": "scattermapbox"
           }
          ],
          "scatterpolar": [
           {
            "marker": {
             "colorbar": {
              "outlinewidth": 0,
              "ticks": ""
             }
            },
            "type": "scatterpolar"
           }
          ],
          "scatterpolargl": [
           {
            "marker": {
             "colorbar": {
              "outlinewidth": 0,
              "ticks": ""
             }
            },
            "type": "scatterpolargl"
           }
          ],
          "scatterternary": [
           {
            "marker": {
             "colorbar": {
              "outlinewidth": 0,
              "ticks": ""
             }
            },
            "type": "scatterternary"
           }
          ],
          "surface": [
           {
            "colorbar": {
             "outlinewidth": 0,
             "ticks": ""
            },
            "colorscale": [
             [
              0,
              "#0d0887"
             ],
             [
              0.1111111111111111,
              "#46039f"
             ],
             [
              0.2222222222222222,
              "#7201a8"
             ],
             [
              0.3333333333333333,
              "#9c179e"
             ],
             [
              0.4444444444444444,
              "#bd3786"
             ],
             [
              0.5555555555555556,
              "#d8576b"
             ],
             [
              0.6666666666666666,
              "#ed7953"
             ],
             [
              0.7777777777777778,
              "#fb9f3a"
             ],
             [
              0.8888888888888888,
              "#fdca26"
             ],
             [
              1,
              "#f0f921"
             ]
            ],
            "type": "surface"
           }
          ],
          "table": [
           {
            "cells": {
             "fill": {
              "color": "#EBF0F8"
             },
             "line": {
              "color": "white"
             }
            },
            "header": {
             "fill": {
              "color": "#C8D4E3"
             },
             "line": {
              "color": "white"
             }
            },
            "type": "table"
           }
          ]
         },
         "layout": {
          "annotationdefaults": {
           "arrowcolor": "#2a3f5f",
           "arrowhead": 0,
           "arrowwidth": 1
          },
          "autotypenumbers": "strict",
          "coloraxis": {
           "colorbar": {
            "outlinewidth": 0,
            "ticks": ""
           }
          },
          "colorscale": {
           "diverging": [
            [
             0,
             "#8e0152"
            ],
            [
             0.1,
             "#c51b7d"
            ],
            [
             0.2,
             "#de77ae"
            ],
            [
             0.3,
             "#f1b6da"
            ],
            [
             0.4,
             "#fde0ef"
            ],
            [
             0.5,
             "#f7f7f7"
            ],
            [
             0.6,
             "#e6f5d0"
            ],
            [
             0.7,
             "#b8e186"
            ],
            [
             0.8,
             "#7fbc41"
            ],
            [
             0.9,
             "#4d9221"
            ],
            [
             1,
             "#276419"
            ]
           ],
           "sequential": [
            [
             0,
             "#0d0887"
            ],
            [
             0.1111111111111111,
             "#46039f"
            ],
            [
             0.2222222222222222,
             "#7201a8"
            ],
            [
             0.3333333333333333,
             "#9c179e"
            ],
            [
             0.4444444444444444,
             "#bd3786"
            ],
            [
             0.5555555555555556,
             "#d8576b"
            ],
            [
             0.6666666666666666,
             "#ed7953"
            ],
            [
             0.7777777777777778,
             "#fb9f3a"
            ],
            [
             0.8888888888888888,
             "#fdca26"
            ],
            [
             1,
             "#f0f921"
            ]
           ],
           "sequentialminus": [
            [
             0,
             "#0d0887"
            ],
            [
             0.1111111111111111,
             "#46039f"
            ],
            [
             0.2222222222222222,
             "#7201a8"
            ],
            [
             0.3333333333333333,
             "#9c179e"
            ],
            [
             0.4444444444444444,
             "#bd3786"
            ],
            [
             0.5555555555555556,
             "#d8576b"
            ],
            [
             0.6666666666666666,
             "#ed7953"
            ],
            [
             0.7777777777777778,
             "#fb9f3a"
            ],
            [
             0.8888888888888888,
             "#fdca26"
            ],
            [
             1,
             "#f0f921"
            ]
           ]
          },
          "colorway": [
           "#636efa",
           "#EF553B",
           "#00cc96",
           "#ab63fa",
           "#FFA15A",
           "#19d3f3",
           "#FF6692",
           "#B6E880",
           "#FF97FF",
           "#FECB52"
          ],
          "font": {
           "color": "#2a3f5f"
          },
          "geo": {
           "bgcolor": "white",
           "lakecolor": "white",
           "landcolor": "#E5ECF6",
           "showlakes": true,
           "showland": true,
           "subunitcolor": "white"
          },
          "hoverlabel": {
           "align": "left"
          },
          "hovermode": "closest",
          "mapbox": {
           "style": "light"
          },
          "paper_bgcolor": "white",
          "plot_bgcolor": "#E5ECF6",
          "polar": {
           "angularaxis": {
            "gridcolor": "white",
            "linecolor": "white",
            "ticks": ""
           },
           "bgcolor": "#E5ECF6",
           "radialaxis": {
            "gridcolor": "white",
            "linecolor": "white",
            "ticks": ""
           }
          },
          "scene": {
           "xaxis": {
            "backgroundcolor": "#E5ECF6",
            "gridcolor": "white",
            "gridwidth": 2,
            "linecolor": "white",
            "showbackground": true,
            "ticks": "",
            "zerolinecolor": "white"
           },
           "yaxis": {
            "backgroundcolor": "#E5ECF6",
            "gridcolor": "white",
            "gridwidth": 2,
            "linecolor": "white",
            "showbackground": true,
            "ticks": "",
            "zerolinecolor": "white"
           },
           "zaxis": {
            "backgroundcolor": "#E5ECF6",
            "gridcolor": "white",
            "gridwidth": 2,
            "linecolor": "white",
            "showbackground": true,
            "ticks": "",
            "zerolinecolor": "white"
           }
          },
          "shapedefaults": {
           "line": {
            "color": "#2a3f5f"
           }
          },
          "ternary": {
           "aaxis": {
            "gridcolor": "white",
            "linecolor": "white",
            "ticks": ""
           },
           "baxis": {
            "gridcolor": "white",
            "linecolor": "white",
            "ticks": ""
           },
           "bgcolor": "#E5ECF6",
           "caxis": {
            "gridcolor": "white",
            "linecolor": "white",
            "ticks": ""
           }
          },
          "title": {
           "x": 0.05
          },
          "xaxis": {
           "automargin": true,
           "gridcolor": "white",
           "linecolor": "white",
           "ticks": "",
           "title": {
            "standoff": 15
           },
           "zerolinecolor": "white",
           "zerolinewidth": 2
          },
          "yaxis": {
           "automargin": true,
           "gridcolor": "white",
           "linecolor": "white",
           "ticks": "",
           "title": {
            "standoff": 15
           },
           "zerolinecolor": "white",
           "zerolinewidth": 2
          }
         }
        },
        "title": {
         "font": {
          "color": "#4D5663"
         }
        },
        "xaxis": {
         "gridcolor": "#E1E5ED",
         "showgrid": true,
         "tickfont": {
          "color": "#4D5663"
         },
         "title": {
          "font": {
           "color": "#4D5663"
          },
          "text": ""
         },
         "zerolinecolor": "#E1E5ED"
        },
        "yaxis": {
         "gridcolor": "#E1E5ED",
         "showgrid": true,
         "tickfont": {
          "color": "#4D5663"
         },
         "title": {
          "font": {
           "color": "#4D5663"
          },
          "text": ""
         },
         "zerolinecolor": "#E1E5ED"
        }
       }
      },
      "text/html": [
       "<div>                            <div id=\"2ba7d299-cad1-4d8b-b22b-3604d9dbf738\" class=\"plotly-graph-div\" style=\"height:525px; width:100%;\"></div>            <script type=\"text/javascript\">                require([\"plotly\"], function(Plotly) {                    window.PLOTLYENV=window.PLOTLYENV || {};\n",
       "                    window.PLOTLYENV.BASE_URL='https://plot.ly';                                    if (document.getElementById(\"2ba7d299-cad1-4d8b-b22b-3604d9dbf738\")) {                    Plotly.newPlot(                        \"2ba7d299-cad1-4d8b-b22b-3604d9dbf738\",                        [{\"marker\":{\"color\":[\"rgb(255, 153, 51)\",\"rgb(55, 128, 191)\",\"rgb(50, 171, 96)\",\"rgb(128, 0, 128)\",\"rgb(219, 64, 82)\",\"rgb(0, 128, 128)\",\"rgb(255, 255, 51)\",\"rgb(128, 128, 0)\",\"rgb(251, 128, 114)\",\"rgb(128, 177, 211)\"],\"line\":{\"width\":1.3},\"size\":[76,66,62,41,86,77,33,80,84,72,93,94,69,86,88,79,61,99,70,89,69,96,12,96,84,45,66,95,57,43,93,72,74,59,60,76,71,89,28,85,63,67,63,78,100,62,84,79,93,55,90,62,50,37,48,79,82,32,60,56,29,96,41,65,75,65,41,75,86,76,85,74,69,110,55,31,112,56,49,60,32,73,66,63,49,55,63,77,82,69,98,64,89,97,50,56,58,72,95,67],\"symbol\":\"circle\"},\"mode\":\"markers\",\"text\":\"\",\"x\":[0.7655458203462077,-0.12808922353551602,1.4513993957179177,-0.19122091052993234,1.1030723744375364,1.033532144394203,0.3841969617822889,0.6496604352494966,0.513285627209426,0.11476079502280276,-0.2591015559704645,-1.776879311107862,-1.34794116248284,0.7082005182592324,-0.07069421173021438,0.2969240010622188,0.3536557662414352,0.47251436715512296,1.1563489173302384,-1.1577309588480218,-0.8911183307244669,2.619839722470479,2.473037611797308,2.7479066271536197,-1.3832565327512583,0.42590028724574386,0.8266523606807861,0.4582137090455324,0.3669423654181648,-0.38559101708212323,0.7043030621427251,0.7977307659092078,0.5923822621043702,0.9225429891488932,2.0559542054906292,1.7485194011322966,-1.4178063337005729,0.3492884656078567,0.8946522460785905,1.560287626057767,-0.8322926593044682,1.2349418728588268,1.7875197554567475,0.08633619069120248,0.5314971207622426,-0.9436475384249055,-1.615751639616223,1.5499038599623058,-1.6173743554616682,0.006085323851007527,0.002795262409405392,0.3659633121859034,0.801851411757661,-0.5374217808986604,-0.12139982016197108,-0.7028554934220238,-0.8765908568443167,0.41346433697724727,1.4384119079610063,0.7600927797482195,-1.2787747786152739,0.5024311486559706,0.9750586541892643,0.5268072700021327,-0.42468859013658095,-1.025420774761301,-0.4266336127339284,0.48272659442294075,2.906398718665853,0.6880021525294603,-0.21480747949987763,-0.5686183980043807,-0.9131334243330468,1.6573368062052414,-1.7930944914691276,-0.9843674117413633,2.1543809516091437,0.4021428551289348,-1.2844749093286496,0.014934416169660418,0.15129520541311742,-0.30558213224536673,1.3253078666447853,-0.10688727093219857,1.0461711436912986,-1.240988782651725,0.7505133678415967,1.0924753055237828,-0.4217096676086004,-1.0886553141159043,0.465188624187154,0.27046011280690474,-1.0788735585175873,0.7616297320826227,1.83194824101488,-0.14619950548323124,0.9567672741523233,-0.6461097831091536,1.1273945026599368,1.8805504460884466],\"y\":[0.6017466873503788,-0.14978400163424924,-1.0707104177133535,-1.037546034807011,0.3607916199572585,-0.06471865024747107,-0.7580300458300937,1.978188770648286,-0.571180926800931,-0.8350579784972542,-0.8760751468654233,-0.2416208405534744,-0.11940406390607054,0.3910497338436867,-0.12441061910314734,-0.17008880601047333,1.2424043471474324,0.18306105280621934,0.5025398751714042,-2.733138018312086,-0.4578889804156048,-0.8968252858196749,1.2192999848172787,1.3853636122951218,0.06451901011941573,-0.8042140226810693,-0.4799095259944002,-0.7228634578237165,0.23392212692192293,-0.5253559983110266,-0.005551655753853849,-1.581190796892674,-0.100944996595511,-0.36032418400728666,0.5683775057321915,-0.8875035255092706,0.920332767011539,-0.8378529508094908,2.207100912475008,-0.038956452336035875,1.7265669308226161,-0.21127645786169866,-0.03648413775657497,0.6477042890699376,1.717122130117437,0.7670217124737083,0.4011841768438215,-0.5771860490915778,-1.2952904699021186,-0.5614861119771376,0.3552524746507848,0.345368819654225,-0.486542716473194,-0.46989855997673624,0.47018822027319174,-0.5556740606086376,-0.5508351364377948,-0.6689676565419325,-0.12457825258275382,1.0877758572906697,-0.014239704339121232,-1.6608604457359628,1.4821620161097675,1.1008139823858007,-0.23902094669399154,-0.6659886541239679,0.5328878624002946,0.339322926441731,1.5115792223663922,0.8165994139801861,0.6276223908531292,-0.3173257506316113,1.1302860331046023,-1.337122276668125,-1.7483710170291413,0.8883164654916883,-0.23718451528176032,0.136395655094501,-0.16601627031277902,0.5004192659250103,-0.21116110306728084,1.2744353062002893,-0.08179344137315678,-0.887429149024921,0.17680435085489035,0.9006247162148816,0.3294130449437715,-1.4774903881761516,0.7656241967464709,0.47361979358312306,0.5405391526466155,0.39341633131077053,-2.4023312521643514,-0.6074321625556381,1.4120134927426395,-0.7663209956048409,0.3946572185611099,1.101027134677378,2.2913939671179193,-0.3474317575058246],\"type\":\"scatter\"}],                        {\"legend\":{\"bgcolor\":\"#F5F6F9\",\"font\":{\"color\":\"#4D5663\"}},\"paper_bgcolor\":\"#F5F6F9\",\"plot_bgcolor\":\"#F5F6F9\",\"template\":{\"data\":{\"barpolar\":[{\"marker\":{\"line\":{\"color\":\"#E5ECF6\",\"width\":0.5},\"pattern\":{\"fillmode\":\"overlay\",\"size\":10,\"solidity\":0.2}},\"type\":\"barpolar\"}],\"bar\":[{\"error_x\":{\"color\":\"#2a3f5f\"},\"error_y\":{\"color\":\"#2a3f5f\"},\"marker\":{\"line\":{\"color\":\"#E5ECF6\",\"width\":0.5},\"pattern\":{\"fillmode\":\"overlay\",\"size\":10,\"solidity\":0.2}},\"type\":\"bar\"}],\"carpet\":[{\"aaxis\":{\"endlinecolor\":\"#2a3f5f\",\"gridcolor\":\"white\",\"linecolor\":\"white\",\"minorgridcolor\":\"white\",\"startlinecolor\":\"#2a3f5f\"},\"baxis\":{\"endlinecolor\":\"#2a3f5f\",\"gridcolor\":\"white\",\"linecolor\":\"white\",\"minorgridcolor\":\"white\",\"startlinecolor\":\"#2a3f5f\"},\"type\":\"carpet\"}],\"choropleth\":[{\"colorbar\":{\"outlinewidth\":0,\"ticks\":\"\"},\"type\":\"choropleth\"}],\"contourcarpet\":[{\"colorbar\":{\"outlinewidth\":0,\"ticks\":\"\"},\"type\":\"contourcarpet\"}],\"contour\":[{\"colorbar\":{\"outlinewidth\":0,\"ticks\":\"\"},\"colorscale\":[[0.0,\"#0d0887\"],[0.1111111111111111,\"#46039f\"],[0.2222222222222222,\"#7201a8\"],[0.3333333333333333,\"#9c179e\"],[0.4444444444444444,\"#bd3786\"],[0.5555555555555556,\"#d8576b\"],[0.6666666666666666,\"#ed7953\"],[0.7777777777777778,\"#fb9f3a\"],[0.8888888888888888,\"#fdca26\"],[1.0,\"#f0f921\"]],\"type\":\"contour\"}],\"heatmapgl\":[{\"colorbar\":{\"outlinewidth\":0,\"ticks\":\"\"},\"colorscale\":[[0.0,\"#0d0887\"],[0.1111111111111111,\"#46039f\"],[0.2222222222222222,\"#7201a8\"],[0.3333333333333333,\"#9c179e\"],[0.4444444444444444,\"#bd3786\"],[0.5555555555555556,\"#d8576b\"],[0.6666666666666666,\"#ed7953\"],[0.7777777777777778,\"#fb9f3a\"],[0.8888888888888888,\"#fdca26\"],[1.0,\"#f0f921\"]],\"type\":\"heatmapgl\"}],\"heatmap\":[{\"colorbar\":{\"outlinewidth\":0,\"ticks\":\"\"},\"colorscale\":[[0.0,\"#0d0887\"],[0.1111111111111111,\"#46039f\"],[0.2222222222222222,\"#7201a8\"],[0.3333333333333333,\"#9c179e\"],[0.4444444444444444,\"#bd3786\"],[0.5555555555555556,\"#d8576b\"],[0.6666666666666666,\"#ed7953\"],[0.7777777777777778,\"#fb9f3a\"],[0.8888888888888888,\"#fdca26\"],[1.0,\"#f0f921\"]],\"type\":\"heatmap\"}],\"histogram2dcontour\":[{\"colorbar\":{\"outlinewidth\":0,\"ticks\":\"\"},\"colorscale\":[[0.0,\"#0d0887\"],[0.1111111111111111,\"#46039f\"],[0.2222222222222222,\"#7201a8\"],[0.3333333333333333,\"#9c179e\"],[0.4444444444444444,\"#bd3786\"],[0.5555555555555556,\"#d8576b\"],[0.6666666666666666,\"#ed7953\"],[0.7777777777777778,\"#fb9f3a\"],[0.8888888888888888,\"#fdca26\"],[1.0,\"#f0f921\"]],\"type\":\"histogram2dcontour\"}],\"histogram2d\":[{\"colorbar\":{\"outlinewidth\":0,\"ticks\":\"\"},\"colorscale\":[[0.0,\"#0d0887\"],[0.1111111111111111,\"#46039f\"],[0.2222222222222222,\"#7201a8\"],[0.3333333333333333,\"#9c179e\"],[0.4444444444444444,\"#bd3786\"],[0.5555555555555556,\"#d8576b\"],[0.6666666666666666,\"#ed7953\"],[0.7777777777777778,\"#fb9f3a\"],[0.8888888888888888,\"#fdca26\"],[1.0,\"#f0f921\"]],\"type\":\"histogram2d\"}],\"histogram\":[{\"marker\":{\"pattern\":{\"fillmode\":\"overlay\",\"size\":10,\"solidity\":0.2}},\"type\":\"histogram\"}],\"mesh3d\":[{\"colorbar\":{\"outlinewidth\":0,\"ticks\":\"\"},\"type\":\"mesh3d\"}],\"parcoords\":[{\"line\":{\"colorbar\":{\"outlinewidth\":0,\"ticks\":\"\"}},\"type\":\"parcoords\"}],\"pie\":[{\"automargin\":true,\"type\":\"pie\"}],\"scatter3d\":[{\"line\":{\"colorbar\":{\"outlinewidth\":0,\"ticks\":\"\"}},\"marker\":{\"colorbar\":{\"outlinewidth\":0,\"ticks\":\"\"}},\"type\":\"scatter3d\"}],\"scattercarpet\":[{\"marker\":{\"colorbar\":{\"outlinewidth\":0,\"ticks\":\"\"}},\"type\":\"scattercarpet\"}],\"scattergeo\":[{\"marker\":{\"colorbar\":{\"outlinewidth\":0,\"ticks\":\"\"}},\"type\":\"scattergeo\"}],\"scattergl\":[{\"marker\":{\"colorbar\":{\"outlinewidth\":0,\"ticks\":\"\"}},\"type\":\"scattergl\"}],\"scattermapbox\":[{\"marker\":{\"colorbar\":{\"outlinewidth\":0,\"ticks\":\"\"}},\"type\":\"scattermapbox\"}],\"scatterpolargl\":[{\"marker\":{\"colorbar\":{\"outlinewidth\":0,\"ticks\":\"\"}},\"type\":\"scatterpolargl\"}],\"scatterpolar\":[{\"marker\":{\"colorbar\":{\"outlinewidth\":0,\"ticks\":\"\"}},\"type\":\"scatterpolar\"}],\"scatter\":[{\"fillpattern\":{\"fillmode\":\"overlay\",\"size\":10,\"solidity\":0.2},\"type\":\"scatter\"}],\"scatterternary\":[{\"marker\":{\"colorbar\":{\"outlinewidth\":0,\"ticks\":\"\"}},\"type\":\"scatterternary\"}],\"surface\":[{\"colorbar\":{\"outlinewidth\":0,\"ticks\":\"\"},\"colorscale\":[[0.0,\"#0d0887\"],[0.1111111111111111,\"#46039f\"],[0.2222222222222222,\"#7201a8\"],[0.3333333333333333,\"#9c179e\"],[0.4444444444444444,\"#bd3786\"],[0.5555555555555556,\"#d8576b\"],[0.6666666666666666,\"#ed7953\"],[0.7777777777777778,\"#fb9f3a\"],[0.8888888888888888,\"#fdca26\"],[1.0,\"#f0f921\"]],\"type\":\"surface\"}],\"table\":[{\"cells\":{\"fill\":{\"color\":\"#EBF0F8\"},\"line\":{\"color\":\"white\"}},\"header\":{\"fill\":{\"color\":\"#C8D4E3\"},\"line\":{\"color\":\"white\"}},\"type\":\"table\"}]},\"layout\":{\"annotationdefaults\":{\"arrowcolor\":\"#2a3f5f\",\"arrowhead\":0,\"arrowwidth\":1},\"autotypenumbers\":\"strict\",\"coloraxis\":{\"colorbar\":{\"outlinewidth\":0,\"ticks\":\"\"}},\"colorscale\":{\"diverging\":[[0,\"#8e0152\"],[0.1,\"#c51b7d\"],[0.2,\"#de77ae\"],[0.3,\"#f1b6da\"],[0.4,\"#fde0ef\"],[0.5,\"#f7f7f7\"],[0.6,\"#e6f5d0\"],[0.7,\"#b8e186\"],[0.8,\"#7fbc41\"],[0.9,\"#4d9221\"],[1,\"#276419\"]],\"sequential\":[[0.0,\"#0d0887\"],[0.1111111111111111,\"#46039f\"],[0.2222222222222222,\"#7201a8\"],[0.3333333333333333,\"#9c179e\"],[0.4444444444444444,\"#bd3786\"],[0.5555555555555556,\"#d8576b\"],[0.6666666666666666,\"#ed7953\"],[0.7777777777777778,\"#fb9f3a\"],[0.8888888888888888,\"#fdca26\"],[1.0,\"#f0f921\"]],\"sequentialminus\":[[0.0,\"#0d0887\"],[0.1111111111111111,\"#46039f\"],[0.2222222222222222,\"#7201a8\"],[0.3333333333333333,\"#9c179e\"],[0.4444444444444444,\"#bd3786\"],[0.5555555555555556,\"#d8576b\"],[0.6666666666666666,\"#ed7953\"],[0.7777777777777778,\"#fb9f3a\"],[0.8888888888888888,\"#fdca26\"],[1.0,\"#f0f921\"]]},\"colorway\":[\"#636efa\",\"#EF553B\",\"#00cc96\",\"#ab63fa\",\"#FFA15A\",\"#19d3f3\",\"#FF6692\",\"#B6E880\",\"#FF97FF\",\"#FECB52\"],\"font\":{\"color\":\"#2a3f5f\"},\"geo\":{\"bgcolor\":\"white\",\"lakecolor\":\"white\",\"landcolor\":\"#E5ECF6\",\"showlakes\":true,\"showland\":true,\"subunitcolor\":\"white\"},\"hoverlabel\":{\"align\":\"left\"},\"hovermode\":\"closest\",\"mapbox\":{\"style\":\"light\"},\"paper_bgcolor\":\"white\",\"plot_bgcolor\":\"#E5ECF6\",\"polar\":{\"angularaxis\":{\"gridcolor\":\"white\",\"linecolor\":\"white\",\"ticks\":\"\"},\"bgcolor\":\"#E5ECF6\",\"radialaxis\":{\"gridcolor\":\"white\",\"linecolor\":\"white\",\"ticks\":\"\"}},\"scene\":{\"xaxis\":{\"backgroundcolor\":\"#E5ECF6\",\"gridcolor\":\"white\",\"gridwidth\":2,\"linecolor\":\"white\",\"showbackground\":true,\"ticks\":\"\",\"zerolinecolor\":\"white\"},\"yaxis\":{\"backgroundcolor\":\"#E5ECF6\",\"gridcolor\":\"white\",\"gridwidth\":2,\"linecolor\":\"white\",\"showbackground\":true,\"ticks\":\"\",\"zerolinecolor\":\"white\"},\"zaxis\":{\"backgroundcolor\":\"#E5ECF6\",\"gridcolor\":\"white\",\"gridwidth\":2,\"linecolor\":\"white\",\"showbackground\":true,\"ticks\":\"\",\"zerolinecolor\":\"white\"}},\"shapedefaults\":{\"line\":{\"color\":\"#2a3f5f\"}},\"ternary\":{\"aaxis\":{\"gridcolor\":\"white\",\"linecolor\":\"white\",\"ticks\":\"\"},\"baxis\":{\"gridcolor\":\"white\",\"linecolor\":\"white\",\"ticks\":\"\"},\"bgcolor\":\"#E5ECF6\",\"caxis\":{\"gridcolor\":\"white\",\"linecolor\":\"white\",\"ticks\":\"\"}},\"title\":{\"x\":0.05},\"xaxis\":{\"automargin\":true,\"gridcolor\":\"white\",\"linecolor\":\"white\",\"ticks\":\"\",\"title\":{\"standoff\":15},\"zerolinecolor\":\"white\",\"zerolinewidth\":2},\"yaxis\":{\"automargin\":true,\"gridcolor\":\"white\",\"linecolor\":\"white\",\"ticks\":\"\",\"title\":{\"standoff\":15},\"zerolinecolor\":\"white\",\"zerolinewidth\":2}}},\"title\":{\"font\":{\"color\":\"#4D5663\"}},\"xaxis\":{\"gridcolor\":\"#E1E5ED\",\"showgrid\":true,\"tickfont\":{\"color\":\"#4D5663\"},\"title\":{\"font\":{\"color\":\"#4D5663\"},\"text\":\"\"},\"zerolinecolor\":\"#E1E5ED\"},\"yaxis\":{\"gridcolor\":\"#E1E5ED\",\"showgrid\":true,\"tickfont\":{\"color\":\"#4D5663\"},\"title\":{\"font\":{\"color\":\"#4D5663\"},\"text\":\"\"},\"zerolinecolor\":\"#E1E5ED\"}},                        {\"showLink\": true, \"linkText\": \"Export to plot.ly\", \"plotlyServerURL\": \"https://plot.ly\", \"responsive\": true}                    ).then(function(){\n",
       "                            \n",
       "var gd = document.getElementById('2ba7d299-cad1-4d8b-b22b-3604d9dbf738');\n",
       "var x = new MutationObserver(function (mutations, observer) {{\n",
       "        var display = window.getComputedStyle(gd).display;\n",
       "        if (!display || display === 'none') {{\n",
       "            console.log([gd, 'removed!']);\n",
       "            Plotly.purge(gd);\n",
       "            observer.disconnect();\n",
       "        }}\n",
       "}});\n",
       "\n",
       "// Listen for the removal of the full notebook cells\n",
       "var notebookContainer = gd.closest('#notebook-container');\n",
       "if (notebookContainer) {{\n",
       "    x.observe(notebookContainer, {childList: true});\n",
       "}}\n",
       "\n",
       "// Listen for the clearing of the current output cell\n",
       "var outputEl = gd.closest('.output');\n",
       "if (outputEl) {{\n",
       "    x.observe(outputEl, {childList: true});\n",
       "}}\n",
       "\n",
       "                        })                };                });            </script>        </div>"
      ]
     },
     "metadata": {},
     "output_type": "display_data"
    }
   ],
   "source": [
    "df.iplot(kind='bubble',x='A',y='B',size='C')"
   ]
  },
  {
   "cell_type": "markdown",
   "metadata": {},
   "source": [
    "## scatter_matrix()\n",
    "\n",
    "Similar to sns.pairplot()"
   ]
  },
  {
   "cell_type": "code",
   "execution_count": 19,
   "metadata": {},
   "outputs": [
    {
     "data": {
      "application/vnd.plotly.v1+json": {
       "config": {
        "linkText": "Export to plot.ly",
        "plotlyServerURL": "https://plot.ly",
        "showLink": true
       },
       "data": [
        {
         "histfunc": "count",
         "histnorm": "",
         "marker": {
          "color": "rgba(255, 153, 51, 1.0)",
          "line": {
           "color": "#4D5663",
           "width": 1.3
          }
         },
         "name": "A",
         "nbinsx": 10,
         "opacity": 0.8,
         "orientation": "v",
         "type": "histogram",
         "x": [
          0.7655458203462077,
          -0.12808922353551602,
          1.4513993957179177,
          -0.19122091052993234,
          1.1030723744375364,
          1.033532144394203,
          0.3841969617822889,
          0.6496604352494966,
          0.513285627209426,
          0.11476079502280276,
          -0.2591015559704645,
          -1.776879311107862,
          -1.34794116248284,
          0.7082005182592324,
          -0.07069421173021438,
          0.2969240010622188,
          0.3536557662414352,
          0.47251436715512296,
          1.1563489173302384,
          -1.1577309588480218,
          -0.8911183307244669,
          2.619839722470479,
          2.473037611797308,
          2.7479066271536197,
          -1.3832565327512583,
          0.42590028724574386,
          0.8266523606807861,
          0.4582137090455324,
          0.3669423654181648,
          -0.38559101708212323,
          0.7043030621427251,
          0.7977307659092078,
          0.5923822621043702,
          0.9225429891488932,
          2.0559542054906292,
          1.7485194011322966,
          -1.4178063337005729,
          0.3492884656078567,
          0.8946522460785905,
          1.560287626057767,
          -0.8322926593044682,
          1.2349418728588268,
          1.7875197554567475,
          0.08633619069120248,
          0.5314971207622426,
          -0.9436475384249055,
          -1.615751639616223,
          1.5499038599623058,
          -1.6173743554616682,
          0.006085323851007527,
          0.002795262409405392,
          0.3659633121859034,
          0.801851411757661,
          -0.5374217808986604,
          -0.12139982016197108,
          -0.7028554934220238,
          -0.8765908568443167,
          0.41346433697724727,
          1.4384119079610063,
          0.7600927797482195,
          -1.2787747786152739,
          0.5024311486559706,
          0.9750586541892643,
          0.5268072700021327,
          -0.42468859013658095,
          -1.025420774761301,
          -0.4266336127339284,
          0.48272659442294075,
          2.906398718665853,
          0.6880021525294603,
          -0.21480747949987763,
          -0.5686183980043807,
          -0.9131334243330468,
          1.6573368062052414,
          -1.7930944914691276,
          -0.9843674117413633,
          2.1543809516091437,
          0.4021428551289348,
          -1.2844749093286496,
          0.014934416169660418,
          0.15129520541311742,
          -0.30558213224536673,
          1.3253078666447853,
          -0.10688727093219857,
          1.0461711436912986,
          -1.240988782651725,
          0.7505133678415967,
          1.0924753055237828,
          -0.4217096676086004,
          -1.0886553141159043,
          0.465188624187154,
          0.27046011280690474,
          -1.0788735585175873,
          0.7616297320826227,
          1.83194824101488,
          -0.14619950548323124,
          0.9567672741523233,
          -0.6461097831091536,
          1.1273945026599368,
          1.8805504460884466
         ],
         "xaxis": "x",
         "yaxis": "y"
        },
        {
         "line": {
          "color": "rgba(128, 128, 128, 1.0)",
          "dash": "solid",
          "shape": "linear",
          "width": 1.3
         },
         "marker": {
          "size": 2,
          "symbol": "circle"
         },
         "mode": "markers",
         "name": "A",
         "text": "",
         "type": "scatter",
         "x": [
          0.6017466873503788,
          -0.14978400163424924,
          -1.0707104177133535,
          -1.037546034807011,
          0.3607916199572585,
          -0.06471865024747107,
          -0.7580300458300937,
          1.978188770648286,
          -0.571180926800931,
          -0.8350579784972542,
          -0.8760751468654233,
          -0.2416208405534744,
          -0.11940406390607054,
          0.3910497338436867,
          -0.12441061910314734,
          -0.17008880601047333,
          1.2424043471474324,
          0.18306105280621934,
          0.5025398751714042,
          -2.733138018312086,
          -0.4578889804156048,
          -0.8968252858196749,
          1.2192999848172787,
          1.3853636122951218,
          0.06451901011941573,
          -0.8042140226810693,
          -0.4799095259944002,
          -0.7228634578237165,
          0.23392212692192293,
          -0.5253559983110266,
          -0.005551655753853849,
          -1.581190796892674,
          -0.100944996595511,
          -0.36032418400728666,
          0.5683775057321915,
          -0.8875035255092706,
          0.920332767011539,
          -0.8378529508094908,
          2.207100912475008,
          -0.038956452336035875,
          1.7265669308226161,
          -0.21127645786169866,
          -0.03648413775657497,
          0.6477042890699376,
          1.717122130117437,
          0.7670217124737083,
          0.4011841768438215,
          -0.5771860490915778,
          -1.2952904699021186,
          -0.5614861119771376,
          0.3552524746507848,
          0.345368819654225,
          -0.486542716473194,
          -0.46989855997673624,
          0.47018822027319174,
          -0.5556740606086376,
          -0.5508351364377948,
          -0.6689676565419325,
          -0.12457825258275382,
          1.0877758572906697,
          -0.014239704339121232,
          -1.6608604457359628,
          1.4821620161097675,
          1.1008139823858007,
          -0.23902094669399154,
          -0.6659886541239679,
          0.5328878624002946,
          0.339322926441731,
          1.5115792223663922,
          0.8165994139801861,
          0.6276223908531292,
          -0.3173257506316113,
          1.1302860331046023,
          -1.337122276668125,
          -1.7483710170291413,
          0.8883164654916883,
          -0.23718451528176032,
          0.136395655094501,
          -0.16601627031277902,
          0.5004192659250103,
          -0.21116110306728084,
          1.2744353062002893,
          -0.08179344137315678,
          -0.887429149024921,
          0.17680435085489035,
          0.9006247162148816,
          0.3294130449437715,
          -1.4774903881761516,
          0.7656241967464709,
          0.47361979358312306,
          0.5405391526466155,
          0.39341633131077053,
          -2.4023312521643514,
          -0.6074321625556381,
          1.4120134927426395,
          -0.7663209956048409,
          0.3946572185611099,
          1.101027134677378,
          2.2913939671179193,
          -0.3474317575058246
         ],
         "xaxis": "x2",
         "y": [
          0.7655458203462077,
          -0.12808922353551602,
          1.4513993957179177,
          -0.19122091052993234,
          1.1030723744375364,
          1.033532144394203,
          0.3841969617822889,
          0.6496604352494966,
          0.513285627209426,
          0.11476079502280276,
          -0.2591015559704645,
          -1.776879311107862,
          -1.34794116248284,
          0.7082005182592324,
          -0.07069421173021438,
          0.2969240010622188,
          0.3536557662414352,
          0.47251436715512296,
          1.1563489173302384,
          -1.1577309588480218,
          -0.8911183307244669,
          2.619839722470479,
          2.473037611797308,
          2.7479066271536197,
          -1.3832565327512583,
          0.42590028724574386,
          0.8266523606807861,
          0.4582137090455324,
          0.3669423654181648,
          -0.38559101708212323,
          0.7043030621427251,
          0.7977307659092078,
          0.5923822621043702,
          0.9225429891488932,
          2.0559542054906292,
          1.7485194011322966,
          -1.4178063337005729,
          0.3492884656078567,
          0.8946522460785905,
          1.560287626057767,
          -0.8322926593044682,
          1.2349418728588268,
          1.7875197554567475,
          0.08633619069120248,
          0.5314971207622426,
          -0.9436475384249055,
          -1.615751639616223,
          1.5499038599623058,
          -1.6173743554616682,
          0.006085323851007527,
          0.002795262409405392,
          0.3659633121859034,
          0.801851411757661,
          -0.5374217808986604,
          -0.12139982016197108,
          -0.7028554934220238,
          -0.8765908568443167,
          0.41346433697724727,
          1.4384119079610063,
          0.7600927797482195,
          -1.2787747786152739,
          0.5024311486559706,
          0.9750586541892643,
          0.5268072700021327,
          -0.42468859013658095,
          -1.025420774761301,
          -0.4266336127339284,
          0.48272659442294075,
          2.906398718665853,
          0.6880021525294603,
          -0.21480747949987763,
          -0.5686183980043807,
          -0.9131334243330468,
          1.6573368062052414,
          -1.7930944914691276,
          -0.9843674117413633,
          2.1543809516091437,
          0.4021428551289348,
          -1.2844749093286496,
          0.014934416169660418,
          0.15129520541311742,
          -0.30558213224536673,
          1.3253078666447853,
          -0.10688727093219857,
          1.0461711436912986,
          -1.240988782651725,
          0.7505133678415967,
          1.0924753055237828,
          -0.4217096676086004,
          -1.0886553141159043,
          0.465188624187154,
          0.27046011280690474,
          -1.0788735585175873,
          0.7616297320826227,
          1.83194824101488,
          -0.14619950548323124,
          0.9567672741523233,
          -0.6461097831091536,
          1.1273945026599368,
          1.8805504460884466
         ],
         "yaxis": "y2"
        },
        {
         "line": {
          "color": "rgba(128, 128, 128, 1.0)",
          "dash": "solid",
          "shape": "linear",
          "width": 1.3
         },
         "marker": {
          "size": 2,
          "symbol": "circle"
         },
         "mode": "markers",
         "name": "A",
         "text": "",
         "type": "scatter",
         "x": [
          0.24580720293270789,
          -0.16791258338056927,
          -0.3551479634347549,
          -1.3233085331930585,
          0.7097797908246052,
          0.31040033879971257,
          -1.6718985315521668,
          0.4558342746292871,
          0.6514803065472838,
          0.08110556967608246,
          1.0260850390526737,
          1.1020529487741573,
          -0.07079645264341279,
          0.6993218505747866,
          0.8257781490301271,
          0.3912486892400691,
          -0.42834637536562875,
          1.3110906708710228,
          -0.013808944615887742,
          0.8673460817320041,
          -0.0676721955089728,
          1.1595969389127676,
          -2.659098634214604,
          1.1872328751495338,
          0.6325408476490932,
          -1.1258226640300024,
          -0.20268519369486213,
          1.1236106734617177,
          -0.6080856244352839,
          -1.2177214608605689,
          1.0276095480784375,
          0.0927468330768223,
          0.1602110795401743,
          -0.5042954689831142,
          -0.47728877956374566,
          0.26523305088620625,
          0.03614873092792522,
          0.8437171837795762,
          -1.8962433054646162,
          0.6561221119045462,
          -0.3263394816877104,
          -0.13154920221109132,
          -0.3139253977492223,
          0.3369570346411211,
          1.3355867881817336,
          -0.38525189743613936,
          0.6488424993995671,
          0.42343375066531047,
          1.0584993329798738,
          -0.6868277034680705,
          0.9059310468128209,
          -0.3461808821898123,
          -0.9161137066046858,
          -1.5032945636101964,
          -1.0043357428623314,
          0.4056862397127461,
          0.5268023994911366,
          -1.7256377069714444,
          -0.4783352503905883,
          -0.6556621746351436,
          -1.8844086686528698,
          1.1798865505687492,
          -1.3421246750205809,
          -0.23560665404353476,
          0.21369864561464302,
          -0.24759708685697168,
          -1.3016092767861585,
          0.2414783341289692,
          0.723525851278836,
          0.26409779961735136,
          0.6823036091120643,
          0.16593570160663768,
          -0.06173788566606027,
          1.7928139857018244,
          -0.6882336938667062,
          -1.7929803680573533,
          1.877860173947971,
          -0.6234395949275936,
          -0.9671511628687711,
          -0.4495149890052343,
          -1.7239661938374629,
          0.11603006916036149,
          -0.19123405951466851,
          -0.3084811571021436,
          -0.9445287301697122,
          -0.6760778171840082,
          -0.3220953942413495,
          0.31451053248896116,
          0.5169515130689945,
          -0.041813606015498904,
          1.2800522964060397,
          -0.2643507897701546,
          0.851981930005477,
          1.2268302192809262,
          -0.9013530736648057,
          -0.6253983724844503,
          -0.5291521293215709,
          0.10300817655146013,
          1.106842872035679,
          -0.14627641238432817
         ],
         "xaxis": "x3",
         "y": [
          0.7655458203462077,
          -0.12808922353551602,
          1.4513993957179177,
          -0.19122091052993234,
          1.1030723744375364,
          1.033532144394203,
          0.3841969617822889,
          0.6496604352494966,
          0.513285627209426,
          0.11476079502280276,
          -0.2591015559704645,
          -1.776879311107862,
          -1.34794116248284,
          0.7082005182592324,
          -0.07069421173021438,
          0.2969240010622188,
          0.3536557662414352,
          0.47251436715512296,
          1.1563489173302384,
          -1.1577309588480218,
          -0.8911183307244669,
          2.619839722470479,
          2.473037611797308,
          2.7479066271536197,
          -1.3832565327512583,
          0.42590028724574386,
          0.8266523606807861,
          0.4582137090455324,
          0.3669423654181648,
          -0.38559101708212323,
          0.7043030621427251,
          0.7977307659092078,
          0.5923822621043702,
          0.9225429891488932,
          2.0559542054906292,
          1.7485194011322966,
          -1.4178063337005729,
          0.3492884656078567,
          0.8946522460785905,
          1.560287626057767,
          -0.8322926593044682,
          1.2349418728588268,
          1.7875197554567475,
          0.08633619069120248,
          0.5314971207622426,
          -0.9436475384249055,
          -1.615751639616223,
          1.5499038599623058,
          -1.6173743554616682,
          0.006085323851007527,
          0.002795262409405392,
          0.3659633121859034,
          0.801851411757661,
          -0.5374217808986604,
          -0.12139982016197108,
          -0.7028554934220238,
          -0.8765908568443167,
          0.41346433697724727,
          1.4384119079610063,
          0.7600927797482195,
          -1.2787747786152739,
          0.5024311486559706,
          0.9750586541892643,
          0.5268072700021327,
          -0.42468859013658095,
          -1.025420774761301,
          -0.4266336127339284,
          0.48272659442294075,
          2.906398718665853,
          0.6880021525294603,
          -0.21480747949987763,
          -0.5686183980043807,
          -0.9131334243330468,
          1.6573368062052414,
          -1.7930944914691276,
          -0.9843674117413633,
          2.1543809516091437,
          0.4021428551289348,
          -1.2844749093286496,
          0.014934416169660418,
          0.15129520541311742,
          -0.30558213224536673,
          1.3253078666447853,
          -0.10688727093219857,
          1.0461711436912986,
          -1.240988782651725,
          0.7505133678415967,
          1.0924753055237828,
          -0.4217096676086004,
          -1.0886553141159043,
          0.465188624187154,
          0.27046011280690474,
          -1.0788735585175873,
          0.7616297320826227,
          1.83194824101488,
          -0.14619950548323124,
          0.9567672741523233,
          -0.6461097831091536,
          1.1273945026599368,
          1.8805504460884466
         ],
         "yaxis": "y3"
        },
        {
         "line": {
          "color": "rgba(128, 128, 128, 1.0)",
          "dash": "solid",
          "shape": "linear",
          "width": 1.3
         },
         "marker": {
          "size": 2,
          "symbol": "circle"
         },
         "mode": "markers",
         "name": "A",
         "text": "",
         "type": "scatter",
         "x": [
          -2.152868158232687,
          0.22147600083290267,
          2.0258967250186357,
          -0.8559096402277154,
          -1.4493963564928796,
          -0.7237887927557322,
          0.04994827515307033,
          0.23762938713516832,
          0.20917147145454562,
          0.5000432132657668,
          2.111735139961974,
          -0.18341074673914798,
          0.6268962272953703,
          2.3964200652668124,
          1.7259510244487086,
          -2.063163575013612,
          0.1379776183602663,
          -1.354467172609517,
          -0.241329364537885,
          -2.595775805420712,
          -0.5772752585875544,
          1.3069010034627697,
          -0.8909400121837199,
          -0.8434653651679853,
          1.7825504414506432,
          0.40306466107041566,
          -0.2002688213178314,
          -1.3538177425957982,
          -1.049201725002004,
          1.5211526564385496,
          -1.0806741783898786,
          2.1647496672772775,
          -1.402318347071575,
          0.47468852593249256,
          -1.5015980645274436,
          -0.41275995971813023,
          1.3883375285529573,
          -0.41045570940836346,
          1.5148074330667176,
          0.7813872002039445,
          -1.207026042101101,
          -0.6355157242831765,
          -1.7797644460245459,
          0.5870587013270901,
          -0.6911624265195444,
          1.0213851060342434,
          -0.9957843325465735,
          0.2378174771494934,
          0.39209669237121597,
          0.33877140830953195,
          -0.2742291462613146,
          -0.17081298756578328,
          0.18279547264917811,
          1.2895860229045453,
          0.7445830023862078,
          0.7067083876243946,
          -0.29961938111665587,
          0.1101668027363602,
          -1.4656918987730918,
          0.34232983864472594,
          -0.40070219794675555,
          0.4363246196936259,
          -0.6495722058337039,
          0.33217657663609085,
          -1.113834833270538,
          -0.2956601719820081,
          -0.12207866184611177,
          -0.5655743720402427,
          0.9122001626732609,
          -0.6171760567819509,
          -0.41140049703854514,
          0.18637925528471375,
          0.8359844659765966,
          0.9680438704685685,
          -0.701446077454482,
          1.0625053169816423,
          0.3454732043018869,
          -0.5569914470776471,
          -0.44582630975238624,
          2.8319313931223347,
          2.2801627286450485,
          1.209993253282053,
          0.09504486434510401,
          1.0275099629228186,
          -1.3478968678350511,
          1.263349306325821,
          0.6446994450351753,
          0.3372422081383686,
          -0.37663911470308814,
          -0.41128906290655165,
          0.2740661757383904,
          0.8307809509608569,
          0.09974064493153914,
          -0.4432047085326059,
          -0.03856477255306065,
          -0.12560136077367148,
          -0.5913960415329688,
          -0.19313389525112634,
          -0.42674109057431664,
          -0.12805618860776607
         ],
         "xaxis": "x4",
         "y": [
          0.7655458203462077,
          -0.12808922353551602,
          1.4513993957179177,
          -0.19122091052993234,
          1.1030723744375364,
          1.033532144394203,
          0.3841969617822889,
          0.6496604352494966,
          0.513285627209426,
          0.11476079502280276,
          -0.2591015559704645,
          -1.776879311107862,
          -1.34794116248284,
          0.7082005182592324,
          -0.07069421173021438,
          0.2969240010622188,
          0.3536557662414352,
          0.47251436715512296,
          1.1563489173302384,
          -1.1577309588480218,
          -0.8911183307244669,
          2.619839722470479,
          2.473037611797308,
          2.7479066271536197,
          -1.3832565327512583,
          0.42590028724574386,
          0.8266523606807861,
          0.4582137090455324,
          0.3669423654181648,
          -0.38559101708212323,
          0.7043030621427251,
          0.7977307659092078,
          0.5923822621043702,
          0.9225429891488932,
          2.0559542054906292,
          1.7485194011322966,
          -1.4178063337005729,
          0.3492884656078567,
          0.8946522460785905,
          1.560287626057767,
          -0.8322926593044682,
          1.2349418728588268,
          1.7875197554567475,
          0.08633619069120248,
          0.5314971207622426,
          -0.9436475384249055,
          -1.615751639616223,
          1.5499038599623058,
          -1.6173743554616682,
          0.006085323851007527,
          0.002795262409405392,
          0.3659633121859034,
          0.801851411757661,
          -0.5374217808986604,
          -0.12139982016197108,
          -0.7028554934220238,
          -0.8765908568443167,
          0.41346433697724727,
          1.4384119079610063,
          0.7600927797482195,
          -1.2787747786152739,
          0.5024311486559706,
          0.9750586541892643,
          0.5268072700021327,
          -0.42468859013658095,
          -1.025420774761301,
          -0.4266336127339284,
          0.48272659442294075,
          2.906398718665853,
          0.6880021525294603,
          -0.21480747949987763,
          -0.5686183980043807,
          -0.9131334243330468,
          1.6573368062052414,
          -1.7930944914691276,
          -0.9843674117413633,
          2.1543809516091437,
          0.4021428551289348,
          -1.2844749093286496,
          0.014934416169660418,
          0.15129520541311742,
          -0.30558213224536673,
          1.3253078666447853,
          -0.10688727093219857,
          1.0461711436912986,
          -1.240988782651725,
          0.7505133678415967,
          1.0924753055237828,
          -0.4217096676086004,
          -1.0886553141159043,
          0.465188624187154,
          0.27046011280690474,
          -1.0788735585175873,
          0.7616297320826227,
          1.83194824101488,
          -0.14619950548323124,
          0.9567672741523233,
          -0.6461097831091536,
          1.1273945026599368,
          1.8805504460884466
         ],
         "yaxis": "y4"
        },
        {
         "line": {
          "color": "rgba(128, 128, 128, 1.0)",
          "dash": "solid",
          "shape": "linear",
          "width": 1.3
         },
         "marker": {
          "size": 2,
          "symbol": "circle"
         },
         "mode": "markers",
         "name": "B",
         "text": "",
         "type": "scatter",
         "x": [
          0.7655458203462077,
          -0.12808922353551602,
          1.4513993957179177,
          -0.19122091052993234,
          1.1030723744375364,
          1.033532144394203,
          0.3841969617822889,
          0.6496604352494966,
          0.513285627209426,
          0.11476079502280276,
          -0.2591015559704645,
          -1.776879311107862,
          -1.34794116248284,
          0.7082005182592324,
          -0.07069421173021438,
          0.2969240010622188,
          0.3536557662414352,
          0.47251436715512296,
          1.1563489173302384,
          -1.1577309588480218,
          -0.8911183307244669,
          2.619839722470479,
          2.473037611797308,
          2.7479066271536197,
          -1.3832565327512583,
          0.42590028724574386,
          0.8266523606807861,
          0.4582137090455324,
          0.3669423654181648,
          -0.38559101708212323,
          0.7043030621427251,
          0.7977307659092078,
          0.5923822621043702,
          0.9225429891488932,
          2.0559542054906292,
          1.7485194011322966,
          -1.4178063337005729,
          0.3492884656078567,
          0.8946522460785905,
          1.560287626057767,
          -0.8322926593044682,
          1.2349418728588268,
          1.7875197554567475,
          0.08633619069120248,
          0.5314971207622426,
          -0.9436475384249055,
          -1.615751639616223,
          1.5499038599623058,
          -1.6173743554616682,
          0.006085323851007527,
          0.002795262409405392,
          0.3659633121859034,
          0.801851411757661,
          -0.5374217808986604,
          -0.12139982016197108,
          -0.7028554934220238,
          -0.8765908568443167,
          0.41346433697724727,
          1.4384119079610063,
          0.7600927797482195,
          -1.2787747786152739,
          0.5024311486559706,
          0.9750586541892643,
          0.5268072700021327,
          -0.42468859013658095,
          -1.025420774761301,
          -0.4266336127339284,
          0.48272659442294075,
          2.906398718665853,
          0.6880021525294603,
          -0.21480747949987763,
          -0.5686183980043807,
          -0.9131334243330468,
          1.6573368062052414,
          -1.7930944914691276,
          -0.9843674117413633,
          2.1543809516091437,
          0.4021428551289348,
          -1.2844749093286496,
          0.014934416169660418,
          0.15129520541311742,
          -0.30558213224536673,
          1.3253078666447853,
          -0.10688727093219857,
          1.0461711436912986,
          -1.240988782651725,
          0.7505133678415967,
          1.0924753055237828,
          -0.4217096676086004,
          -1.0886553141159043,
          0.465188624187154,
          0.27046011280690474,
          -1.0788735585175873,
          0.7616297320826227,
          1.83194824101488,
          -0.14619950548323124,
          0.9567672741523233,
          -0.6461097831091536,
          1.1273945026599368,
          1.8805504460884466
         ],
         "xaxis": "x5",
         "y": [
          0.6017466873503788,
          -0.14978400163424924,
          -1.0707104177133535,
          -1.037546034807011,
          0.3607916199572585,
          -0.06471865024747107,
          -0.7580300458300937,
          1.978188770648286,
          -0.571180926800931,
          -0.8350579784972542,
          -0.8760751468654233,
          -0.2416208405534744,
          -0.11940406390607054,
          0.3910497338436867,
          -0.12441061910314734,
          -0.17008880601047333,
          1.2424043471474324,
          0.18306105280621934,
          0.5025398751714042,
          -2.733138018312086,
          -0.4578889804156048,
          -0.8968252858196749,
          1.2192999848172787,
          1.3853636122951218,
          0.06451901011941573,
          -0.8042140226810693,
          -0.4799095259944002,
          -0.7228634578237165,
          0.23392212692192293,
          -0.5253559983110266,
          -0.005551655753853849,
          -1.581190796892674,
          -0.100944996595511,
          -0.36032418400728666,
          0.5683775057321915,
          -0.8875035255092706,
          0.920332767011539,
          -0.8378529508094908,
          2.207100912475008,
          -0.038956452336035875,
          1.7265669308226161,
          -0.21127645786169866,
          -0.03648413775657497,
          0.6477042890699376,
          1.717122130117437,
          0.7670217124737083,
          0.4011841768438215,
          -0.5771860490915778,
          -1.2952904699021186,
          -0.5614861119771376,
          0.3552524746507848,
          0.345368819654225,
          -0.486542716473194,
          -0.46989855997673624,
          0.47018822027319174,
          -0.5556740606086376,
          -0.5508351364377948,
          -0.6689676565419325,
          -0.12457825258275382,
          1.0877758572906697,
          -0.014239704339121232,
          -1.6608604457359628,
          1.4821620161097675,
          1.1008139823858007,
          -0.23902094669399154,
          -0.6659886541239679,
          0.5328878624002946,
          0.339322926441731,
          1.5115792223663922,
          0.8165994139801861,
          0.6276223908531292,
          -0.3173257506316113,
          1.1302860331046023,
          -1.337122276668125,
          -1.7483710170291413,
          0.8883164654916883,
          -0.23718451528176032,
          0.136395655094501,
          -0.16601627031277902,
          0.5004192659250103,
          -0.21116110306728084,
          1.2744353062002893,
          -0.08179344137315678,
          -0.887429149024921,
          0.17680435085489035,
          0.9006247162148816,
          0.3294130449437715,
          -1.4774903881761516,
          0.7656241967464709,
          0.47361979358312306,
          0.5405391526466155,
          0.39341633131077053,
          -2.4023312521643514,
          -0.6074321625556381,
          1.4120134927426395,
          -0.7663209956048409,
          0.3946572185611099,
          1.101027134677378,
          2.2913939671179193,
          -0.3474317575058246
         ],
         "yaxis": "y5"
        },
        {
         "histfunc": "count",
         "histnorm": "",
         "marker": {
          "color": "rgba(55, 128, 191, 1.0)",
          "line": {
           "color": "#4D5663",
           "width": 1.3
          }
         },
         "name": "B",
         "nbinsx": 10,
         "opacity": 0.8,
         "orientation": "v",
         "type": "histogram",
         "x": [
          0.6017466873503788,
          -0.14978400163424924,
          -1.0707104177133535,
          -1.037546034807011,
          0.3607916199572585,
          -0.06471865024747107,
          -0.7580300458300937,
          1.978188770648286,
          -0.571180926800931,
          -0.8350579784972542,
          -0.8760751468654233,
          -0.2416208405534744,
          -0.11940406390607054,
          0.3910497338436867,
          -0.12441061910314734,
          -0.17008880601047333,
          1.2424043471474324,
          0.18306105280621934,
          0.5025398751714042,
          -2.733138018312086,
          -0.4578889804156048,
          -0.8968252858196749,
          1.2192999848172787,
          1.3853636122951218,
          0.06451901011941573,
          -0.8042140226810693,
          -0.4799095259944002,
          -0.7228634578237165,
          0.23392212692192293,
          -0.5253559983110266,
          -0.005551655753853849,
          -1.581190796892674,
          -0.100944996595511,
          -0.36032418400728666,
          0.5683775057321915,
          -0.8875035255092706,
          0.920332767011539,
          -0.8378529508094908,
          2.207100912475008,
          -0.038956452336035875,
          1.7265669308226161,
          -0.21127645786169866,
          -0.03648413775657497,
          0.6477042890699376,
          1.717122130117437,
          0.7670217124737083,
          0.4011841768438215,
          -0.5771860490915778,
          -1.2952904699021186,
          -0.5614861119771376,
          0.3552524746507848,
          0.345368819654225,
          -0.486542716473194,
          -0.46989855997673624,
          0.47018822027319174,
          -0.5556740606086376,
          -0.5508351364377948,
          -0.6689676565419325,
          -0.12457825258275382,
          1.0877758572906697,
          -0.014239704339121232,
          -1.6608604457359628,
          1.4821620161097675,
          1.1008139823858007,
          -0.23902094669399154,
          -0.6659886541239679,
          0.5328878624002946,
          0.339322926441731,
          1.5115792223663922,
          0.8165994139801861,
          0.6276223908531292,
          -0.3173257506316113,
          1.1302860331046023,
          -1.337122276668125,
          -1.7483710170291413,
          0.8883164654916883,
          -0.23718451528176032,
          0.136395655094501,
          -0.16601627031277902,
          0.5004192659250103,
          -0.21116110306728084,
          1.2744353062002893,
          -0.08179344137315678,
          -0.887429149024921,
          0.17680435085489035,
          0.9006247162148816,
          0.3294130449437715,
          -1.4774903881761516,
          0.7656241967464709,
          0.47361979358312306,
          0.5405391526466155,
          0.39341633131077053,
          -2.4023312521643514,
          -0.6074321625556381,
          1.4120134927426395,
          -0.7663209956048409,
          0.3946572185611099,
          1.101027134677378,
          2.2913939671179193,
          -0.3474317575058246
         ],
         "xaxis": "x6",
         "yaxis": "y6"
        },
        {
         "line": {
          "color": "rgba(128, 128, 128, 1.0)",
          "dash": "solid",
          "shape": "linear",
          "width": 1.3
         },
         "marker": {
          "size": 2,
          "symbol": "circle"
         },
         "mode": "markers",
         "name": "B",
         "text": "",
         "type": "scatter",
         "x": [
          0.24580720293270789,
          -0.16791258338056927,
          -0.3551479634347549,
          -1.3233085331930585,
          0.7097797908246052,
          0.31040033879971257,
          -1.6718985315521668,
          0.4558342746292871,
          0.6514803065472838,
          0.08110556967608246,
          1.0260850390526737,
          1.1020529487741573,
          -0.07079645264341279,
          0.6993218505747866,
          0.8257781490301271,
          0.3912486892400691,
          -0.42834637536562875,
          1.3110906708710228,
          -0.013808944615887742,
          0.8673460817320041,
          -0.0676721955089728,
          1.1595969389127676,
          -2.659098634214604,
          1.1872328751495338,
          0.6325408476490932,
          -1.1258226640300024,
          -0.20268519369486213,
          1.1236106734617177,
          -0.6080856244352839,
          -1.2177214608605689,
          1.0276095480784375,
          0.0927468330768223,
          0.1602110795401743,
          -0.5042954689831142,
          -0.47728877956374566,
          0.26523305088620625,
          0.03614873092792522,
          0.8437171837795762,
          -1.8962433054646162,
          0.6561221119045462,
          -0.3263394816877104,
          -0.13154920221109132,
          -0.3139253977492223,
          0.3369570346411211,
          1.3355867881817336,
          -0.38525189743613936,
          0.6488424993995671,
          0.42343375066531047,
          1.0584993329798738,
          -0.6868277034680705,
          0.9059310468128209,
          -0.3461808821898123,
          -0.9161137066046858,
          -1.5032945636101964,
          -1.0043357428623314,
          0.4056862397127461,
          0.5268023994911366,
          -1.7256377069714444,
          -0.4783352503905883,
          -0.6556621746351436,
          -1.8844086686528698,
          1.1798865505687492,
          -1.3421246750205809,
          -0.23560665404353476,
          0.21369864561464302,
          -0.24759708685697168,
          -1.3016092767861585,
          0.2414783341289692,
          0.723525851278836,
          0.26409779961735136,
          0.6823036091120643,
          0.16593570160663768,
          -0.06173788566606027,
          1.7928139857018244,
          -0.6882336938667062,
          -1.7929803680573533,
          1.877860173947971,
          -0.6234395949275936,
          -0.9671511628687711,
          -0.4495149890052343,
          -1.7239661938374629,
          0.11603006916036149,
          -0.19123405951466851,
          -0.3084811571021436,
          -0.9445287301697122,
          -0.6760778171840082,
          -0.3220953942413495,
          0.31451053248896116,
          0.5169515130689945,
          -0.041813606015498904,
          1.2800522964060397,
          -0.2643507897701546,
          0.851981930005477,
          1.2268302192809262,
          -0.9013530736648057,
          -0.6253983724844503,
          -0.5291521293215709,
          0.10300817655146013,
          1.106842872035679,
          -0.14627641238432817
         ],
         "xaxis": "x7",
         "y": [
          0.6017466873503788,
          -0.14978400163424924,
          -1.0707104177133535,
          -1.037546034807011,
          0.3607916199572585,
          -0.06471865024747107,
          -0.7580300458300937,
          1.978188770648286,
          -0.571180926800931,
          -0.8350579784972542,
          -0.8760751468654233,
          -0.2416208405534744,
          -0.11940406390607054,
          0.3910497338436867,
          -0.12441061910314734,
          -0.17008880601047333,
          1.2424043471474324,
          0.18306105280621934,
          0.5025398751714042,
          -2.733138018312086,
          -0.4578889804156048,
          -0.8968252858196749,
          1.2192999848172787,
          1.3853636122951218,
          0.06451901011941573,
          -0.8042140226810693,
          -0.4799095259944002,
          -0.7228634578237165,
          0.23392212692192293,
          -0.5253559983110266,
          -0.005551655753853849,
          -1.581190796892674,
          -0.100944996595511,
          -0.36032418400728666,
          0.5683775057321915,
          -0.8875035255092706,
          0.920332767011539,
          -0.8378529508094908,
          2.207100912475008,
          -0.038956452336035875,
          1.7265669308226161,
          -0.21127645786169866,
          -0.03648413775657497,
          0.6477042890699376,
          1.717122130117437,
          0.7670217124737083,
          0.4011841768438215,
          -0.5771860490915778,
          -1.2952904699021186,
          -0.5614861119771376,
          0.3552524746507848,
          0.345368819654225,
          -0.486542716473194,
          -0.46989855997673624,
          0.47018822027319174,
          -0.5556740606086376,
          -0.5508351364377948,
          -0.6689676565419325,
          -0.12457825258275382,
          1.0877758572906697,
          -0.014239704339121232,
          -1.6608604457359628,
          1.4821620161097675,
          1.1008139823858007,
          -0.23902094669399154,
          -0.6659886541239679,
          0.5328878624002946,
          0.339322926441731,
          1.5115792223663922,
          0.8165994139801861,
          0.6276223908531292,
          -0.3173257506316113,
          1.1302860331046023,
          -1.337122276668125,
          -1.7483710170291413,
          0.8883164654916883,
          -0.23718451528176032,
          0.136395655094501,
          -0.16601627031277902,
          0.5004192659250103,
          -0.21116110306728084,
          1.2744353062002893,
          -0.08179344137315678,
          -0.887429149024921,
          0.17680435085489035,
          0.9006247162148816,
          0.3294130449437715,
          -1.4774903881761516,
          0.7656241967464709,
          0.47361979358312306,
          0.5405391526466155,
          0.39341633131077053,
          -2.4023312521643514,
          -0.6074321625556381,
          1.4120134927426395,
          -0.7663209956048409,
          0.3946572185611099,
          1.101027134677378,
          2.2913939671179193,
          -0.3474317575058246
         ],
         "yaxis": "y7"
        },
        {
         "line": {
          "color": "rgba(128, 128, 128, 1.0)",
          "dash": "solid",
          "shape": "linear",
          "width": 1.3
         },
         "marker": {
          "size": 2,
          "symbol": "circle"
         },
         "mode": "markers",
         "name": "B",
         "text": "",
         "type": "scatter",
         "x": [
          -2.152868158232687,
          0.22147600083290267,
          2.0258967250186357,
          -0.8559096402277154,
          -1.4493963564928796,
          -0.7237887927557322,
          0.04994827515307033,
          0.23762938713516832,
          0.20917147145454562,
          0.5000432132657668,
          2.111735139961974,
          -0.18341074673914798,
          0.6268962272953703,
          2.3964200652668124,
          1.7259510244487086,
          -2.063163575013612,
          0.1379776183602663,
          -1.354467172609517,
          -0.241329364537885,
          -2.595775805420712,
          -0.5772752585875544,
          1.3069010034627697,
          -0.8909400121837199,
          -0.8434653651679853,
          1.7825504414506432,
          0.40306466107041566,
          -0.2002688213178314,
          -1.3538177425957982,
          -1.049201725002004,
          1.5211526564385496,
          -1.0806741783898786,
          2.1647496672772775,
          -1.402318347071575,
          0.47468852593249256,
          -1.5015980645274436,
          -0.41275995971813023,
          1.3883375285529573,
          -0.41045570940836346,
          1.5148074330667176,
          0.7813872002039445,
          -1.207026042101101,
          -0.6355157242831765,
          -1.7797644460245459,
          0.5870587013270901,
          -0.6911624265195444,
          1.0213851060342434,
          -0.9957843325465735,
          0.2378174771494934,
          0.39209669237121597,
          0.33877140830953195,
          -0.2742291462613146,
          -0.17081298756578328,
          0.18279547264917811,
          1.2895860229045453,
          0.7445830023862078,
          0.7067083876243946,
          -0.29961938111665587,
          0.1101668027363602,
          -1.4656918987730918,
          0.34232983864472594,
          -0.40070219794675555,
          0.4363246196936259,
          -0.6495722058337039,
          0.33217657663609085,
          -1.113834833270538,
          -0.2956601719820081,
          -0.12207866184611177,
          -0.5655743720402427,
          0.9122001626732609,
          -0.6171760567819509,
          -0.41140049703854514,
          0.18637925528471375,
          0.8359844659765966,
          0.9680438704685685,
          -0.701446077454482,
          1.0625053169816423,
          0.3454732043018869,
          -0.5569914470776471,
          -0.44582630975238624,
          2.8319313931223347,
          2.2801627286450485,
          1.209993253282053,
          0.09504486434510401,
          1.0275099629228186,
          -1.3478968678350511,
          1.263349306325821,
          0.6446994450351753,
          0.3372422081383686,
          -0.37663911470308814,
          -0.41128906290655165,
          0.2740661757383904,
          0.8307809509608569,
          0.09974064493153914,
          -0.4432047085326059,
          -0.03856477255306065,
          -0.12560136077367148,
          -0.5913960415329688,
          -0.19313389525112634,
          -0.42674109057431664,
          -0.12805618860776607
         ],
         "xaxis": "x8",
         "y": [
          0.6017466873503788,
          -0.14978400163424924,
          -1.0707104177133535,
          -1.037546034807011,
          0.3607916199572585,
          -0.06471865024747107,
          -0.7580300458300937,
          1.978188770648286,
          -0.571180926800931,
          -0.8350579784972542,
          -0.8760751468654233,
          -0.2416208405534744,
          -0.11940406390607054,
          0.3910497338436867,
          -0.12441061910314734,
          -0.17008880601047333,
          1.2424043471474324,
          0.18306105280621934,
          0.5025398751714042,
          -2.733138018312086,
          -0.4578889804156048,
          -0.8968252858196749,
          1.2192999848172787,
          1.3853636122951218,
          0.06451901011941573,
          -0.8042140226810693,
          -0.4799095259944002,
          -0.7228634578237165,
          0.23392212692192293,
          -0.5253559983110266,
          -0.005551655753853849,
          -1.581190796892674,
          -0.100944996595511,
          -0.36032418400728666,
          0.5683775057321915,
          -0.8875035255092706,
          0.920332767011539,
          -0.8378529508094908,
          2.207100912475008,
          -0.038956452336035875,
          1.7265669308226161,
          -0.21127645786169866,
          -0.03648413775657497,
          0.6477042890699376,
          1.717122130117437,
          0.7670217124737083,
          0.4011841768438215,
          -0.5771860490915778,
          -1.2952904699021186,
          -0.5614861119771376,
          0.3552524746507848,
          0.345368819654225,
          -0.486542716473194,
          -0.46989855997673624,
          0.47018822027319174,
          -0.5556740606086376,
          -0.5508351364377948,
          -0.6689676565419325,
          -0.12457825258275382,
          1.0877758572906697,
          -0.014239704339121232,
          -1.6608604457359628,
          1.4821620161097675,
          1.1008139823858007,
          -0.23902094669399154,
          -0.6659886541239679,
          0.5328878624002946,
          0.339322926441731,
          1.5115792223663922,
          0.8165994139801861,
          0.6276223908531292,
          -0.3173257506316113,
          1.1302860331046023,
          -1.337122276668125,
          -1.7483710170291413,
          0.8883164654916883,
          -0.23718451528176032,
          0.136395655094501,
          -0.16601627031277902,
          0.5004192659250103,
          -0.21116110306728084,
          1.2744353062002893,
          -0.08179344137315678,
          -0.887429149024921,
          0.17680435085489035,
          0.9006247162148816,
          0.3294130449437715,
          -1.4774903881761516,
          0.7656241967464709,
          0.47361979358312306,
          0.5405391526466155,
          0.39341633131077053,
          -2.4023312521643514,
          -0.6074321625556381,
          1.4120134927426395,
          -0.7663209956048409,
          0.3946572185611099,
          1.101027134677378,
          2.2913939671179193,
          -0.3474317575058246
         ],
         "yaxis": "y8"
        },
        {
         "line": {
          "color": "rgba(128, 128, 128, 1.0)",
          "dash": "solid",
          "shape": "linear",
          "width": 1.3
         },
         "marker": {
          "size": 2,
          "symbol": "circle"
         },
         "mode": "markers",
         "name": "C",
         "text": "",
         "type": "scatter",
         "x": [
          0.7655458203462077,
          -0.12808922353551602,
          1.4513993957179177,
          -0.19122091052993234,
          1.1030723744375364,
          1.033532144394203,
          0.3841969617822889,
          0.6496604352494966,
          0.513285627209426,
          0.11476079502280276,
          -0.2591015559704645,
          -1.776879311107862,
          -1.34794116248284,
          0.7082005182592324,
          -0.07069421173021438,
          0.2969240010622188,
          0.3536557662414352,
          0.47251436715512296,
          1.1563489173302384,
          -1.1577309588480218,
          -0.8911183307244669,
          2.619839722470479,
          2.473037611797308,
          2.7479066271536197,
          -1.3832565327512583,
          0.42590028724574386,
          0.8266523606807861,
          0.4582137090455324,
          0.3669423654181648,
          -0.38559101708212323,
          0.7043030621427251,
          0.7977307659092078,
          0.5923822621043702,
          0.9225429891488932,
          2.0559542054906292,
          1.7485194011322966,
          -1.4178063337005729,
          0.3492884656078567,
          0.8946522460785905,
          1.560287626057767,
          -0.8322926593044682,
          1.2349418728588268,
          1.7875197554567475,
          0.08633619069120248,
          0.5314971207622426,
          -0.9436475384249055,
          -1.615751639616223,
          1.5499038599623058,
          -1.6173743554616682,
          0.006085323851007527,
          0.002795262409405392,
          0.3659633121859034,
          0.801851411757661,
          -0.5374217808986604,
          -0.12139982016197108,
          -0.7028554934220238,
          -0.8765908568443167,
          0.41346433697724727,
          1.4384119079610063,
          0.7600927797482195,
          -1.2787747786152739,
          0.5024311486559706,
          0.9750586541892643,
          0.5268072700021327,
          -0.42468859013658095,
          -1.025420774761301,
          -0.4266336127339284,
          0.48272659442294075,
          2.906398718665853,
          0.6880021525294603,
          -0.21480747949987763,
          -0.5686183980043807,
          -0.9131334243330468,
          1.6573368062052414,
          -1.7930944914691276,
          -0.9843674117413633,
          2.1543809516091437,
          0.4021428551289348,
          -1.2844749093286496,
          0.014934416169660418,
          0.15129520541311742,
          -0.30558213224536673,
          1.3253078666447853,
          -0.10688727093219857,
          1.0461711436912986,
          -1.240988782651725,
          0.7505133678415967,
          1.0924753055237828,
          -0.4217096676086004,
          -1.0886553141159043,
          0.465188624187154,
          0.27046011280690474,
          -1.0788735585175873,
          0.7616297320826227,
          1.83194824101488,
          -0.14619950548323124,
          0.9567672741523233,
          -0.6461097831091536,
          1.1273945026599368,
          1.8805504460884466
         ],
         "xaxis": "x9",
         "y": [
          0.24580720293270789,
          -0.16791258338056927,
          -0.3551479634347549,
          -1.3233085331930585,
          0.7097797908246052,
          0.31040033879971257,
          -1.6718985315521668,
          0.4558342746292871,
          0.6514803065472838,
          0.08110556967608246,
          1.0260850390526737,
          1.1020529487741573,
          -0.07079645264341279,
          0.6993218505747866,
          0.8257781490301271,
          0.3912486892400691,
          -0.42834637536562875,
          1.3110906708710228,
          -0.013808944615887742,
          0.8673460817320041,
          -0.0676721955089728,
          1.1595969389127676,
          -2.659098634214604,
          1.1872328751495338,
          0.6325408476490932,
          -1.1258226640300024,
          -0.20268519369486213,
          1.1236106734617177,
          -0.6080856244352839,
          -1.2177214608605689,
          1.0276095480784375,
          0.0927468330768223,
          0.1602110795401743,
          -0.5042954689831142,
          -0.47728877956374566,
          0.26523305088620625,
          0.03614873092792522,
          0.8437171837795762,
          -1.8962433054646162,
          0.6561221119045462,
          -0.3263394816877104,
          -0.13154920221109132,
          -0.3139253977492223,
          0.3369570346411211,
          1.3355867881817336,
          -0.38525189743613936,
          0.6488424993995671,
          0.42343375066531047,
          1.0584993329798738,
          -0.6868277034680705,
          0.9059310468128209,
          -0.3461808821898123,
          -0.9161137066046858,
          -1.5032945636101964,
          -1.0043357428623314,
          0.4056862397127461,
          0.5268023994911366,
          -1.7256377069714444,
          -0.4783352503905883,
          -0.6556621746351436,
          -1.8844086686528698,
          1.1798865505687492,
          -1.3421246750205809,
          -0.23560665404353476,
          0.21369864561464302,
          -0.24759708685697168,
          -1.3016092767861585,
          0.2414783341289692,
          0.723525851278836,
          0.26409779961735136,
          0.6823036091120643,
          0.16593570160663768,
          -0.06173788566606027,
          1.7928139857018244,
          -0.6882336938667062,
          -1.7929803680573533,
          1.877860173947971,
          -0.6234395949275936,
          -0.9671511628687711,
          -0.4495149890052343,
          -1.7239661938374629,
          0.11603006916036149,
          -0.19123405951466851,
          -0.3084811571021436,
          -0.9445287301697122,
          -0.6760778171840082,
          -0.3220953942413495,
          0.31451053248896116,
          0.5169515130689945,
          -0.041813606015498904,
          1.2800522964060397,
          -0.2643507897701546,
          0.851981930005477,
          1.2268302192809262,
          -0.9013530736648057,
          -0.6253983724844503,
          -0.5291521293215709,
          0.10300817655146013,
          1.106842872035679,
          -0.14627641238432817
         ],
         "yaxis": "y9"
        },
        {
         "line": {
          "color": "rgba(128, 128, 128, 1.0)",
          "dash": "solid",
          "shape": "linear",
          "width": 1.3
         },
         "marker": {
          "size": 2,
          "symbol": "circle"
         },
         "mode": "markers",
         "name": "C",
         "text": "",
         "type": "scatter",
         "x": [
          0.6017466873503788,
          -0.14978400163424924,
          -1.0707104177133535,
          -1.037546034807011,
          0.3607916199572585,
          -0.06471865024747107,
          -0.7580300458300937,
          1.978188770648286,
          -0.571180926800931,
          -0.8350579784972542,
          -0.8760751468654233,
          -0.2416208405534744,
          -0.11940406390607054,
          0.3910497338436867,
          -0.12441061910314734,
          -0.17008880601047333,
          1.2424043471474324,
          0.18306105280621934,
          0.5025398751714042,
          -2.733138018312086,
          -0.4578889804156048,
          -0.8968252858196749,
          1.2192999848172787,
          1.3853636122951218,
          0.06451901011941573,
          -0.8042140226810693,
          -0.4799095259944002,
          -0.7228634578237165,
          0.23392212692192293,
          -0.5253559983110266,
          -0.005551655753853849,
          -1.581190796892674,
          -0.100944996595511,
          -0.36032418400728666,
          0.5683775057321915,
          -0.8875035255092706,
          0.920332767011539,
          -0.8378529508094908,
          2.207100912475008,
          -0.038956452336035875,
          1.7265669308226161,
          -0.21127645786169866,
          -0.03648413775657497,
          0.6477042890699376,
          1.717122130117437,
          0.7670217124737083,
          0.4011841768438215,
          -0.5771860490915778,
          -1.2952904699021186,
          -0.5614861119771376,
          0.3552524746507848,
          0.345368819654225,
          -0.486542716473194,
          -0.46989855997673624,
          0.47018822027319174,
          -0.5556740606086376,
          -0.5508351364377948,
          -0.6689676565419325,
          -0.12457825258275382,
          1.0877758572906697,
          -0.014239704339121232,
          -1.6608604457359628,
          1.4821620161097675,
          1.1008139823858007,
          -0.23902094669399154,
          -0.6659886541239679,
          0.5328878624002946,
          0.339322926441731,
          1.5115792223663922,
          0.8165994139801861,
          0.6276223908531292,
          -0.3173257506316113,
          1.1302860331046023,
          -1.337122276668125,
          -1.7483710170291413,
          0.8883164654916883,
          -0.23718451528176032,
          0.136395655094501,
          -0.16601627031277902,
          0.5004192659250103,
          -0.21116110306728084,
          1.2744353062002893,
          -0.08179344137315678,
          -0.887429149024921,
          0.17680435085489035,
          0.9006247162148816,
          0.3294130449437715,
          -1.4774903881761516,
          0.7656241967464709,
          0.47361979358312306,
          0.5405391526466155,
          0.39341633131077053,
          -2.4023312521643514,
          -0.6074321625556381,
          1.4120134927426395,
          -0.7663209956048409,
          0.3946572185611099,
          1.101027134677378,
          2.2913939671179193,
          -0.3474317575058246
         ],
         "xaxis": "x10",
         "y": [
          0.24580720293270789,
          -0.16791258338056927,
          -0.3551479634347549,
          -1.3233085331930585,
          0.7097797908246052,
          0.31040033879971257,
          -1.6718985315521668,
          0.4558342746292871,
          0.6514803065472838,
          0.08110556967608246,
          1.0260850390526737,
          1.1020529487741573,
          -0.07079645264341279,
          0.6993218505747866,
          0.8257781490301271,
          0.3912486892400691,
          -0.42834637536562875,
          1.3110906708710228,
          -0.013808944615887742,
          0.8673460817320041,
          -0.0676721955089728,
          1.1595969389127676,
          -2.659098634214604,
          1.1872328751495338,
          0.6325408476490932,
          -1.1258226640300024,
          -0.20268519369486213,
          1.1236106734617177,
          -0.6080856244352839,
          -1.2177214608605689,
          1.0276095480784375,
          0.0927468330768223,
          0.1602110795401743,
          -0.5042954689831142,
          -0.47728877956374566,
          0.26523305088620625,
          0.03614873092792522,
          0.8437171837795762,
          -1.8962433054646162,
          0.6561221119045462,
          -0.3263394816877104,
          -0.13154920221109132,
          -0.3139253977492223,
          0.3369570346411211,
          1.3355867881817336,
          -0.38525189743613936,
          0.6488424993995671,
          0.42343375066531047,
          1.0584993329798738,
          -0.6868277034680705,
          0.9059310468128209,
          -0.3461808821898123,
          -0.9161137066046858,
          -1.5032945636101964,
          -1.0043357428623314,
          0.4056862397127461,
          0.5268023994911366,
          -1.7256377069714444,
          -0.4783352503905883,
          -0.6556621746351436,
          -1.8844086686528698,
          1.1798865505687492,
          -1.3421246750205809,
          -0.23560665404353476,
          0.21369864561464302,
          -0.24759708685697168,
          -1.3016092767861585,
          0.2414783341289692,
          0.723525851278836,
          0.26409779961735136,
          0.6823036091120643,
          0.16593570160663768,
          -0.06173788566606027,
          1.7928139857018244,
          -0.6882336938667062,
          -1.7929803680573533,
          1.877860173947971,
          -0.6234395949275936,
          -0.9671511628687711,
          -0.4495149890052343,
          -1.7239661938374629,
          0.11603006916036149,
          -0.19123405951466851,
          -0.3084811571021436,
          -0.9445287301697122,
          -0.6760778171840082,
          -0.3220953942413495,
          0.31451053248896116,
          0.5169515130689945,
          -0.041813606015498904,
          1.2800522964060397,
          -0.2643507897701546,
          0.851981930005477,
          1.2268302192809262,
          -0.9013530736648057,
          -0.6253983724844503,
          -0.5291521293215709,
          0.10300817655146013,
          1.106842872035679,
          -0.14627641238432817
         ],
         "yaxis": "y10"
        },
        {
         "histfunc": "count",
         "histnorm": "",
         "marker": {
          "color": "rgba(50, 171, 96, 1.0)",
          "line": {
           "color": "#4D5663",
           "width": 1.3
          }
         },
         "name": "C",
         "nbinsx": 10,
         "opacity": 0.8,
         "orientation": "v",
         "type": "histogram",
         "x": [
          0.24580720293270789,
          -0.16791258338056927,
          -0.3551479634347549,
          -1.3233085331930585,
          0.7097797908246052,
          0.31040033879971257,
          -1.6718985315521668,
          0.4558342746292871,
          0.6514803065472838,
          0.08110556967608246,
          1.0260850390526737,
          1.1020529487741573,
          -0.07079645264341279,
          0.6993218505747866,
          0.8257781490301271,
          0.3912486892400691,
          -0.42834637536562875,
          1.3110906708710228,
          -0.013808944615887742,
          0.8673460817320041,
          -0.0676721955089728,
          1.1595969389127676,
          -2.659098634214604,
          1.1872328751495338,
          0.6325408476490932,
          -1.1258226640300024,
          -0.20268519369486213,
          1.1236106734617177,
          -0.6080856244352839,
          -1.2177214608605689,
          1.0276095480784375,
          0.0927468330768223,
          0.1602110795401743,
          -0.5042954689831142,
          -0.47728877956374566,
          0.26523305088620625,
          0.03614873092792522,
          0.8437171837795762,
          -1.8962433054646162,
          0.6561221119045462,
          -0.3263394816877104,
          -0.13154920221109132,
          -0.3139253977492223,
          0.3369570346411211,
          1.3355867881817336,
          -0.38525189743613936,
          0.6488424993995671,
          0.42343375066531047,
          1.0584993329798738,
          -0.6868277034680705,
          0.9059310468128209,
          -0.3461808821898123,
          -0.9161137066046858,
          -1.5032945636101964,
          -1.0043357428623314,
          0.4056862397127461,
          0.5268023994911366,
          -1.7256377069714444,
          -0.4783352503905883,
          -0.6556621746351436,
          -1.8844086686528698,
          1.1798865505687492,
          -1.3421246750205809,
          -0.23560665404353476,
          0.21369864561464302,
          -0.24759708685697168,
          -1.3016092767861585,
          0.2414783341289692,
          0.723525851278836,
          0.26409779961735136,
          0.6823036091120643,
          0.16593570160663768,
          -0.06173788566606027,
          1.7928139857018244,
          -0.6882336938667062,
          -1.7929803680573533,
          1.877860173947971,
          -0.6234395949275936,
          -0.9671511628687711,
          -0.4495149890052343,
          -1.7239661938374629,
          0.11603006916036149,
          -0.19123405951466851,
          -0.3084811571021436,
          -0.9445287301697122,
          -0.6760778171840082,
          -0.3220953942413495,
          0.31451053248896116,
          0.5169515130689945,
          -0.041813606015498904,
          1.2800522964060397,
          -0.2643507897701546,
          0.851981930005477,
          1.2268302192809262,
          -0.9013530736648057,
          -0.6253983724844503,
          -0.5291521293215709,
          0.10300817655146013,
          1.106842872035679,
          -0.14627641238432817
         ],
         "xaxis": "x11",
         "yaxis": "y11"
        },
        {
         "line": {
          "color": "rgba(128, 128, 128, 1.0)",
          "dash": "solid",
          "shape": "linear",
          "width": 1.3
         },
         "marker": {
          "size": 2,
          "symbol": "circle"
         },
         "mode": "markers",
         "name": "C",
         "text": "",
         "type": "scatter",
         "x": [
          -2.152868158232687,
          0.22147600083290267,
          2.0258967250186357,
          -0.8559096402277154,
          -1.4493963564928796,
          -0.7237887927557322,
          0.04994827515307033,
          0.23762938713516832,
          0.20917147145454562,
          0.5000432132657668,
          2.111735139961974,
          -0.18341074673914798,
          0.6268962272953703,
          2.3964200652668124,
          1.7259510244487086,
          -2.063163575013612,
          0.1379776183602663,
          -1.354467172609517,
          -0.241329364537885,
          -2.595775805420712,
          -0.5772752585875544,
          1.3069010034627697,
          -0.8909400121837199,
          -0.8434653651679853,
          1.7825504414506432,
          0.40306466107041566,
          -0.2002688213178314,
          -1.3538177425957982,
          -1.049201725002004,
          1.5211526564385496,
          -1.0806741783898786,
          2.1647496672772775,
          -1.402318347071575,
          0.47468852593249256,
          -1.5015980645274436,
          -0.41275995971813023,
          1.3883375285529573,
          -0.41045570940836346,
          1.5148074330667176,
          0.7813872002039445,
          -1.207026042101101,
          -0.6355157242831765,
          -1.7797644460245459,
          0.5870587013270901,
          -0.6911624265195444,
          1.0213851060342434,
          -0.9957843325465735,
          0.2378174771494934,
          0.39209669237121597,
          0.33877140830953195,
          -0.2742291462613146,
          -0.17081298756578328,
          0.18279547264917811,
          1.2895860229045453,
          0.7445830023862078,
          0.7067083876243946,
          -0.29961938111665587,
          0.1101668027363602,
          -1.4656918987730918,
          0.34232983864472594,
          -0.40070219794675555,
          0.4363246196936259,
          -0.6495722058337039,
          0.33217657663609085,
          -1.113834833270538,
          -0.2956601719820081,
          -0.12207866184611177,
          -0.5655743720402427,
          0.9122001626732609,
          -0.6171760567819509,
          -0.41140049703854514,
          0.18637925528471375,
          0.8359844659765966,
          0.9680438704685685,
          -0.701446077454482,
          1.0625053169816423,
          0.3454732043018869,
          -0.5569914470776471,
          -0.44582630975238624,
          2.8319313931223347,
          2.2801627286450485,
          1.209993253282053,
          0.09504486434510401,
          1.0275099629228186,
          -1.3478968678350511,
          1.263349306325821,
          0.6446994450351753,
          0.3372422081383686,
          -0.37663911470308814,
          -0.41128906290655165,
          0.2740661757383904,
          0.8307809509608569,
          0.09974064493153914,
          -0.4432047085326059,
          -0.03856477255306065,
          -0.12560136077367148,
          -0.5913960415329688,
          -0.19313389525112634,
          -0.42674109057431664,
          -0.12805618860776607
         ],
         "xaxis": "x12",
         "y": [
          0.24580720293270789,
          -0.16791258338056927,
          -0.3551479634347549,
          -1.3233085331930585,
          0.7097797908246052,
          0.31040033879971257,
          -1.6718985315521668,
          0.4558342746292871,
          0.6514803065472838,
          0.08110556967608246,
          1.0260850390526737,
          1.1020529487741573,
          -0.07079645264341279,
          0.6993218505747866,
          0.8257781490301271,
          0.3912486892400691,
          -0.42834637536562875,
          1.3110906708710228,
          -0.013808944615887742,
          0.8673460817320041,
          -0.0676721955089728,
          1.1595969389127676,
          -2.659098634214604,
          1.1872328751495338,
          0.6325408476490932,
          -1.1258226640300024,
          -0.20268519369486213,
          1.1236106734617177,
          -0.6080856244352839,
          -1.2177214608605689,
          1.0276095480784375,
          0.0927468330768223,
          0.1602110795401743,
          -0.5042954689831142,
          -0.47728877956374566,
          0.26523305088620625,
          0.03614873092792522,
          0.8437171837795762,
          -1.8962433054646162,
          0.6561221119045462,
          -0.3263394816877104,
          -0.13154920221109132,
          -0.3139253977492223,
          0.3369570346411211,
          1.3355867881817336,
          -0.38525189743613936,
          0.6488424993995671,
          0.42343375066531047,
          1.0584993329798738,
          -0.6868277034680705,
          0.9059310468128209,
          -0.3461808821898123,
          -0.9161137066046858,
          -1.5032945636101964,
          -1.0043357428623314,
          0.4056862397127461,
          0.5268023994911366,
          -1.7256377069714444,
          -0.4783352503905883,
          -0.6556621746351436,
          -1.8844086686528698,
          1.1798865505687492,
          -1.3421246750205809,
          -0.23560665404353476,
          0.21369864561464302,
          -0.24759708685697168,
          -1.3016092767861585,
          0.2414783341289692,
          0.723525851278836,
          0.26409779961735136,
          0.6823036091120643,
          0.16593570160663768,
          -0.06173788566606027,
          1.7928139857018244,
          -0.6882336938667062,
          -1.7929803680573533,
          1.877860173947971,
          -0.6234395949275936,
          -0.9671511628687711,
          -0.4495149890052343,
          -1.7239661938374629,
          0.11603006916036149,
          -0.19123405951466851,
          -0.3084811571021436,
          -0.9445287301697122,
          -0.6760778171840082,
          -0.3220953942413495,
          0.31451053248896116,
          0.5169515130689945,
          -0.041813606015498904,
          1.2800522964060397,
          -0.2643507897701546,
          0.851981930005477,
          1.2268302192809262,
          -0.9013530736648057,
          -0.6253983724844503,
          -0.5291521293215709,
          0.10300817655146013,
          1.106842872035679,
          -0.14627641238432817
         ],
         "yaxis": "y12"
        },
        {
         "line": {
          "color": "rgba(128, 128, 128, 1.0)",
          "dash": "solid",
          "shape": "linear",
          "width": 1.3
         },
         "marker": {
          "size": 2,
          "symbol": "circle"
         },
         "mode": "markers",
         "name": "D",
         "text": "",
         "type": "scatter",
         "x": [
          0.7655458203462077,
          -0.12808922353551602,
          1.4513993957179177,
          -0.19122091052993234,
          1.1030723744375364,
          1.033532144394203,
          0.3841969617822889,
          0.6496604352494966,
          0.513285627209426,
          0.11476079502280276,
          -0.2591015559704645,
          -1.776879311107862,
          -1.34794116248284,
          0.7082005182592324,
          -0.07069421173021438,
          0.2969240010622188,
          0.3536557662414352,
          0.47251436715512296,
          1.1563489173302384,
          -1.1577309588480218,
          -0.8911183307244669,
          2.619839722470479,
          2.473037611797308,
          2.7479066271536197,
          -1.3832565327512583,
          0.42590028724574386,
          0.8266523606807861,
          0.4582137090455324,
          0.3669423654181648,
          -0.38559101708212323,
          0.7043030621427251,
          0.7977307659092078,
          0.5923822621043702,
          0.9225429891488932,
          2.0559542054906292,
          1.7485194011322966,
          -1.4178063337005729,
          0.3492884656078567,
          0.8946522460785905,
          1.560287626057767,
          -0.8322926593044682,
          1.2349418728588268,
          1.7875197554567475,
          0.08633619069120248,
          0.5314971207622426,
          -0.9436475384249055,
          -1.615751639616223,
          1.5499038599623058,
          -1.6173743554616682,
          0.006085323851007527,
          0.002795262409405392,
          0.3659633121859034,
          0.801851411757661,
          -0.5374217808986604,
          -0.12139982016197108,
          -0.7028554934220238,
          -0.8765908568443167,
          0.41346433697724727,
          1.4384119079610063,
          0.7600927797482195,
          -1.2787747786152739,
          0.5024311486559706,
          0.9750586541892643,
          0.5268072700021327,
          -0.42468859013658095,
          -1.025420774761301,
          -0.4266336127339284,
          0.48272659442294075,
          2.906398718665853,
          0.6880021525294603,
          -0.21480747949987763,
          -0.5686183980043807,
          -0.9131334243330468,
          1.6573368062052414,
          -1.7930944914691276,
          -0.9843674117413633,
          2.1543809516091437,
          0.4021428551289348,
          -1.2844749093286496,
          0.014934416169660418,
          0.15129520541311742,
          -0.30558213224536673,
          1.3253078666447853,
          -0.10688727093219857,
          1.0461711436912986,
          -1.240988782651725,
          0.7505133678415967,
          1.0924753055237828,
          -0.4217096676086004,
          -1.0886553141159043,
          0.465188624187154,
          0.27046011280690474,
          -1.0788735585175873,
          0.7616297320826227,
          1.83194824101488,
          -0.14619950548323124,
          0.9567672741523233,
          -0.6461097831091536,
          1.1273945026599368,
          1.8805504460884466
         ],
         "xaxis": "x13",
         "y": [
          -2.152868158232687,
          0.22147600083290267,
          2.0258967250186357,
          -0.8559096402277154,
          -1.4493963564928796,
          -0.7237887927557322,
          0.04994827515307033,
          0.23762938713516832,
          0.20917147145454562,
          0.5000432132657668,
          2.111735139961974,
          -0.18341074673914798,
          0.6268962272953703,
          2.3964200652668124,
          1.7259510244487086,
          -2.063163575013612,
          0.1379776183602663,
          -1.354467172609517,
          -0.241329364537885,
          -2.595775805420712,
          -0.5772752585875544,
          1.3069010034627697,
          -0.8909400121837199,
          -0.8434653651679853,
          1.7825504414506432,
          0.40306466107041566,
          -0.2002688213178314,
          -1.3538177425957982,
          -1.049201725002004,
          1.5211526564385496,
          -1.0806741783898786,
          2.1647496672772775,
          -1.402318347071575,
          0.47468852593249256,
          -1.5015980645274436,
          -0.41275995971813023,
          1.3883375285529573,
          -0.41045570940836346,
          1.5148074330667176,
          0.7813872002039445,
          -1.207026042101101,
          -0.6355157242831765,
          -1.7797644460245459,
          0.5870587013270901,
          -0.6911624265195444,
          1.0213851060342434,
          -0.9957843325465735,
          0.2378174771494934,
          0.39209669237121597,
          0.33877140830953195,
          -0.2742291462613146,
          -0.17081298756578328,
          0.18279547264917811,
          1.2895860229045453,
          0.7445830023862078,
          0.7067083876243946,
          -0.29961938111665587,
          0.1101668027363602,
          -1.4656918987730918,
          0.34232983864472594,
          -0.40070219794675555,
          0.4363246196936259,
          -0.6495722058337039,
          0.33217657663609085,
          -1.113834833270538,
          -0.2956601719820081,
          -0.12207866184611177,
          -0.5655743720402427,
          0.9122001626732609,
          -0.6171760567819509,
          -0.41140049703854514,
          0.18637925528471375,
          0.8359844659765966,
          0.9680438704685685,
          -0.701446077454482,
          1.0625053169816423,
          0.3454732043018869,
          -0.5569914470776471,
          -0.44582630975238624,
          2.8319313931223347,
          2.2801627286450485,
          1.209993253282053,
          0.09504486434510401,
          1.0275099629228186,
          -1.3478968678350511,
          1.263349306325821,
          0.6446994450351753,
          0.3372422081383686,
          -0.37663911470308814,
          -0.41128906290655165,
          0.2740661757383904,
          0.8307809509608569,
          0.09974064493153914,
          -0.4432047085326059,
          -0.03856477255306065,
          -0.12560136077367148,
          -0.5913960415329688,
          -0.19313389525112634,
          -0.42674109057431664,
          -0.12805618860776607
         ],
         "yaxis": "y13"
        },
        {
         "line": {
          "color": "rgba(128, 128, 128, 1.0)",
          "dash": "solid",
          "shape": "linear",
          "width": 1.3
         },
         "marker": {
          "size": 2,
          "symbol": "circle"
         },
         "mode": "markers",
         "name": "D",
         "text": "",
         "type": "scatter",
         "x": [
          0.6017466873503788,
          -0.14978400163424924,
          -1.0707104177133535,
          -1.037546034807011,
          0.3607916199572585,
          -0.06471865024747107,
          -0.7580300458300937,
          1.978188770648286,
          -0.571180926800931,
          -0.8350579784972542,
          -0.8760751468654233,
          -0.2416208405534744,
          -0.11940406390607054,
          0.3910497338436867,
          -0.12441061910314734,
          -0.17008880601047333,
          1.2424043471474324,
          0.18306105280621934,
          0.5025398751714042,
          -2.733138018312086,
          -0.4578889804156048,
          -0.8968252858196749,
          1.2192999848172787,
          1.3853636122951218,
          0.06451901011941573,
          -0.8042140226810693,
          -0.4799095259944002,
          -0.7228634578237165,
          0.23392212692192293,
          -0.5253559983110266,
          -0.005551655753853849,
          -1.581190796892674,
          -0.100944996595511,
          -0.36032418400728666,
          0.5683775057321915,
          -0.8875035255092706,
          0.920332767011539,
          -0.8378529508094908,
          2.207100912475008,
          -0.038956452336035875,
          1.7265669308226161,
          -0.21127645786169866,
          -0.03648413775657497,
          0.6477042890699376,
          1.717122130117437,
          0.7670217124737083,
          0.4011841768438215,
          -0.5771860490915778,
          -1.2952904699021186,
          -0.5614861119771376,
          0.3552524746507848,
          0.345368819654225,
          -0.486542716473194,
          -0.46989855997673624,
          0.47018822027319174,
          -0.5556740606086376,
          -0.5508351364377948,
          -0.6689676565419325,
          -0.12457825258275382,
          1.0877758572906697,
          -0.014239704339121232,
          -1.6608604457359628,
          1.4821620161097675,
          1.1008139823858007,
          -0.23902094669399154,
          -0.6659886541239679,
          0.5328878624002946,
          0.339322926441731,
          1.5115792223663922,
          0.8165994139801861,
          0.6276223908531292,
          -0.3173257506316113,
          1.1302860331046023,
          -1.337122276668125,
          -1.7483710170291413,
          0.8883164654916883,
          -0.23718451528176032,
          0.136395655094501,
          -0.16601627031277902,
          0.5004192659250103,
          -0.21116110306728084,
          1.2744353062002893,
          -0.08179344137315678,
          -0.887429149024921,
          0.17680435085489035,
          0.9006247162148816,
          0.3294130449437715,
          -1.4774903881761516,
          0.7656241967464709,
          0.47361979358312306,
          0.5405391526466155,
          0.39341633131077053,
          -2.4023312521643514,
          -0.6074321625556381,
          1.4120134927426395,
          -0.7663209956048409,
          0.3946572185611099,
          1.101027134677378,
          2.2913939671179193,
          -0.3474317575058246
         ],
         "xaxis": "x14",
         "y": [
          -2.152868158232687,
          0.22147600083290267,
          2.0258967250186357,
          -0.8559096402277154,
          -1.4493963564928796,
          -0.7237887927557322,
          0.04994827515307033,
          0.23762938713516832,
          0.20917147145454562,
          0.5000432132657668,
          2.111735139961974,
          -0.18341074673914798,
          0.6268962272953703,
          2.3964200652668124,
          1.7259510244487086,
          -2.063163575013612,
          0.1379776183602663,
          -1.354467172609517,
          -0.241329364537885,
          -2.595775805420712,
          -0.5772752585875544,
          1.3069010034627697,
          -0.8909400121837199,
          -0.8434653651679853,
          1.7825504414506432,
          0.40306466107041566,
          -0.2002688213178314,
          -1.3538177425957982,
          -1.049201725002004,
          1.5211526564385496,
          -1.0806741783898786,
          2.1647496672772775,
          -1.402318347071575,
          0.47468852593249256,
          -1.5015980645274436,
          -0.41275995971813023,
          1.3883375285529573,
          -0.41045570940836346,
          1.5148074330667176,
          0.7813872002039445,
          -1.207026042101101,
          -0.6355157242831765,
          -1.7797644460245459,
          0.5870587013270901,
          -0.6911624265195444,
          1.0213851060342434,
          -0.9957843325465735,
          0.2378174771494934,
          0.39209669237121597,
          0.33877140830953195,
          -0.2742291462613146,
          -0.17081298756578328,
          0.18279547264917811,
          1.2895860229045453,
          0.7445830023862078,
          0.7067083876243946,
          -0.29961938111665587,
          0.1101668027363602,
          -1.4656918987730918,
          0.34232983864472594,
          -0.40070219794675555,
          0.4363246196936259,
          -0.6495722058337039,
          0.33217657663609085,
          -1.113834833270538,
          -0.2956601719820081,
          -0.12207866184611177,
          -0.5655743720402427,
          0.9122001626732609,
          -0.6171760567819509,
          -0.41140049703854514,
          0.18637925528471375,
          0.8359844659765966,
          0.9680438704685685,
          -0.701446077454482,
          1.0625053169816423,
          0.3454732043018869,
          -0.5569914470776471,
          -0.44582630975238624,
          2.8319313931223347,
          2.2801627286450485,
          1.209993253282053,
          0.09504486434510401,
          1.0275099629228186,
          -1.3478968678350511,
          1.263349306325821,
          0.6446994450351753,
          0.3372422081383686,
          -0.37663911470308814,
          -0.41128906290655165,
          0.2740661757383904,
          0.8307809509608569,
          0.09974064493153914,
          -0.4432047085326059,
          -0.03856477255306065,
          -0.12560136077367148,
          -0.5913960415329688,
          -0.19313389525112634,
          -0.42674109057431664,
          -0.12805618860776607
         ],
         "yaxis": "y14"
        },
        {
         "line": {
          "color": "rgba(128, 128, 128, 1.0)",
          "dash": "solid",
          "shape": "linear",
          "width": 1.3
         },
         "marker": {
          "size": 2,
          "symbol": "circle"
         },
         "mode": "markers",
         "name": "D",
         "text": "",
         "type": "scatter",
         "x": [
          0.24580720293270789,
          -0.16791258338056927,
          -0.3551479634347549,
          -1.3233085331930585,
          0.7097797908246052,
          0.31040033879971257,
          -1.6718985315521668,
          0.4558342746292871,
          0.6514803065472838,
          0.08110556967608246,
          1.0260850390526737,
          1.1020529487741573,
          -0.07079645264341279,
          0.6993218505747866,
          0.8257781490301271,
          0.3912486892400691,
          -0.42834637536562875,
          1.3110906708710228,
          -0.013808944615887742,
          0.8673460817320041,
          -0.0676721955089728,
          1.1595969389127676,
          -2.659098634214604,
          1.1872328751495338,
          0.6325408476490932,
          -1.1258226640300024,
          -0.20268519369486213,
          1.1236106734617177,
          -0.6080856244352839,
          -1.2177214608605689,
          1.0276095480784375,
          0.0927468330768223,
          0.1602110795401743,
          -0.5042954689831142,
          -0.47728877956374566,
          0.26523305088620625,
          0.03614873092792522,
          0.8437171837795762,
          -1.8962433054646162,
          0.6561221119045462,
          -0.3263394816877104,
          -0.13154920221109132,
          -0.3139253977492223,
          0.3369570346411211,
          1.3355867881817336,
          -0.38525189743613936,
          0.6488424993995671,
          0.42343375066531047,
          1.0584993329798738,
          -0.6868277034680705,
          0.9059310468128209,
          -0.3461808821898123,
          -0.9161137066046858,
          -1.5032945636101964,
          -1.0043357428623314,
          0.4056862397127461,
          0.5268023994911366,
          -1.7256377069714444,
          -0.4783352503905883,
          -0.6556621746351436,
          -1.8844086686528698,
          1.1798865505687492,
          -1.3421246750205809,
          -0.23560665404353476,
          0.21369864561464302,
          -0.24759708685697168,
          -1.3016092767861585,
          0.2414783341289692,
          0.723525851278836,
          0.26409779961735136,
          0.6823036091120643,
          0.16593570160663768,
          -0.06173788566606027,
          1.7928139857018244,
          -0.6882336938667062,
          -1.7929803680573533,
          1.877860173947971,
          -0.6234395949275936,
          -0.9671511628687711,
          -0.4495149890052343,
          -1.7239661938374629,
          0.11603006916036149,
          -0.19123405951466851,
          -0.3084811571021436,
          -0.9445287301697122,
          -0.6760778171840082,
          -0.3220953942413495,
          0.31451053248896116,
          0.5169515130689945,
          -0.041813606015498904,
          1.2800522964060397,
          -0.2643507897701546,
          0.851981930005477,
          1.2268302192809262,
          -0.9013530736648057,
          -0.6253983724844503,
          -0.5291521293215709,
          0.10300817655146013,
          1.106842872035679,
          -0.14627641238432817
         ],
         "xaxis": "x15",
         "y": [
          -2.152868158232687,
          0.22147600083290267,
          2.0258967250186357,
          -0.8559096402277154,
          -1.4493963564928796,
          -0.7237887927557322,
          0.04994827515307033,
          0.23762938713516832,
          0.20917147145454562,
          0.5000432132657668,
          2.111735139961974,
          -0.18341074673914798,
          0.6268962272953703,
          2.3964200652668124,
          1.7259510244487086,
          -2.063163575013612,
          0.1379776183602663,
          -1.354467172609517,
          -0.241329364537885,
          -2.595775805420712,
          -0.5772752585875544,
          1.3069010034627697,
          -0.8909400121837199,
          -0.8434653651679853,
          1.7825504414506432,
          0.40306466107041566,
          -0.2002688213178314,
          -1.3538177425957982,
          -1.049201725002004,
          1.5211526564385496,
          -1.0806741783898786,
          2.1647496672772775,
          -1.402318347071575,
          0.47468852593249256,
          -1.5015980645274436,
          -0.41275995971813023,
          1.3883375285529573,
          -0.41045570940836346,
          1.5148074330667176,
          0.7813872002039445,
          -1.207026042101101,
          -0.6355157242831765,
          -1.7797644460245459,
          0.5870587013270901,
          -0.6911624265195444,
          1.0213851060342434,
          -0.9957843325465735,
          0.2378174771494934,
          0.39209669237121597,
          0.33877140830953195,
          -0.2742291462613146,
          -0.17081298756578328,
          0.18279547264917811,
          1.2895860229045453,
          0.7445830023862078,
          0.7067083876243946,
          -0.29961938111665587,
          0.1101668027363602,
          -1.4656918987730918,
          0.34232983864472594,
          -0.40070219794675555,
          0.4363246196936259,
          -0.6495722058337039,
          0.33217657663609085,
          -1.113834833270538,
          -0.2956601719820081,
          -0.12207866184611177,
          -0.5655743720402427,
          0.9122001626732609,
          -0.6171760567819509,
          -0.41140049703854514,
          0.18637925528471375,
          0.8359844659765966,
          0.9680438704685685,
          -0.701446077454482,
          1.0625053169816423,
          0.3454732043018869,
          -0.5569914470776471,
          -0.44582630975238624,
          2.8319313931223347,
          2.2801627286450485,
          1.209993253282053,
          0.09504486434510401,
          1.0275099629228186,
          -1.3478968678350511,
          1.263349306325821,
          0.6446994450351753,
          0.3372422081383686,
          -0.37663911470308814,
          -0.41128906290655165,
          0.2740661757383904,
          0.8307809509608569,
          0.09974064493153914,
          -0.4432047085326059,
          -0.03856477255306065,
          -0.12560136077367148,
          -0.5913960415329688,
          -0.19313389525112634,
          -0.42674109057431664,
          -0.12805618860776607
         ],
         "yaxis": "y15"
        },
        {
         "histfunc": "count",
         "histnorm": "",
         "marker": {
          "color": "rgba(128, 0, 128, 1.0)",
          "line": {
           "color": "#4D5663",
           "width": 1.3
          }
         },
         "name": "D",
         "nbinsx": 10,
         "opacity": 0.8,
         "orientation": "v",
         "type": "histogram",
         "x": [
          -2.152868158232687,
          0.22147600083290267,
          2.0258967250186357,
          -0.8559096402277154,
          -1.4493963564928796,
          -0.7237887927557322,
          0.04994827515307033,
          0.23762938713516832,
          0.20917147145454562,
          0.5000432132657668,
          2.111735139961974,
          -0.18341074673914798,
          0.6268962272953703,
          2.3964200652668124,
          1.7259510244487086,
          -2.063163575013612,
          0.1379776183602663,
          -1.354467172609517,
          -0.241329364537885,
          -2.595775805420712,
          -0.5772752585875544,
          1.3069010034627697,
          -0.8909400121837199,
          -0.8434653651679853,
          1.7825504414506432,
          0.40306466107041566,
          -0.2002688213178314,
          -1.3538177425957982,
          -1.049201725002004,
          1.5211526564385496,
          -1.0806741783898786,
          2.1647496672772775,
          -1.402318347071575,
          0.47468852593249256,
          -1.5015980645274436,
          -0.41275995971813023,
          1.3883375285529573,
          -0.41045570940836346,
          1.5148074330667176,
          0.7813872002039445,
          -1.207026042101101,
          -0.6355157242831765,
          -1.7797644460245459,
          0.5870587013270901,
          -0.6911624265195444,
          1.0213851060342434,
          -0.9957843325465735,
          0.2378174771494934,
          0.39209669237121597,
          0.33877140830953195,
          -0.2742291462613146,
          -0.17081298756578328,
          0.18279547264917811,
          1.2895860229045453,
          0.7445830023862078,
          0.7067083876243946,
          -0.29961938111665587,
          0.1101668027363602,
          -1.4656918987730918,
          0.34232983864472594,
          -0.40070219794675555,
          0.4363246196936259,
          -0.6495722058337039,
          0.33217657663609085,
          -1.113834833270538,
          -0.2956601719820081,
          -0.12207866184611177,
          -0.5655743720402427,
          0.9122001626732609,
          -0.6171760567819509,
          -0.41140049703854514,
          0.18637925528471375,
          0.8359844659765966,
          0.9680438704685685,
          -0.701446077454482,
          1.0625053169816423,
          0.3454732043018869,
          -0.5569914470776471,
          -0.44582630975238624,
          2.8319313931223347,
          2.2801627286450485,
          1.209993253282053,
          0.09504486434510401,
          1.0275099629228186,
          -1.3478968678350511,
          1.263349306325821,
          0.6446994450351753,
          0.3372422081383686,
          -0.37663911470308814,
          -0.41128906290655165,
          0.2740661757383904,
          0.8307809509608569,
          0.09974064493153914,
          -0.4432047085326059,
          -0.03856477255306065,
          -0.12560136077367148,
          -0.5913960415329688,
          -0.19313389525112634,
          -0.42674109057431664,
          -0.12805618860776607
         ],
         "xaxis": "x16",
         "yaxis": "y16"
        }
       ],
       "layout": {
        "bargap": 0.02,
        "legend": {
         "bgcolor": "#F5F6F9",
         "font": {
          "color": "#4D5663"
         }
        },
        "paper_bgcolor": "#F5F6F9",
        "plot_bgcolor": "#F5F6F9",
        "showlegend": false,
        "template": {
         "data": {
          "bar": [
           {
            "error_x": {
             "color": "#2a3f5f"
            },
            "error_y": {
             "color": "#2a3f5f"
            },
            "marker": {
             "line": {
              "color": "#E5ECF6",
              "width": 0.5
             },
             "pattern": {
              "fillmode": "overlay",
              "size": 10,
              "solidity": 0.2
             }
            },
            "type": "bar"
           }
          ],
          "barpolar": [
           {
            "marker": {
             "line": {
              "color": "#E5ECF6",
              "width": 0.5
             },
             "pattern": {
              "fillmode": "overlay",
              "size": 10,
              "solidity": 0.2
             }
            },
            "type": "barpolar"
           }
          ],
          "carpet": [
           {
            "aaxis": {
             "endlinecolor": "#2a3f5f",
             "gridcolor": "white",
             "linecolor": "white",
             "minorgridcolor": "white",
             "startlinecolor": "#2a3f5f"
            },
            "baxis": {
             "endlinecolor": "#2a3f5f",
             "gridcolor": "white",
             "linecolor": "white",
             "minorgridcolor": "white",
             "startlinecolor": "#2a3f5f"
            },
            "type": "carpet"
           }
          ],
          "choropleth": [
           {
            "colorbar": {
             "outlinewidth": 0,
             "ticks": ""
            },
            "type": "choropleth"
           }
          ],
          "contour": [
           {
            "colorbar": {
             "outlinewidth": 0,
             "ticks": ""
            },
            "colorscale": [
             [
              0,
              "#0d0887"
             ],
             [
              0.1111111111111111,
              "#46039f"
             ],
             [
              0.2222222222222222,
              "#7201a8"
             ],
             [
              0.3333333333333333,
              "#9c179e"
             ],
             [
              0.4444444444444444,
              "#bd3786"
             ],
             [
              0.5555555555555556,
              "#d8576b"
             ],
             [
              0.6666666666666666,
              "#ed7953"
             ],
             [
              0.7777777777777778,
              "#fb9f3a"
             ],
             [
              0.8888888888888888,
              "#fdca26"
             ],
             [
              1,
              "#f0f921"
             ]
            ],
            "type": "contour"
           }
          ],
          "contourcarpet": [
           {
            "colorbar": {
             "outlinewidth": 0,
             "ticks": ""
            },
            "type": "contourcarpet"
           }
          ],
          "heatmap": [
           {
            "colorbar": {
             "outlinewidth": 0,
             "ticks": ""
            },
            "colorscale": [
             [
              0,
              "#0d0887"
             ],
             [
              0.1111111111111111,
              "#46039f"
             ],
             [
              0.2222222222222222,
              "#7201a8"
             ],
             [
              0.3333333333333333,
              "#9c179e"
             ],
             [
              0.4444444444444444,
              "#bd3786"
             ],
             [
              0.5555555555555556,
              "#d8576b"
             ],
             [
              0.6666666666666666,
              "#ed7953"
             ],
             [
              0.7777777777777778,
              "#fb9f3a"
             ],
             [
              0.8888888888888888,
              "#fdca26"
             ],
             [
              1,
              "#f0f921"
             ]
            ],
            "type": "heatmap"
           }
          ],
          "heatmapgl": [
           {
            "colorbar": {
             "outlinewidth": 0,
             "ticks": ""
            },
            "colorscale": [
             [
              0,
              "#0d0887"
             ],
             [
              0.1111111111111111,
              "#46039f"
             ],
             [
              0.2222222222222222,
              "#7201a8"
             ],
             [
              0.3333333333333333,
              "#9c179e"
             ],
             [
              0.4444444444444444,
              "#bd3786"
             ],
             [
              0.5555555555555556,
              "#d8576b"
             ],
             [
              0.6666666666666666,
              "#ed7953"
             ],
             [
              0.7777777777777778,
              "#fb9f3a"
             ],
             [
              0.8888888888888888,
              "#fdca26"
             ],
             [
              1,
              "#f0f921"
             ]
            ],
            "type": "heatmapgl"
           }
          ],
          "histogram": [
           {
            "marker": {
             "pattern": {
              "fillmode": "overlay",
              "size": 10,
              "solidity": 0.2
             }
            },
            "type": "histogram"
           }
          ],
          "histogram2d": [
           {
            "colorbar": {
             "outlinewidth": 0,
             "ticks": ""
            },
            "colorscale": [
             [
              0,
              "#0d0887"
             ],
             [
              0.1111111111111111,
              "#46039f"
             ],
             [
              0.2222222222222222,
              "#7201a8"
             ],
             [
              0.3333333333333333,
              "#9c179e"
             ],
             [
              0.4444444444444444,
              "#bd3786"
             ],
             [
              0.5555555555555556,
              "#d8576b"
             ],
             [
              0.6666666666666666,
              "#ed7953"
             ],
             [
              0.7777777777777778,
              "#fb9f3a"
             ],
             [
              0.8888888888888888,
              "#fdca26"
             ],
             [
              1,
              "#f0f921"
             ]
            ],
            "type": "histogram2d"
           }
          ],
          "histogram2dcontour": [
           {
            "colorbar": {
             "outlinewidth": 0,
             "ticks": ""
            },
            "colorscale": [
             [
              0,
              "#0d0887"
             ],
             [
              0.1111111111111111,
              "#46039f"
             ],
             [
              0.2222222222222222,
              "#7201a8"
             ],
             [
              0.3333333333333333,
              "#9c179e"
             ],
             [
              0.4444444444444444,
              "#bd3786"
             ],
             [
              0.5555555555555556,
              "#d8576b"
             ],
             [
              0.6666666666666666,
              "#ed7953"
             ],
             [
              0.7777777777777778,
              "#fb9f3a"
             ],
             [
              0.8888888888888888,
              "#fdca26"
             ],
             [
              1,
              "#f0f921"
             ]
            ],
            "type": "histogram2dcontour"
           }
          ],
          "mesh3d": [
           {
            "colorbar": {
             "outlinewidth": 0,
             "ticks": ""
            },
            "type": "mesh3d"
           }
          ],
          "parcoords": [
           {
            "line": {
             "colorbar": {
              "outlinewidth": 0,
              "ticks": ""
             }
            },
            "type": "parcoords"
           }
          ],
          "pie": [
           {
            "automargin": true,
            "type": "pie"
           }
          ],
          "scatter": [
           {
            "fillpattern": {
             "fillmode": "overlay",
             "size": 10,
             "solidity": 0.2
            },
            "type": "scatter"
           }
          ],
          "scatter3d": [
           {
            "line": {
             "colorbar": {
              "outlinewidth": 0,
              "ticks": ""
             }
            },
            "marker": {
             "colorbar": {
              "outlinewidth": 0,
              "ticks": ""
             }
            },
            "type": "scatter3d"
           }
          ],
          "scattercarpet": [
           {
            "marker": {
             "colorbar": {
              "outlinewidth": 0,
              "ticks": ""
             }
            },
            "type": "scattercarpet"
           }
          ],
          "scattergeo": [
           {
            "marker": {
             "colorbar": {
              "outlinewidth": 0,
              "ticks": ""
             }
            },
            "type": "scattergeo"
           }
          ],
          "scattergl": [
           {
            "marker": {
             "colorbar": {
              "outlinewidth": 0,
              "ticks": ""
             }
            },
            "type": "scattergl"
           }
          ],
          "scattermapbox": [
           {
            "marker": {
             "colorbar": {
              "outlinewidth": 0,
              "ticks": ""
             }
            },
            "type": "scattermapbox"
           }
          ],
          "scatterpolar": [
           {
            "marker": {
             "colorbar": {
              "outlinewidth": 0,
              "ticks": ""
             }
            },
            "type": "scatterpolar"
           }
          ],
          "scatterpolargl": [
           {
            "marker": {
             "colorbar": {
              "outlinewidth": 0,
              "ticks": ""
             }
            },
            "type": "scatterpolargl"
           }
          ],
          "scatterternary": [
           {
            "marker": {
             "colorbar": {
              "outlinewidth": 0,
              "ticks": ""
             }
            },
            "type": "scatterternary"
           }
          ],
          "surface": [
           {
            "colorbar": {
             "outlinewidth": 0,
             "ticks": ""
            },
            "colorscale": [
             [
              0,
              "#0d0887"
             ],
             [
              0.1111111111111111,
              "#46039f"
             ],
             [
              0.2222222222222222,
              "#7201a8"
             ],
             [
              0.3333333333333333,
              "#9c179e"
             ],
             [
              0.4444444444444444,
              "#bd3786"
             ],
             [
              0.5555555555555556,
              "#d8576b"
             ],
             [
              0.6666666666666666,
              "#ed7953"
             ],
             [
              0.7777777777777778,
              "#fb9f3a"
             ],
             [
              0.8888888888888888,
              "#fdca26"
             ],
             [
              1,
              "#f0f921"
             ]
            ],
            "type": "surface"
           }
          ],
          "table": [
           {
            "cells": {
             "fill": {
              "color": "#EBF0F8"
             },
             "line": {
              "color": "white"
             }
            },
            "header": {
             "fill": {
              "color": "#C8D4E3"
             },
             "line": {
              "color": "white"
             }
            },
            "type": "table"
           }
          ]
         },
         "layout": {
          "annotationdefaults": {
           "arrowcolor": "#2a3f5f",
           "arrowhead": 0,
           "arrowwidth": 1
          },
          "autotypenumbers": "strict",
          "coloraxis": {
           "colorbar": {
            "outlinewidth": 0,
            "ticks": ""
           }
          },
          "colorscale": {
           "diverging": [
            [
             0,
             "#8e0152"
            ],
            [
             0.1,
             "#c51b7d"
            ],
            [
             0.2,
             "#de77ae"
            ],
            [
             0.3,
             "#f1b6da"
            ],
            [
             0.4,
             "#fde0ef"
            ],
            [
             0.5,
             "#f7f7f7"
            ],
            [
             0.6,
             "#e6f5d0"
            ],
            [
             0.7,
             "#b8e186"
            ],
            [
             0.8,
             "#7fbc41"
            ],
            [
             0.9,
             "#4d9221"
            ],
            [
             1,
             "#276419"
            ]
           ],
           "sequential": [
            [
             0,
             "#0d0887"
            ],
            [
             0.1111111111111111,
             "#46039f"
            ],
            [
             0.2222222222222222,
             "#7201a8"
            ],
            [
             0.3333333333333333,
             "#9c179e"
            ],
            [
             0.4444444444444444,
             "#bd3786"
            ],
            [
             0.5555555555555556,
             "#d8576b"
            ],
            [
             0.6666666666666666,
             "#ed7953"
            ],
            [
             0.7777777777777778,
             "#fb9f3a"
            ],
            [
             0.8888888888888888,
             "#fdca26"
            ],
            [
             1,
             "#f0f921"
            ]
           ],
           "sequentialminus": [
            [
             0,
             "#0d0887"
            ],
            [
             0.1111111111111111,
             "#46039f"
            ],
            [
             0.2222222222222222,
             "#7201a8"
            ],
            [
             0.3333333333333333,
             "#9c179e"
            ],
            [
             0.4444444444444444,
             "#bd3786"
            ],
            [
             0.5555555555555556,
             "#d8576b"
            ],
            [
             0.6666666666666666,
             "#ed7953"
            ],
            [
             0.7777777777777778,
             "#fb9f3a"
            ],
            [
             0.8888888888888888,
             "#fdca26"
            ],
            [
             1,
             "#f0f921"
            ]
           ]
          },
          "colorway": [
           "#636efa",
           "#EF553B",
           "#00cc96",
           "#ab63fa",
           "#FFA15A",
           "#19d3f3",
           "#FF6692",
           "#B6E880",
           "#FF97FF",
           "#FECB52"
          ],
          "font": {
           "color": "#2a3f5f"
          },
          "geo": {
           "bgcolor": "white",
           "lakecolor": "white",
           "landcolor": "#E5ECF6",
           "showlakes": true,
           "showland": true,
           "subunitcolor": "white"
          },
          "hoverlabel": {
           "align": "left"
          },
          "hovermode": "closest",
          "mapbox": {
           "style": "light"
          },
          "paper_bgcolor": "white",
          "plot_bgcolor": "#E5ECF6",
          "polar": {
           "angularaxis": {
            "gridcolor": "white",
            "linecolor": "white",
            "ticks": ""
           },
           "bgcolor": "#E5ECF6",
           "radialaxis": {
            "gridcolor": "white",
            "linecolor": "white",
            "ticks": ""
           }
          },
          "scene": {
           "xaxis": {
            "backgroundcolor": "#E5ECF6",
            "gridcolor": "white",
            "gridwidth": 2,
            "linecolor": "white",
            "showbackground": true,
            "ticks": "",
            "zerolinecolor": "white"
           },
           "yaxis": {
            "backgroundcolor": "#E5ECF6",
            "gridcolor": "white",
            "gridwidth": 2,
            "linecolor": "white",
            "showbackground": true,
            "ticks": "",
            "zerolinecolor": "white"
           },
           "zaxis": {
            "backgroundcolor": "#E5ECF6",
            "gridcolor": "white",
            "gridwidth": 2,
            "linecolor": "white",
            "showbackground": true,
            "ticks": "",
            "zerolinecolor": "white"
           }
          },
          "shapedefaults": {
           "line": {
            "color": "#2a3f5f"
           }
          },
          "ternary": {
           "aaxis": {
            "gridcolor": "white",
            "linecolor": "white",
            "ticks": ""
           },
           "baxis": {
            "gridcolor": "white",
            "linecolor": "white",
            "ticks": ""
           },
           "bgcolor": "#E5ECF6",
           "caxis": {
            "gridcolor": "white",
            "linecolor": "white",
            "ticks": ""
           }
          },
          "title": {
           "x": 0.05
          },
          "xaxis": {
           "automargin": true,
           "gridcolor": "white",
           "linecolor": "white",
           "ticks": "",
           "title": {
            "standoff": 15
           },
           "zerolinecolor": "white",
           "zerolinewidth": 2
          },
          "yaxis": {
           "automargin": true,
           "gridcolor": "white",
           "linecolor": "white",
           "ticks": "",
           "title": {
            "standoff": 15
           },
           "zerolinecolor": "white",
           "zerolinewidth": 2
          }
         }
        },
        "title": {
         "font": {
          "color": "#4D5663"
         }
        },
        "xaxis": {
         "anchor": "y",
         "domain": [
          0,
          0.2125
         ],
         "gridcolor": "#E1E5ED",
         "showgrid": false,
         "tickfont": {
          "color": "#4D5663"
         },
         "title": {
          "font": {
           "color": "#4D5663"
          },
          "text": ""
         },
         "zerolinecolor": "#E1E5ED"
        },
        "xaxis10": {
         "anchor": "y10",
         "domain": [
          0.2625,
          0.475
         ],
         "gridcolor": "#E1E5ED",
         "showgrid": false,
         "tickfont": {
          "color": "#4D5663"
         },
         "title": {
          "font": {
           "color": "#4D5663"
          },
          "text": ""
         },
         "zerolinecolor": "#E1E5ED"
        },
        "xaxis11": {
         "anchor": "y11",
         "domain": [
          0.525,
          0.7375
         ],
         "gridcolor": "#E1E5ED",
         "showgrid": false,
         "tickfont": {
          "color": "#4D5663"
         },
         "title": {
          "font": {
           "color": "#4D5663"
          },
          "text": ""
         },
         "zerolinecolor": "#E1E5ED"
        },
        "xaxis12": {
         "anchor": "y12",
         "domain": [
          0.7875,
          1
         ],
         "gridcolor": "#E1E5ED",
         "showgrid": false,
         "tickfont": {
          "color": "#4D5663"
         },
         "title": {
          "font": {
           "color": "#4D5663"
          },
          "text": ""
         },
         "zerolinecolor": "#E1E5ED"
        },
        "xaxis13": {
         "anchor": "y13",
         "domain": [
          0,
          0.2125
         ],
         "gridcolor": "#E1E5ED",
         "showgrid": false,
         "tickfont": {
          "color": "#4D5663"
         },
         "title": {
          "font": {
           "color": "#4D5663"
          },
          "text": ""
         },
         "zerolinecolor": "#E1E5ED"
        },
        "xaxis14": {
         "anchor": "y14",
         "domain": [
          0.2625,
          0.475
         ],
         "gridcolor": "#E1E5ED",
         "showgrid": false,
         "tickfont": {
          "color": "#4D5663"
         },
         "title": {
          "font": {
           "color": "#4D5663"
          },
          "text": ""
         },
         "zerolinecolor": "#E1E5ED"
        },
        "xaxis15": {
         "anchor": "y15",
         "domain": [
          0.525,
          0.7375
         ],
         "gridcolor": "#E1E5ED",
         "showgrid": false,
         "tickfont": {
          "color": "#4D5663"
         },
         "title": {
          "font": {
           "color": "#4D5663"
          },
          "text": ""
         },
         "zerolinecolor": "#E1E5ED"
        },
        "xaxis16": {
         "anchor": "y16",
         "domain": [
          0.7875,
          1
         ],
         "gridcolor": "#E1E5ED",
         "showgrid": false,
         "tickfont": {
          "color": "#4D5663"
         },
         "title": {
          "font": {
           "color": "#4D5663"
          },
          "text": ""
         },
         "zerolinecolor": "#E1E5ED"
        },
        "xaxis2": {
         "anchor": "y2",
         "domain": [
          0.2625,
          0.475
         ],
         "gridcolor": "#E1E5ED",
         "showgrid": false,
         "tickfont": {
          "color": "#4D5663"
         },
         "title": {
          "font": {
           "color": "#4D5663"
          },
          "text": ""
         },
         "zerolinecolor": "#E1E5ED"
        },
        "xaxis3": {
         "anchor": "y3",
         "domain": [
          0.525,
          0.7375
         ],
         "gridcolor": "#E1E5ED",
         "showgrid": false,
         "tickfont": {
          "color": "#4D5663"
         },
         "title": {
          "font": {
           "color": "#4D5663"
          },
          "text": ""
         },
         "zerolinecolor": "#E1E5ED"
        },
        "xaxis4": {
         "anchor": "y4",
         "domain": [
          0.7875,
          1
         ],
         "gridcolor": "#E1E5ED",
         "showgrid": false,
         "tickfont": {
          "color": "#4D5663"
         },
         "title": {
          "font": {
           "color": "#4D5663"
          },
          "text": ""
         },
         "zerolinecolor": "#E1E5ED"
        },
        "xaxis5": {
         "anchor": "y5",
         "domain": [
          0,
          0.2125
         ],
         "gridcolor": "#E1E5ED",
         "showgrid": false,
         "tickfont": {
          "color": "#4D5663"
         },
         "title": {
          "font": {
           "color": "#4D5663"
          },
          "text": ""
         },
         "zerolinecolor": "#E1E5ED"
        },
        "xaxis6": {
         "anchor": "y6",
         "domain": [
          0.2625,
          0.475
         ],
         "gridcolor": "#E1E5ED",
         "showgrid": false,
         "tickfont": {
          "color": "#4D5663"
         },
         "title": {
          "font": {
           "color": "#4D5663"
          },
          "text": ""
         },
         "zerolinecolor": "#E1E5ED"
        },
        "xaxis7": {
         "anchor": "y7",
         "domain": [
          0.525,
          0.7375
         ],
         "gridcolor": "#E1E5ED",
         "showgrid": false,
         "tickfont": {
          "color": "#4D5663"
         },
         "title": {
          "font": {
           "color": "#4D5663"
          },
          "text": ""
         },
         "zerolinecolor": "#E1E5ED"
        },
        "xaxis8": {
         "anchor": "y8",
         "domain": [
          0.7875,
          1
         ],
         "gridcolor": "#E1E5ED",
         "showgrid": false,
         "tickfont": {
          "color": "#4D5663"
         },
         "title": {
          "font": {
           "color": "#4D5663"
          },
          "text": ""
         },
         "zerolinecolor": "#E1E5ED"
        },
        "xaxis9": {
         "anchor": "y9",
         "domain": [
          0,
          0.2125
         ],
         "gridcolor": "#E1E5ED",
         "showgrid": false,
         "tickfont": {
          "color": "#4D5663"
         },
         "title": {
          "font": {
           "color": "#4D5663"
          },
          "text": ""
         },
         "zerolinecolor": "#E1E5ED"
        },
        "yaxis": {
         "anchor": "x",
         "domain": [
          0.8025,
          1
         ],
         "gridcolor": "#E1E5ED",
         "showgrid": false,
         "tickfont": {
          "color": "#4D5663"
         },
         "title": {
          "font": {
           "color": "#4D5663"
          },
          "text": ""
         },
         "zerolinecolor": "#E1E5ED"
        },
        "yaxis10": {
         "anchor": "x10",
         "domain": [
          0.2675,
          0.465
         ],
         "gridcolor": "#E1E5ED",
         "showgrid": false,
         "tickfont": {
          "color": "#4D5663"
         },
         "title": {
          "font": {
           "color": "#4D5663"
          },
          "text": ""
         },
         "zerolinecolor": "#E1E5ED"
        },
        "yaxis11": {
         "anchor": "x11",
         "domain": [
          0.2675,
          0.465
         ],
         "gridcolor": "#E1E5ED",
         "showgrid": false,
         "tickfont": {
          "color": "#4D5663"
         },
         "title": {
          "font": {
           "color": "#4D5663"
          },
          "text": ""
         },
         "zerolinecolor": "#E1E5ED"
        },
        "yaxis12": {
         "anchor": "x12",
         "domain": [
          0.2675,
          0.465
         ],
         "gridcolor": "#E1E5ED",
         "showgrid": false,
         "tickfont": {
          "color": "#4D5663"
         },
         "title": {
          "font": {
           "color": "#4D5663"
          },
          "text": ""
         },
         "zerolinecolor": "#E1E5ED"
        },
        "yaxis13": {
         "anchor": "x13",
         "domain": [
          0,
          0.1975
         ],
         "gridcolor": "#E1E5ED",
         "showgrid": false,
         "tickfont": {
          "color": "#4D5663"
         },
         "title": {
          "font": {
           "color": "#4D5663"
          },
          "text": ""
         },
         "zerolinecolor": "#E1E5ED"
        },
        "yaxis14": {
         "anchor": "x14",
         "domain": [
          0,
          0.1975
         ],
         "gridcolor": "#E1E5ED",
         "showgrid": false,
         "tickfont": {
          "color": "#4D5663"
         },
         "title": {
          "font": {
           "color": "#4D5663"
          },
          "text": ""
         },
         "zerolinecolor": "#E1E5ED"
        },
        "yaxis15": {
         "anchor": "x15",
         "domain": [
          0,
          0.1975
         ],
         "gridcolor": "#E1E5ED",
         "showgrid": false,
         "tickfont": {
          "color": "#4D5663"
         },
         "title": {
          "font": {
           "color": "#4D5663"
          },
          "text": ""
         },
         "zerolinecolor": "#E1E5ED"
        },
        "yaxis16": {
         "anchor": "x16",
         "domain": [
          0,
          0.1975
         ],
         "gridcolor": "#E1E5ED",
         "showgrid": false,
         "tickfont": {
          "color": "#4D5663"
         },
         "title": {
          "font": {
           "color": "#4D5663"
          },
          "text": ""
         },
         "zerolinecolor": "#E1E5ED"
        },
        "yaxis2": {
         "anchor": "x2",
         "domain": [
          0.8025,
          1
         ],
         "gridcolor": "#E1E5ED",
         "showgrid": false,
         "tickfont": {
          "color": "#4D5663"
         },
         "title": {
          "font": {
           "color": "#4D5663"
          },
          "text": ""
         },
         "zerolinecolor": "#E1E5ED"
        },
        "yaxis3": {
         "anchor": "x3",
         "domain": [
          0.8025,
          1
         ],
         "gridcolor": "#E1E5ED",
         "showgrid": false,
         "tickfont": {
          "color": "#4D5663"
         },
         "title": {
          "font": {
           "color": "#4D5663"
          },
          "text": ""
         },
         "zerolinecolor": "#E1E5ED"
        },
        "yaxis4": {
         "anchor": "x4",
         "domain": [
          0.8025,
          1
         ],
         "gridcolor": "#E1E5ED",
         "showgrid": false,
         "tickfont": {
          "color": "#4D5663"
         },
         "title": {
          "font": {
           "color": "#4D5663"
          },
          "text": ""
         },
         "zerolinecolor": "#E1E5ED"
        },
        "yaxis5": {
         "anchor": "x5",
         "domain": [
          0.535,
          0.7325
         ],
         "gridcolor": "#E1E5ED",
         "showgrid": false,
         "tickfont": {
          "color": "#4D5663"
         },
         "title": {
          "font": {
           "color": "#4D5663"
          },
          "text": ""
         },
         "zerolinecolor": "#E1E5ED"
        },
        "yaxis6": {
         "anchor": "x6",
         "domain": [
          0.535,
          0.7325
         ],
         "gridcolor": "#E1E5ED",
         "showgrid": false,
         "tickfont": {
          "color": "#4D5663"
         },
         "title": {
          "font": {
           "color": "#4D5663"
          },
          "text": ""
         },
         "zerolinecolor": "#E1E5ED"
        },
        "yaxis7": {
         "anchor": "x7",
         "domain": [
          0.535,
          0.7325
         ],
         "gridcolor": "#E1E5ED",
         "showgrid": false,
         "tickfont": {
          "color": "#4D5663"
         },
         "title": {
          "font": {
           "color": "#4D5663"
          },
          "text": ""
         },
         "zerolinecolor": "#E1E5ED"
        },
        "yaxis8": {
         "anchor": "x8",
         "domain": [
          0.535,
          0.7325
         ],
         "gridcolor": "#E1E5ED",
         "showgrid": false,
         "tickfont": {
          "color": "#4D5663"
         },
         "title": {
          "font": {
           "color": "#4D5663"
          },
          "text": ""
         },
         "zerolinecolor": "#E1E5ED"
        },
        "yaxis9": {
         "anchor": "x9",
         "domain": [
          0.2675,
          0.465
         ],
         "gridcolor": "#E1E5ED",
         "showgrid": false,
         "tickfont": {
          "color": "#4D5663"
         },
         "title": {
          "font": {
           "color": "#4D5663"
          },
          "text": ""
         },
         "zerolinecolor": "#E1E5ED"
        }
       }
      },
      "text/html": [
       "<div>                            <div id=\"829f22d9-844b-4c95-9ceb-30422b73bdc2\" class=\"plotly-graph-div\" style=\"height:525px; width:100%;\"></div>            <script type=\"text/javascript\">                require([\"plotly\"], function(Plotly) {                    window.PLOTLYENV=window.PLOTLYENV || {};\n",
       "                    window.PLOTLYENV.BASE_URL='https://plot.ly';                                    if (document.getElementById(\"829f22d9-844b-4c95-9ceb-30422b73bdc2\")) {                    Plotly.newPlot(                        \"829f22d9-844b-4c95-9ceb-30422b73bdc2\",                        [{\"histfunc\":\"count\",\"histnorm\":\"\",\"marker\":{\"color\":\"rgba(255, 153, 51, 1.0)\",\"line\":{\"color\":\"#4D5663\",\"width\":1.3}},\"name\":\"A\",\"nbinsx\":10,\"opacity\":0.8,\"orientation\":\"v\",\"x\":[0.7655458203462077,-0.12808922353551602,1.4513993957179177,-0.19122091052993234,1.1030723744375364,1.033532144394203,0.3841969617822889,0.6496604352494966,0.513285627209426,0.11476079502280276,-0.2591015559704645,-1.776879311107862,-1.34794116248284,0.7082005182592324,-0.07069421173021438,0.2969240010622188,0.3536557662414352,0.47251436715512296,1.1563489173302384,-1.1577309588480218,-0.8911183307244669,2.619839722470479,2.473037611797308,2.7479066271536197,-1.3832565327512583,0.42590028724574386,0.8266523606807861,0.4582137090455324,0.3669423654181648,-0.38559101708212323,0.7043030621427251,0.7977307659092078,0.5923822621043702,0.9225429891488932,2.0559542054906292,1.7485194011322966,-1.4178063337005729,0.3492884656078567,0.8946522460785905,1.560287626057767,-0.8322926593044682,1.2349418728588268,1.7875197554567475,0.08633619069120248,0.5314971207622426,-0.9436475384249055,-1.615751639616223,1.5499038599623058,-1.6173743554616682,0.006085323851007527,0.002795262409405392,0.3659633121859034,0.801851411757661,-0.5374217808986604,-0.12139982016197108,-0.7028554934220238,-0.8765908568443167,0.41346433697724727,1.4384119079610063,0.7600927797482195,-1.2787747786152739,0.5024311486559706,0.9750586541892643,0.5268072700021327,-0.42468859013658095,-1.025420774761301,-0.4266336127339284,0.48272659442294075,2.906398718665853,0.6880021525294603,-0.21480747949987763,-0.5686183980043807,-0.9131334243330468,1.6573368062052414,-1.7930944914691276,-0.9843674117413633,2.1543809516091437,0.4021428551289348,-1.2844749093286496,0.014934416169660418,0.15129520541311742,-0.30558213224536673,1.3253078666447853,-0.10688727093219857,1.0461711436912986,-1.240988782651725,0.7505133678415967,1.0924753055237828,-0.4217096676086004,-1.0886553141159043,0.465188624187154,0.27046011280690474,-1.0788735585175873,0.7616297320826227,1.83194824101488,-0.14619950548323124,0.9567672741523233,-0.6461097831091536,1.1273945026599368,1.8805504460884466],\"xaxis\":\"x\",\"yaxis\":\"y\",\"type\":\"histogram\"},{\"line\":{\"color\":\"rgba(128, 128, 128, 1.0)\",\"dash\":\"solid\",\"shape\":\"linear\",\"width\":1.3},\"marker\":{\"size\":2,\"symbol\":\"circle\"},\"mode\":\"markers\",\"name\":\"A\",\"text\":\"\",\"x\":[0.6017466873503788,-0.14978400163424924,-1.0707104177133535,-1.037546034807011,0.3607916199572585,-0.06471865024747107,-0.7580300458300937,1.978188770648286,-0.571180926800931,-0.8350579784972542,-0.8760751468654233,-0.2416208405534744,-0.11940406390607054,0.3910497338436867,-0.12441061910314734,-0.17008880601047333,1.2424043471474324,0.18306105280621934,0.5025398751714042,-2.733138018312086,-0.4578889804156048,-0.8968252858196749,1.2192999848172787,1.3853636122951218,0.06451901011941573,-0.8042140226810693,-0.4799095259944002,-0.7228634578237165,0.23392212692192293,-0.5253559983110266,-0.005551655753853849,-1.581190796892674,-0.100944996595511,-0.36032418400728666,0.5683775057321915,-0.8875035255092706,0.920332767011539,-0.8378529508094908,2.207100912475008,-0.038956452336035875,1.7265669308226161,-0.21127645786169866,-0.03648413775657497,0.6477042890699376,1.717122130117437,0.7670217124737083,0.4011841768438215,-0.5771860490915778,-1.2952904699021186,-0.5614861119771376,0.3552524746507848,0.345368819654225,-0.486542716473194,-0.46989855997673624,0.47018822027319174,-0.5556740606086376,-0.5508351364377948,-0.6689676565419325,-0.12457825258275382,1.0877758572906697,-0.014239704339121232,-1.6608604457359628,1.4821620161097675,1.1008139823858007,-0.23902094669399154,-0.6659886541239679,0.5328878624002946,0.339322926441731,1.5115792223663922,0.8165994139801861,0.6276223908531292,-0.3173257506316113,1.1302860331046023,-1.337122276668125,-1.7483710170291413,0.8883164654916883,-0.23718451528176032,0.136395655094501,-0.16601627031277902,0.5004192659250103,-0.21116110306728084,1.2744353062002893,-0.08179344137315678,-0.887429149024921,0.17680435085489035,0.9006247162148816,0.3294130449437715,-1.4774903881761516,0.7656241967464709,0.47361979358312306,0.5405391526466155,0.39341633131077053,-2.4023312521643514,-0.6074321625556381,1.4120134927426395,-0.7663209956048409,0.3946572185611099,1.101027134677378,2.2913939671179193,-0.3474317575058246],\"xaxis\":\"x2\",\"y\":[0.7655458203462077,-0.12808922353551602,1.4513993957179177,-0.19122091052993234,1.1030723744375364,1.033532144394203,0.3841969617822889,0.6496604352494966,0.513285627209426,0.11476079502280276,-0.2591015559704645,-1.776879311107862,-1.34794116248284,0.7082005182592324,-0.07069421173021438,0.2969240010622188,0.3536557662414352,0.47251436715512296,1.1563489173302384,-1.1577309588480218,-0.8911183307244669,2.619839722470479,2.473037611797308,2.7479066271536197,-1.3832565327512583,0.42590028724574386,0.8266523606807861,0.4582137090455324,0.3669423654181648,-0.38559101708212323,0.7043030621427251,0.7977307659092078,0.5923822621043702,0.9225429891488932,2.0559542054906292,1.7485194011322966,-1.4178063337005729,0.3492884656078567,0.8946522460785905,1.560287626057767,-0.8322926593044682,1.2349418728588268,1.7875197554567475,0.08633619069120248,0.5314971207622426,-0.9436475384249055,-1.615751639616223,1.5499038599623058,-1.6173743554616682,0.006085323851007527,0.002795262409405392,0.3659633121859034,0.801851411757661,-0.5374217808986604,-0.12139982016197108,-0.7028554934220238,-0.8765908568443167,0.41346433697724727,1.4384119079610063,0.7600927797482195,-1.2787747786152739,0.5024311486559706,0.9750586541892643,0.5268072700021327,-0.42468859013658095,-1.025420774761301,-0.4266336127339284,0.48272659442294075,2.906398718665853,0.6880021525294603,-0.21480747949987763,-0.5686183980043807,-0.9131334243330468,1.6573368062052414,-1.7930944914691276,-0.9843674117413633,2.1543809516091437,0.4021428551289348,-1.2844749093286496,0.014934416169660418,0.15129520541311742,-0.30558213224536673,1.3253078666447853,-0.10688727093219857,1.0461711436912986,-1.240988782651725,0.7505133678415967,1.0924753055237828,-0.4217096676086004,-1.0886553141159043,0.465188624187154,0.27046011280690474,-1.0788735585175873,0.7616297320826227,1.83194824101488,-0.14619950548323124,0.9567672741523233,-0.6461097831091536,1.1273945026599368,1.8805504460884466],\"yaxis\":\"y2\",\"type\":\"scatter\"},{\"line\":{\"color\":\"rgba(128, 128, 128, 1.0)\",\"dash\":\"solid\",\"shape\":\"linear\",\"width\":1.3},\"marker\":{\"size\":2,\"symbol\":\"circle\"},\"mode\":\"markers\",\"name\":\"A\",\"text\":\"\",\"x\":[0.24580720293270789,-0.16791258338056927,-0.3551479634347549,-1.3233085331930585,0.7097797908246052,0.31040033879971257,-1.6718985315521668,0.4558342746292871,0.6514803065472838,0.08110556967608246,1.0260850390526737,1.1020529487741573,-0.07079645264341279,0.6993218505747866,0.8257781490301271,0.3912486892400691,-0.42834637536562875,1.3110906708710228,-0.013808944615887742,0.8673460817320041,-0.0676721955089728,1.1595969389127676,-2.659098634214604,1.1872328751495338,0.6325408476490932,-1.1258226640300024,-0.20268519369486213,1.1236106734617177,-0.6080856244352839,-1.2177214608605689,1.0276095480784375,0.0927468330768223,0.1602110795401743,-0.5042954689831142,-0.47728877956374566,0.26523305088620625,0.03614873092792522,0.8437171837795762,-1.8962433054646162,0.6561221119045462,-0.3263394816877104,-0.13154920221109132,-0.3139253977492223,0.3369570346411211,1.3355867881817336,-0.38525189743613936,0.6488424993995671,0.42343375066531047,1.0584993329798738,-0.6868277034680705,0.9059310468128209,-0.3461808821898123,-0.9161137066046858,-1.5032945636101964,-1.0043357428623314,0.4056862397127461,0.5268023994911366,-1.7256377069714444,-0.4783352503905883,-0.6556621746351436,-1.8844086686528698,1.1798865505687492,-1.3421246750205809,-0.23560665404353476,0.21369864561464302,-0.24759708685697168,-1.3016092767861585,0.2414783341289692,0.723525851278836,0.26409779961735136,0.6823036091120643,0.16593570160663768,-0.06173788566606027,1.7928139857018244,-0.6882336938667062,-1.7929803680573533,1.877860173947971,-0.6234395949275936,-0.9671511628687711,-0.4495149890052343,-1.7239661938374629,0.11603006916036149,-0.19123405951466851,-0.3084811571021436,-0.9445287301697122,-0.6760778171840082,-0.3220953942413495,0.31451053248896116,0.5169515130689945,-0.041813606015498904,1.2800522964060397,-0.2643507897701546,0.851981930005477,1.2268302192809262,-0.9013530736648057,-0.6253983724844503,-0.5291521293215709,0.10300817655146013,1.106842872035679,-0.14627641238432817],\"xaxis\":\"x3\",\"y\":[0.7655458203462077,-0.12808922353551602,1.4513993957179177,-0.19122091052993234,1.1030723744375364,1.033532144394203,0.3841969617822889,0.6496604352494966,0.513285627209426,0.11476079502280276,-0.2591015559704645,-1.776879311107862,-1.34794116248284,0.7082005182592324,-0.07069421173021438,0.2969240010622188,0.3536557662414352,0.47251436715512296,1.1563489173302384,-1.1577309588480218,-0.8911183307244669,2.619839722470479,2.473037611797308,2.7479066271536197,-1.3832565327512583,0.42590028724574386,0.8266523606807861,0.4582137090455324,0.3669423654181648,-0.38559101708212323,0.7043030621427251,0.7977307659092078,0.5923822621043702,0.9225429891488932,2.0559542054906292,1.7485194011322966,-1.4178063337005729,0.3492884656078567,0.8946522460785905,1.560287626057767,-0.8322926593044682,1.2349418728588268,1.7875197554567475,0.08633619069120248,0.5314971207622426,-0.9436475384249055,-1.615751639616223,1.5499038599623058,-1.6173743554616682,0.006085323851007527,0.002795262409405392,0.3659633121859034,0.801851411757661,-0.5374217808986604,-0.12139982016197108,-0.7028554934220238,-0.8765908568443167,0.41346433697724727,1.4384119079610063,0.7600927797482195,-1.2787747786152739,0.5024311486559706,0.9750586541892643,0.5268072700021327,-0.42468859013658095,-1.025420774761301,-0.4266336127339284,0.48272659442294075,2.906398718665853,0.6880021525294603,-0.21480747949987763,-0.5686183980043807,-0.9131334243330468,1.6573368062052414,-1.7930944914691276,-0.9843674117413633,2.1543809516091437,0.4021428551289348,-1.2844749093286496,0.014934416169660418,0.15129520541311742,-0.30558213224536673,1.3253078666447853,-0.10688727093219857,1.0461711436912986,-1.240988782651725,0.7505133678415967,1.0924753055237828,-0.4217096676086004,-1.0886553141159043,0.465188624187154,0.27046011280690474,-1.0788735585175873,0.7616297320826227,1.83194824101488,-0.14619950548323124,0.9567672741523233,-0.6461097831091536,1.1273945026599368,1.8805504460884466],\"yaxis\":\"y3\",\"type\":\"scatter\"},{\"line\":{\"color\":\"rgba(128, 128, 128, 1.0)\",\"dash\":\"solid\",\"shape\":\"linear\",\"width\":1.3},\"marker\":{\"size\":2,\"symbol\":\"circle\"},\"mode\":\"markers\",\"name\":\"A\",\"text\":\"\",\"x\":[-2.152868158232687,0.22147600083290267,2.0258967250186357,-0.8559096402277154,-1.4493963564928796,-0.7237887927557322,0.04994827515307033,0.23762938713516832,0.20917147145454562,0.5000432132657668,2.111735139961974,-0.18341074673914798,0.6268962272953703,2.3964200652668124,1.7259510244487086,-2.063163575013612,0.1379776183602663,-1.354467172609517,-0.241329364537885,-2.595775805420712,-0.5772752585875544,1.3069010034627697,-0.8909400121837199,-0.8434653651679853,1.7825504414506432,0.40306466107041566,-0.2002688213178314,-1.3538177425957982,-1.049201725002004,1.5211526564385496,-1.0806741783898786,2.1647496672772775,-1.402318347071575,0.47468852593249256,-1.5015980645274436,-0.41275995971813023,1.3883375285529573,-0.41045570940836346,1.5148074330667176,0.7813872002039445,-1.207026042101101,-0.6355157242831765,-1.7797644460245459,0.5870587013270901,-0.6911624265195444,1.0213851060342434,-0.9957843325465735,0.2378174771494934,0.39209669237121597,0.33877140830953195,-0.2742291462613146,-0.17081298756578328,0.18279547264917811,1.2895860229045453,0.7445830023862078,0.7067083876243946,-0.29961938111665587,0.1101668027363602,-1.4656918987730918,0.34232983864472594,-0.40070219794675555,0.4363246196936259,-0.6495722058337039,0.33217657663609085,-1.113834833270538,-0.2956601719820081,-0.12207866184611177,-0.5655743720402427,0.9122001626732609,-0.6171760567819509,-0.41140049703854514,0.18637925528471375,0.8359844659765966,0.9680438704685685,-0.701446077454482,1.0625053169816423,0.3454732043018869,-0.5569914470776471,-0.44582630975238624,2.8319313931223347,2.2801627286450485,1.209993253282053,0.09504486434510401,1.0275099629228186,-1.3478968678350511,1.263349306325821,0.6446994450351753,0.3372422081383686,-0.37663911470308814,-0.41128906290655165,0.2740661757383904,0.8307809509608569,0.09974064493153914,-0.4432047085326059,-0.03856477255306065,-0.12560136077367148,-0.5913960415329688,-0.19313389525112634,-0.42674109057431664,-0.12805618860776607],\"xaxis\":\"x4\",\"y\":[0.7655458203462077,-0.12808922353551602,1.4513993957179177,-0.19122091052993234,1.1030723744375364,1.033532144394203,0.3841969617822889,0.6496604352494966,0.513285627209426,0.11476079502280276,-0.2591015559704645,-1.776879311107862,-1.34794116248284,0.7082005182592324,-0.07069421173021438,0.2969240010622188,0.3536557662414352,0.47251436715512296,1.1563489173302384,-1.1577309588480218,-0.8911183307244669,2.619839722470479,2.473037611797308,2.7479066271536197,-1.3832565327512583,0.42590028724574386,0.8266523606807861,0.4582137090455324,0.3669423654181648,-0.38559101708212323,0.7043030621427251,0.7977307659092078,0.5923822621043702,0.9225429891488932,2.0559542054906292,1.7485194011322966,-1.4178063337005729,0.3492884656078567,0.8946522460785905,1.560287626057767,-0.8322926593044682,1.2349418728588268,1.7875197554567475,0.08633619069120248,0.5314971207622426,-0.9436475384249055,-1.615751639616223,1.5499038599623058,-1.6173743554616682,0.006085323851007527,0.002795262409405392,0.3659633121859034,0.801851411757661,-0.5374217808986604,-0.12139982016197108,-0.7028554934220238,-0.8765908568443167,0.41346433697724727,1.4384119079610063,0.7600927797482195,-1.2787747786152739,0.5024311486559706,0.9750586541892643,0.5268072700021327,-0.42468859013658095,-1.025420774761301,-0.4266336127339284,0.48272659442294075,2.906398718665853,0.6880021525294603,-0.21480747949987763,-0.5686183980043807,-0.9131334243330468,1.6573368062052414,-1.7930944914691276,-0.9843674117413633,2.1543809516091437,0.4021428551289348,-1.2844749093286496,0.014934416169660418,0.15129520541311742,-0.30558213224536673,1.3253078666447853,-0.10688727093219857,1.0461711436912986,-1.240988782651725,0.7505133678415967,1.0924753055237828,-0.4217096676086004,-1.0886553141159043,0.465188624187154,0.27046011280690474,-1.0788735585175873,0.7616297320826227,1.83194824101488,-0.14619950548323124,0.9567672741523233,-0.6461097831091536,1.1273945026599368,1.8805504460884466],\"yaxis\":\"y4\",\"type\":\"scatter\"},{\"line\":{\"color\":\"rgba(128, 128, 128, 1.0)\",\"dash\":\"solid\",\"shape\":\"linear\",\"width\":1.3},\"marker\":{\"size\":2,\"symbol\":\"circle\"},\"mode\":\"markers\",\"name\":\"B\",\"text\":\"\",\"x\":[0.7655458203462077,-0.12808922353551602,1.4513993957179177,-0.19122091052993234,1.1030723744375364,1.033532144394203,0.3841969617822889,0.6496604352494966,0.513285627209426,0.11476079502280276,-0.2591015559704645,-1.776879311107862,-1.34794116248284,0.7082005182592324,-0.07069421173021438,0.2969240010622188,0.3536557662414352,0.47251436715512296,1.1563489173302384,-1.1577309588480218,-0.8911183307244669,2.619839722470479,2.473037611797308,2.7479066271536197,-1.3832565327512583,0.42590028724574386,0.8266523606807861,0.4582137090455324,0.3669423654181648,-0.38559101708212323,0.7043030621427251,0.7977307659092078,0.5923822621043702,0.9225429891488932,2.0559542054906292,1.7485194011322966,-1.4178063337005729,0.3492884656078567,0.8946522460785905,1.560287626057767,-0.8322926593044682,1.2349418728588268,1.7875197554567475,0.08633619069120248,0.5314971207622426,-0.9436475384249055,-1.615751639616223,1.5499038599623058,-1.6173743554616682,0.006085323851007527,0.002795262409405392,0.3659633121859034,0.801851411757661,-0.5374217808986604,-0.12139982016197108,-0.7028554934220238,-0.8765908568443167,0.41346433697724727,1.4384119079610063,0.7600927797482195,-1.2787747786152739,0.5024311486559706,0.9750586541892643,0.5268072700021327,-0.42468859013658095,-1.025420774761301,-0.4266336127339284,0.48272659442294075,2.906398718665853,0.6880021525294603,-0.21480747949987763,-0.5686183980043807,-0.9131334243330468,1.6573368062052414,-1.7930944914691276,-0.9843674117413633,2.1543809516091437,0.4021428551289348,-1.2844749093286496,0.014934416169660418,0.15129520541311742,-0.30558213224536673,1.3253078666447853,-0.10688727093219857,1.0461711436912986,-1.240988782651725,0.7505133678415967,1.0924753055237828,-0.4217096676086004,-1.0886553141159043,0.465188624187154,0.27046011280690474,-1.0788735585175873,0.7616297320826227,1.83194824101488,-0.14619950548323124,0.9567672741523233,-0.6461097831091536,1.1273945026599368,1.8805504460884466],\"xaxis\":\"x5\",\"y\":[0.6017466873503788,-0.14978400163424924,-1.0707104177133535,-1.037546034807011,0.3607916199572585,-0.06471865024747107,-0.7580300458300937,1.978188770648286,-0.571180926800931,-0.8350579784972542,-0.8760751468654233,-0.2416208405534744,-0.11940406390607054,0.3910497338436867,-0.12441061910314734,-0.17008880601047333,1.2424043471474324,0.18306105280621934,0.5025398751714042,-2.733138018312086,-0.4578889804156048,-0.8968252858196749,1.2192999848172787,1.3853636122951218,0.06451901011941573,-0.8042140226810693,-0.4799095259944002,-0.7228634578237165,0.23392212692192293,-0.5253559983110266,-0.005551655753853849,-1.581190796892674,-0.100944996595511,-0.36032418400728666,0.5683775057321915,-0.8875035255092706,0.920332767011539,-0.8378529508094908,2.207100912475008,-0.038956452336035875,1.7265669308226161,-0.21127645786169866,-0.03648413775657497,0.6477042890699376,1.717122130117437,0.7670217124737083,0.4011841768438215,-0.5771860490915778,-1.2952904699021186,-0.5614861119771376,0.3552524746507848,0.345368819654225,-0.486542716473194,-0.46989855997673624,0.47018822027319174,-0.5556740606086376,-0.5508351364377948,-0.6689676565419325,-0.12457825258275382,1.0877758572906697,-0.014239704339121232,-1.6608604457359628,1.4821620161097675,1.1008139823858007,-0.23902094669399154,-0.6659886541239679,0.5328878624002946,0.339322926441731,1.5115792223663922,0.8165994139801861,0.6276223908531292,-0.3173257506316113,1.1302860331046023,-1.337122276668125,-1.7483710170291413,0.8883164654916883,-0.23718451528176032,0.136395655094501,-0.16601627031277902,0.5004192659250103,-0.21116110306728084,1.2744353062002893,-0.08179344137315678,-0.887429149024921,0.17680435085489035,0.9006247162148816,0.3294130449437715,-1.4774903881761516,0.7656241967464709,0.47361979358312306,0.5405391526466155,0.39341633131077053,-2.4023312521643514,-0.6074321625556381,1.4120134927426395,-0.7663209956048409,0.3946572185611099,1.101027134677378,2.2913939671179193,-0.3474317575058246],\"yaxis\":\"y5\",\"type\":\"scatter\"},{\"histfunc\":\"count\",\"histnorm\":\"\",\"marker\":{\"color\":\"rgba(55, 128, 191, 1.0)\",\"line\":{\"color\":\"#4D5663\",\"width\":1.3}},\"name\":\"B\",\"nbinsx\":10,\"opacity\":0.8,\"orientation\":\"v\",\"x\":[0.6017466873503788,-0.14978400163424924,-1.0707104177133535,-1.037546034807011,0.3607916199572585,-0.06471865024747107,-0.7580300458300937,1.978188770648286,-0.571180926800931,-0.8350579784972542,-0.8760751468654233,-0.2416208405534744,-0.11940406390607054,0.3910497338436867,-0.12441061910314734,-0.17008880601047333,1.2424043471474324,0.18306105280621934,0.5025398751714042,-2.733138018312086,-0.4578889804156048,-0.8968252858196749,1.2192999848172787,1.3853636122951218,0.06451901011941573,-0.8042140226810693,-0.4799095259944002,-0.7228634578237165,0.23392212692192293,-0.5253559983110266,-0.005551655753853849,-1.581190796892674,-0.100944996595511,-0.36032418400728666,0.5683775057321915,-0.8875035255092706,0.920332767011539,-0.8378529508094908,2.207100912475008,-0.038956452336035875,1.7265669308226161,-0.21127645786169866,-0.03648413775657497,0.6477042890699376,1.717122130117437,0.7670217124737083,0.4011841768438215,-0.5771860490915778,-1.2952904699021186,-0.5614861119771376,0.3552524746507848,0.345368819654225,-0.486542716473194,-0.46989855997673624,0.47018822027319174,-0.5556740606086376,-0.5508351364377948,-0.6689676565419325,-0.12457825258275382,1.0877758572906697,-0.014239704339121232,-1.6608604457359628,1.4821620161097675,1.1008139823858007,-0.23902094669399154,-0.6659886541239679,0.5328878624002946,0.339322926441731,1.5115792223663922,0.8165994139801861,0.6276223908531292,-0.3173257506316113,1.1302860331046023,-1.337122276668125,-1.7483710170291413,0.8883164654916883,-0.23718451528176032,0.136395655094501,-0.16601627031277902,0.5004192659250103,-0.21116110306728084,1.2744353062002893,-0.08179344137315678,-0.887429149024921,0.17680435085489035,0.9006247162148816,0.3294130449437715,-1.4774903881761516,0.7656241967464709,0.47361979358312306,0.5405391526466155,0.39341633131077053,-2.4023312521643514,-0.6074321625556381,1.4120134927426395,-0.7663209956048409,0.3946572185611099,1.101027134677378,2.2913939671179193,-0.3474317575058246],\"xaxis\":\"x6\",\"yaxis\":\"y6\",\"type\":\"histogram\"},{\"line\":{\"color\":\"rgba(128, 128, 128, 1.0)\",\"dash\":\"solid\",\"shape\":\"linear\",\"width\":1.3},\"marker\":{\"size\":2,\"symbol\":\"circle\"},\"mode\":\"markers\",\"name\":\"B\",\"text\":\"\",\"x\":[0.24580720293270789,-0.16791258338056927,-0.3551479634347549,-1.3233085331930585,0.7097797908246052,0.31040033879971257,-1.6718985315521668,0.4558342746292871,0.6514803065472838,0.08110556967608246,1.0260850390526737,1.1020529487741573,-0.07079645264341279,0.6993218505747866,0.8257781490301271,0.3912486892400691,-0.42834637536562875,1.3110906708710228,-0.013808944615887742,0.8673460817320041,-0.0676721955089728,1.1595969389127676,-2.659098634214604,1.1872328751495338,0.6325408476490932,-1.1258226640300024,-0.20268519369486213,1.1236106734617177,-0.6080856244352839,-1.2177214608605689,1.0276095480784375,0.0927468330768223,0.1602110795401743,-0.5042954689831142,-0.47728877956374566,0.26523305088620625,0.03614873092792522,0.8437171837795762,-1.8962433054646162,0.6561221119045462,-0.3263394816877104,-0.13154920221109132,-0.3139253977492223,0.3369570346411211,1.3355867881817336,-0.38525189743613936,0.6488424993995671,0.42343375066531047,1.0584993329798738,-0.6868277034680705,0.9059310468128209,-0.3461808821898123,-0.9161137066046858,-1.5032945636101964,-1.0043357428623314,0.4056862397127461,0.5268023994911366,-1.7256377069714444,-0.4783352503905883,-0.6556621746351436,-1.8844086686528698,1.1798865505687492,-1.3421246750205809,-0.23560665404353476,0.21369864561464302,-0.24759708685697168,-1.3016092767861585,0.2414783341289692,0.723525851278836,0.26409779961735136,0.6823036091120643,0.16593570160663768,-0.06173788566606027,1.7928139857018244,-0.6882336938667062,-1.7929803680573533,1.877860173947971,-0.6234395949275936,-0.9671511628687711,-0.4495149890052343,-1.7239661938374629,0.11603006916036149,-0.19123405951466851,-0.3084811571021436,-0.9445287301697122,-0.6760778171840082,-0.3220953942413495,0.31451053248896116,0.5169515130689945,-0.041813606015498904,1.2800522964060397,-0.2643507897701546,0.851981930005477,1.2268302192809262,-0.9013530736648057,-0.6253983724844503,-0.5291521293215709,0.10300817655146013,1.106842872035679,-0.14627641238432817],\"xaxis\":\"x7\",\"y\":[0.6017466873503788,-0.14978400163424924,-1.0707104177133535,-1.037546034807011,0.3607916199572585,-0.06471865024747107,-0.7580300458300937,1.978188770648286,-0.571180926800931,-0.8350579784972542,-0.8760751468654233,-0.2416208405534744,-0.11940406390607054,0.3910497338436867,-0.12441061910314734,-0.17008880601047333,1.2424043471474324,0.18306105280621934,0.5025398751714042,-2.733138018312086,-0.4578889804156048,-0.8968252858196749,1.2192999848172787,1.3853636122951218,0.06451901011941573,-0.8042140226810693,-0.4799095259944002,-0.7228634578237165,0.23392212692192293,-0.5253559983110266,-0.005551655753853849,-1.581190796892674,-0.100944996595511,-0.36032418400728666,0.5683775057321915,-0.8875035255092706,0.920332767011539,-0.8378529508094908,2.207100912475008,-0.038956452336035875,1.7265669308226161,-0.21127645786169866,-0.03648413775657497,0.6477042890699376,1.717122130117437,0.7670217124737083,0.4011841768438215,-0.5771860490915778,-1.2952904699021186,-0.5614861119771376,0.3552524746507848,0.345368819654225,-0.486542716473194,-0.46989855997673624,0.47018822027319174,-0.5556740606086376,-0.5508351364377948,-0.6689676565419325,-0.12457825258275382,1.0877758572906697,-0.014239704339121232,-1.6608604457359628,1.4821620161097675,1.1008139823858007,-0.23902094669399154,-0.6659886541239679,0.5328878624002946,0.339322926441731,1.5115792223663922,0.8165994139801861,0.6276223908531292,-0.3173257506316113,1.1302860331046023,-1.337122276668125,-1.7483710170291413,0.8883164654916883,-0.23718451528176032,0.136395655094501,-0.16601627031277902,0.5004192659250103,-0.21116110306728084,1.2744353062002893,-0.08179344137315678,-0.887429149024921,0.17680435085489035,0.9006247162148816,0.3294130449437715,-1.4774903881761516,0.7656241967464709,0.47361979358312306,0.5405391526466155,0.39341633131077053,-2.4023312521643514,-0.6074321625556381,1.4120134927426395,-0.7663209956048409,0.3946572185611099,1.101027134677378,2.2913939671179193,-0.3474317575058246],\"yaxis\":\"y7\",\"type\":\"scatter\"},{\"line\":{\"color\":\"rgba(128, 128, 128, 1.0)\",\"dash\":\"solid\",\"shape\":\"linear\",\"width\":1.3},\"marker\":{\"size\":2,\"symbol\":\"circle\"},\"mode\":\"markers\",\"name\":\"B\",\"text\":\"\",\"x\":[-2.152868158232687,0.22147600083290267,2.0258967250186357,-0.8559096402277154,-1.4493963564928796,-0.7237887927557322,0.04994827515307033,0.23762938713516832,0.20917147145454562,0.5000432132657668,2.111735139961974,-0.18341074673914798,0.6268962272953703,2.3964200652668124,1.7259510244487086,-2.063163575013612,0.1379776183602663,-1.354467172609517,-0.241329364537885,-2.595775805420712,-0.5772752585875544,1.3069010034627697,-0.8909400121837199,-0.8434653651679853,1.7825504414506432,0.40306466107041566,-0.2002688213178314,-1.3538177425957982,-1.049201725002004,1.5211526564385496,-1.0806741783898786,2.1647496672772775,-1.402318347071575,0.47468852593249256,-1.5015980645274436,-0.41275995971813023,1.3883375285529573,-0.41045570940836346,1.5148074330667176,0.7813872002039445,-1.207026042101101,-0.6355157242831765,-1.7797644460245459,0.5870587013270901,-0.6911624265195444,1.0213851060342434,-0.9957843325465735,0.2378174771494934,0.39209669237121597,0.33877140830953195,-0.2742291462613146,-0.17081298756578328,0.18279547264917811,1.2895860229045453,0.7445830023862078,0.7067083876243946,-0.29961938111665587,0.1101668027363602,-1.4656918987730918,0.34232983864472594,-0.40070219794675555,0.4363246196936259,-0.6495722058337039,0.33217657663609085,-1.113834833270538,-0.2956601719820081,-0.12207866184611177,-0.5655743720402427,0.9122001626732609,-0.6171760567819509,-0.41140049703854514,0.18637925528471375,0.8359844659765966,0.9680438704685685,-0.701446077454482,1.0625053169816423,0.3454732043018869,-0.5569914470776471,-0.44582630975238624,2.8319313931223347,2.2801627286450485,1.209993253282053,0.09504486434510401,1.0275099629228186,-1.3478968678350511,1.263349306325821,0.6446994450351753,0.3372422081383686,-0.37663911470308814,-0.41128906290655165,0.2740661757383904,0.8307809509608569,0.09974064493153914,-0.4432047085326059,-0.03856477255306065,-0.12560136077367148,-0.5913960415329688,-0.19313389525112634,-0.42674109057431664,-0.12805618860776607],\"xaxis\":\"x8\",\"y\":[0.6017466873503788,-0.14978400163424924,-1.0707104177133535,-1.037546034807011,0.3607916199572585,-0.06471865024747107,-0.7580300458300937,1.978188770648286,-0.571180926800931,-0.8350579784972542,-0.8760751468654233,-0.2416208405534744,-0.11940406390607054,0.3910497338436867,-0.12441061910314734,-0.17008880601047333,1.2424043471474324,0.18306105280621934,0.5025398751714042,-2.733138018312086,-0.4578889804156048,-0.8968252858196749,1.2192999848172787,1.3853636122951218,0.06451901011941573,-0.8042140226810693,-0.4799095259944002,-0.7228634578237165,0.23392212692192293,-0.5253559983110266,-0.005551655753853849,-1.581190796892674,-0.100944996595511,-0.36032418400728666,0.5683775057321915,-0.8875035255092706,0.920332767011539,-0.8378529508094908,2.207100912475008,-0.038956452336035875,1.7265669308226161,-0.21127645786169866,-0.03648413775657497,0.6477042890699376,1.717122130117437,0.7670217124737083,0.4011841768438215,-0.5771860490915778,-1.2952904699021186,-0.5614861119771376,0.3552524746507848,0.345368819654225,-0.486542716473194,-0.46989855997673624,0.47018822027319174,-0.5556740606086376,-0.5508351364377948,-0.6689676565419325,-0.12457825258275382,1.0877758572906697,-0.014239704339121232,-1.6608604457359628,1.4821620161097675,1.1008139823858007,-0.23902094669399154,-0.6659886541239679,0.5328878624002946,0.339322926441731,1.5115792223663922,0.8165994139801861,0.6276223908531292,-0.3173257506316113,1.1302860331046023,-1.337122276668125,-1.7483710170291413,0.8883164654916883,-0.23718451528176032,0.136395655094501,-0.16601627031277902,0.5004192659250103,-0.21116110306728084,1.2744353062002893,-0.08179344137315678,-0.887429149024921,0.17680435085489035,0.9006247162148816,0.3294130449437715,-1.4774903881761516,0.7656241967464709,0.47361979358312306,0.5405391526466155,0.39341633131077053,-2.4023312521643514,-0.6074321625556381,1.4120134927426395,-0.7663209956048409,0.3946572185611099,1.101027134677378,2.2913939671179193,-0.3474317575058246],\"yaxis\":\"y8\",\"type\":\"scatter\"},{\"line\":{\"color\":\"rgba(128, 128, 128, 1.0)\",\"dash\":\"solid\",\"shape\":\"linear\",\"width\":1.3},\"marker\":{\"size\":2,\"symbol\":\"circle\"},\"mode\":\"markers\",\"name\":\"C\",\"text\":\"\",\"x\":[0.7655458203462077,-0.12808922353551602,1.4513993957179177,-0.19122091052993234,1.1030723744375364,1.033532144394203,0.3841969617822889,0.6496604352494966,0.513285627209426,0.11476079502280276,-0.2591015559704645,-1.776879311107862,-1.34794116248284,0.7082005182592324,-0.07069421173021438,0.2969240010622188,0.3536557662414352,0.47251436715512296,1.1563489173302384,-1.1577309588480218,-0.8911183307244669,2.619839722470479,2.473037611797308,2.7479066271536197,-1.3832565327512583,0.42590028724574386,0.8266523606807861,0.4582137090455324,0.3669423654181648,-0.38559101708212323,0.7043030621427251,0.7977307659092078,0.5923822621043702,0.9225429891488932,2.0559542054906292,1.7485194011322966,-1.4178063337005729,0.3492884656078567,0.8946522460785905,1.560287626057767,-0.8322926593044682,1.2349418728588268,1.7875197554567475,0.08633619069120248,0.5314971207622426,-0.9436475384249055,-1.615751639616223,1.5499038599623058,-1.6173743554616682,0.006085323851007527,0.002795262409405392,0.3659633121859034,0.801851411757661,-0.5374217808986604,-0.12139982016197108,-0.7028554934220238,-0.8765908568443167,0.41346433697724727,1.4384119079610063,0.7600927797482195,-1.2787747786152739,0.5024311486559706,0.9750586541892643,0.5268072700021327,-0.42468859013658095,-1.025420774761301,-0.4266336127339284,0.48272659442294075,2.906398718665853,0.6880021525294603,-0.21480747949987763,-0.5686183980043807,-0.9131334243330468,1.6573368062052414,-1.7930944914691276,-0.9843674117413633,2.1543809516091437,0.4021428551289348,-1.2844749093286496,0.014934416169660418,0.15129520541311742,-0.30558213224536673,1.3253078666447853,-0.10688727093219857,1.0461711436912986,-1.240988782651725,0.7505133678415967,1.0924753055237828,-0.4217096676086004,-1.0886553141159043,0.465188624187154,0.27046011280690474,-1.0788735585175873,0.7616297320826227,1.83194824101488,-0.14619950548323124,0.9567672741523233,-0.6461097831091536,1.1273945026599368,1.8805504460884466],\"xaxis\":\"x9\",\"y\":[0.24580720293270789,-0.16791258338056927,-0.3551479634347549,-1.3233085331930585,0.7097797908246052,0.31040033879971257,-1.6718985315521668,0.4558342746292871,0.6514803065472838,0.08110556967608246,1.0260850390526737,1.1020529487741573,-0.07079645264341279,0.6993218505747866,0.8257781490301271,0.3912486892400691,-0.42834637536562875,1.3110906708710228,-0.013808944615887742,0.8673460817320041,-0.0676721955089728,1.1595969389127676,-2.659098634214604,1.1872328751495338,0.6325408476490932,-1.1258226640300024,-0.20268519369486213,1.1236106734617177,-0.6080856244352839,-1.2177214608605689,1.0276095480784375,0.0927468330768223,0.1602110795401743,-0.5042954689831142,-0.47728877956374566,0.26523305088620625,0.03614873092792522,0.8437171837795762,-1.8962433054646162,0.6561221119045462,-0.3263394816877104,-0.13154920221109132,-0.3139253977492223,0.3369570346411211,1.3355867881817336,-0.38525189743613936,0.6488424993995671,0.42343375066531047,1.0584993329798738,-0.6868277034680705,0.9059310468128209,-0.3461808821898123,-0.9161137066046858,-1.5032945636101964,-1.0043357428623314,0.4056862397127461,0.5268023994911366,-1.7256377069714444,-0.4783352503905883,-0.6556621746351436,-1.8844086686528698,1.1798865505687492,-1.3421246750205809,-0.23560665404353476,0.21369864561464302,-0.24759708685697168,-1.3016092767861585,0.2414783341289692,0.723525851278836,0.26409779961735136,0.6823036091120643,0.16593570160663768,-0.06173788566606027,1.7928139857018244,-0.6882336938667062,-1.7929803680573533,1.877860173947971,-0.6234395949275936,-0.9671511628687711,-0.4495149890052343,-1.7239661938374629,0.11603006916036149,-0.19123405951466851,-0.3084811571021436,-0.9445287301697122,-0.6760778171840082,-0.3220953942413495,0.31451053248896116,0.5169515130689945,-0.041813606015498904,1.2800522964060397,-0.2643507897701546,0.851981930005477,1.2268302192809262,-0.9013530736648057,-0.6253983724844503,-0.5291521293215709,0.10300817655146013,1.106842872035679,-0.14627641238432817],\"yaxis\":\"y9\",\"type\":\"scatter\"},{\"line\":{\"color\":\"rgba(128, 128, 128, 1.0)\",\"dash\":\"solid\",\"shape\":\"linear\",\"width\":1.3},\"marker\":{\"size\":2,\"symbol\":\"circle\"},\"mode\":\"markers\",\"name\":\"C\",\"text\":\"\",\"x\":[0.6017466873503788,-0.14978400163424924,-1.0707104177133535,-1.037546034807011,0.3607916199572585,-0.06471865024747107,-0.7580300458300937,1.978188770648286,-0.571180926800931,-0.8350579784972542,-0.8760751468654233,-0.2416208405534744,-0.11940406390607054,0.3910497338436867,-0.12441061910314734,-0.17008880601047333,1.2424043471474324,0.18306105280621934,0.5025398751714042,-2.733138018312086,-0.4578889804156048,-0.8968252858196749,1.2192999848172787,1.3853636122951218,0.06451901011941573,-0.8042140226810693,-0.4799095259944002,-0.7228634578237165,0.23392212692192293,-0.5253559983110266,-0.005551655753853849,-1.581190796892674,-0.100944996595511,-0.36032418400728666,0.5683775057321915,-0.8875035255092706,0.920332767011539,-0.8378529508094908,2.207100912475008,-0.038956452336035875,1.7265669308226161,-0.21127645786169866,-0.03648413775657497,0.6477042890699376,1.717122130117437,0.7670217124737083,0.4011841768438215,-0.5771860490915778,-1.2952904699021186,-0.5614861119771376,0.3552524746507848,0.345368819654225,-0.486542716473194,-0.46989855997673624,0.47018822027319174,-0.5556740606086376,-0.5508351364377948,-0.6689676565419325,-0.12457825258275382,1.0877758572906697,-0.014239704339121232,-1.6608604457359628,1.4821620161097675,1.1008139823858007,-0.23902094669399154,-0.6659886541239679,0.5328878624002946,0.339322926441731,1.5115792223663922,0.8165994139801861,0.6276223908531292,-0.3173257506316113,1.1302860331046023,-1.337122276668125,-1.7483710170291413,0.8883164654916883,-0.23718451528176032,0.136395655094501,-0.16601627031277902,0.5004192659250103,-0.21116110306728084,1.2744353062002893,-0.08179344137315678,-0.887429149024921,0.17680435085489035,0.9006247162148816,0.3294130449437715,-1.4774903881761516,0.7656241967464709,0.47361979358312306,0.5405391526466155,0.39341633131077053,-2.4023312521643514,-0.6074321625556381,1.4120134927426395,-0.7663209956048409,0.3946572185611099,1.101027134677378,2.2913939671179193,-0.3474317575058246],\"xaxis\":\"x10\",\"y\":[0.24580720293270789,-0.16791258338056927,-0.3551479634347549,-1.3233085331930585,0.7097797908246052,0.31040033879971257,-1.6718985315521668,0.4558342746292871,0.6514803065472838,0.08110556967608246,1.0260850390526737,1.1020529487741573,-0.07079645264341279,0.6993218505747866,0.8257781490301271,0.3912486892400691,-0.42834637536562875,1.3110906708710228,-0.013808944615887742,0.8673460817320041,-0.0676721955089728,1.1595969389127676,-2.659098634214604,1.1872328751495338,0.6325408476490932,-1.1258226640300024,-0.20268519369486213,1.1236106734617177,-0.6080856244352839,-1.2177214608605689,1.0276095480784375,0.0927468330768223,0.1602110795401743,-0.5042954689831142,-0.47728877956374566,0.26523305088620625,0.03614873092792522,0.8437171837795762,-1.8962433054646162,0.6561221119045462,-0.3263394816877104,-0.13154920221109132,-0.3139253977492223,0.3369570346411211,1.3355867881817336,-0.38525189743613936,0.6488424993995671,0.42343375066531047,1.0584993329798738,-0.6868277034680705,0.9059310468128209,-0.3461808821898123,-0.9161137066046858,-1.5032945636101964,-1.0043357428623314,0.4056862397127461,0.5268023994911366,-1.7256377069714444,-0.4783352503905883,-0.6556621746351436,-1.8844086686528698,1.1798865505687492,-1.3421246750205809,-0.23560665404353476,0.21369864561464302,-0.24759708685697168,-1.3016092767861585,0.2414783341289692,0.723525851278836,0.26409779961735136,0.6823036091120643,0.16593570160663768,-0.06173788566606027,1.7928139857018244,-0.6882336938667062,-1.7929803680573533,1.877860173947971,-0.6234395949275936,-0.9671511628687711,-0.4495149890052343,-1.7239661938374629,0.11603006916036149,-0.19123405951466851,-0.3084811571021436,-0.9445287301697122,-0.6760778171840082,-0.3220953942413495,0.31451053248896116,0.5169515130689945,-0.041813606015498904,1.2800522964060397,-0.2643507897701546,0.851981930005477,1.2268302192809262,-0.9013530736648057,-0.6253983724844503,-0.5291521293215709,0.10300817655146013,1.106842872035679,-0.14627641238432817],\"yaxis\":\"y10\",\"type\":\"scatter\"},{\"histfunc\":\"count\",\"histnorm\":\"\",\"marker\":{\"color\":\"rgba(50, 171, 96, 1.0)\",\"line\":{\"color\":\"#4D5663\",\"width\":1.3}},\"name\":\"C\",\"nbinsx\":10,\"opacity\":0.8,\"orientation\":\"v\",\"x\":[0.24580720293270789,-0.16791258338056927,-0.3551479634347549,-1.3233085331930585,0.7097797908246052,0.31040033879971257,-1.6718985315521668,0.4558342746292871,0.6514803065472838,0.08110556967608246,1.0260850390526737,1.1020529487741573,-0.07079645264341279,0.6993218505747866,0.8257781490301271,0.3912486892400691,-0.42834637536562875,1.3110906708710228,-0.013808944615887742,0.8673460817320041,-0.0676721955089728,1.1595969389127676,-2.659098634214604,1.1872328751495338,0.6325408476490932,-1.1258226640300024,-0.20268519369486213,1.1236106734617177,-0.6080856244352839,-1.2177214608605689,1.0276095480784375,0.0927468330768223,0.1602110795401743,-0.5042954689831142,-0.47728877956374566,0.26523305088620625,0.03614873092792522,0.8437171837795762,-1.8962433054646162,0.6561221119045462,-0.3263394816877104,-0.13154920221109132,-0.3139253977492223,0.3369570346411211,1.3355867881817336,-0.38525189743613936,0.6488424993995671,0.42343375066531047,1.0584993329798738,-0.6868277034680705,0.9059310468128209,-0.3461808821898123,-0.9161137066046858,-1.5032945636101964,-1.0043357428623314,0.4056862397127461,0.5268023994911366,-1.7256377069714444,-0.4783352503905883,-0.6556621746351436,-1.8844086686528698,1.1798865505687492,-1.3421246750205809,-0.23560665404353476,0.21369864561464302,-0.24759708685697168,-1.3016092767861585,0.2414783341289692,0.723525851278836,0.26409779961735136,0.6823036091120643,0.16593570160663768,-0.06173788566606027,1.7928139857018244,-0.6882336938667062,-1.7929803680573533,1.877860173947971,-0.6234395949275936,-0.9671511628687711,-0.4495149890052343,-1.7239661938374629,0.11603006916036149,-0.19123405951466851,-0.3084811571021436,-0.9445287301697122,-0.6760778171840082,-0.3220953942413495,0.31451053248896116,0.5169515130689945,-0.041813606015498904,1.2800522964060397,-0.2643507897701546,0.851981930005477,1.2268302192809262,-0.9013530736648057,-0.6253983724844503,-0.5291521293215709,0.10300817655146013,1.106842872035679,-0.14627641238432817],\"xaxis\":\"x11\",\"yaxis\":\"y11\",\"type\":\"histogram\"},{\"line\":{\"color\":\"rgba(128, 128, 128, 1.0)\",\"dash\":\"solid\",\"shape\":\"linear\",\"width\":1.3},\"marker\":{\"size\":2,\"symbol\":\"circle\"},\"mode\":\"markers\",\"name\":\"C\",\"text\":\"\",\"x\":[-2.152868158232687,0.22147600083290267,2.0258967250186357,-0.8559096402277154,-1.4493963564928796,-0.7237887927557322,0.04994827515307033,0.23762938713516832,0.20917147145454562,0.5000432132657668,2.111735139961974,-0.18341074673914798,0.6268962272953703,2.3964200652668124,1.7259510244487086,-2.063163575013612,0.1379776183602663,-1.354467172609517,-0.241329364537885,-2.595775805420712,-0.5772752585875544,1.3069010034627697,-0.8909400121837199,-0.8434653651679853,1.7825504414506432,0.40306466107041566,-0.2002688213178314,-1.3538177425957982,-1.049201725002004,1.5211526564385496,-1.0806741783898786,2.1647496672772775,-1.402318347071575,0.47468852593249256,-1.5015980645274436,-0.41275995971813023,1.3883375285529573,-0.41045570940836346,1.5148074330667176,0.7813872002039445,-1.207026042101101,-0.6355157242831765,-1.7797644460245459,0.5870587013270901,-0.6911624265195444,1.0213851060342434,-0.9957843325465735,0.2378174771494934,0.39209669237121597,0.33877140830953195,-0.2742291462613146,-0.17081298756578328,0.18279547264917811,1.2895860229045453,0.7445830023862078,0.7067083876243946,-0.29961938111665587,0.1101668027363602,-1.4656918987730918,0.34232983864472594,-0.40070219794675555,0.4363246196936259,-0.6495722058337039,0.33217657663609085,-1.113834833270538,-0.2956601719820081,-0.12207866184611177,-0.5655743720402427,0.9122001626732609,-0.6171760567819509,-0.41140049703854514,0.18637925528471375,0.8359844659765966,0.9680438704685685,-0.701446077454482,1.0625053169816423,0.3454732043018869,-0.5569914470776471,-0.44582630975238624,2.8319313931223347,2.2801627286450485,1.209993253282053,0.09504486434510401,1.0275099629228186,-1.3478968678350511,1.263349306325821,0.6446994450351753,0.3372422081383686,-0.37663911470308814,-0.41128906290655165,0.2740661757383904,0.8307809509608569,0.09974064493153914,-0.4432047085326059,-0.03856477255306065,-0.12560136077367148,-0.5913960415329688,-0.19313389525112634,-0.42674109057431664,-0.12805618860776607],\"xaxis\":\"x12\",\"y\":[0.24580720293270789,-0.16791258338056927,-0.3551479634347549,-1.3233085331930585,0.7097797908246052,0.31040033879971257,-1.6718985315521668,0.4558342746292871,0.6514803065472838,0.08110556967608246,1.0260850390526737,1.1020529487741573,-0.07079645264341279,0.6993218505747866,0.8257781490301271,0.3912486892400691,-0.42834637536562875,1.3110906708710228,-0.013808944615887742,0.8673460817320041,-0.0676721955089728,1.1595969389127676,-2.659098634214604,1.1872328751495338,0.6325408476490932,-1.1258226640300024,-0.20268519369486213,1.1236106734617177,-0.6080856244352839,-1.2177214608605689,1.0276095480784375,0.0927468330768223,0.1602110795401743,-0.5042954689831142,-0.47728877956374566,0.26523305088620625,0.03614873092792522,0.8437171837795762,-1.8962433054646162,0.6561221119045462,-0.3263394816877104,-0.13154920221109132,-0.3139253977492223,0.3369570346411211,1.3355867881817336,-0.38525189743613936,0.6488424993995671,0.42343375066531047,1.0584993329798738,-0.6868277034680705,0.9059310468128209,-0.3461808821898123,-0.9161137066046858,-1.5032945636101964,-1.0043357428623314,0.4056862397127461,0.5268023994911366,-1.7256377069714444,-0.4783352503905883,-0.6556621746351436,-1.8844086686528698,1.1798865505687492,-1.3421246750205809,-0.23560665404353476,0.21369864561464302,-0.24759708685697168,-1.3016092767861585,0.2414783341289692,0.723525851278836,0.26409779961735136,0.6823036091120643,0.16593570160663768,-0.06173788566606027,1.7928139857018244,-0.6882336938667062,-1.7929803680573533,1.877860173947971,-0.6234395949275936,-0.9671511628687711,-0.4495149890052343,-1.7239661938374629,0.11603006916036149,-0.19123405951466851,-0.3084811571021436,-0.9445287301697122,-0.6760778171840082,-0.3220953942413495,0.31451053248896116,0.5169515130689945,-0.041813606015498904,1.2800522964060397,-0.2643507897701546,0.851981930005477,1.2268302192809262,-0.9013530736648057,-0.6253983724844503,-0.5291521293215709,0.10300817655146013,1.106842872035679,-0.14627641238432817],\"yaxis\":\"y12\",\"type\":\"scatter\"},{\"line\":{\"color\":\"rgba(128, 128, 128, 1.0)\",\"dash\":\"solid\",\"shape\":\"linear\",\"width\":1.3},\"marker\":{\"size\":2,\"symbol\":\"circle\"},\"mode\":\"markers\",\"name\":\"D\",\"text\":\"\",\"x\":[0.7655458203462077,-0.12808922353551602,1.4513993957179177,-0.19122091052993234,1.1030723744375364,1.033532144394203,0.3841969617822889,0.6496604352494966,0.513285627209426,0.11476079502280276,-0.2591015559704645,-1.776879311107862,-1.34794116248284,0.7082005182592324,-0.07069421173021438,0.2969240010622188,0.3536557662414352,0.47251436715512296,1.1563489173302384,-1.1577309588480218,-0.8911183307244669,2.619839722470479,2.473037611797308,2.7479066271536197,-1.3832565327512583,0.42590028724574386,0.8266523606807861,0.4582137090455324,0.3669423654181648,-0.38559101708212323,0.7043030621427251,0.7977307659092078,0.5923822621043702,0.9225429891488932,2.0559542054906292,1.7485194011322966,-1.4178063337005729,0.3492884656078567,0.8946522460785905,1.560287626057767,-0.8322926593044682,1.2349418728588268,1.7875197554567475,0.08633619069120248,0.5314971207622426,-0.9436475384249055,-1.615751639616223,1.5499038599623058,-1.6173743554616682,0.006085323851007527,0.002795262409405392,0.3659633121859034,0.801851411757661,-0.5374217808986604,-0.12139982016197108,-0.7028554934220238,-0.8765908568443167,0.41346433697724727,1.4384119079610063,0.7600927797482195,-1.2787747786152739,0.5024311486559706,0.9750586541892643,0.5268072700021327,-0.42468859013658095,-1.025420774761301,-0.4266336127339284,0.48272659442294075,2.906398718665853,0.6880021525294603,-0.21480747949987763,-0.5686183980043807,-0.9131334243330468,1.6573368062052414,-1.7930944914691276,-0.9843674117413633,2.1543809516091437,0.4021428551289348,-1.2844749093286496,0.014934416169660418,0.15129520541311742,-0.30558213224536673,1.3253078666447853,-0.10688727093219857,1.0461711436912986,-1.240988782651725,0.7505133678415967,1.0924753055237828,-0.4217096676086004,-1.0886553141159043,0.465188624187154,0.27046011280690474,-1.0788735585175873,0.7616297320826227,1.83194824101488,-0.14619950548323124,0.9567672741523233,-0.6461097831091536,1.1273945026599368,1.8805504460884466],\"xaxis\":\"x13\",\"y\":[-2.152868158232687,0.22147600083290267,2.0258967250186357,-0.8559096402277154,-1.4493963564928796,-0.7237887927557322,0.04994827515307033,0.23762938713516832,0.20917147145454562,0.5000432132657668,2.111735139961974,-0.18341074673914798,0.6268962272953703,2.3964200652668124,1.7259510244487086,-2.063163575013612,0.1379776183602663,-1.354467172609517,-0.241329364537885,-2.595775805420712,-0.5772752585875544,1.3069010034627697,-0.8909400121837199,-0.8434653651679853,1.7825504414506432,0.40306466107041566,-0.2002688213178314,-1.3538177425957982,-1.049201725002004,1.5211526564385496,-1.0806741783898786,2.1647496672772775,-1.402318347071575,0.47468852593249256,-1.5015980645274436,-0.41275995971813023,1.3883375285529573,-0.41045570940836346,1.5148074330667176,0.7813872002039445,-1.207026042101101,-0.6355157242831765,-1.7797644460245459,0.5870587013270901,-0.6911624265195444,1.0213851060342434,-0.9957843325465735,0.2378174771494934,0.39209669237121597,0.33877140830953195,-0.2742291462613146,-0.17081298756578328,0.18279547264917811,1.2895860229045453,0.7445830023862078,0.7067083876243946,-0.29961938111665587,0.1101668027363602,-1.4656918987730918,0.34232983864472594,-0.40070219794675555,0.4363246196936259,-0.6495722058337039,0.33217657663609085,-1.113834833270538,-0.2956601719820081,-0.12207866184611177,-0.5655743720402427,0.9122001626732609,-0.6171760567819509,-0.41140049703854514,0.18637925528471375,0.8359844659765966,0.9680438704685685,-0.701446077454482,1.0625053169816423,0.3454732043018869,-0.5569914470776471,-0.44582630975238624,2.8319313931223347,2.2801627286450485,1.209993253282053,0.09504486434510401,1.0275099629228186,-1.3478968678350511,1.263349306325821,0.6446994450351753,0.3372422081383686,-0.37663911470308814,-0.41128906290655165,0.2740661757383904,0.8307809509608569,0.09974064493153914,-0.4432047085326059,-0.03856477255306065,-0.12560136077367148,-0.5913960415329688,-0.19313389525112634,-0.42674109057431664,-0.12805618860776607],\"yaxis\":\"y13\",\"type\":\"scatter\"},{\"line\":{\"color\":\"rgba(128, 128, 128, 1.0)\",\"dash\":\"solid\",\"shape\":\"linear\",\"width\":1.3},\"marker\":{\"size\":2,\"symbol\":\"circle\"},\"mode\":\"markers\",\"name\":\"D\",\"text\":\"\",\"x\":[0.6017466873503788,-0.14978400163424924,-1.0707104177133535,-1.037546034807011,0.3607916199572585,-0.06471865024747107,-0.7580300458300937,1.978188770648286,-0.571180926800931,-0.8350579784972542,-0.8760751468654233,-0.2416208405534744,-0.11940406390607054,0.3910497338436867,-0.12441061910314734,-0.17008880601047333,1.2424043471474324,0.18306105280621934,0.5025398751714042,-2.733138018312086,-0.4578889804156048,-0.8968252858196749,1.2192999848172787,1.3853636122951218,0.06451901011941573,-0.8042140226810693,-0.4799095259944002,-0.7228634578237165,0.23392212692192293,-0.5253559983110266,-0.005551655753853849,-1.581190796892674,-0.100944996595511,-0.36032418400728666,0.5683775057321915,-0.8875035255092706,0.920332767011539,-0.8378529508094908,2.207100912475008,-0.038956452336035875,1.7265669308226161,-0.21127645786169866,-0.03648413775657497,0.6477042890699376,1.717122130117437,0.7670217124737083,0.4011841768438215,-0.5771860490915778,-1.2952904699021186,-0.5614861119771376,0.3552524746507848,0.345368819654225,-0.486542716473194,-0.46989855997673624,0.47018822027319174,-0.5556740606086376,-0.5508351364377948,-0.6689676565419325,-0.12457825258275382,1.0877758572906697,-0.014239704339121232,-1.6608604457359628,1.4821620161097675,1.1008139823858007,-0.23902094669399154,-0.6659886541239679,0.5328878624002946,0.339322926441731,1.5115792223663922,0.8165994139801861,0.6276223908531292,-0.3173257506316113,1.1302860331046023,-1.337122276668125,-1.7483710170291413,0.8883164654916883,-0.23718451528176032,0.136395655094501,-0.16601627031277902,0.5004192659250103,-0.21116110306728084,1.2744353062002893,-0.08179344137315678,-0.887429149024921,0.17680435085489035,0.9006247162148816,0.3294130449437715,-1.4774903881761516,0.7656241967464709,0.47361979358312306,0.5405391526466155,0.39341633131077053,-2.4023312521643514,-0.6074321625556381,1.4120134927426395,-0.7663209956048409,0.3946572185611099,1.101027134677378,2.2913939671179193,-0.3474317575058246],\"xaxis\":\"x14\",\"y\":[-2.152868158232687,0.22147600083290267,2.0258967250186357,-0.8559096402277154,-1.4493963564928796,-0.7237887927557322,0.04994827515307033,0.23762938713516832,0.20917147145454562,0.5000432132657668,2.111735139961974,-0.18341074673914798,0.6268962272953703,2.3964200652668124,1.7259510244487086,-2.063163575013612,0.1379776183602663,-1.354467172609517,-0.241329364537885,-2.595775805420712,-0.5772752585875544,1.3069010034627697,-0.8909400121837199,-0.8434653651679853,1.7825504414506432,0.40306466107041566,-0.2002688213178314,-1.3538177425957982,-1.049201725002004,1.5211526564385496,-1.0806741783898786,2.1647496672772775,-1.402318347071575,0.47468852593249256,-1.5015980645274436,-0.41275995971813023,1.3883375285529573,-0.41045570940836346,1.5148074330667176,0.7813872002039445,-1.207026042101101,-0.6355157242831765,-1.7797644460245459,0.5870587013270901,-0.6911624265195444,1.0213851060342434,-0.9957843325465735,0.2378174771494934,0.39209669237121597,0.33877140830953195,-0.2742291462613146,-0.17081298756578328,0.18279547264917811,1.2895860229045453,0.7445830023862078,0.7067083876243946,-0.29961938111665587,0.1101668027363602,-1.4656918987730918,0.34232983864472594,-0.40070219794675555,0.4363246196936259,-0.6495722058337039,0.33217657663609085,-1.113834833270538,-0.2956601719820081,-0.12207866184611177,-0.5655743720402427,0.9122001626732609,-0.6171760567819509,-0.41140049703854514,0.18637925528471375,0.8359844659765966,0.9680438704685685,-0.701446077454482,1.0625053169816423,0.3454732043018869,-0.5569914470776471,-0.44582630975238624,2.8319313931223347,2.2801627286450485,1.209993253282053,0.09504486434510401,1.0275099629228186,-1.3478968678350511,1.263349306325821,0.6446994450351753,0.3372422081383686,-0.37663911470308814,-0.41128906290655165,0.2740661757383904,0.8307809509608569,0.09974064493153914,-0.4432047085326059,-0.03856477255306065,-0.12560136077367148,-0.5913960415329688,-0.19313389525112634,-0.42674109057431664,-0.12805618860776607],\"yaxis\":\"y14\",\"type\":\"scatter\"},{\"line\":{\"color\":\"rgba(128, 128, 128, 1.0)\",\"dash\":\"solid\",\"shape\":\"linear\",\"width\":1.3},\"marker\":{\"size\":2,\"symbol\":\"circle\"},\"mode\":\"markers\",\"name\":\"D\",\"text\":\"\",\"x\":[0.24580720293270789,-0.16791258338056927,-0.3551479634347549,-1.3233085331930585,0.7097797908246052,0.31040033879971257,-1.6718985315521668,0.4558342746292871,0.6514803065472838,0.08110556967608246,1.0260850390526737,1.1020529487741573,-0.07079645264341279,0.6993218505747866,0.8257781490301271,0.3912486892400691,-0.42834637536562875,1.3110906708710228,-0.013808944615887742,0.8673460817320041,-0.0676721955089728,1.1595969389127676,-2.659098634214604,1.1872328751495338,0.6325408476490932,-1.1258226640300024,-0.20268519369486213,1.1236106734617177,-0.6080856244352839,-1.2177214608605689,1.0276095480784375,0.0927468330768223,0.1602110795401743,-0.5042954689831142,-0.47728877956374566,0.26523305088620625,0.03614873092792522,0.8437171837795762,-1.8962433054646162,0.6561221119045462,-0.3263394816877104,-0.13154920221109132,-0.3139253977492223,0.3369570346411211,1.3355867881817336,-0.38525189743613936,0.6488424993995671,0.42343375066531047,1.0584993329798738,-0.6868277034680705,0.9059310468128209,-0.3461808821898123,-0.9161137066046858,-1.5032945636101964,-1.0043357428623314,0.4056862397127461,0.5268023994911366,-1.7256377069714444,-0.4783352503905883,-0.6556621746351436,-1.8844086686528698,1.1798865505687492,-1.3421246750205809,-0.23560665404353476,0.21369864561464302,-0.24759708685697168,-1.3016092767861585,0.2414783341289692,0.723525851278836,0.26409779961735136,0.6823036091120643,0.16593570160663768,-0.06173788566606027,1.7928139857018244,-0.6882336938667062,-1.7929803680573533,1.877860173947971,-0.6234395949275936,-0.9671511628687711,-0.4495149890052343,-1.7239661938374629,0.11603006916036149,-0.19123405951466851,-0.3084811571021436,-0.9445287301697122,-0.6760778171840082,-0.3220953942413495,0.31451053248896116,0.5169515130689945,-0.041813606015498904,1.2800522964060397,-0.2643507897701546,0.851981930005477,1.2268302192809262,-0.9013530736648057,-0.6253983724844503,-0.5291521293215709,0.10300817655146013,1.106842872035679,-0.14627641238432817],\"xaxis\":\"x15\",\"y\":[-2.152868158232687,0.22147600083290267,2.0258967250186357,-0.8559096402277154,-1.4493963564928796,-0.7237887927557322,0.04994827515307033,0.23762938713516832,0.20917147145454562,0.5000432132657668,2.111735139961974,-0.18341074673914798,0.6268962272953703,2.3964200652668124,1.7259510244487086,-2.063163575013612,0.1379776183602663,-1.354467172609517,-0.241329364537885,-2.595775805420712,-0.5772752585875544,1.3069010034627697,-0.8909400121837199,-0.8434653651679853,1.7825504414506432,0.40306466107041566,-0.2002688213178314,-1.3538177425957982,-1.049201725002004,1.5211526564385496,-1.0806741783898786,2.1647496672772775,-1.402318347071575,0.47468852593249256,-1.5015980645274436,-0.41275995971813023,1.3883375285529573,-0.41045570940836346,1.5148074330667176,0.7813872002039445,-1.207026042101101,-0.6355157242831765,-1.7797644460245459,0.5870587013270901,-0.6911624265195444,1.0213851060342434,-0.9957843325465735,0.2378174771494934,0.39209669237121597,0.33877140830953195,-0.2742291462613146,-0.17081298756578328,0.18279547264917811,1.2895860229045453,0.7445830023862078,0.7067083876243946,-0.29961938111665587,0.1101668027363602,-1.4656918987730918,0.34232983864472594,-0.40070219794675555,0.4363246196936259,-0.6495722058337039,0.33217657663609085,-1.113834833270538,-0.2956601719820081,-0.12207866184611177,-0.5655743720402427,0.9122001626732609,-0.6171760567819509,-0.41140049703854514,0.18637925528471375,0.8359844659765966,0.9680438704685685,-0.701446077454482,1.0625053169816423,0.3454732043018869,-0.5569914470776471,-0.44582630975238624,2.8319313931223347,2.2801627286450485,1.209993253282053,0.09504486434510401,1.0275099629228186,-1.3478968678350511,1.263349306325821,0.6446994450351753,0.3372422081383686,-0.37663911470308814,-0.41128906290655165,0.2740661757383904,0.8307809509608569,0.09974064493153914,-0.4432047085326059,-0.03856477255306065,-0.12560136077367148,-0.5913960415329688,-0.19313389525112634,-0.42674109057431664,-0.12805618860776607],\"yaxis\":\"y15\",\"type\":\"scatter\"},{\"histfunc\":\"count\",\"histnorm\":\"\",\"marker\":{\"color\":\"rgba(128, 0, 128, 1.0)\",\"line\":{\"color\":\"#4D5663\",\"width\":1.3}},\"name\":\"D\",\"nbinsx\":10,\"opacity\":0.8,\"orientation\":\"v\",\"x\":[-2.152868158232687,0.22147600083290267,2.0258967250186357,-0.8559096402277154,-1.4493963564928796,-0.7237887927557322,0.04994827515307033,0.23762938713516832,0.20917147145454562,0.5000432132657668,2.111735139961974,-0.18341074673914798,0.6268962272953703,2.3964200652668124,1.7259510244487086,-2.063163575013612,0.1379776183602663,-1.354467172609517,-0.241329364537885,-2.595775805420712,-0.5772752585875544,1.3069010034627697,-0.8909400121837199,-0.8434653651679853,1.7825504414506432,0.40306466107041566,-0.2002688213178314,-1.3538177425957982,-1.049201725002004,1.5211526564385496,-1.0806741783898786,2.1647496672772775,-1.402318347071575,0.47468852593249256,-1.5015980645274436,-0.41275995971813023,1.3883375285529573,-0.41045570940836346,1.5148074330667176,0.7813872002039445,-1.207026042101101,-0.6355157242831765,-1.7797644460245459,0.5870587013270901,-0.6911624265195444,1.0213851060342434,-0.9957843325465735,0.2378174771494934,0.39209669237121597,0.33877140830953195,-0.2742291462613146,-0.17081298756578328,0.18279547264917811,1.2895860229045453,0.7445830023862078,0.7067083876243946,-0.29961938111665587,0.1101668027363602,-1.4656918987730918,0.34232983864472594,-0.40070219794675555,0.4363246196936259,-0.6495722058337039,0.33217657663609085,-1.113834833270538,-0.2956601719820081,-0.12207866184611177,-0.5655743720402427,0.9122001626732609,-0.6171760567819509,-0.41140049703854514,0.18637925528471375,0.8359844659765966,0.9680438704685685,-0.701446077454482,1.0625053169816423,0.3454732043018869,-0.5569914470776471,-0.44582630975238624,2.8319313931223347,2.2801627286450485,1.209993253282053,0.09504486434510401,1.0275099629228186,-1.3478968678350511,1.263349306325821,0.6446994450351753,0.3372422081383686,-0.37663911470308814,-0.41128906290655165,0.2740661757383904,0.8307809509608569,0.09974064493153914,-0.4432047085326059,-0.03856477255306065,-0.12560136077367148,-0.5913960415329688,-0.19313389525112634,-0.42674109057431664,-0.12805618860776607],\"xaxis\":\"x16\",\"yaxis\":\"y16\",\"type\":\"histogram\"}],                        {\"bargap\":0.02,\"legend\":{\"bgcolor\":\"#F5F6F9\",\"font\":{\"color\":\"#4D5663\"}},\"paper_bgcolor\":\"#F5F6F9\",\"plot_bgcolor\":\"#F5F6F9\",\"showlegend\":false,\"template\":{\"data\":{\"barpolar\":[{\"marker\":{\"line\":{\"color\":\"#E5ECF6\",\"width\":0.5},\"pattern\":{\"fillmode\":\"overlay\",\"size\":10,\"solidity\":0.2}},\"type\":\"barpolar\"}],\"bar\":[{\"error_x\":{\"color\":\"#2a3f5f\"},\"error_y\":{\"color\":\"#2a3f5f\"},\"marker\":{\"line\":{\"color\":\"#E5ECF6\",\"width\":0.5},\"pattern\":{\"fillmode\":\"overlay\",\"size\":10,\"solidity\":0.2}},\"type\":\"bar\"}],\"carpet\":[{\"aaxis\":{\"endlinecolor\":\"#2a3f5f\",\"gridcolor\":\"white\",\"linecolor\":\"white\",\"minorgridcolor\":\"white\",\"startlinecolor\":\"#2a3f5f\"},\"baxis\":{\"endlinecolor\":\"#2a3f5f\",\"gridcolor\":\"white\",\"linecolor\":\"white\",\"minorgridcolor\":\"white\",\"startlinecolor\":\"#2a3f5f\"},\"type\":\"carpet\"}],\"choropleth\":[{\"colorbar\":{\"outlinewidth\":0,\"ticks\":\"\"},\"type\":\"choropleth\"}],\"contourcarpet\":[{\"colorbar\":{\"outlinewidth\":0,\"ticks\":\"\"},\"type\":\"contourcarpet\"}],\"contour\":[{\"colorbar\":{\"outlinewidth\":0,\"ticks\":\"\"},\"colorscale\":[[0.0,\"#0d0887\"],[0.1111111111111111,\"#46039f\"],[0.2222222222222222,\"#7201a8\"],[0.3333333333333333,\"#9c179e\"],[0.4444444444444444,\"#bd3786\"],[0.5555555555555556,\"#d8576b\"],[0.6666666666666666,\"#ed7953\"],[0.7777777777777778,\"#fb9f3a\"],[0.8888888888888888,\"#fdca26\"],[1.0,\"#f0f921\"]],\"type\":\"contour\"}],\"heatmapgl\":[{\"colorbar\":{\"outlinewidth\":0,\"ticks\":\"\"},\"colorscale\":[[0.0,\"#0d0887\"],[0.1111111111111111,\"#46039f\"],[0.2222222222222222,\"#7201a8\"],[0.3333333333333333,\"#9c179e\"],[0.4444444444444444,\"#bd3786\"],[0.5555555555555556,\"#d8576b\"],[0.6666666666666666,\"#ed7953\"],[0.7777777777777778,\"#fb9f3a\"],[0.8888888888888888,\"#fdca26\"],[1.0,\"#f0f921\"]],\"type\":\"heatmapgl\"}],\"heatmap\":[{\"colorbar\":{\"outlinewidth\":0,\"ticks\":\"\"},\"colorscale\":[[0.0,\"#0d0887\"],[0.1111111111111111,\"#46039f\"],[0.2222222222222222,\"#7201a8\"],[0.3333333333333333,\"#9c179e\"],[0.4444444444444444,\"#bd3786\"],[0.5555555555555556,\"#d8576b\"],[0.6666666666666666,\"#ed7953\"],[0.7777777777777778,\"#fb9f3a\"],[0.8888888888888888,\"#fdca26\"],[1.0,\"#f0f921\"]],\"type\":\"heatmap\"}],\"histogram2dcontour\":[{\"colorbar\":{\"outlinewidth\":0,\"ticks\":\"\"},\"colorscale\":[[0.0,\"#0d0887\"],[0.1111111111111111,\"#46039f\"],[0.2222222222222222,\"#7201a8\"],[0.3333333333333333,\"#9c179e\"],[0.4444444444444444,\"#bd3786\"],[0.5555555555555556,\"#d8576b\"],[0.6666666666666666,\"#ed7953\"],[0.7777777777777778,\"#fb9f3a\"],[0.8888888888888888,\"#fdca26\"],[1.0,\"#f0f921\"]],\"type\":\"histogram2dcontour\"}],\"histogram2d\":[{\"colorbar\":{\"outlinewidth\":0,\"ticks\":\"\"},\"colorscale\":[[0.0,\"#0d0887\"],[0.1111111111111111,\"#46039f\"],[0.2222222222222222,\"#7201a8\"],[0.3333333333333333,\"#9c179e\"],[0.4444444444444444,\"#bd3786\"],[0.5555555555555556,\"#d8576b\"],[0.6666666666666666,\"#ed7953\"],[0.7777777777777778,\"#fb9f3a\"],[0.8888888888888888,\"#fdca26\"],[1.0,\"#f0f921\"]],\"type\":\"histogram2d\"}],\"histogram\":[{\"marker\":{\"pattern\":{\"fillmode\":\"overlay\",\"size\":10,\"solidity\":0.2}},\"type\":\"histogram\"}],\"mesh3d\":[{\"colorbar\":{\"outlinewidth\":0,\"ticks\":\"\"},\"type\":\"mesh3d\"}],\"parcoords\":[{\"line\":{\"colorbar\":{\"outlinewidth\":0,\"ticks\":\"\"}},\"type\":\"parcoords\"}],\"pie\":[{\"automargin\":true,\"type\":\"pie\"}],\"scatter3d\":[{\"line\":{\"colorbar\":{\"outlinewidth\":0,\"ticks\":\"\"}},\"marker\":{\"colorbar\":{\"outlinewidth\":0,\"ticks\":\"\"}},\"type\":\"scatter3d\"}],\"scattercarpet\":[{\"marker\":{\"colorbar\":{\"outlinewidth\":0,\"ticks\":\"\"}},\"type\":\"scattercarpet\"}],\"scattergeo\":[{\"marker\":{\"colorbar\":{\"outlinewidth\":0,\"ticks\":\"\"}},\"type\":\"scattergeo\"}],\"scattergl\":[{\"marker\":{\"colorbar\":{\"outlinewidth\":0,\"ticks\":\"\"}},\"type\":\"scattergl\"}],\"scattermapbox\":[{\"marker\":{\"colorbar\":{\"outlinewidth\":0,\"ticks\":\"\"}},\"type\":\"scattermapbox\"}],\"scatterpolargl\":[{\"marker\":{\"colorbar\":{\"outlinewidth\":0,\"ticks\":\"\"}},\"type\":\"scatterpolargl\"}],\"scatterpolar\":[{\"marker\":{\"colorbar\":{\"outlinewidth\":0,\"ticks\":\"\"}},\"type\":\"scatterpolar\"}],\"scatter\":[{\"fillpattern\":{\"fillmode\":\"overlay\",\"size\":10,\"solidity\":0.2},\"type\":\"scatter\"}],\"scatterternary\":[{\"marker\":{\"colorbar\":{\"outlinewidth\":0,\"ticks\":\"\"}},\"type\":\"scatterternary\"}],\"surface\":[{\"colorbar\":{\"outlinewidth\":0,\"ticks\":\"\"},\"colorscale\":[[0.0,\"#0d0887\"],[0.1111111111111111,\"#46039f\"],[0.2222222222222222,\"#7201a8\"],[0.3333333333333333,\"#9c179e\"],[0.4444444444444444,\"#bd3786\"],[0.5555555555555556,\"#d8576b\"],[0.6666666666666666,\"#ed7953\"],[0.7777777777777778,\"#fb9f3a\"],[0.8888888888888888,\"#fdca26\"],[1.0,\"#f0f921\"]],\"type\":\"surface\"}],\"table\":[{\"cells\":{\"fill\":{\"color\":\"#EBF0F8\"},\"line\":{\"color\":\"white\"}},\"header\":{\"fill\":{\"color\":\"#C8D4E3\"},\"line\":{\"color\":\"white\"}},\"type\":\"table\"}]},\"layout\":{\"annotationdefaults\":{\"arrowcolor\":\"#2a3f5f\",\"arrowhead\":0,\"arrowwidth\":1},\"autotypenumbers\":\"strict\",\"coloraxis\":{\"colorbar\":{\"outlinewidth\":0,\"ticks\":\"\"}},\"colorscale\":{\"diverging\":[[0,\"#8e0152\"],[0.1,\"#c51b7d\"],[0.2,\"#de77ae\"],[0.3,\"#f1b6da\"],[0.4,\"#fde0ef\"],[0.5,\"#f7f7f7\"],[0.6,\"#e6f5d0\"],[0.7,\"#b8e186\"],[0.8,\"#7fbc41\"],[0.9,\"#4d9221\"],[1,\"#276419\"]],\"sequential\":[[0.0,\"#0d0887\"],[0.1111111111111111,\"#46039f\"],[0.2222222222222222,\"#7201a8\"],[0.3333333333333333,\"#9c179e\"],[0.4444444444444444,\"#bd3786\"],[0.5555555555555556,\"#d8576b\"],[0.6666666666666666,\"#ed7953\"],[0.7777777777777778,\"#fb9f3a\"],[0.8888888888888888,\"#fdca26\"],[1.0,\"#f0f921\"]],\"sequentialminus\":[[0.0,\"#0d0887\"],[0.1111111111111111,\"#46039f\"],[0.2222222222222222,\"#7201a8\"],[0.3333333333333333,\"#9c179e\"],[0.4444444444444444,\"#bd3786\"],[0.5555555555555556,\"#d8576b\"],[0.6666666666666666,\"#ed7953\"],[0.7777777777777778,\"#fb9f3a\"],[0.8888888888888888,\"#fdca26\"],[1.0,\"#f0f921\"]]},\"colorway\":[\"#636efa\",\"#EF553B\",\"#00cc96\",\"#ab63fa\",\"#FFA15A\",\"#19d3f3\",\"#FF6692\",\"#B6E880\",\"#FF97FF\",\"#FECB52\"],\"font\":{\"color\":\"#2a3f5f\"},\"geo\":{\"bgcolor\":\"white\",\"lakecolor\":\"white\",\"landcolor\":\"#E5ECF6\",\"showlakes\":true,\"showland\":true,\"subunitcolor\":\"white\"},\"hoverlabel\":{\"align\":\"left\"},\"hovermode\":\"closest\",\"mapbox\":{\"style\":\"light\"},\"paper_bgcolor\":\"white\",\"plot_bgcolor\":\"#E5ECF6\",\"polar\":{\"angularaxis\":{\"gridcolor\":\"white\",\"linecolor\":\"white\",\"ticks\":\"\"},\"bgcolor\":\"#E5ECF6\",\"radialaxis\":{\"gridcolor\":\"white\",\"linecolor\":\"white\",\"ticks\":\"\"}},\"scene\":{\"xaxis\":{\"backgroundcolor\":\"#E5ECF6\",\"gridcolor\":\"white\",\"gridwidth\":2,\"linecolor\":\"white\",\"showbackground\":true,\"ticks\":\"\",\"zerolinecolor\":\"white\"},\"yaxis\":{\"backgroundcolor\":\"#E5ECF6\",\"gridcolor\":\"white\",\"gridwidth\":2,\"linecolor\":\"white\",\"showbackground\":true,\"ticks\":\"\",\"zerolinecolor\":\"white\"},\"zaxis\":{\"backgroundcolor\":\"#E5ECF6\",\"gridcolor\":\"white\",\"gridwidth\":2,\"linecolor\":\"white\",\"showbackground\":true,\"ticks\":\"\",\"zerolinecolor\":\"white\"}},\"shapedefaults\":{\"line\":{\"color\":\"#2a3f5f\"}},\"ternary\":{\"aaxis\":{\"gridcolor\":\"white\",\"linecolor\":\"white\",\"ticks\":\"\"},\"baxis\":{\"gridcolor\":\"white\",\"linecolor\":\"white\",\"ticks\":\"\"},\"bgcolor\":\"#E5ECF6\",\"caxis\":{\"gridcolor\":\"white\",\"linecolor\":\"white\",\"ticks\":\"\"}},\"title\":{\"x\":0.05},\"xaxis\":{\"automargin\":true,\"gridcolor\":\"white\",\"linecolor\":\"white\",\"ticks\":\"\",\"title\":{\"standoff\":15},\"zerolinecolor\":\"white\",\"zerolinewidth\":2},\"yaxis\":{\"automargin\":true,\"gridcolor\":\"white\",\"linecolor\":\"white\",\"ticks\":\"\",\"title\":{\"standoff\":15},\"zerolinecolor\":\"white\",\"zerolinewidth\":2}}},\"title\":{\"font\":{\"color\":\"#4D5663\"}},\"xaxis\":{\"anchor\":\"y\",\"domain\":[0.0,0.2125],\"gridcolor\":\"#E1E5ED\",\"showgrid\":false,\"tickfont\":{\"color\":\"#4D5663\"},\"title\":{\"font\":{\"color\":\"#4D5663\"},\"text\":\"\"},\"zerolinecolor\":\"#E1E5ED\"},\"yaxis\":{\"anchor\":\"x\",\"domain\":[0.8025,1.0],\"gridcolor\":\"#E1E5ED\",\"showgrid\":false,\"tickfont\":{\"color\":\"#4D5663\"},\"title\":{\"font\":{\"color\":\"#4D5663\"},\"text\":\"\"},\"zerolinecolor\":\"#E1E5ED\"},\"xaxis2\":{\"anchor\":\"y2\",\"domain\":[0.2625,0.475],\"gridcolor\":\"#E1E5ED\",\"showgrid\":false,\"tickfont\":{\"color\":\"#4D5663\"},\"title\":{\"font\":{\"color\":\"#4D5663\"},\"text\":\"\"},\"zerolinecolor\":\"#E1E5ED\"},\"yaxis2\":{\"anchor\":\"x2\",\"domain\":[0.8025,1.0],\"gridcolor\":\"#E1E5ED\",\"showgrid\":false,\"tickfont\":{\"color\":\"#4D5663\"},\"title\":{\"font\":{\"color\":\"#4D5663\"},\"text\":\"\"},\"zerolinecolor\":\"#E1E5ED\"},\"xaxis3\":{\"anchor\":\"y3\",\"domain\":[0.525,0.7375],\"gridcolor\":\"#E1E5ED\",\"showgrid\":false,\"tickfont\":{\"color\":\"#4D5663\"},\"title\":{\"font\":{\"color\":\"#4D5663\"},\"text\":\"\"},\"zerolinecolor\":\"#E1E5ED\"},\"yaxis3\":{\"anchor\":\"x3\",\"domain\":[0.8025,1.0],\"gridcolor\":\"#E1E5ED\",\"showgrid\":false,\"tickfont\":{\"color\":\"#4D5663\"},\"title\":{\"font\":{\"color\":\"#4D5663\"},\"text\":\"\"},\"zerolinecolor\":\"#E1E5ED\"},\"xaxis4\":{\"anchor\":\"y4\",\"domain\":[0.7875,1.0],\"gridcolor\":\"#E1E5ED\",\"showgrid\":false,\"tickfont\":{\"color\":\"#4D5663\"},\"title\":{\"font\":{\"color\":\"#4D5663\"},\"text\":\"\"},\"zerolinecolor\":\"#E1E5ED\"},\"yaxis4\":{\"anchor\":\"x4\",\"domain\":[0.8025,1.0],\"gridcolor\":\"#E1E5ED\",\"showgrid\":false,\"tickfont\":{\"color\":\"#4D5663\"},\"title\":{\"font\":{\"color\":\"#4D5663\"},\"text\":\"\"},\"zerolinecolor\":\"#E1E5ED\"},\"xaxis5\":{\"anchor\":\"y5\",\"domain\":[0.0,0.2125],\"gridcolor\":\"#E1E5ED\",\"showgrid\":false,\"tickfont\":{\"color\":\"#4D5663\"},\"title\":{\"font\":{\"color\":\"#4D5663\"},\"text\":\"\"},\"zerolinecolor\":\"#E1E5ED\"},\"yaxis5\":{\"anchor\":\"x5\",\"domain\":[0.535,0.7325],\"gridcolor\":\"#E1E5ED\",\"showgrid\":false,\"tickfont\":{\"color\":\"#4D5663\"},\"title\":{\"font\":{\"color\":\"#4D5663\"},\"text\":\"\"},\"zerolinecolor\":\"#E1E5ED\"},\"xaxis6\":{\"anchor\":\"y6\",\"domain\":[0.2625,0.475],\"gridcolor\":\"#E1E5ED\",\"showgrid\":false,\"tickfont\":{\"color\":\"#4D5663\"},\"title\":{\"font\":{\"color\":\"#4D5663\"},\"text\":\"\"},\"zerolinecolor\":\"#E1E5ED\"},\"yaxis6\":{\"anchor\":\"x6\",\"domain\":[0.535,0.7325],\"gridcolor\":\"#E1E5ED\",\"showgrid\":false,\"tickfont\":{\"color\":\"#4D5663\"},\"title\":{\"font\":{\"color\":\"#4D5663\"},\"text\":\"\"},\"zerolinecolor\":\"#E1E5ED\"},\"xaxis7\":{\"anchor\":\"y7\",\"domain\":[0.525,0.7375],\"gridcolor\":\"#E1E5ED\",\"showgrid\":false,\"tickfont\":{\"color\":\"#4D5663\"},\"title\":{\"font\":{\"color\":\"#4D5663\"},\"text\":\"\"},\"zerolinecolor\":\"#E1E5ED\"},\"yaxis7\":{\"anchor\":\"x7\",\"domain\":[0.535,0.7325],\"gridcolor\":\"#E1E5ED\",\"showgrid\":false,\"tickfont\":{\"color\":\"#4D5663\"},\"title\":{\"font\":{\"color\":\"#4D5663\"},\"text\":\"\"},\"zerolinecolor\":\"#E1E5ED\"},\"xaxis8\":{\"anchor\":\"y8\",\"domain\":[0.7875,1.0],\"gridcolor\":\"#E1E5ED\",\"showgrid\":false,\"tickfont\":{\"color\":\"#4D5663\"},\"title\":{\"font\":{\"color\":\"#4D5663\"},\"text\":\"\"},\"zerolinecolor\":\"#E1E5ED\"},\"yaxis8\":{\"anchor\":\"x8\",\"domain\":[0.535,0.7325],\"gridcolor\":\"#E1E5ED\",\"showgrid\":false,\"tickfont\":{\"color\":\"#4D5663\"},\"title\":{\"font\":{\"color\":\"#4D5663\"},\"text\":\"\"},\"zerolinecolor\":\"#E1E5ED\"},\"xaxis9\":{\"anchor\":\"y9\",\"domain\":[0.0,0.2125],\"gridcolor\":\"#E1E5ED\",\"showgrid\":false,\"tickfont\":{\"color\":\"#4D5663\"},\"title\":{\"font\":{\"color\":\"#4D5663\"},\"text\":\"\"},\"zerolinecolor\":\"#E1E5ED\"},\"yaxis9\":{\"anchor\":\"x9\",\"domain\":[0.2675,0.465],\"gridcolor\":\"#E1E5ED\",\"showgrid\":false,\"tickfont\":{\"color\":\"#4D5663\"},\"title\":{\"font\":{\"color\":\"#4D5663\"},\"text\":\"\"},\"zerolinecolor\":\"#E1E5ED\"},\"xaxis10\":{\"anchor\":\"y10\",\"domain\":[0.2625,0.475],\"gridcolor\":\"#E1E5ED\",\"showgrid\":false,\"tickfont\":{\"color\":\"#4D5663\"},\"title\":{\"font\":{\"color\":\"#4D5663\"},\"text\":\"\"},\"zerolinecolor\":\"#E1E5ED\"},\"yaxis10\":{\"anchor\":\"x10\",\"domain\":[0.2675,0.465],\"gridcolor\":\"#E1E5ED\",\"showgrid\":false,\"tickfont\":{\"color\":\"#4D5663\"},\"title\":{\"font\":{\"color\":\"#4D5663\"},\"text\":\"\"},\"zerolinecolor\":\"#E1E5ED\"},\"xaxis11\":{\"anchor\":\"y11\",\"domain\":[0.525,0.7375],\"gridcolor\":\"#E1E5ED\",\"showgrid\":false,\"tickfont\":{\"color\":\"#4D5663\"},\"title\":{\"font\":{\"color\":\"#4D5663\"},\"text\":\"\"},\"zerolinecolor\":\"#E1E5ED\"},\"yaxis11\":{\"anchor\":\"x11\",\"domain\":[0.2675,0.465],\"gridcolor\":\"#E1E5ED\",\"showgrid\":false,\"tickfont\":{\"color\":\"#4D5663\"},\"title\":{\"font\":{\"color\":\"#4D5663\"},\"text\":\"\"},\"zerolinecolor\":\"#E1E5ED\"},\"xaxis12\":{\"anchor\":\"y12\",\"domain\":[0.7875,1.0],\"gridcolor\":\"#E1E5ED\",\"showgrid\":false,\"tickfont\":{\"color\":\"#4D5663\"},\"title\":{\"font\":{\"color\":\"#4D5663\"},\"text\":\"\"},\"zerolinecolor\":\"#E1E5ED\"},\"yaxis12\":{\"anchor\":\"x12\",\"domain\":[0.2675,0.465],\"gridcolor\":\"#E1E5ED\",\"showgrid\":false,\"tickfont\":{\"color\":\"#4D5663\"},\"title\":{\"font\":{\"color\":\"#4D5663\"},\"text\":\"\"},\"zerolinecolor\":\"#E1E5ED\"},\"xaxis13\":{\"anchor\":\"y13\",\"domain\":[0.0,0.2125],\"gridcolor\":\"#E1E5ED\",\"showgrid\":false,\"tickfont\":{\"color\":\"#4D5663\"},\"title\":{\"font\":{\"color\":\"#4D5663\"},\"text\":\"\"},\"zerolinecolor\":\"#E1E5ED\"},\"yaxis13\":{\"anchor\":\"x13\",\"domain\":[0.0,0.1975],\"gridcolor\":\"#E1E5ED\",\"showgrid\":false,\"tickfont\":{\"color\":\"#4D5663\"},\"title\":{\"font\":{\"color\":\"#4D5663\"},\"text\":\"\"},\"zerolinecolor\":\"#E1E5ED\"},\"xaxis14\":{\"anchor\":\"y14\",\"domain\":[0.2625,0.475],\"gridcolor\":\"#E1E5ED\",\"showgrid\":false,\"tickfont\":{\"color\":\"#4D5663\"},\"title\":{\"font\":{\"color\":\"#4D5663\"},\"text\":\"\"},\"zerolinecolor\":\"#E1E5ED\"},\"yaxis14\":{\"anchor\":\"x14\",\"domain\":[0.0,0.1975],\"gridcolor\":\"#E1E5ED\",\"showgrid\":false,\"tickfont\":{\"color\":\"#4D5663\"},\"title\":{\"font\":{\"color\":\"#4D5663\"},\"text\":\"\"},\"zerolinecolor\":\"#E1E5ED\"},\"xaxis15\":{\"anchor\":\"y15\",\"domain\":[0.525,0.7375],\"gridcolor\":\"#E1E5ED\",\"showgrid\":false,\"tickfont\":{\"color\":\"#4D5663\"},\"title\":{\"font\":{\"color\":\"#4D5663\"},\"text\":\"\"},\"zerolinecolor\":\"#E1E5ED\"},\"yaxis15\":{\"anchor\":\"x15\",\"domain\":[0.0,0.1975],\"gridcolor\":\"#E1E5ED\",\"showgrid\":false,\"tickfont\":{\"color\":\"#4D5663\"},\"title\":{\"font\":{\"color\":\"#4D5663\"},\"text\":\"\"},\"zerolinecolor\":\"#E1E5ED\"},\"xaxis16\":{\"anchor\":\"y16\",\"domain\":[0.7875,1.0],\"gridcolor\":\"#E1E5ED\",\"showgrid\":false,\"tickfont\":{\"color\":\"#4D5663\"},\"title\":{\"font\":{\"color\":\"#4D5663\"},\"text\":\"\"},\"zerolinecolor\":\"#E1E5ED\"},\"yaxis16\":{\"anchor\":\"x16\",\"domain\":[0.0,0.1975],\"gridcolor\":\"#E1E5ED\",\"showgrid\":false,\"tickfont\":{\"color\":\"#4D5663\"},\"title\":{\"font\":{\"color\":\"#4D5663\"},\"text\":\"\"},\"zerolinecolor\":\"#E1E5ED\"}},                        {\"showLink\": true, \"linkText\": \"Export to plot.ly\", \"plotlyServerURL\": \"https://plot.ly\", \"responsive\": true}                    ).then(function(){\n",
       "                            \n",
       "var gd = document.getElementById('829f22d9-844b-4c95-9ceb-30422b73bdc2');\n",
       "var x = new MutationObserver(function (mutations, observer) {{\n",
       "        var display = window.getComputedStyle(gd).display;\n",
       "        if (!display || display === 'none') {{\n",
       "            console.log([gd, 'removed!']);\n",
       "            Plotly.purge(gd);\n",
       "            observer.disconnect();\n",
       "        }}\n",
       "}});\n",
       "\n",
       "// Listen for the removal of the full notebook cells\n",
       "var notebookContainer = gd.closest('#notebook-container');\n",
       "if (notebookContainer) {{\n",
       "    x.observe(notebookContainer, {childList: true});\n",
       "}}\n",
       "\n",
       "// Listen for the clearing of the current output cell\n",
       "var outputEl = gd.closest('.output');\n",
       "if (outputEl) {{\n",
       "    x.observe(outputEl, {childList: true});\n",
       "}}\n",
       "\n",
       "                        })                };                });            </script>        </div>"
      ]
     },
     "metadata": {},
     "output_type": "display_data"
    }
   ],
   "source": [
    "df.scatter_matrix()"
   ]
  },
  {
   "cell_type": "markdown",
   "metadata": {
    "collapsed": true
   },
   "source": [
    "# Great Job!"
   ]
  }
 ],
 "metadata": {
  "kernelspec": {
   "display_name": "Python 3",
   "language": "python",
   "name": "python3"
  },
  "language_info": {
   "codemirror_mode": {
    "name": "ipython",
    "version": 3
   },
   "file_extension": ".py",
   "mimetype": "text/x-python",
   "name": "python",
   "nbconvert_exporter": "python",
   "pygments_lexer": "ipython3",
   "version": "3.8.8"
  }
 },
 "nbformat": 4,
 "nbformat_minor": 1
}
