{
  "nbformat": 4,
  "nbformat_minor": 0,
  "metadata": {
    "colab": {
      "name": "RDD Transformations and actions.ipynb",
      "provenance": [],
      "authorship_tag": "ABX9TyOMcTUKqiSvxYLuLl4Imolb",
      "include_colab_link": true
    },
    "kernelspec": {
      "name": "python3",
      "display_name": "Python 3"
    },
    "language_info": {
      "name": "python"
    }
  },
  "cells": [
    {
      "cell_type": "markdown",
      "metadata": {
        "id": "view-in-github",
        "colab_type": "text"
      },
      "source": [
        "<a href=\"https://colab.research.google.com/github/GauraoM/ML-Basics-Definitions/blob/main/RDD_Transformations_and_actions.ipynb\" target=\"_parent\"><img src=\"https://colab.research.google.com/assets/colab-badge.svg\" alt=\"Open In Colab\"/></a>"
      ]
    },
    {
      "cell_type": "code",
      "execution_count": 7,
      "metadata": {
        "id": "kST6YzXnjSYb"
      },
      "outputs": [],
      "source": [
        "from pyspark import SparkContext"
      ]
    },
    {
      "cell_type": "code",
      "source": [
        "sc = SparkContext()"
      ],
      "metadata": {
        "id": "2nW9Y4uIlN_m"
      },
      "execution_count": 8,
      "outputs": []
    },
    {
      "cell_type": "code",
      "source": [
        "# Create a text file\n",
        "%%writefile example.txt\n",
        "first line\n",
        "second line\n",
        "third line\n",
        "fourth line"
      ],
      "metadata": {
        "colab": {
          "base_uri": "https://localhost:8080/"
        },
        "id": "xek4IOfvlnxH",
        "outputId": "9deb0ff5-dfec-4eba-8d2a-7b94308556e9"
      },
      "execution_count": 9,
      "outputs": [
        {
          "output_type": "stream",
          "name": "stdout",
          "text": [
            "Writing example.txt\n"
          ]
        }
      ]
    },
    {
      "cell_type": "code",
      "source": [
        "#read a text file\n",
        "textFile = sc.textFile(\"example.txt\") "
      ],
      "metadata": {
        "id": "ghDGCTDNl975"
      },
      "execution_count": 10,
      "outputs": []
    },
    {
      "cell_type": "code",
      "source": [
        "# Perform s transformation to RDD\n",
        "textFile.count()"
      ],
      "metadata": {
        "colab": {
          "base_uri": "https://localhost:8080/"
        },
        "id": "hhcqGz9Qmfod",
        "outputId": "9286a0bb-1cfd-49ce-ce10-ca56d92624a4"
      },
      "execution_count": 11,
      "outputs": [
        {
          "output_type": "execute_result",
          "data": {
            "text/plain": [
              "4"
            ]
          },
          "metadata": {},
          "execution_count": 11
        }
      ]
    },
    {
      "cell_type": "code",
      "source": [
        "secfind = textFile.filter(lambda line: 'second' in line)\n",
        "secfind"
      ],
      "metadata": {
        "colab": {
          "base_uri": "https://localhost:8080/"
        },
        "id": "_MtGkuRvmmMS",
        "outputId": "9fc20340-7bee-4419-fb15-e465b61a7e89"
      },
      "execution_count": 13,
      "outputs": [
        {
          "output_type": "execute_result",
          "data": {
            "text/plain": [
              "PythonRDD[3] at RDD at PythonRDD.scala:53"
            ]
          },
          "metadata": {},
          "execution_count": 13
        }
      ]
    },
    {
      "cell_type": "code",
      "source": [
        "# Perform action on transformation\n",
        "secfind.collect()"
      ],
      "metadata": {
        "colab": {
          "base_uri": "https://localhost:8080/"
        },
        "id": "TCP52WY6ncew",
        "outputId": "452b1c4e-3627-4536-fb78-3be444ba459f"
      },
      "execution_count": 14,
      "outputs": [
        {
          "output_type": "execute_result",
          "data": {
            "text/plain": [
              "['second line']"
            ]
          },
          "metadata": {},
          "execution_count": 14
        }
      ]
    },
    {
      "cell_type": "markdown",
      "source": [
        "#### Creating an RDD from a text file:"
      ],
      "metadata": {
        "id": "9cJCFm0UsWJT"
      }
    },
    {
      "cell_type": "code",
      "source": [
        "%%writefile example2.txt\n",
        "first \n",
        "second line\n",
        "the third line\n",
        "then a fourth line"
      ],
      "metadata": {
        "colab": {
          "base_uri": "https://localhost:8080/"
        },
        "id": "4ni0nmlypgnW",
        "outputId": "0f94bb1d-66af-4295-da0c-006ed1f268e3"
      },
      "execution_count": 15,
      "outputs": [
        {
          "output_type": "stream",
          "name": "stdout",
          "text": [
            "Writing example2.txt\n"
          ]
        }
      ]
    },
    {
      "cell_type": "code",
      "source": [
        "from pyspark import SparkContext"
      ],
      "metadata": {
        "id": "HgdlUsNwsfS2"
      },
      "execution_count": 16,
      "outputs": []
    },
    {
      "cell_type": "code",
      "source": [
        "# Show RDD\n",
        "sc.textFile(\"example2.txt\")"
      ],
      "metadata": {
        "colab": {
          "base_uri": "https://localhost:8080/"
        },
        "id": "l10eutbtsp39",
        "outputId": "5682f3ab-6850-46b8-b1c9-b6e24b1919b3"
      },
      "execution_count": 18,
      "outputs": [
        {
          "output_type": "execute_result",
          "data": {
            "text/plain": [
              "example2.txt MapPartitionsRDD[5] at textFile at NativeMethodAccessorImpl.java:0"
            ]
          },
          "metadata": {},
          "execution_count": 18
        }
      ]
    },
    {
      "cell_type": "code",
      "source": [
        "# Save a reference to this RDD\n",
        "text_rdd = sc.textFile('example2.txt')"
      ],
      "metadata": {
        "id": "UYb8Ep0HtBnp"
      },
      "execution_count": 19,
      "outputs": []
    },
    {
      "cell_type": "code",
      "source": [
        "# Map a function (or lambda expression) to each line\n",
        "# Then collect the results.\n",
        "words = text_rdd.map(lambda line:line.split())"
      ],
      "metadata": {
        "id": "XD05cngptHPe"
      },
      "execution_count": 20,
      "outputs": []
    },
    {
      "cell_type": "code",
      "source": [
        "words.collect()"
      ],
      "metadata": {
        "colab": {
          "base_uri": "https://localhost:8080/"
        },
        "id": "RgzzZ4BVtuVX",
        "outputId": "b115b21d-d0c3-422a-d06c-41f57d4d7f47"
      },
      "execution_count": 21,
      "outputs": [
        {
          "output_type": "execute_result",
          "data": {
            "text/plain": [
              "[['first'],\n",
              " ['second', 'line'],\n",
              " ['the', 'third', 'line'],\n",
              " ['then', 'a', 'fourth', 'line']]"
            ]
          },
          "metadata": {},
          "execution_count": 21
        }
      ]
    },
    {
      "cell_type": "markdown",
      "source": [
        "#### Map vs flatMap"
      ],
      "metadata": {
        "id": "ZMrburPPuDaZ"
      }
    },
    {
      "cell_type": "code",
      "source": [
        "text_rdd.flatMap(lambda line:line.split()).collect()"
      ],
      "metadata": {
        "colab": {
          "base_uri": "https://localhost:8080/"
        },
        "id": "TOuNPUqVuE2P",
        "outputId": "a9d38b1a-0f0e-4523-d82e-01c3f3baa100"
      },
      "execution_count": 23,
      "outputs": [
        {
          "output_type": "execute_result",
          "data": {
            "text/plain": [
              "['first',\n",
              " 'second',\n",
              " 'line',\n",
              " 'the',\n",
              " 'third',\n",
              " 'line',\n",
              " 'then',\n",
              " 'a',\n",
              " 'fourth',\n",
              " 'line']"
            ]
          },
          "metadata": {},
          "execution_count": 23
        }
      ]
    },
    {
      "cell_type": "markdown",
      "source": [
        "#### RDDs and Key Value Pairs"
      ],
      "metadata": {
        "id": "PdG_7gy9umKm"
      }
    },
    {
      "cell_type": "code",
      "source": [
        "%%writefile services.txt\n",
        "#EventId    Timestamp    Customer   State    ServiceID    Amount\n",
        "201       10/13/2017      100       NY       131          100.00\n",
        "204       10/18/2017      700       TX       129          450.00\n",
        "202       10/15/2017      203       CA       121          200.00\n",
        "206       10/19/2017      202       CA       131          500.00\n",
        "203       10/17/2017      101       NY       173          750.00\n",
        "205       10/19/2017      202       TX       121          200.00"
      ],
      "metadata": {
        "colab": {
          "base_uri": "https://localhost:8080/"
        },
        "id": "ycly5nE_uR9b",
        "outputId": "ac80cf9b-1c66-494c-8506-73637566bcaa"
      },
      "execution_count": 24,
      "outputs": [
        {
          "output_type": "stream",
          "name": "stdout",
          "text": [
            "Writing services.txt\n"
          ]
        }
      ]
    },
    {
      "cell_type": "code",
      "source": [
        "services = sc.textFile('services.txt')"
      ],
      "metadata": {
        "id": "A8egdqx_uqwP"
      },
      "execution_count": 25,
      "outputs": []
    },
    {
      "cell_type": "code",
      "source": [
        "# Display top 2 lines\n",
        "services.take(2)"
      ],
      "metadata": {
        "colab": {
          "base_uri": "https://localhost:8080/"
        },
        "id": "FPXi5s_XuvKR",
        "outputId": "c54978e2-f045-4c19-ea21-a208933ed713"
      },
      "execution_count": 26,
      "outputs": [
        {
          "output_type": "execute_result",
          "data": {
            "text/plain": [
              "['#EventId    Timestamp    Customer   State    ServiceID    Amount',\n",
              " '201       10/13/2017      100       NY       131          100.00']"
            ]
          },
          "metadata": {},
          "execution_count": 26
        }
      ]
    },
    {
      "cell_type": "code",
      "source": [
        "# Split line and display top3\n",
        "services.map(lambda line:line.split()).take(3)"
      ],
      "metadata": {
        "colab": {
          "base_uri": "https://localhost:8080/"
        },
        "id": "VJW6xVkvu7jV",
        "outputId": "19a49ddb-7c2a-4343-e5c5-5510840d624d"
      },
      "execution_count": 27,
      "outputs": [
        {
          "output_type": "execute_result",
          "data": {
            "text/plain": [
              "[['#EventId', 'Timestamp', 'Customer', 'State', 'ServiceID', 'Amount'],\n",
              " ['201', '10/13/2017', '100', 'NY', '131', '100.00'],\n",
              " ['204', '10/18/2017', '700', 'TX', '129', '450.00']]"
            ]
          },
          "metadata": {},
          "execution_count": 27
        }
      ]
    },
    {
      "cell_type": "code",
      "source": [
        "# Remove hash from EventId\n",
        "clean = services.map(lambda line:line[1:] if line[0]=='#' else line)"
      ],
      "metadata": {
        "id": "3pppRHy7vg7w"
      },
      "execution_count": 30,
      "outputs": []
    },
    {
      "cell_type": "code",
      "source": [
        "clean = clean.map(lambda line:line.split())"
      ],
      "metadata": {
        "id": "BiZJ-bWawY8u"
      },
      "execution_count": 31,
      "outputs": []
    },
    {
      "cell_type": "code",
      "source": [
        "clean.collect()"
      ],
      "metadata": {
        "colab": {
          "base_uri": "https://localhost:8080/"
        },
        "id": "_vBDRT4OwmA0",
        "outputId": "673de9fd-b482-49b7-b80f-61d4a4a592ba"
      },
      "execution_count": 32,
      "outputs": [
        {
          "output_type": "execute_result",
          "data": {
            "text/plain": [
              "[['EventId', 'Timestamp', 'Customer', 'State', 'ServiceID', 'Amount'],\n",
              " ['201', '10/13/2017', '100', 'NY', '131', '100.00'],\n",
              " ['204', '10/18/2017', '700', 'TX', '129', '450.00'],\n",
              " ['202', '10/15/2017', '203', 'CA', '121', '200.00'],\n",
              " ['206', '10/19/2017', '202', 'CA', '131', '500.00'],\n",
              " ['203', '10/17/2017', '101', 'NY', '173', '750.00'],\n",
              " ['205', '10/19/2017', '202', 'TX', '121', '200.00']]"
            ]
          },
          "metadata": {},
          "execution_count": 32
        }
      ]
    },
    {
      "cell_type": "markdown",
      "source": [
        "#### Using Key Value Pairs for Operations"
      ],
      "metadata": {
        "id": "xX1xV50FxImx"
      }
    },
    {
      "cell_type": "code",
      "source": [
        "# Grabbing fields\n",
        "pairs = clean.map(lambda lst: (lst[3],lst[-1]))"
      ],
      "metadata": {
        "id": "HIcvqQ0xwtOk"
      },
      "execution_count": 33,
      "outputs": []
    },
    {
      "cell_type": "code",
      "source": [
        "pairs.collect()"
      ],
      "metadata": {
        "colab": {
          "base_uri": "https://localhost:8080/"
        },
        "id": "TZH9nr5Lxqge",
        "outputId": "4edff8a0-bee5-4dcb-b5d8-91137946f292"
      },
      "execution_count": 34,
      "outputs": [
        {
          "output_type": "execute_result",
          "data": {
            "text/plain": [
              "[('State', 'Amount'),\n",
              " ('NY', '100.00'),\n",
              " ('TX', '450.00'),\n",
              " ('CA', '200.00'),\n",
              " ('CA', '500.00'),\n",
              " ('NY', '750.00'),\n",
              " ('TX', '200.00')]"
            ]
          },
          "metadata": {},
          "execution_count": 34
        }
      ]
    },
    {
      "cell_type": "code",
      "source": [
        "#reducekey\n",
        "rekey = pairs.reduceByKey(lambda amt1,amt2: float(amt1)+ float(amt2))"
      ],
      "metadata": {
        "id": "l2PxyKPhx9Bb"
      },
      "execution_count": 37,
      "outputs": []
    },
    {
      "cell_type": "code",
      "source": [
        "rekey.collect()"
      ],
      "metadata": {
        "colab": {
          "base_uri": "https://localhost:8080/"
        },
        "id": "v0HteWoaydL7",
        "outputId": "0e6b1165-c544-46b6-a146-108f958a38c5"
      },
      "execution_count": 38,
      "outputs": [
        {
          "output_type": "execute_result",
          "data": {
            "text/plain": [
              "[('State', 'Amount'), ('NY', 850.0), ('TX', 650.0), ('CA', 700.0)]"
            ]
          },
          "metadata": {},
          "execution_count": 38
        }
      ]
    },
    {
      "cell_type": "code",
      "source": [
        "# Grab (state,Amount)\n",
        "step1 = clean.map(lambda lst: (lst[3],lst[-1]))\n",
        "# Reduce by Key\n",
        "step2 = step1.reduceByKey(lambda amt1,amt2: float(amt1)+ float(amt2))\n",
        "# Get rid of Amount & State title\n",
        "step3 = step2.filter(lambda x: not x[0]==\"State\")\n",
        "# Sort Result by Amount\n",
        "step4 = step3.sortBy(lambda stAmount: stAmount[1], ascending=False)\n",
        "#Action\n",
        "step4.collect()  "
      ],
      "metadata": {
        "colab": {
          "base_uri": "https://localhost:8080/"
        },
        "id": "6AUg8BSZygZW",
        "outputId": "1bbd0be5-9fcc-410f-bbf1-a99d8da83d81"
      },
      "execution_count": 39,
      "outputs": [
        {
          "output_type": "execute_result",
          "data": {
            "text/plain": [
              "[('NY', 850.0), ('CA', 700.0), ('TX', 650.0)]"
            ]
          },
          "metadata": {},
          "execution_count": 39
        }
      ]
    },
    {
      "cell_type": "code",
      "source": [
        "# Unpacking for readability\n",
        "x = ['ID','State','Amount']"
      ],
      "metadata": {
        "id": "jq-0O9fF19pH"
      },
      "execution_count": 40,
      "outputs": []
    },
    {
      "cell_type": "code",
      "source": [
        "def func(id_st_amt):\n",
        "  (id,state,amount) = id_st_amt\n",
        "  return amount"
      ],
      "metadata": {
        "id": "VpbmusFy2GdG"
      },
      "execution_count": 42,
      "outputs": []
    },
    {
      "cell_type": "code",
      "source": [
        "func(x)"
      ],
      "metadata": {
        "colab": {
          "base_uri": "https://localhost:8080/",
          "height": 35
        },
        "id": "-Qm0mPFN2ZzX",
        "outputId": "22e80b60-eeba-4c5b-f653-43df67fc816e"
      },
      "execution_count": 43,
      "outputs": [
        {
          "output_type": "execute_result",
          "data": {
            "text/plain": [
              "'Amount'"
            ],
            "application/vnd.google.colaboratory.intrinsic+json": {
              "type": "string"
            }
          },
          "metadata": {},
          "execution_count": 43
        }
      ]
    }
  ]
}